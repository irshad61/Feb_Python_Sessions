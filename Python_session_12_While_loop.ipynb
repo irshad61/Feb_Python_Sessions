{
 "cells": [
  {
   "cell_type": "markdown",
   "id": "0ba29c8f-657d-4eea-9aa8-9fe421856050",
   "metadata": {},
   "source": [
    "**While loop**\n",
    "- initilization\n",
    "- increment or decrement\n",
    "- condition to stop"
   ]
  },
  {
   "cell_type": "markdown",
   "id": "333bfb35-98b5-4a92-b229-a19a5c9d9319",
   "metadata": {},
   "source": [
    "**in the for loop all the above 3 will happen in a single statemnet**"
   ]
  },
  {
   "cell_type": "code",
   "execution_count": 10,
   "id": "336fc21a-52b4-487d-9600-82c08fe7f125",
   "metadata": {},
   "outputs": [
    {
     "name": "stdout",
     "output_type": "stream",
     "text": [
      "2 4 6 8 10 12 14 16 18 "
     ]
    }
   ],
   "source": [
    "for i in range(2,20,2):\n",
    "    print(i,end=\" \")"
   ]
  },
  {
   "cell_type": "markdown",
   "id": "a4faa64a-382e-4e11-ab09-38bb543a0eb8",
   "metadata": {},
   "source": [
    "**but in while loop all 3 are happend in each line**"
   ]
  },
  {
   "cell_type": "markdown",
   "id": "f3250cfc-f0d9-4c1e-b8a3-68e27e1359bf",
   "metadata": {},
   "source": [
    "- initial value\n",
    "- condition\n",
    "  - write your code here\n",
    "  - increment or decrement"
   ]
  },
  {
   "cell_type": "code",
   "execution_count": null,
   "id": "a7ca9a91-abee-4f1e-b153-55c7f1f89ab7",
   "metadata": {},
   "outputs": [],
   "source": [
    "<initial value>\n",
    "while <condition>:\n",
    "    <write your code here>\n",
    "    <increment or decrement>"
   ]
  },
  {
   "cell_type": "markdown",
   "id": "71d8f668-2304-43a5-8819-eaa95895ea1b",
   "metadata": {},
   "source": [
    "- "
   ]
  },
  {
   "cell_type": "code",
   "execution_count": 16,
   "id": "1cead3a6-7eed-49ee-91f5-afe6a2e4e4de",
   "metadata": {},
   "outputs": [
    {
     "name": "stdout",
     "output_type": "stream",
     "text": [
      "2 4 6 8 10 12 14 16 18 "
     ]
    }
   ],
   "source": [
    "i=2\n",
    "while i<=18:\n",
    "    print(i,end=\" \")\n",
    "    i=i+2\n",
    "#Step 1:i=2  while 2<=18  True i=2+2=4\n",
    "#Step 2:i=4  while 4<=18  True i=4+2=6\n",
    "#Step 3:i=6  while 6<=18  True i=6+2=8\n",
    "#Step 4:i=8  while 8<=18  True i=8+2=10\n",
    "#Step 5:i=10 while 10<=18 True i=10+2=12\n",
    "#Step 6:i=12 while 12<=18 True i=12+2=14\n",
    "#Step 7:i=14 while 14<=18 True i=14+2=16\n",
    "#Step 8:i=16 while 16<=18 True i=16+2=18\n",
    "#Step 9:i=18 while 18<=18 True i=18+2=20\n",
    "#Step10:i=20 while 20<=18 False outside the loop\n",
    "\n"
   ]
  },
  {
   "cell_type": "code",
   "execution_count": 18,
   "id": "b72881bb-70cf-4b4f-86a2-cb29620cbbb3",
   "metadata": {},
   "outputs": [
    {
     "name": "stdout",
     "output_type": "stream",
     "text": [
      "2 4 6 8 10 12 14 16 "
     ]
    }
   ],
   "source": [
    "i=2\n",
    "while i!=18:\n",
    "    print(i,end=\" \")\n",
    "    i=i+2"
   ]
  },
  {
   "cell_type": "code",
   "execution_count": 20,
   "id": "e933413b-f041-4d46-93f9-027cfe1c10af",
   "metadata": {},
   "outputs": [
    {
     "name": "stdout",
     "output_type": "stream",
     "text": [
      "2 4 6 8 10 12 14 16 "
     ]
    }
   ],
   "source": [
    "i=2\n",
    "while i<18:\n",
    "    print(i,end=\" \")\n",
    "    i=i+2"
   ]
  },
  {
   "cell_type": "code",
   "execution_count": 24,
   "id": "fc759a29-b0da-4ded-93fc-762ef24336fe",
   "metadata": {},
   "outputs": [
    {
     "name": "stdout",
     "output_type": "stream",
     "text": [
      "10 9 8 7 6 5 4 3 2 1 "
     ]
    }
   ],
   "source": [
    "for i in range(10,0,-1):\n",
    "    print(i,end=\" \")"
   ]
  },
  {
   "cell_type": "code",
   "execution_count": 28,
   "id": "d74bfcd7-9473-47fa-bdcf-0e4b4ce62a6d",
   "metadata": {},
   "outputs": [
    {
     "name": "stdout",
     "output_type": "stream",
     "text": [
      "10 9 8 7 6 5 4 3 2 1 "
     ]
    }
   ],
   "source": [
    "i=10\n",
    "while i>0:\n",
    "    print(i, end=\" \")\n",
    "    i=i-1\n",
    "    "
   ]
  },
  {
   "cell_type": "code",
   "execution_count": 32,
   "id": "7158aa58-5dfc-4868-a198-a4ff622254e4",
   "metadata": {},
   "outputs": [
    {
     "name": "stdout",
     "output_type": "stream",
     "text": [
      "-10 -9 -8 -7 -6 -5 -4 -3 -2 -1 "
     ]
    }
   ],
   "source": [
    "i=-10\n",
    "while i<0:\n",
    "    print(i, end=\" \")\n",
    "    i=i+1"
   ]
  },
  {
   "cell_type": "markdown",
   "id": "ee6d23fc-1c5c-4f6a-adc7-15ec855b4469",
   "metadata": {},
   "source": [
    "**True**"
   ]
  },
  {
   "cell_type": "markdown",
   "id": "9385354d-aaab-4700-88c3-7532041618c6",
   "metadata": {},
   "source": [
    "- true is condition always gives permission to enter inside the loop\n",
    "- Sometimes we can not fix the condition\n",
    "- but we know the stop condition "
   ]
  },
  {
   "cell_type": "code",
   "execution_count": 2,
   "id": "47a9a6c9-963b-472d-8551-3fbfe8b1049e",
   "metadata": {},
   "outputs": [
    {
     "name": "stdout",
     "output_type": "stream",
     "text": [
      "2 4 6 8 10 12 14 16 18 "
     ]
    }
   ],
   "source": [
    "i=2\n",
    "while True:\n",
    "    print(i,end=\" \")\n",
    "    i=i+2\n",
    "    if i==20:\n",
    "        break"
   ]
  },
  {
   "cell_type": "markdown",
   "id": "f780242a-f765-4784-940e-c4139b0b2f19",
   "metadata": {},
   "source": [
    "**when to use while and for loop**\n",
    "- if you observe for loop **start stop step**\n",
    "- There is no infinite loop situation  here\n",
    "- if you want to give infinite loop situation\n",
    "  - based on correct value we want to stop the loop then we go for while loop\n"
   ]
  },
  {
   "cell_type": "code",
   "execution_count": null,
   "id": "ce1b1ce3-1302-4304-9d4c-abbcecc50e83",
   "metadata": {},
   "outputs": [],
   "source": [
    "from random import randint\n",
    "n1=randint(1,100)\n",
    "n2=eval(input(\"Enter a number:\"))\n",
    "\n",
    "        "
   ]
  },
  {
   "cell_type": "code",
   "execution_count": 1,
   "id": "9444b0ba-6208-4e41-bfee-3c073b243081",
   "metadata": {},
   "outputs": [
    {
     "name": "stdin",
     "output_type": "stream",
     "text": [
      "Enter a number: 4\n"
     ]
    },
    {
     "name": "stdout",
     "output_type": "stream",
     "text": [
      "lost\n"
     ]
    },
    {
     "name": "stdin",
     "output_type": "stream",
     "text": [
      "Enter a number: 4\n"
     ]
    },
    {
     "name": "stdout",
     "output_type": "stream",
     "text": [
      "lost\n"
     ]
    },
    {
     "name": "stdin",
     "output_type": "stream",
     "text": [
      "Enter a number: 4\n"
     ]
    },
    {
     "name": "stdout",
     "output_type": "stream",
     "text": [
      "lost\n"
     ]
    },
    {
     "name": "stdin",
     "output_type": "stream",
     "text": [
      "Enter a number: 4\n"
     ]
    },
    {
     "name": "stdout",
     "output_type": "stream",
     "text": [
      "lost\n"
     ]
    },
    {
     "name": "stdin",
     "output_type": "stream",
     "text": [
      "Enter a number: 4\n"
     ]
    },
    {
     "name": "stdout",
     "output_type": "stream",
     "text": [
      "lost\n"
     ]
    },
    {
     "name": "stdin",
     "output_type": "stream",
     "text": [
      "Enter a number: 4\n"
     ]
    },
    {
     "name": "stdout",
     "output_type": "stream",
     "text": [
      "won\n"
     ]
    }
   ],
   "source": [
    "from random import randint\n",
    "while True:\n",
    "    n1=randint(1,5)\n",
    "    n2=eval(input(\"Enter a number:\"))\n",
    "    if n1==n2:\n",
    "        print(\"won\")\n",
    "        break\n",
    "    else:\n",
    "        print(\"lost\")"
   ]
  },
  {
   "cell_type": "code",
   "execution_count": null,
   "id": "3038b7ee-98ca-433a-a171-462def2a0f06",
   "metadata": {},
   "outputs": [],
   "source": []
  }
 ],
 "metadata": {
  "kernelspec": {
   "display_name": "Python 3 (ipykernel)",
   "language": "python",
   "name": "python3"
  },
  "language_info": {
   "codemirror_mode": {
    "name": "ipython",
    "version": 3
   },
   "file_extension": ".py",
   "mimetype": "text/x-python",
   "name": "python",
   "nbconvert_exporter": "python",
   "pygments_lexer": "ipython3",
   "version": "3.12.4"
  }
 },
 "nbformat": 4,
 "nbformat_minor": 5
}
