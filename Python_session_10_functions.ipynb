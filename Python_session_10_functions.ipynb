{
 "cells": [
  {
   "cell_type": "markdown",
   "id": "981d89a6-c647-48b2-b215-f950711fc347",
   "metadata": {},
   "source": [
    "**Functions or Methods**"
   ]
  },
  {
   "cell_type": "markdown",
   "id": "dbbd5d42-e098-4b3b-a77c-89bd317a3c93",
   "metadata": {},
   "source": [
    "- reuse of the code\n",
    "- Seven types of Functions \n",
    "- Functions with out arguments\n",
    "- Functions with arguments\n",
    "- Functions with default arguments\n",
    "- global variable vs local variable concepts\n",
    "- function with keyword arguments (kwargs)\n",
    "- Functions in functions"
   ]
  },
  {
   "cell_type": "markdown",
   "id": "66428725-5453-43dd-a536-225cebc28756",
   "metadata": {},
   "source": [
    "**Syntax**"
   ]
  },
  {
   "cell_type": "code",
   "execution_count": null,
   "id": "a353949f-0004-44c9-94e1-b1341f5ec636",
   "metadata": {},
   "outputs": [],
   "source": [
    "def <function name>():\n",
    "    <Write your code>"
   ]
  },
  {
   "cell_type": "markdown",
   "id": "0c8c1d46-b676-4262-bb4a-0966fc774171",
   "metadata": {},
   "source": [
    "**function without arguments**\n",
    "- The function we define does not have any values or variables\n",
    "- these also called as arguments or parameters\n",
    "- simply it is a empty bracket"
   ]
  },
  {
   "cell_type": "code",
   "execution_count": 10,
   "id": "47175084-76c8-45f7-8f19-c733a824988d",
   "metadata": {},
   "outputs": [
    {
     "name": "stdin",
     "output_type": "stream",
     "text": [
      "enter the number 5\n",
      "enter another number 6\n"
     ]
    },
    {
     "name": "stdout",
     "output_type": "stream",
     "text": [
      "The adddition of 5 and 6 is : 11\n"
     ]
    }
   ],
   "source": [
    "n1=eval(input('enter the number'))\n",
    "n2=eval(input('enter another number'))\n",
    "n3=n1+n2\n",
    "print(f\"The addition of {n1} and {n2} is : {n3}\")"
   ]
  },
  {
   "cell_type": "code",
   "execution_count": 18,
   "id": "bd2f7be7-c399-4328-9823-b284c6de97b0",
   "metadata": {},
   "outputs": [],
   "source": [
    "def addition ():\n",
    "    n1=eval(input('enter the number'))\n",
    "    n2=eval(input('enter another number'))\n",
    "    n3=n1+n2\n",
    "    print(f\"The addition of {n1} and {n2} is : {n3}\")\n",
    "    "
   ]
  },
  {
   "cell_type": "markdown",
   "id": "b6b5c31d-6008-48e5-be66-855406b7f88d",
   "metadata": {},
   "source": [
    "- varibale name and function name should not be same\n",
    "- when the function is ready\n",
    "- You need to call the function\n",
    "- <function __main__.addition()> when you see this line then it means you have not given brackets\n",
    "- **note**\n",
    "- while calling the function we need to use the function name and also we need to provide brackets\n",
    "- in python brackets indicates it is a function are method\n",
    "- if we miss the brackets it will display as **function or bound method**"
   ]
  },
  {
   "cell_type": "code",
   "execution_count": null,
   "id": "877865f0-1f48-4b19-aa3e-0f55b79f41ff",
   "metadata": {},
   "outputs": [],
   "source": []
  },
  {
   "cell_type": "code",
   "execution_count": 24,
   "id": "5f1f59e3-b25b-401d-95bd-7ced4ca96a93",
   "metadata": {},
   "outputs": [
    {
     "name": "stdin",
     "output_type": "stream",
     "text": [
      "enter the number 5\n",
      "enter another number 6\n"
     ]
    },
    {
     "name": "stdout",
     "output_type": "stream",
     "text": [
      "The addition of 5 and 6 is : 11\n"
     ]
    }
   ],
   "source": [
    "addition()"
   ]
  },
  {
   "cell_type": "markdown",
   "id": "994bf8d0-deb3-4a6f-b993-007daa120ac4",
   "metadata": {},
   "source": [
    "**Note**\n",
    "- Once we create a function we can use anywhere in the notebook\n",
    "- if we want to use outside of the notebook then we need to use oops concepts\n",
    "- we need to create package or library for that oops concepts is required"
   ]
  },
  {
   "cell_type": "code",
   "execution_count": null,
   "id": "06ea1938-c88b-42ba-92ad-783702436245",
   "metadata": {},
   "outputs": [],
   "source": [
    "addition1()\n",
    "def addition1():\n",
    "    n1=eval(input('enter the number'))\n",
    "    n2=eval(input('enter another number'))\n",
    "    n3=n1+n2\n",
    "    print(f\"The addition of {n1} and {n2} is : {n3}\")\n",
    "    "
   ]
  },
  {
   "cell_type": "markdown",
   "id": "d1131ed0-03bc-470c-9d3d-f05a0cc4ee00",
   "metadata": {},
   "source": [
    "- In the above code function is called before def\n",
    "- if we give like that then error occur"
   ]
  },
  {
   "cell_type": "code",
   "execution_count": 29,
   "id": "ab1c701f-8714-4e69-a1ab-00b68c6f5cac",
   "metadata": {},
   "outputs": [],
   "source": [
    "def average():\n",
    "    n1=eval(input('enter the number'))\n",
    "    n2=eval(input('enter the number'))\n",
    "    n3=eval(input('enter the number'))\n",
    "    avg=n1+n2+n3/3\n",
    "    print(f\"The average of {n1} {n2} and {n3} is : {avg}\")\n",
    "    \n",
    "    \n",
    "            "
   ]
  },
  {
   "cell_type": "code",
   "execution_count": 31,
   "id": "6c9fd0b1-7ab1-44b9-8b01-fdc065855322",
   "metadata": {},
   "outputs": [
    {
     "name": "stdin",
     "output_type": "stream",
     "text": [
      "enter the number 5\n",
      "enter the number 10\n",
      "enter the number 15\n"
     ]
    },
    {
     "name": "stdout",
     "output_type": "stream",
     "text": [
      "The average of 5 10 and 15 is : 20.0\n"
     ]
    }
   ],
   "source": [
    "average()\n"
   ]
  },
  {
   "cell_type": "code",
   "execution_count": 33,
   "id": "849bdd50-e064-478f-b4b5-197340602997",
   "metadata": {},
   "outputs": [],
   "source": [
    "def areaofrightangle():\n",
    "    n1=eval(input('enter the breadth:'))\n",
    "    n2=eval(input('enter the height:'))\n",
    "    area=0.5*n1*n2\n",
    "    print(f\"The area of {n1} and {n2} is : {area}\")"
   ]
  },
  {
   "cell_type": "code",
   "execution_count": 37,
   "id": "8734cb2f-3baa-48e6-aaec-53b1562c32e6",
   "metadata": {},
   "outputs": [
    {
     "name": "stdin",
     "output_type": "stream",
     "text": [
      "enter the breadth: 45\n",
      "enter the height: 50\n"
     ]
    },
    {
     "name": "stdout",
     "output_type": "stream",
     "text": [
      "The area of 45 and 50 is : 1125.0\n"
     ]
    }
   ],
   "source": [
    "areaofrightangle()"
   ]
  },
  {
   "cell_type": "code",
   "execution_count": 47,
   "id": "1f06d934-c84b-48d4-8c1b-d503a2d5c399",
   "metadata": {},
   "outputs": [],
   "source": [
    "from math import pi\n",
    "def areaofcircle():\n",
    "    radius=eval(input('enter the radius'))\n",
    "    area=round(pi*radius*radius,2)\n",
    "    print(f\"The area of {radius} is : {area}\")"
   ]
  },
  {
   "cell_type": "code",
   "execution_count": 49,
   "id": "95bf18cc-66ad-4580-a0c8-1a0c800bdd10",
   "metadata": {},
   "outputs": [
    {
     "name": "stdin",
     "output_type": "stream",
     "text": [
      "enter the radius 5\n"
     ]
    },
    {
     "name": "stdout",
     "output_type": "stream",
     "text": [
      "The area of 5 is : 78.54\n"
     ]
    }
   ],
   "source": [
    "areaofcircle()"
   ]
  },
  {
   "cell_type": "code",
   "execution_count": 51,
   "id": "18dc4e27-1a2b-45c6-b92e-3e30bf31bcc5",
   "metadata": {},
   "outputs": [],
   "source": [
    "def billamount():\n",
    "    n1=eval(input(\"Enter the meal price:\"))\n",
    "    n2=eval(input(\"Enter the tip percentage :\"))\n",
    "    tip=n1*n2/100\n",
    "    total_bill=n1+tip\n",
    "    print(f\"The bill amount is : {n1} rupees\")\n",
    "    print(f\"The tip amount is :{tip} rupees\")\n",
    "    print(f\"The total amount with tip is :{total_bill} rupees\")\n",
    "    "
   ]
  },
  {
   "cell_type": "code",
   "execution_count": 53,
   "id": "82257382-0d47-46ad-a250-872df83440f0",
   "metadata": {},
   "outputs": [
    {
     "name": "stdin",
     "output_type": "stream",
     "text": [
      "Enter the meal price: 500\n",
      "Enter the tip percentage : 5\n"
     ]
    },
    {
     "name": "stdout",
     "output_type": "stream",
     "text": [
      "The bill amount is : 500 rupees\n",
      "The tip amount is :25.0 rupees\n",
      "The total amount with tip is :525.0 rupees\n"
     ]
    }
   ],
   "source": [
    "billamount()"
   ]
  },
  {
   "cell_type": "code",
   "execution_count": 62,
   "id": "727274e3-2a22-4e90-8aa5-eefec6325846",
   "metadata": {},
   "outputs": [],
   "source": [
    "def Average():\n",
    "    try:\n",
    "        n1=eval(input('enter the number'))\n",
    "        n2=eval(input('enter the number'))\n",
    "        n3=eval(input('enter the number'))\n",
    "        avg=round(n1+n2+n3/3,4)\n",
    "        print(f\"The average of {n1} {n2} and {n3} is : {avg}\")\n",
    "    except Exception as e:\n",
    "        print(e)"
   ]
  },
  {
   "cell_type": "code",
   "execution_count": 64,
   "id": "81c8e2f5-f5a0-439d-9c27-bf05c536616e",
   "metadata": {},
   "outputs": [
    {
     "name": "stdin",
     "output_type": "stream",
     "text": [
      "enter the number 55\n",
      "enter the number 56\n",
      "enter the number 51\n"
     ]
    },
    {
     "name": "stdout",
     "output_type": "stream",
     "text": [
      "The average of 55 56 and 51 is : 128.0\n"
     ]
    }
   ],
   "source": [
    "Average()"
   ]
  },
  {
   "cell_type": "code",
   "execution_count": 79,
   "id": "4003ebfb-731e-4e19-b3dd-760d62e9f188",
   "metadata": {},
   "outputs": [
    {
     "name": "stdin",
     "output_type": "stream",
     "text": [
      "enter the number 5\n",
      "enter the number 4\n",
      "enter the number 5\n"
     ]
    },
    {
     "ename": "NameError",
     "evalue": "name 'n33' is not defined",
     "output_type": "error",
     "traceback": [
      "\u001b[1;31m---------------------------------------------------------------------------\u001b[0m",
      "\u001b[1;31mNameError\u001b[0m                                 Traceback (most recent call last)",
      "Cell \u001b[1;32mIn[79], line 10\u001b[0m\n\u001b[0;32m      8\u001b[0m \u001b[38;5;28;01mexcept\u001b[39;00m \u001b[38;5;167;01mException\u001b[39;00m \u001b[38;5;28;01mas\u001b[39;00m e:\n\u001b[0;32m      9\u001b[0m     \u001b[38;5;28mprint\u001b[39m(e)\n\u001b[1;32m---> 10\u001b[0m Average()\n",
      "Cell \u001b[1;32mIn[79], line 6\u001b[0m, in \u001b[0;36mAverage\u001b[1;34m()\u001b[0m\n\u001b[0;32m      4\u001b[0m n2\u001b[38;5;241m=\u001b[39m\u001b[38;5;28meval\u001b[39m(\u001b[38;5;28minput\u001b[39m(\u001b[38;5;124m'\u001b[39m\u001b[38;5;124menter the number\u001b[39m\u001b[38;5;124m'\u001b[39m))\n\u001b[0;32m      5\u001b[0m n3\u001b[38;5;241m=\u001b[39m\u001b[38;5;28meval\u001b[39m(\u001b[38;5;28minput\u001b[39m(\u001b[38;5;124m'\u001b[39m\u001b[38;5;124menter the number\u001b[39m\u001b[38;5;124m'\u001b[39m))\n\u001b[1;32m----> 6\u001b[0m avg\u001b[38;5;241m=\u001b[39m\u001b[38;5;28mround\u001b[39m(n1\u001b[38;5;241m+\u001b[39mn2\u001b[38;5;241m+\u001b[39mn33\u001b[38;5;241m/\u001b[39m\u001b[38;5;241m3\u001b[39m,\u001b[38;5;241m4\u001b[39m)\n\u001b[0;32m      7\u001b[0m \u001b[38;5;28mprint\u001b[39m(\u001b[38;5;124mf\u001b[39m\u001b[38;5;124m\"\u001b[39m\u001b[38;5;124mThe average of \u001b[39m\u001b[38;5;132;01m{\u001b[39;00mn1\u001b[38;5;132;01m}\u001b[39;00m\u001b[38;5;124m \u001b[39m\u001b[38;5;132;01m{\u001b[39;00mn2\u001b[38;5;132;01m}\u001b[39;00m\u001b[38;5;124m and \u001b[39m\u001b[38;5;132;01m{\u001b[39;00mn3\u001b[38;5;132;01m}\u001b[39;00m\u001b[38;5;124m is : \u001b[39m\u001b[38;5;132;01m{\u001b[39;00mavg\u001b[38;5;132;01m}\u001b[39;00m\u001b[38;5;124m\"\u001b[39m)\n",
      "\u001b[1;31mNameError\u001b[0m: name 'n33' is not defined"
     ]
    }
   ],
   "source": [
    "try:\n",
    "    def Average():\n",
    "            n1=eval(input('enter the number'))\n",
    "            n2=eval(input('enter the number'))\n",
    "            n3=eval(input('enter the number'))\n",
    "            avg=round(n1+n2+n33/3,4)\n",
    "            print(f\"The average of {n1} {n2} and {n3} is : {avg}\")\n",
    "except Exception as e:\n",
    "    print(e)\n",
    "Average()"
   ]
  },
  {
   "cell_type": "markdown",
   "id": "b1f44a9c-d774-467f-a3fb-3bd863b85961",
   "metadata": {},
   "source": [
    "**Note**\n",
    "- always give **try and except** only on orginal code\n",
    "- if you give try on top of def it will run if code is correct but when code is wrong then it will not catch the error"
   ]
  },
  {
   "cell_type": "markdown",
   "id": "a7122ad9-0272-4047-b231-1278689e5374",
   "metadata": {},
   "source": [
    "**Note**\n",
    "- when we define the function it will not give any error or any answer\n",
    "- if we want to see any error or answer we need to call the function"
   ]
  },
  {
   "cell_type": "markdown",
   "id": "47a63e00-8b32-413c-8be9-7f9f71b39420",
   "metadata": {},
   "source": [
    "**Functions with Arguments**"
   ]
  },
  {
   "cell_type": "code",
   "execution_count": null,
   "id": "521f92d1-5425-49db-911c-c02ca1f33e02",
   "metadata": {},
   "outputs": [],
   "source": [
    "n1=eval(input(\"Enter the number :\"))\n",
    "n2=eval(input(\"Enter the number :\"))\n",
    "add=n1+n2\n",
    "print(f\"the addition of {n1} and {n2} is {add}\")            "
   ]
  },
  {
   "cell_type": "code",
   "execution_count": 2,
   "id": "41619014-cd01-4287-9a81-4a7242fd200d",
   "metadata": {},
   "outputs": [
    {
     "name": "stdin",
     "output_type": "stream",
     "text": [
      "Enter the number : 5\n",
      "Enter the number : 5\n"
     ]
    },
    {
     "name": "stdout",
     "output_type": "stream",
     "text": [
      "the addition of 5 and 5 is 10\n"
     ]
    }
   ],
   "source": [
    "def addition():\n",
    "    n1=eval(input(\"Enter the number :\"))\n",
    "    n2=eval(input(\"Enter the number :\"))\n",
    "    add=n1+n2\n",
    "    print(f\"the addition of {n1} and {n2} is {add}\")    \n",
    "addition()\n",
    "    "
   ]
  },
  {
   "cell_type": "markdown",
   "id": "6418edbf-d4e1-4049-8274-061ce1a341d3",
   "metadata": {},
   "source": [
    "- how many variables are their in above code?\n",
    "  - n1,n2,add\n",
    "- what are the input variables?\n",
    "  - n1,n2\n",
    "- what are the output variables?\n",
    "  - add\n",
    "- pass the input variables inside the brackets\n",
    "- pass n1,n2 inside the brackets now these n1 and n2 behave like function arguments\n",
    "\n"
   ]
  },
  {
   "cell_type": "code",
   "execution_count": 8,
   "id": "10e715f3-fc88-48fd-8004-b21ac9dccf00",
   "metadata": {},
   "outputs": [
    {
     "name": "stdout",
     "output_type": "stream",
     "text": [
      "the addition of 10 and 20 is :30\n"
     ]
    }
   ],
   "source": [
    "def addition(n1,n2):\n",
    "    add=n1+n2\n",
    "    print(f\"the addition of {n1} and {n2} is :{add}\")    \n",
    "addition()"
   ]
  },
  {
   "cell_type": "code",
   "execution_count": 12,
   "id": "5a0d0ba7-763e-407f-a0f1-32afda33f22d",
   "metadata": {},
   "outputs": [
    {
     "data": {
      "text/plain": [
       "20"
      ]
     },
     "execution_count": 12,
     "metadata": {},
     "output_type": "execute_result"
    }
   ],
   "source": [
    "from random import randint\n",
    "randint(10,20)"
   ]
  },
  {
   "cell_type": "code",
   "execution_count": 14,
   "id": "fe86e775-7a63-4a00-9230-70f954c01837",
   "metadata": {},
   "outputs": [
    {
     "name": "stdout",
     "output_type": "stream",
     "text": [
      "The average of 10 20 and 30 is : 40.0\n"
     ]
    }
   ],
   "source": [
    "from math import pi\n",
    "def average(n1,n2,n3):\n",
    "    avg=n1+n2+n3/3\n",
    "    print(f\"The average of {n1} {n2} and {n3} is : {avg}\")\n",
    "average(10,20,30)"
   ]
  },
  {
   "cell_type": "code",
   "execution_count": 16,
   "id": "55d76797-069b-4aa4-ac71-8669a1f3e94b",
   "metadata": {},
   "outputs": [
    {
     "name": "stdout",
     "output_type": "stream",
     "text": [
      "The area of Triangle of 5 and 10 is : 25.0\n"
     ]
    }
   ],
   "source": [
    "def area_of_triangle(b,h):\n",
    "    area=0.5*b*h\n",
    "    print(f\"The area of Triangle of {b} and {h} is : {area}\")\n",
    "area_of_triangle(5,10)\n"
   ]
  },
  {
   "cell_type": "code",
   "execution_count": 32,
   "id": "23b67099-de25-434a-9f39-bc39564bf860",
   "metadata": {},
   "outputs": [
    {
     "name": "stdout",
     "output_type": "stream",
     "text": [
      "The area of circle with radius 5 is : 78.54\n"
     ]
    }
   ],
   "source": [
    "def area_of_circle(r):\n",
    "    area=round((pi*r*r),2)\n",
    "    print(f\"The area of circle with radius {r} is : {area}\")\n",
    "area_of_circle(5)"
   ]
  },
  {
   "cell_type": "code",
   "execution_count": 34,
   "id": "e2aced2f-c8e0-4568-b50f-2f98ad5d58d5",
   "metadata": {},
   "outputs": [
    {
     "name": "stdout",
     "output_type": "stream",
     "text": [
      "the total bill of meal price 1000 and tip 50 is : 1050\n"
     ]
    }
   ],
   "source": [
    "def bill(n1,n2):\n",
    "    totalbill=n1+n2\n",
    "    print(f\"the total bill of meal price {n1} and tip {n2} is : {totalbill}\")\n",
    "bill(1000,50)\n"
   ]
  },
  {
   "cell_type": "code",
   "execution_count": 40,
   "id": "126d1235-f82c-46bc-a822-7f5e2f035ab4",
   "metadata": {},
   "outputs": [
    {
     "name": "stdin",
     "output_type": "stream",
     "text": [
      "Enter a Number: 15\n",
      "Enter a Number: 20\n"
     ]
    },
    {
     "name": "stdout",
     "output_type": "stream",
     "text": [
      "The average of 10 15 and 20 is : 31.67\n"
     ]
    }
   ],
   "source": [
    "def average1(n1):\n",
    "    n2=eval(input(\"Enter a Number:\"))\n",
    "    n3=eval(input(\"Enter a Number:\"))\n",
    "    avg1=round((n1+n2+n3/3),2)\n",
    "    print(f\"The average of {n1} {n2} and {n3} is : {avg1}\")\n",
    "average1(10)"
   ]
  },
  {
   "cell_type": "code",
   "execution_count": 48,
   "id": "58b3e20e-1621-4788-8e0e-3c84301f5c47",
   "metadata": {},
   "outputs": [
    {
     "name": "stdout",
     "output_type": "stream",
     "text": [
      "the power of 2 and 2 is : 4.0\n"
     ]
    }
   ],
   "source": [
    "from math import pow\n",
    "def power(n1,n2):\n",
    "    n3=pow(n1,n2)\n",
    "    print(f\"the power of {n1} and {n2} is : {n3}\")\n",
    "power(2,2)\n",
    "\n",
    "            "
   ]
  },
  {
   "cell_type": "code",
   "execution_count": 50,
   "id": "8d16f33f-43dc-429f-b26c-c4971353983a",
   "metadata": {},
   "outputs": [
    {
     "ename": "TypeError",
     "evalue": "power() takes 0 positional arguments but 1 was given",
     "output_type": "error",
     "traceback": [
      "\u001b[1;31m---------------------------------------------------------------------------\u001b[0m",
      "\u001b[1;31mTypeError\u001b[0m                                 Traceback (most recent call last)",
      "Cell \u001b[1;32mIn[50], line 6\u001b[0m\n\u001b[0;32m      4\u001b[0m     n3\u001b[38;5;241m=\u001b[39m\u001b[38;5;28mpow\u001b[39m(n1,n2)\n\u001b[0;32m      5\u001b[0m     \u001b[38;5;28mprint\u001b[39m(\u001b[38;5;124mf\u001b[39m\u001b[38;5;124m\"\u001b[39m\u001b[38;5;124mthe power of \u001b[39m\u001b[38;5;132;01m{\u001b[39;00mn1\u001b[38;5;132;01m}\u001b[39;00m\u001b[38;5;124m and \u001b[39m\u001b[38;5;132;01m{\u001b[39;00mn2\u001b[38;5;132;01m}\u001b[39;00m\u001b[38;5;124m is : \u001b[39m\u001b[38;5;132;01m{\u001b[39;00mn3\u001b[38;5;132;01m}\u001b[39;00m\u001b[38;5;124m\"\u001b[39m)\n\u001b[1;32m----> 6\u001b[0m power(\u001b[38;5;241m2\u001b[39m)\n",
      "\u001b[1;31mTypeError\u001b[0m: power() takes 0 positional arguments but 1 was given"
     ]
    }
   ],
   "source": [
    "def power():\n",
    "    n1=eval(input(\"Enter a number:\"))\n",
    "    n2=eval(input(\"Enter the power:\"))\n",
    "    n3=pow(n1,n2)\n",
    "    print(f\"the power of {n1} and {n2} is : {n3}\")\n",
    "power(2)\n"
   ]
  },
  {
   "cell_type": "markdown",
   "id": "d0a161da-ef46-4624-919c-bf071797a19c",
   "metadata": {},
   "source": [
    "**Function with default argument**"
   ]
  },
  {
   "cell_type": "code",
   "execution_count": 52,
   "id": "fe9177a2-0432-4f9d-9b9d-e61a160e34bf",
   "metadata": {},
   "outputs": [
    {
     "name": "stdout",
     "output_type": "stream",
     "text": [
      "the total bill of meal price 1000 and tip 500 is : 1500\n"
     ]
    }
   ],
   "source": [
    "def bill(n1,n2=500):# we are giving value direct to the argument then it is called default parameter\n",
    "    totalbill=n1+n2\n",
    "    print(f\"the total bill of meal price {n1} and tip {n2} is : {totalbill}\")\n",
    "bill(1000)"
   ]
  },
  {
   "cell_type": "code",
   "execution_count": 55,
   "id": "38248caf-0330-45fb-855f-7dd286e1bb65",
   "metadata": {},
   "outputs": [
    {
     "name": "stdout",
     "output_type": "stream",
     "text": [
      "The average of 10 20 and 50 is : 46.66666666666667\n"
     ]
    }
   ],
   "source": [
    "def average(n1,n2,n3=50):\n",
    "    avg=n1+n2+n3/3\n",
    "    print(f\"The average of {n1} {n2} and {n3} is : {avg}\")\n",
    "average(10,20)"
   ]
  },
  {
   "cell_type": "code",
   "execution_count": 57,
   "id": "bd446216-ea08-44f9-8703-ac3ba099be15",
   "metadata": {},
   "outputs": [
    {
     "name": "stdout",
     "output_type": "stream",
     "text": [
      "The average of 10 30 and 50 is : 56.66666666666667\n"
     ]
    }
   ],
   "source": [
    "def average(n1,n2=30,n3=50):\n",
    "    avg=n1+n2+n3/3\n",
    "    print(f\"The average of {n1} {n2} and {n3} is : {avg}\")\n",
    "average(10)"
   ]
  },
  {
   "cell_type": "code",
   "execution_count": 59,
   "id": "5f53862d-f7bd-41ac-aba9-ad99160d0183",
   "metadata": {},
   "outputs": [
    {
     "ename": "SyntaxError",
     "evalue": "parameter without a default follows parameter with a default (4224381757.py, line 1)",
     "output_type": "error",
     "traceback": [
      "\u001b[1;36m  Cell \u001b[1;32mIn[59], line 1\u001b[1;36m\u001b[0m\n\u001b[1;33m    def average(n1,n2=40,n3):\u001b[0m\n\u001b[1;37m                         ^\u001b[0m\n\u001b[1;31mSyntaxError\u001b[0m\u001b[1;31m:\u001b[0m parameter without a default follows parameter with a default\n"
     ]
    }
   ],
   "source": [
    "def average(n1,n2=40,n3):\n",
    "    avg=n1+n2+n3/3\n",
    "    print(f\"The average of {n1} {n2} and {n3} is : {avg}\")\n",
    "average(10,20)"
   ]
  },
  {
   "cell_type": "markdown",
   "id": "4d73d687-0ea9-44f8-a157-c0d98d14ca84",
   "metadata": {},
   "source": [
    "**Note**\n",
    "- default value in function follow the variables in serial\n",
    "- so always write default arguments in last"
   ]
  },
  {
   "cell_type": "code",
   "execution_count": 62,
   "id": "3be23818-72ca-4e22-8fe9-c70e7db78d1e",
   "metadata": {},
   "outputs": [
    {
     "name": "stdout",
     "output_type": "stream",
     "text": [
      "The average of 50 10 and 20 is : 66.66666666666667\n"
     ]
    }
   ],
   "source": [
    "def average(n2,n3,n1=50):\n",
    "    avg=n1+n2+n3/3\n",
    "    print(f\"The average of {n1} {n2} and {n3} is : {avg}\")\n",
    "average(10,20)"
   ]
  },
  {
   "cell_type": "code",
   "execution_count": 17,
   "id": "30d096c6-a1ae-4ba5-bc50-cc59bad567b2",
   "metadata": {},
   "outputs": [
    {
     "name": "stdout",
     "output_type": "stream",
     "text": [
      "you have lost\n"
     ]
    }
   ],
   "source": [
    "from random import randint\n",
    "def check():\n",
    "    n1=randint(1,10)\n",
    "    n2=randint(1,10)\n",
    "    if n1==n2:\n",
    "        print(\"You have won\")\n",
    "    else:\n",
    "        print(\"you have lost\")\n",
    "check()"
   ]
  },
  {
   "cell_type": "code",
   "execution_count": 27,
   "id": "dfecd383-96ca-4f5e-bffb-2167c45d5bd7",
   "metadata": {},
   "outputs": [
    {
     "name": "stdin",
     "output_type": "stream",
     "text": [
      "Enter The number: 5\n"
     ]
    },
    {
     "name": "stdout",
     "output_type": "stream",
     "text": [
      "You have won\n"
     ]
    }
   ],
   "source": [
    "def check1(n22):\n",
    "    n11=randint(1,10)\n",
    "    n22==eval(input(\"Enter The number:\"))\n",
    "    if n11==n22:\n",
    "        print(\"You have won\")\n",
    "    else:\n",
    "        print(\"you have lost\")\n",
    "check1(10)\n"
   ]
  },
  {
   "cell_type": "code",
   "execution_count": 49,
   "id": "22067d17-7f54-4a19-b912-7343aaff213e",
   "metadata": {},
   "outputs": [
    {
     "name": "stdout",
     "output_type": "stream",
     "text": [
      "lost\n"
     ]
    }
   ],
   "source": [
    "def check2(n1=10):\n",
    "    n2=randint(1,10)\n",
    "    if n1==n2:\n",
    "        print(\"won\")\n",
    "    else:\n",
    "        print(\"lost\")\n",
    "check2()"
   ]
  },
  {
   "cell_type": "markdown",
   "id": "50d81a7f-5e0d-4902-aaeb-b4b12fed3499",
   "metadata": {},
   "source": [
    "**case-1**\n",
    "- Define the function\n",
    "- call the function\n",
    "- run the function"
   ]
  },
  {
   "cell_type": "code",
   "execution_count": 43,
   "id": "74ea5841-b7d3-4c2e-bfd0-add42264ab66",
   "metadata": {},
   "outputs": [
    {
     "name": "stdout",
     "output_type": "stream",
     "text": [
      "The average value of 10, 20 and 30 is : 40.0\n"
     ]
    }
   ],
   "source": [
    "def avg11(n1,n2,n3=40):\n",
    "    avg=n1+n2+n3/3\n",
    "    print(f\"The average value of {n1}, {n2} and {n3} is : {avg}\")\n",
    "avg11(10,20,30)\n",
    "    "
   ]
  },
  {
   "cell_type": "code",
   "execution_count": null,
   "id": "f0ace8d6-334b-4453-bedd-512d73e56bc2",
   "metadata": {},
   "outputs": [],
   "source": [
    "def add(a,b,c):\n",
    "    print('a:',a)\n",
    "    print('b:',b)\n",
    "    print('c:',c)"
   ]
  },
  {
   "cell_type": "markdown",
   "id": "d08d1582-b481-4a3d-bf9f-d48ed87a2c86",
   "metadata": {},
   "source": [
    "**local variable VS global variable**\n",
    "- local variables are used inside the function\n",
    "- global variables are used outside the function\n",
    "- global variables can be used anywhere **inside the function** or **outside the function**"
   ]
  },
  {
   "cell_type": "code",
   "execution_count": 57,
   "id": "bc8ad063-56b1-4f9b-9630-e13be9ff2105",
   "metadata": {},
   "outputs": [
    {
     "name": "stdin",
     "output_type": "stream",
     "text": [
      "enter n1: 15\n",
      "enter n2: 20\n",
      "enter n3: 30\n"
     ]
    },
    {
     "name": "stdout",
     "output_type": "stream",
     "text": [
      "The average of 15 20 and 30 is :45.0\n"
     ]
    }
   ],
   "source": [
    "n1=eval(input(\"enter n1:\"))\n",
    "n2=eval(input(\"enter n2:\"))\n",
    "n3=eval(input(\"enter n3:\"))\n",
    "def average11():\n",
    "    avg=n1+n2+n3/3\n",
    "    print(f\"The average of {n1} {n2} and {n3} is :{avg}\")\n",
    "average11()\n"
   ]
  },
  {
   "cell_type": "code",
   "execution_count": 59,
   "id": "4af8039c-b7b9-4d69-aae9-57050ef92082",
   "metadata": {},
   "outputs": [
    {
     "name": "stdin",
     "output_type": "stream",
     "text": [
      "enter n1: 5\n",
      "enter n2: 10\n",
      "enter n3: 15\n"
     ]
    },
    {
     "name": "stdout",
     "output_type": "stream",
     "text": [
      "The average of 5 10 and 15 is :20.0\n"
     ]
    }
   ],
   "source": [
    "def average111():\n",
    "    N1=eval(input(\"enter n1:\"))\n",
    "    N2=eval(input(\"enter n2:\"))\n",
    "    N3=eval(input(\"enter n3:\"))\n",
    "    avg1=N1+N2+N3/3\n",
    "    print(f\"The average of {N1} {N2} and {N3} is :{avg1}\")\n",
    "average111()"
   ]
  },
  {
   "cell_type": "code",
   "execution_count": null,
   "id": "33b55b63-3742-4b77-a62a-9136a51fe149",
   "metadata": {},
   "outputs": [],
   "source": [
    "def average111():\n",
    "    N1=eval(input(\"enter n1:\"))\n",
    "    N2=eval(input(\"enter n2:\"))\n",
    "    N3=eval(input(\"enter n3:\"))\n",
    "    avg1=N1+N2+N3/3\n",
    "    print(f\"The average of {N1} {N2} and {N3} is :{avg1}\")\n",
    "average111()"
   ]
  },
  {
   "cell_type": "code",
   "execution_count": 61,
   "id": "1ba91c01-343e-41d5-a0e1-5f9c28ec3547",
   "metadata": {},
   "outputs": [
    {
     "ename": "NameError",
     "evalue": "name 'avg1' is not defined",
     "output_type": "error",
     "traceback": [
      "\u001b[1;31m---------------------------------------------------------------------------\u001b[0m",
      "\u001b[1;31mNameError\u001b[0m                                 Traceback (most recent call last)",
      "Cell \u001b[1;32mIn[61], line 1\u001b[0m\n\u001b[1;32m----> 1\u001b[0m \u001b[38;5;28mprint\u001b[39m(avg1)\n",
      "\u001b[1;31mNameError\u001b[0m: name 'avg1' is not defined"
     ]
    }
   ],
   "source": [
    "print(avg1)"
   ]
  },
  {
   "cell_type": "markdown",
   "id": "0da6e4dd-57ca-4090-8994-44843474c998",
   "metadata": {},
   "source": [
    "**important**\n",
    "- we have run the **avg1** outside the function while it is inside the function\n",
    "- if inside the function then it is local variable\n",
    "- so when it is called outside then error will occur"
   ]
  },
  {
   "cell_type": "markdown",
   "id": "15aa0070-1efa-49fa-a146-a48786770f23",
   "metadata": {},
   "source": [
    "**note**\n",
    "- local variables cannot be used outside the function\n",
    "- in the above code N1 is a local variable\n",
    "- we are trying  to use it outside the function it is throwing an error"
   ]
  },
  {
   "cell_type": "markdown",
   "id": "b88c9b17-75a9-4b22-8a34-8c4c85891b4b",
   "metadata": {},
   "source": [
    "- global variables are initialized outside the function\n",
    "- global variables can be used anywhere"
   ]
  },
  {
   "cell_type": "markdown",
   "id": "3a0f6957-2497-4a29-9818-be8c36826235",
   "metadata": {},
   "source": [
    "**interview question**\n",
    "- How to use local variables outside the function call?"
   ]
  },
  {
   "cell_type": "code",
   "execution_count": 68,
   "id": "612b2c94-7e97-4d3d-80fe-5415f8f92b2f",
   "metadata": {},
   "outputs": [
    {
     "name": "stdout",
     "output_type": "stream",
     "text": [
      "THe addtion of A B C is :760\n"
     ]
    }
   ],
   "source": [
    "A=110\n",
    "B=150\n",
    "C=500\n",
    "def ADD():\n",
    "    global add1\n",
    "    add1=A+B+C\n",
    "    print(f\"THe addtion of A B C is :{add1}\")\n",
    "ADD()"
   ]
  },
  {
   "cell_type": "markdown",
   "id": "ef14763b-ecb1-4297-96e2-25f7d528ccde",
   "metadata": {},
   "source": [
    "- local variables can be used outside the function in two ways\n",
    "- by making local variable as global by using **global**\n",
    "- by using return statement also"
   ]
  },
  {
   "cell_type": "code",
   "execution_count": 1,
   "id": "9ec334bc-0439-4c9e-9c04-4998a13c6ef9",
   "metadata": {},
   "outputs": [
    {
     "name": "stdout",
     "output_type": "stream",
     "text": [
      "50 -10\n"
     ]
    }
   ],
   "source": [
    "def summ(a,b):\n",
    "    global add,sub\n",
    "    add=a+b\n",
    "    sub=a-b\n",
    "    print(add,sub)\n",
    "summ(20,30)"
   ]
  },
  {
   "cell_type": "markdown",
   "id": "c3c514da-397e-4412-b61f-35b76cd2b24a",
   "metadata": {},
   "source": [
    "**unbound local error**\n",
    "- unbound local error means the variable is not defined\n",
    "- that variable is used as both input and  output inside the function\n",
    "- the above example is for unbound local error"
   ]
  },
  {
   "cell_type": "code",
   "execution_count": 4,
   "id": "6dbcf368-4b94-4026-8e94-dbbc35e082e7",
   "metadata": {},
   "outputs": [
    {
     "ename": "UnboundLocalError",
     "evalue": "cannot access local variable 'b' where it is not associated with a value",
     "output_type": "error",
     "traceback": [
      "\u001b[1;31m---------------------------------------------------------------------------\u001b[0m",
      "\u001b[1;31mUnboundLocalError\u001b[0m                         Traceback (most recent call last)",
      "Cell \u001b[1;32mIn[4], line 5\u001b[0m\n\u001b[0;32m      3\u001b[0m     b\u001b[38;5;241m=\u001b[39mb\u001b[38;5;241m+\u001b[39ma\n\u001b[0;32m      4\u001b[0m     \u001b[38;5;28mprint\u001b[39m(b)\n\u001b[1;32m----> 5\u001b[0m fun1()\n",
      "Cell \u001b[1;32mIn[4], line 3\u001b[0m, in \u001b[0;36mfun1\u001b[1;34m()\u001b[0m\n\u001b[0;32m      1\u001b[0m \u001b[38;5;28;01mdef\u001b[39;00m \u001b[38;5;21mfun1\u001b[39m():\n\u001b[0;32m      2\u001b[0m     a\u001b[38;5;241m=\u001b[39m\u001b[38;5;241m10\u001b[39m\n\u001b[1;32m----> 3\u001b[0m     b\u001b[38;5;241m=\u001b[39mb\u001b[38;5;241m+\u001b[39ma\n\u001b[0;32m      4\u001b[0m     \u001b[38;5;28mprint\u001b[39m(b)\n",
      "\u001b[1;31mUnboundLocalError\u001b[0m: cannot access local variable 'b' where it is not associated with a value"
     ]
    }
   ],
   "source": [
    "def fun1():\n",
    "    a=10\n",
    "    b=b+a\n",
    "    print(b)\n",
    "fun1()"
   ]
  },
  {
   "cell_type": "code",
   "execution_count": 7,
   "id": "2115fe44-fde7-4f9b-b3a4-1653cdac37b9",
   "metadata": {},
   "outputs": [
    {
     "ename": "NameError",
     "evalue": "name 'b' is not defined",
     "output_type": "error",
     "traceback": [
      "\u001b[1;31m---------------------------------------------------------------------------\u001b[0m",
      "\u001b[1;31mNameError\u001b[0m                                 Traceback (most recent call last)",
      "Cell \u001b[1;32mIn[7], line 5\u001b[0m\n\u001b[0;32m      3\u001b[0m     c\u001b[38;5;241m=\u001b[39mb\u001b[38;5;241m+\u001b[39ma\n\u001b[0;32m      4\u001b[0m     \u001b[38;5;28mprint\u001b[39m(c)\n\u001b[1;32m----> 5\u001b[0m func1()\n",
      "Cell \u001b[1;32mIn[7], line 3\u001b[0m, in \u001b[0;36mfunc1\u001b[1;34m()\u001b[0m\n\u001b[0;32m      1\u001b[0m \u001b[38;5;28;01mdef\u001b[39;00m \u001b[38;5;21mfunc1\u001b[39m():\n\u001b[0;32m      2\u001b[0m     a\u001b[38;5;241m=\u001b[39m\u001b[38;5;241m10\u001b[39m\n\u001b[1;32m----> 3\u001b[0m     c\u001b[38;5;241m=\u001b[39mb\u001b[38;5;241m+\u001b[39ma\n\u001b[0;32m      4\u001b[0m     \u001b[38;5;28mprint\u001b[39m(c)\n",
      "\u001b[1;31mNameError\u001b[0m: name 'b' is not defined"
     ]
    }
   ],
   "source": [
    "def func1():\n",
    "    a=10\n",
    "    c=b+a\n",
    "    print(c)\n",
    "func1()"
   ]
  },
  {
   "cell_type": "markdown",
   "id": "669ffcf3-bf95-4c9d-b56a-dc46c49fa034",
   "metadata": {},
   "source": [
    "**return statement**\n",
    "- till now we have created a function with print statment in order\n",
    "- the function output we are not able to use  outside the function\n",
    "- because it is a local variable\n",
    "- one method we used to is **global**\n",
    "- another method is return statement\n",
    "- return means something we are recieving\n",
    "- print means only we can see the answer"
   ]
  },
  {
   "cell_type": "code",
   "execution_count": 12,
   "id": "4fec0654-654c-4825-be70-366bc513d424",
   "metadata": {},
   "outputs": [
    {
     "ename": "TypeError",
     "evalue": "'int' object is not callable",
     "output_type": "error",
     "traceback": [
      "\u001b[1;31m---------------------------------------------------------------------------\u001b[0m",
      "\u001b[1;31mTypeError\u001b[0m                                 Traceback (most recent call last)",
      "Cell \u001b[1;32mIn[12], line 4\u001b[0m\n\u001b[0;32m      2\u001b[0m     c\u001b[38;5;241m=\u001b[39ma\u001b[38;5;241m+\u001b[39mb\n\u001b[0;32m      3\u001b[0m     \u001b[38;5;28;01mreturn\u001b[39;00m(c)\n\u001b[1;32m----> 4\u001b[0m val1\u001b[38;5;241m=\u001b[39madd(\u001b[38;5;241m20\u001b[39m,\u001b[38;5;241m30\u001b[39m)\n",
      "\u001b[1;31mTypeError\u001b[0m: 'int' object is not callable"
     ]
    }
   ],
   "source": [
    "def addd(a,b):\n",
    "    c=a+b\n",
    "    return(c)\n",
    "val1=addd(20,30)"
   ]
  },
  {
   "cell_type": "code",
   "execution_count": 16,
   "id": "c81f5a0c-c25e-4393-9dbf-47659d37bd4b",
   "metadata": {},
   "outputs": [
    {
     "ename": "NameError",
     "evalue": "name 'val1' is not defined",
     "output_type": "error",
     "traceback": [
      "\u001b[1;31m---------------------------------------------------------------------------\u001b[0m",
      "\u001b[1;31mNameError\u001b[0m                                 Traceback (most recent call last)",
      "Cell \u001b[1;32mIn[16], line 1\u001b[0m\n\u001b[1;32m----> 1\u001b[0m val1\n",
      "\u001b[1;31mNameError\u001b[0m: name 'val1' is not defined"
     ]
    }
   ],
   "source": [
    "val1"
   ]
  },
  {
   "cell_type": "code",
   "execution_count": null,
   "id": "e1eec90f-2f9c-4a6c-b225-526a8afa4cfd",
   "metadata": {},
   "outputs": [],
   "source": [
    "def addd(a,b):\n",
    "    c=a+b\n",
    "    return(c)\n",
    "val1=addd(20,30)"
   ]
  },
  {
   "cell_type": "code",
   "execution_count": 18,
   "id": "49591474-e45c-4360-9e70-6a5d075e19ec",
   "metadata": {},
   "outputs": [],
   "source": [
    "def add_sub(a,b):\n",
    "    summ=a+b\n",
    "    sub=a-b\n",
    "    return(summ,sub)\n",
    "summ,sub=add_sub(200,100)"
   ]
  },
  {
   "cell_type": "code",
   "execution_count": 20,
   "id": "b44f9ed3-3f21-4842-af8e-21ade2059e52",
   "metadata": {},
   "outputs": [
    {
     "name": "stdout",
     "output_type": "stream",
     "text": [
      "300\n",
      "100\n"
     ]
    }
   ],
   "source": [
    "print(summ)\n",
    "print(sub)"
   ]
  },
  {
   "cell_type": "code",
   "execution_count": 22,
   "id": "1380e77b-babe-4fca-ae61-350afa769469",
   "metadata": {},
   "outputs": [
    {
     "ename": "TypeError",
     "evalue": "cannot unpack non-iterable int object",
     "output_type": "error",
     "traceback": [
      "\u001b[1;31m---------------------------------------------------------------------------\u001b[0m",
      "\u001b[1;31mTypeError\u001b[0m                                 Traceback (most recent call last)",
      "Cell \u001b[1;32mIn[22], line 6\u001b[0m\n\u001b[0;32m      4\u001b[0m     \u001b[38;5;28;01mreturn\u001b[39;00m(summ)\n\u001b[0;32m      5\u001b[0m     \u001b[38;5;28;01mreturn\u001b[39;00m(sub)\n\u001b[1;32m----> 6\u001b[0m summ,sub\u001b[38;5;241m=\u001b[39madd_sub(\u001b[38;5;241m200\u001b[39m,\u001b[38;5;241m100\u001b[39m)\n",
      "\u001b[1;31mTypeError\u001b[0m: cannot unpack non-iterable int object"
     ]
    }
   ],
   "source": [
    "def add_sub(a,b):\n",
    "    summ=a+b\n",
    "    sub=a-b\n",
    "    return(summ)\n",
    "    return(sub)\n",
    "summ,sub=add_sub(200,100)"
   ]
  },
  {
   "cell_type": "code",
   "execution_count": 26,
   "id": "55f999da-d230-4420-9ab2-fa5eea1c257b",
   "metadata": {},
   "outputs": [
    {
     "data": {
      "text/plain": [
       "300"
      ]
     },
     "execution_count": 26,
     "metadata": {},
     "output_type": "execute_result"
    }
   ],
   "source": [
    "def add_sub(a,b):\n",
    "    summ=a+b\n",
    "    sub=a-b\n",
    "    return(summ)\n",
    "    return(sub)\n",
    "add_sub(200,100)"
   ]
  },
  {
   "cell_type": "code",
   "execution_count": null,
   "id": "aacbccfa-0467-4f0a-b4d4-1fc71bc44e58",
   "metadata": {},
   "outputs": [],
   "source": [
    "n1=100,200\n",
    "n1\n",
    "n1,n2=100,200\n",
    "n1,n2\n",
    "n1,n2=100"
   ]
  },
  {
   "cell_type": "code",
   "execution_count": 28,
   "id": "5335799f-fcb0-4e06-8647-1cd2cbc406da",
   "metadata": {},
   "outputs": [
    {
     "data": {
      "text/plain": [
       "(100, 200)"
      ]
     },
     "execution_count": 28,
     "metadata": {},
     "output_type": "execute_result"
    }
   ],
   "source": [
    "n1=100,200\n",
    "n1"
   ]
  },
  {
   "cell_type": "code",
   "execution_count": 30,
   "id": "e2f37891-c337-428a-8b30-855cbb35f022",
   "metadata": {},
   "outputs": [
    {
     "data": {
      "text/plain": [
       "(100, 200)"
      ]
     },
     "execution_count": 30,
     "metadata": {},
     "output_type": "execute_result"
    }
   ],
   "source": [
    "n1,n2=100,200\n",
    "n1,n2"
   ]
  },
  {
   "cell_type": "code",
   "execution_count": 32,
   "id": "0a907529-12d3-4e75-8305-8a35a076f317",
   "metadata": {},
   "outputs": [
    {
     "ename": "TypeError",
     "evalue": "cannot unpack non-iterable int object",
     "output_type": "error",
     "traceback": [
      "\u001b[1;31m---------------------------------------------------------------------------\u001b[0m",
      "\u001b[1;31mTypeError\u001b[0m                                 Traceback (most recent call last)",
      "Cell \u001b[1;32mIn[32], line 1\u001b[0m\n\u001b[1;32m----> 1\u001b[0m n1,n2\u001b[38;5;241m=\u001b[39m\u001b[38;5;241m100\u001b[39m\n\u001b[0;32m      2\u001b[0m n1,n2\n",
      "\u001b[1;31mTypeError\u001b[0m: cannot unpack non-iterable int object"
     ]
    }
   ],
   "source": [
    "n1,n2=100\n",
    "n1,n2"
   ]
  },
  {
   "cell_type": "code",
   "execution_count": 36,
   "id": "af9472ce-8876-4e57-ab65-39485f447da7",
   "metadata": {},
   "outputs": [],
   "source": [
    "def add_sub(a,b):\n",
    "    summ=a+b\n",
    "    sub=a-b\n",
    "    return(summ,sub)\n",
    "op=add_sub(200,300)"
   ]
  },
  {
   "cell_type": "code",
   "execution_count": 38,
   "id": "de2e438f-6ebb-4070-9dbd-ff8955f41fd7",
   "metadata": {},
   "outputs": [
    {
     "data": {
      "text/plain": [
       "(500, -100)"
      ]
     },
     "execution_count": 38,
     "metadata": {},
     "output_type": "execute_result"
    }
   ],
   "source": [
    "op"
   ]
  },
  {
   "cell_type": "markdown",
   "id": "45000122-b665-4f63-bb4c-6732b41afe38",
   "metadata": {},
   "source": [
    "**global vs return**\n",
    "- global keyword used for we can take the inside variable to outside the function\n",
    "- return can return any value outside the function\n",
    "- the value you return can be used another notebook also"
   ]
  },
  {
   "cell_type": "markdown",
   "id": "69cc104f-bb22-4609-a7c2-8d4b6d88bf44",
   "metadata": {},
   "source": [
    "**function in functions**"
   ]
  },
  {
   "cell_type": "code",
   "execution_count": null,
   "id": "34117610-3c38-40c9-a324-ab744a783ee7",
   "metadata": {},
   "outputs": [],
   "source": [
    "def greet1():\n",
    "    print(\"Hello Good Morning\")\n",
    "\n",
    "def greet2():\n",
    "    print(\"Hello Good Night\")\n",
    "greet1()\n",
    "greet2()\n",
    "#############################################\n",
    "def greet1():\n",
    "    print(\"hello good morning\")\n",
    "def greet2():\n",
    "    print(\"greet1 function starts\")\n",
    "    greet1()\n",
    "    print(\"hello good night\")\n",
    "greet2()\n",
    "#############################################\n",
    "def greet1():\n",
    "    print(\"greet 2 function starts\")\n",
    "    greet2()\n",
    "    print(\"hello good morining\")\n",
    "def greet2():\n",
    "    print(\"greet1 function starts\")\n",
    "    greet1()\n",
    "    print(\"hello good night\")\n",
    "greet2()"
   ]
  },
  {
   "cell_type": "code",
   "execution_count": 44,
   "id": "3f63a033-c88f-4af2-9ae3-6ea1b2f859e3",
   "metadata": {},
   "outputs": [
    {
     "ename": "NameError",
     "evalue": "name 'name' is not defined",
     "output_type": "error",
     "traceback": [
      "\u001b[1;31m---------------------------------------------------------------------------\u001b[0m",
      "\u001b[1;31mNameError\u001b[0m                                 Traceback (most recent call last)",
      "Cell \u001b[1;32mIn[44], line 9\u001b[0m\n\u001b[0;32m      6\u001b[0m \u001b[38;5;28;01mdef\u001b[39;00m \u001b[38;5;21moutside_function\u001b[39m(name):\n\u001b[0;32m      7\u001b[0m     inside_function()\n\u001b[1;32m----> 9\u001b[0m outside_function(\u001b[38;5;124m'\u001b[39m\u001b[38;5;124mpython\u001b[39m\u001b[38;5;124m'\u001b[39m)\n",
      "Cell \u001b[1;32mIn[44], line 7\u001b[0m, in \u001b[0;36moutside_function\u001b[1;34m(name)\u001b[0m\n\u001b[0;32m      6\u001b[0m \u001b[38;5;28;01mdef\u001b[39;00m \u001b[38;5;21moutside_function\u001b[39m(name):\n\u001b[1;32m----> 7\u001b[0m     inside_function()\n",
      "Cell \u001b[1;32mIn[44], line 2\u001b[0m, in \u001b[0;36minside_function\u001b[1;34m()\u001b[0m\n\u001b[0;32m      1\u001b[0m \u001b[38;5;28;01mdef\u001b[39;00m \u001b[38;5;21minside_function\u001b[39m():\n\u001b[1;32m----> 2\u001b[0m     \u001b[38;5;28mprint\u001b[39m(\u001b[38;5;124mf\u001b[39m\u001b[38;5;124m\"\u001b[39m\u001b[38;5;124mHello \u001b[39m\u001b[38;5;132;01m{\u001b[39;00mname\u001b[38;5;132;01m}\u001b[39;00m\u001b[38;5;124m good morning\u001b[39m\u001b[38;5;124m\"\u001b[39m)\n",
      "\u001b[1;31mNameError\u001b[0m: name 'name' is not defined"
     ]
    }
   ],
   "source": [
    "def inside_function():\n",
    "    print(f\"Hello {name} good morning\")\n",
    "    # we need to sense here\n",
    "    # name is not defined not even globally\n",
    "    # if i call this function definetily i will get error\n",
    "def outside_function(name):\n",
    "    inside_function()\n",
    "\n",
    "outside_function('python')\n",
    "    "
   ]
  },
  {
   "cell_type": "code",
   "execution_count": 46,
   "id": "f786fdfb-ee49-41bf-977c-e37d059b9f1e",
   "metadata": {},
   "outputs": [
    {
     "ename": "TypeError",
     "evalue": "inside_function() takes 0 positional arguments but 1 was given",
     "output_type": "error",
     "traceback": [
      "\u001b[1;31m---------------------------------------------------------------------------\u001b[0m",
      "\u001b[1;31mTypeError\u001b[0m                                 Traceback (most recent call last)",
      "Cell \u001b[1;32mIn[46], line 9\u001b[0m\n\u001b[0;32m      6\u001b[0m \u001b[38;5;28;01mdef\u001b[39;00m \u001b[38;5;21moutside_function\u001b[39m(name):\n\u001b[0;32m      7\u001b[0m     inside_function(name)\u001b[38;5;66;03m## name is given here now\u001b[39;00m\n\u001b[1;32m----> 9\u001b[0m outside_function(\u001b[38;5;124m'\u001b[39m\u001b[38;5;124mpython\u001b[39m\u001b[38;5;124m'\u001b[39m)\n",
      "Cell \u001b[1;32mIn[46], line 7\u001b[0m, in \u001b[0;36moutside_function\u001b[1;34m(name)\u001b[0m\n\u001b[0;32m      6\u001b[0m \u001b[38;5;28;01mdef\u001b[39;00m \u001b[38;5;21moutside_function\u001b[39m(name):\n\u001b[1;32m----> 7\u001b[0m     inside_function(name)\n",
      "\u001b[1;31mTypeError\u001b[0m: inside_function() takes 0 positional arguments but 1 was given"
     ]
    }
   ],
   "source": [
    "def inside_function():\n",
    "    print(f\"Hello {name} good morning\")\n",
    "    # we need to sense here\n",
    "    # name is not defined not even globally\n",
    "    # if i call this function definetily i will get error\n",
    "def outside_function(name):\n",
    "    inside_function(name)## name is given here now\n",
    "\n",
    "outside_function('python')"
   ]
  },
  {
   "cell_type": "code",
   "execution_count": 48,
   "id": "e6cb2ef8-60d6-48ad-9bb1-933e63a5eebb",
   "metadata": {},
   "outputs": [
    {
     "name": "stdout",
     "output_type": "stream",
     "text": [
      "Hello python good morning\n"
     ]
    }
   ],
   "source": [
    "def inside_function(name): # now name is given here\n",
    "    print(f\"Hello {name} good morning\")\n",
    "    # we need to sense here\n",
    "    # name is not defined not even globally\n",
    "    # if i call this function definetily i will get error\n",
    "def outside_function(name):\n",
    "    inside_function(name)## name is given here now\n",
    "\n",
    "outside_function('python')"
   ]
  },
  {
   "cell_type": "code",
   "execution_count": 50,
   "id": "93b8515c-8f82-4b99-8829-7081eaefdfc6",
   "metadata": {},
   "outputs": [
    {
     "name": "stdout",
     "output_type": "stream",
     "text": [
      "30\n"
     ]
    }
   ],
   "source": [
    "def adddd(a,b):\n",
    "    print(a+b)\n",
    "adddd(10,20)"
   ]
  },
  {
   "cell_type": "code",
   "execution_count": 52,
   "id": "67b6cc1c-0425-4f80-9068-b4bbc19c307c",
   "metadata": {},
   "outputs": [
    {
     "name": "stdout",
     "output_type": "stream",
     "text": [
      "30\n"
     ]
    }
   ],
   "source": [
    "def math():\n",
    "    def adddd(a,b):\n",
    "        print(a+b)\n",
    "    adddd(10,20)\n",
    "\n",
    "math()\n",
    "    \n",
    "    "
   ]
  },
  {
   "cell_type": "code",
   "execution_count": 54,
   "id": "60a3b23f-dca8-433b-941b-6bc2144371e1",
   "metadata": {},
   "outputs": [],
   "source": [
    "def math1():\n",
    "    def math():\n",
    "        def adddd(a,b):\n",
    "            print(a+b)\n",
    "        adddd(10,20)\n",
    "    math()\n"
   ]
  },
  {
   "cell_type": "markdown",
   "id": "cb634200-e9af-4eb9-9f95-e8d94bf0b12e",
   "metadata": {},
   "source": [
    "**here math1 is not call thats the reason it is not showing anything**"
   ]
  },
  {
   "cell_type": "code",
   "execution_count": 57,
   "id": "7450a82e-059a-4736-86c9-3c19eaa1e176",
   "metadata": {},
   "outputs": [
    {
     "name": "stdout",
     "output_type": "stream",
     "text": [
      "30\n"
     ]
    }
   ],
   "source": [
    "def math1():\n",
    "    def math():\n",
    "        def adddd(a,b):\n",
    "            print(a+b)\n",
    "        adddd(10,20)\n",
    "    math()\n",
    "math1()"
   ]
  },
  {
   "cell_type": "code",
   "execution_count": 59,
   "id": "1cd1e278-09c2-4bfb-8fe8-8d329d3e458a",
   "metadata": {},
   "outputs": [
    {
     "ename": "TypeError",
     "evalue": "math() missing 2 required positional arguments: 'a' and 'b'",
     "output_type": "error",
     "traceback": [
      "\u001b[1;31m---------------------------------------------------------------------------\u001b[0m",
      "\u001b[1;31mTypeError\u001b[0m                                 Traceback (most recent call last)",
      "Cell \u001b[1;32mIn[59], line 6\u001b[0m\n\u001b[0;32m      3\u001b[0m         \u001b[38;5;28mprint\u001b[39m(a\u001b[38;5;241m+\u001b[39mb)\n\u001b[0;32m      4\u001b[0m     adddd(\u001b[38;5;241m10\u001b[39m,\u001b[38;5;241m20\u001b[39m)\n\u001b[1;32m----> 6\u001b[0m math()\n",
      "\u001b[1;31mTypeError\u001b[0m: math() missing 2 required positional arguments: 'a' and 'b'"
     ]
    }
   ],
   "source": [
    "def math(a,b):\n",
    "    def adddd():\n",
    "        print(a+b)\n",
    "    adddd(10,20)\n",
    "\n",
    "math()"
   ]
  },
  {
   "cell_type": "code",
   "execution_count": 61,
   "id": "fc42e6af-f802-46e3-91f4-3f840b43d8b3",
   "metadata": {},
   "outputs": [
    {
     "name": "stdout",
     "output_type": "stream",
     "text": [
      "30\n"
     ]
    }
   ],
   "source": [
    "def math(a,b):\n",
    "    def adddd():\n",
    "        print(a+b)\n",
    "    adddd()\n",
    "\n",
    "math(10,20)"
   ]
  },
  {
   "cell_type": "code",
   "execution_count": null,
   "id": "a0f934eb-7482-4383-9c50-586db4aa1c30",
   "metadata": {},
   "outputs": [],
   "source": []
  }
 ],
 "metadata": {
  "kernelspec": {
   "display_name": "Python 3 (ipykernel)",
   "language": "python",
   "name": "python3"
  },
  "language_info": {
   "codemirror_mode": {
    "name": "ipython",
    "version": 3
   },
   "file_extension": ".py",
   "mimetype": "text/x-python",
   "name": "python",
   "nbconvert_exporter": "python",
   "pygments_lexer": "ipython3",
   "version": "3.12.4"
  }
 },
 "nbformat": 4,
 "nbformat_minor": 5
}
