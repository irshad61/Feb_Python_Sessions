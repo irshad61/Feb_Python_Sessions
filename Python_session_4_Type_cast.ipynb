{
 "cells": [
  {
   "cell_type": "markdown",
   "id": "7d24c579-e359-4608-a043-05037420fd64",
   "metadata": {},
   "source": [
    "**Type cast**\n",
    "\n",
    "- Changing one data type to another data type\n",
    "\n",
    "- int to float\n",
    "- int to str\n",
    "- int to boolean"
   ]
  },
  {
   "cell_type": "code",
   "execution_count": 2,
   "id": "0b2a6042-ff41-40c2-9369-7594e1ce9c7a",
   "metadata": {},
   "outputs": [
    {
     "data": {
      "text/plain": [
       "int"
      ]
     },
     "execution_count": 2,
     "metadata": {},
     "output_type": "execute_result"
    }
   ],
   "source": [
    "number=100\n",
    "type(number)"
   ]
  },
  {
   "cell_type": "code",
   "execution_count": 4,
   "id": "723bf311-ab33-436b-bc59-6b75f2dde3a9",
   "metadata": {},
   "outputs": [
    {
     "data": {
      "text/plain": [
       "(100.0, float)"
      ]
     },
     "execution_count": 4,
     "metadata": {},
     "output_type": "execute_result"
    }
   ],
   "source": [
    "# int to float\n",
    "float_number=float(number)\n",
    "float_number,type(float_number)"
   ]
  },
  {
   "cell_type": "code",
   "execution_count": 6,
   "id": "f9329c75-3810-4442-8244-e4072c037145",
   "metadata": {},
   "outputs": [
    {
     "data": {
      "text/plain": [
       "'100'"
      ]
     },
     "execution_count": 6,
     "metadata": {},
     "output_type": "execute_result"
    }
   ],
   "source": [
    "#int to string\n",
    "string_num=str(number)\n",
    "string_num"
   ]
  },
  {
   "cell_type": "code",
   "execution_count": 8,
   "id": "5cf54004-a0b0-4c1e-ba53-532ec73f5a9b",
   "metadata": {},
   "outputs": [
    {
     "data": {
      "text/plain": [
       "True"
      ]
     },
     "execution_count": 8,
     "metadata": {},
     "output_type": "execute_result"
    }
   ],
   "source": [
    "bool(number)"
   ]
  },
  {
   "cell_type": "code",
   "execution_count": 10,
   "id": "db70673e-48a7-49e5-b951-1e1c8f41e6d7",
   "metadata": {},
   "outputs": [
    {
     "name": "stdout",
     "output_type": "stream",
     "text": [
      "100.0\n",
      "100\n",
      "True\n"
     ]
    }
   ],
   "source": [
    "print(float(100))\n",
    "print(str(100))\n",
    "print(bool(100))"
   ]
  },
  {
   "cell_type": "code",
   "execution_count": 12,
   "id": "d1bde08e-ca22-43b9-b1e3-a5a2f28facac",
   "metadata": {},
   "outputs": [
    {
     "name": "stdout",
     "output_type": "stream",
     "text": [
      "-100.0\n",
      "-100\n",
      "True\n"
     ]
    }
   ],
   "source": [
    "print(float(-100))\n",
    "print(str(-100))\n",
    "print(bool(-100))"
   ]
  },
  {
   "cell_type": "code",
   "execution_count": 14,
   "id": "90a2c365-8bb7-4697-b25d-db58f367f2ad",
   "metadata": {},
   "outputs": [
    {
     "name": "stdout",
     "output_type": "stream",
     "text": [
      "0.0\n",
      "0\n",
      "False\n"
     ]
    }
   ],
   "source": [
    "print(float(0)) # 0.0\n",
    "print(str(0)) # '0'\n",
    "print(bool(0)) # False"
   ]
  },
  {
   "cell_type": "markdown",
   "id": "71fb346e-3b98-48eb-b9ed-55a01ce06884",
   "metadata": {},
   "source": [
    "**Note**\n",
    "- Boolean conversion of any integer value other than zero becomes True\n",
    "- Boolean conversion of Zero is False"
   ]
  },
  {
   "cell_type": "markdown",
   "id": "e9147042-ab75-4766-a612-6138aec4ac2d",
   "metadata": {},
   "source": [
    "**Float to other data types**"
   ]
  },
  {
   "cell_type": "code",
   "execution_count": 18,
   "id": "68833b3d-8816-42c6-8ff1-f7b5ff955031",
   "metadata": {},
   "outputs": [
    {
     "name": "stdout",
     "output_type": "stream",
     "text": [
      "100\n",
      "100.25\n",
      "True\n"
     ]
    }
   ],
   "source": [
    "print(int(100.25)) # 100\n",
    "print(str(100.25)) # '100.25'\n",
    "print(bool(100.25)) # True"
   ]
  },
  {
   "cell_type": "code",
   "execution_count": 20,
   "id": "9dbd3ba5-eb80-4982-8765-ad35f0f2e2f1",
   "metadata": {},
   "outputs": [
    {
     "name": "stdout",
     "output_type": "stream",
     "text": [
      "-100\n",
      "-100.25\n",
      "True\n"
     ]
    }
   ],
   "source": [
    "print(int(-100.25)) # -100\n",
    "print(str(-100.25)) # -'100.25'\n",
    "print(bool(-100.25)) # True\n"
   ]
  },
  {
   "cell_type": "code",
   "execution_count": 22,
   "id": "4bc23b72-dddd-4c34-9da6-18dcf481395b",
   "metadata": {},
   "outputs": [
    {
     "name": "stdout",
     "output_type": "stream",
     "text": [
      "0\n",
      "0.0\n",
      "False\n"
     ]
    }
   ],
   "source": [
    "print(int(0.0)) # 0\n",
    "print(str(0.0)) # '0.0'\n",
    "print(bool(0.0)) # False\n"
   ]
  },
  {
   "cell_type": "code",
   "execution_count": 24,
   "id": "45490d16-b645-49a0-90a2-a39b9fb61ab9",
   "metadata": {},
   "outputs": [
    {
     "name": "stdout",
     "output_type": "stream",
     "text": [
      "python\n"
     ]
    }
   ],
   "source": [
    "name='python'\n",
    "print(name)"
   ]
  },
  {
   "cell_type": "code",
   "execution_count": 26,
   "id": "38c9509c-3f8f-4b3a-b070-76e634705d4b",
   "metadata": {},
   "outputs": [
    {
     "data": {
      "text/plain": [
       "'python'"
      ]
     },
     "execution_count": 26,
     "metadata": {},
     "output_type": "execute_result"
    }
   ],
   "source": [
    "name"
   ]
  },
  {
   "cell_type": "markdown",
   "id": "ce60e865-5daa-4af4-90c4-41f58ce3012a",
   "metadata": {},
   "source": [
    "**String to other data types**"
   ]
  },
  {
   "cell_type": "code",
   "execution_count": 31,
   "id": "82364620-22c9-4afb-92de-3c2257d10a2e",
   "metadata": {},
   "outputs": [
    {
     "ename": "ValueError",
     "evalue": "invalid literal for int() with base 10: 'Apple'",
     "output_type": "error",
     "traceback": [
      "\u001b[1;31m---------------------------------------------------------------------------\u001b[0m",
      "\u001b[1;31mValueError\u001b[0m                                Traceback (most recent call last)",
      "Cell \u001b[1;32mIn[31], line 1\u001b[0m\n\u001b[1;32m----> 1\u001b[0m \u001b[38;5;28mint\u001b[39m(\u001b[38;5;124m'\u001b[39m\u001b[38;5;124mApple\u001b[39m\u001b[38;5;124m'\u001b[39m) \u001b[38;5;66;03m# Error\u001b[39;00m\n\u001b[0;32m      2\u001b[0m \u001b[38;5;28mfloat\u001b[39m(\u001b[38;5;124m'\u001b[39m\u001b[38;5;124mApple\u001b[39m\u001b[38;5;124m'\u001b[39m) \u001b[38;5;66;03m# Error\u001b[39;00m\n\u001b[0;32m      3\u001b[0m \u001b[38;5;28mbool\u001b[39m(\u001b[38;5;124m'\u001b[39m\u001b[38;5;124mApple\u001b[39m\u001b[38;5;124m'\u001b[39m)\n",
      "\u001b[1;31mValueError\u001b[0m: invalid literal for int() with base 10: 'Apple'"
     ]
    }
   ],
   "source": [
    "int('Apple') # Error\n",
    "float('Apple') # Error\n",
    "bool('Apple') # True"
   ]
  },
  {
   "cell_type": "code",
   "execution_count": 33,
   "id": "37cddae0-5c5d-46c2-b90d-68a44432546e",
   "metadata": {},
   "outputs": [
    {
     "data": {
      "text/plain": [
       "True"
      ]
     },
     "execution_count": 33,
     "metadata": {},
     "output_type": "execute_result"
    }
   ],
   "source": [
    "bool('0')"
   ]
  },
  {
   "cell_type": "code",
   "execution_count": 35,
   "id": "f07b51e6-a23c-4016-b05f-349313deae6a",
   "metadata": {},
   "outputs": [
    {
     "data": {
      "text/plain": [
       "False"
      ]
     },
     "execution_count": 35,
     "metadata": {},
     "output_type": "execute_result"
    }
   ],
   "source": [
    "bool('')"
   ]
  },
  {
   "cell_type": "code",
   "execution_count": 37,
   "id": "bb6a8d1b-adf0-4940-9d64-7adc240a16bd",
   "metadata": {},
   "outputs": [
    {
     "data": {
      "text/plain": [
       "10"
      ]
     },
     "execution_count": 37,
     "metadata": {},
     "output_type": "execute_result"
    }
   ],
   "source": [
    "int('10') "
   ]
  },
  {
   "cell_type": "code",
   "execution_count": 39,
   "id": "64f1f25b-8a88-48fb-b4f8-4e5ae9c6a9a2",
   "metadata": {},
   "outputs": [
    {
     "data": {
      "text/plain": [
       "10.0"
      ]
     },
     "execution_count": 39,
     "metadata": {},
     "output_type": "execute_result"
    }
   ],
   "source": [
    "float('10')"
   ]
  },
  {
   "cell_type": "code",
   "execution_count": 41,
   "id": "b101b1ed-d6db-49ee-bc34-e3afeac55d44",
   "metadata": {},
   "outputs": [
    {
     "data": {
      "text/plain": [
       "True"
      ]
     },
     "execution_count": 41,
     "metadata": {},
     "output_type": "execute_result"
    }
   ],
   "source": [
    "bool('10')\n",
    "# '10' is not a integer\n",
    "# True === ON\n",
    "# False === OFF ==== 0 ==== ''\n"
   ]
  },
  {
   "cell_type": "code",
   "execution_count": 43,
   "id": "98204876-f859-4a6b-8021-9ad0ca7a5da1",
   "metadata": {},
   "outputs": [],
   "source": [
    "#Sir, boolean value all interger is true except 0., but here boolean value zero"
   ]
  },
  {
   "cell_type": "code",
   "execution_count": 45,
   "id": "7bb1a544-b768-4d45-a68b-1fe4701ffe80",
   "metadata": {},
   "outputs": [
    {
     "ename": "ValueError",
     "evalue": "invalid literal for int() with base 10: '10.5'",
     "output_type": "error",
     "traceback": [
      "\u001b[1;31m---------------------------------------------------------------------------\u001b[0m",
      "\u001b[1;31mValueError\u001b[0m                                Traceback (most recent call last)",
      "Cell \u001b[1;32mIn[45], line 1\u001b[0m\n\u001b[1;32m----> 1\u001b[0m \u001b[38;5;28mint\u001b[39m(\u001b[38;5;124m'\u001b[39m\u001b[38;5;124m10.5\u001b[39m\u001b[38;5;124m'\u001b[39m)\n",
      "\u001b[1;31mValueError\u001b[0m: invalid literal for int() with base 10: '10.5'"
     ]
    }
   ],
   "source": [
    "int('10.5') # 10"
   ]
  },
  {
   "cell_type": "code",
   "execution_count": 47,
   "id": "02bf32b1-2c5c-44d4-9a83-8dee5fdb1afa",
   "metadata": {},
   "outputs": [
    {
     "ename": "ValueError",
     "evalue": "invalid literal for int() with base 10: '10.5'",
     "output_type": "error",
     "traceback": [
      "\u001b[1;31m---------------------------------------------------------------------------\u001b[0m",
      "\u001b[1;31mValueError\u001b[0m                                Traceback (most recent call last)",
      "Cell \u001b[1;32mIn[47], line 2\u001b[0m\n\u001b[0;32m      1\u001b[0m \u001b[38;5;28mint\u001b[39m(\u001b[38;5;124m'\u001b[39m\u001b[38;5;124m10\u001b[39m\u001b[38;5;124m'\u001b[39m) \u001b[38;5;66;03m# works\u001b[39;00m\n\u001b[1;32m----> 2\u001b[0m \u001b[38;5;28mint\u001b[39m(\u001b[38;5;124m'\u001b[39m\u001b[38;5;124m10.5\u001b[39m\u001b[38;5;124m'\u001b[39m)\n",
      "\u001b[1;31mValueError\u001b[0m: invalid literal for int() with base 10: '10.5'"
     ]
    }
   ],
   "source": [
    "int('10') # works\n",
    "int('10.5') # Fail\n"
   ]
  },
  {
   "cell_type": "code",
   "execution_count": 49,
   "id": "f3ace908-8135-42db-abfa-db783e986e49",
   "metadata": {},
   "outputs": [
    {
     "data": {
      "text/plain": [
       "10.5"
      ]
     },
     "execution_count": 49,
     "metadata": {},
     "output_type": "execute_result"
    }
   ],
   "source": [
    "float('10') # 10.0\n",
    "float('10.5') # 10.5"
   ]
  },
  {
   "cell_type": "code",
   "execution_count": 53,
   "id": "b41faf25-828b-4f5a-bdc3-1e917be074b0",
   "metadata": {},
   "outputs": [],
   "source": [
    "#when running int(10.5) is giving output but int('10.5') is giving error"
   ]
  },
  {
   "cell_type": "code",
   "execution_count": 57,
   "id": "03edae44-f693-4c43-af8a-a0bed919ffce",
   "metadata": {},
   "outputs": [
    {
     "ename": "ValueError",
     "evalue": "invalid literal for int() with base 10: '10.5'",
     "output_type": "error",
     "traceback": [
      "\u001b[1;31m---------------------------------------------------------------------------\u001b[0m",
      "\u001b[1;31mValueError\u001b[0m                                Traceback (most recent call last)",
      "Cell \u001b[1;32mIn[57], line 2\u001b[0m\n\u001b[0;32m      1\u001b[0m \u001b[38;5;28mint\u001b[39m(\u001b[38;5;241m10.5\u001b[39m) \u001b[38;5;66;03m# works\u001b[39;00m\n\u001b[1;32m----> 2\u001b[0m \u001b[38;5;28mint\u001b[39m(\u001b[38;5;124m'\u001b[39m\u001b[38;5;124m10.5\u001b[39m\u001b[38;5;124m'\u001b[39m )\n",
      "\u001b[1;31mValueError\u001b[0m: invalid literal for int() with base 10: '10.5'"
     ]
    }
   ],
   "source": [
    "int(10.5) # works\n",
    "int('10.5' )"
   ]
  },
  {
   "cell_type": "code",
   "execution_count": 59,
   "id": "d7a9be9b-8259-4077-89c1-09a9f4be7d43",
   "metadata": {},
   "outputs": [
    {
     "data": {
      "text/plain": [
       "10"
      ]
     },
     "execution_count": 59,
     "metadata": {},
     "output_type": "execute_result"
    }
   ],
   "source": [
    "#'10.5'==== '10'\n",
    "int(float('10.5'))\n"
   ]
  },
  {
   "cell_type": "code",
   "execution_count": null,
   "id": "a4cd1c2f-5101-4c7f-92ab-44b17bd240a3",
   "metadata": {},
   "outputs": [],
   "source": [
    "bool(10) # T\n",
    "bool('10.5') # T\n",
    "bool('10') # T\n",
    "bool(10.5) # T\n",
    "bool(0) # F\n",
    "bool(0.0) # F\n",
    "bool('0') # T\n",
    "bool('0.0') # T\n",
    "bool('apple') # T\n",
    "bool('') # F"
   ]
  }
 ],
 "metadata": {
  "kernelspec": {
   "display_name": "Python 3 (ipykernel)",
   "language": "python",
   "name": "python3"
  },
  "language_info": {
   "codemirror_mode": {
    "name": "ipython",
    "version": 3
   },
   "file_extension": ".py",
   "mimetype": "text/x-python",
   "name": "python",
   "nbconvert_exporter": "python",
   "pygments_lexer": "ipython3",
   "version": "3.12.4"
  }
 },
 "nbformat": 4,
 "nbformat_minor": 5
}
