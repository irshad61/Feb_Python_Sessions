{
 "cells": [
  {
   "cell_type": "markdown",
   "id": "7b4923a9-42ae-4952-858e-9cefff8a7f78",
   "metadata": {},
   "source": [
    "**loops**\n",
    "- There are two Types of loops\n",
    "  - for loop\n",
    "  - while loop\n",
    "- for every loop there is\n",
    "  - initilization(Start)\n",
    "  - increment/decrement\n",
    "  - condition to stop the loop(stop)\n",
    "  "
   ]
  },
  {
   "cell_type": "markdown",
   "id": "444a445e-6c65-4af5-a279-a91f150090db",
   "metadata": {},
   "source": [
    "**for loop**"
   ]
  },
  {
   "cell_type": "code",
   "execution_count": null,
   "id": "1e01a9dc-578d-4473-9a81-98b656d92a61",
   "metadata": {},
   "outputs": [],
   "source": [
    "for <variable> in range(<value>):\n",
    "    <write your code here>"
   ]
  },
  {
   "cell_type": "code",
   "execution_count": 4,
   "id": "7547153e-4b26-4064-a343-9471aa73ef45",
   "metadata": {},
   "outputs": [
    {
     "name": "stdout",
     "output_type": "stream",
     "text": [
      "0\n",
      "1\n",
      "2\n"
     ]
    }
   ],
   "source": [
    "for i in range(3):\n",
    "    print(i)"
   ]
  },
  {
   "cell_type": "markdown",
   "id": "8f2d693e-ea22-481f-8805-231c08f28f18",
   "metadata": {},
   "source": [
    "**Case-1**\n",
    "\n",
    "**range(stop)**\n",
    "\n",
    "- start value=0\n",
    "- step size = +1\n",
    "- last=stop-1\n",
    "- range(3)\n",
    "  - start value=0\n",
    "  - increment=1\n",
    "  - last=stop-3"
   ]
  },
  {
   "cell_type": "code",
   "execution_count": 8,
   "id": "976e9f9f-fea9-40c4-821d-f2278d93eb31",
   "metadata": {},
   "outputs": [
    {
     "name": "stdout",
     "output_type": "stream",
     "text": [
      "0\n",
      "1\n",
      "2\n",
      "3\n",
      "4\n"
     ]
    }
   ],
   "source": [
    "for i in range(5):\n",
    "    print(i)\n",
    "# variable name can be anything\n",
    "# start=0 step=1 last=5-1=4"
   ]
  },
  {
   "cell_type": "code",
   "execution_count": 12,
   "id": "85f78c09-d309-4a5a-a31e-1795f98279fc",
   "metadata": {},
   "outputs": [
    {
     "name": "stdout",
     "output_type": "stream",
     "text": [
      "0 1 2 3 4 "
     ]
    }
   ],
   "source": [
    "for i in range(5):\n",
    "    print(i,end=' ')"
   ]
  },
  {
   "cell_type": "markdown",
   "id": "1d1c3ac8-8664-40a5-a214-bd9ec3c0c697",
   "metadata": {},
   "source": [
    "**case-2: range(start,stop)**\n",
    "- start value=start\n",
    "- step=1\n",
    "- last=stop-1"
   ]
  },
  {
   "cell_type": "code",
   "execution_count": 15,
   "id": "acab0b35-e499-4001-bf8a-231434faef02",
   "metadata": {},
   "outputs": [
    {
     "name": "stdout",
     "output_type": "stream",
     "text": [
      "2 3 4 5 "
     ]
    }
   ],
   "source": [
    "for i in range(2,6):\n",
    "    print(i, end=\" \")"
   ]
  },
  {
   "cell_type": "code",
   "execution_count": 21,
   "id": "e0e6b294-fb7f-4fc2-b0fb-768762419656",
   "metadata": {},
   "outputs": [
    {
     "name": "stdout",
     "output_type": "stream",
     "text": [
      "The square of 1 is :1\n",
      "The square of 2 is :4\n",
      "The square of 3 is :9\n",
      "The square of 4 is :16\n",
      "The square of 5 is :25\n"
     ]
    }
   ],
   "source": [
    "for i in range(1,6):\n",
    "    print(f\"The square of {i} is :{i*i}\")"
   ]
  },
  {
   "cell_type": "code",
   "execution_count": 23,
   "id": "8f125642-9f31-49c5-90a7-266fca591b5a",
   "metadata": {},
   "outputs": [
    {
     "name": "stdin",
     "output_type": "stream",
     "text": [
      "enter a number: 1\n"
     ]
    },
    {
     "name": "stdout",
     "output_type": "stream",
     "text": [
      "The square of 1 is : 1\n"
     ]
    },
    {
     "name": "stdin",
     "output_type": "stream",
     "text": [
      "enter a number: 2\n"
     ]
    },
    {
     "name": "stdout",
     "output_type": "stream",
     "text": [
      "The square of 2 is : 4\n"
     ]
    },
    {
     "name": "stdin",
     "output_type": "stream",
     "text": [
      "enter a number: 3\n"
     ]
    },
    {
     "name": "stdout",
     "output_type": "stream",
     "text": [
      "The square of 3 is : 9\n"
     ]
    },
    {
     "name": "stdin",
     "output_type": "stream",
     "text": [
      "enter a number: 4\n"
     ]
    },
    {
     "name": "stdout",
     "output_type": "stream",
     "text": [
      "The square of 4 is : 16\n"
     ]
    },
    {
     "name": "stdin",
     "output_type": "stream",
     "text": [
      "enter a number: 5\n"
     ]
    },
    {
     "name": "stdout",
     "output_type": "stream",
     "text": [
      "The square of 5 is : 25\n"
     ]
    }
   ],
   "source": [
    "for i in range(1,6):\n",
    "    n=eval(input(\"enter a number:\"))\n",
    "    print(f\"The square of {n} is : {i*i}\")\n",
    "    "
   ]
  },
  {
   "cell_type": "code",
   "execution_count": 27,
   "id": "1194f015-a92f-4ccc-ac0f-a436aa20279c",
   "metadata": {},
   "outputs": [
    {
     "name": "stdin",
     "output_type": "stream",
     "text": [
      "enter a number: 1\n"
     ]
    },
    {
     "name": "stdout",
     "output_type": "stream",
     "text": [
      "The square of 10 is : 100\n"
     ]
    },
    {
     "name": "stdin",
     "output_type": "stream",
     "text": [
      "enter a number: 2\n"
     ]
    },
    {
     "name": "stdout",
     "output_type": "stream",
     "text": [
      "The square of 11 is : 121\n"
     ]
    },
    {
     "name": "stdin",
     "output_type": "stream",
     "text": [
      "enter a number: 3\n"
     ]
    },
    {
     "name": "stdout",
     "output_type": "stream",
     "text": [
      "The square of 12 is : 144\n"
     ]
    },
    {
     "name": "stdin",
     "output_type": "stream",
     "text": [
      "enter a number: 4\n"
     ]
    },
    {
     "name": "stdout",
     "output_type": "stream",
     "text": [
      "The square of 13 is : 169\n"
     ]
    },
    {
     "name": "stdin",
     "output_type": "stream",
     "text": [
      "enter a number: 5\n"
     ]
    },
    {
     "name": "stdout",
     "output_type": "stream",
     "text": [
      "The square of 14 is : 196\n"
     ]
    },
    {
     "name": "stdin",
     "output_type": "stream",
     "text": [
      "enter a number: 6\n"
     ]
    },
    {
     "name": "stdout",
     "output_type": "stream",
     "text": [
      "The square of 15 is : 225\n"
     ]
    }
   ],
   "source": [
    "for i in range(10,16):\n",
    "    n=eval(input(\"enter a number:\"))\n",
    "    print(f\"The square of {i} is : {i*i}\")"
   ]
  },
  {
   "cell_type": "code",
   "execution_count": 29,
   "id": "51ad3c3c-0353-4ac5-8e33-065be10ece67",
   "metadata": {},
   "outputs": [
    {
     "name": "stdin",
     "output_type": "stream",
     "text": [
      "enter a number: 1\n"
     ]
    },
    {
     "name": "stdout",
     "output_type": "stream",
     "text": [
      "The square of 1 is : 1\n"
     ]
    },
    {
     "name": "stdin",
     "output_type": "stream",
     "text": [
      "enter a number: 2\n"
     ]
    },
    {
     "name": "stdout",
     "output_type": "stream",
     "text": [
      "The square of 2 is : 4\n"
     ]
    },
    {
     "name": "stdin",
     "output_type": "stream",
     "text": [
      "enter a number: 3\n"
     ]
    },
    {
     "name": "stdout",
     "output_type": "stream",
     "text": [
      "The square of 3 is : 9\n"
     ]
    },
    {
     "name": "stdin",
     "output_type": "stream",
     "text": [
      "enter a number: 4\n"
     ]
    },
    {
     "name": "stdout",
     "output_type": "stream",
     "text": [
      "The square of 4 is : 16\n"
     ]
    },
    {
     "name": "stdin",
     "output_type": "stream",
     "text": [
      "enter a number: 5\n"
     ]
    },
    {
     "name": "stdout",
     "output_type": "stream",
     "text": [
      "The square of 5 is : 25\n"
     ]
    },
    {
     "name": "stdin",
     "output_type": "stream",
     "text": [
      "enter a number: 6\n"
     ]
    },
    {
     "name": "stdout",
     "output_type": "stream",
     "text": [
      "The square of 6 is : 36\n"
     ]
    }
   ],
   "source": [
    "for i in range(10,16):\n",
    "    n=eval(input(\"enter a number:\"))\n",
    "    print(f\"The square of {n} is : {n*n}\")"
   ]
  },
  {
   "cell_type": "code",
   "execution_count": 31,
   "id": "f4e81bd2-e982-4b20-9296-7afa55a26292",
   "metadata": {},
   "outputs": [
    {
     "name": "stdout",
     "output_type": "stream",
     "text": [
      "the square of 67 is :4489\n",
      "the square of 24 is :576\n",
      "the square of 55 is :3025\n",
      "the square of 44 is :1936\n",
      "the square of 79 is :6241\n",
      "the square of 69 is :4761\n"
     ]
    }
   ],
   "source": [
    "from random import randint\n",
    "for i in range(10,16):\n",
    "    r=randint(1,100)\n",
    "    print(f\"the square of {r} is :{r*r}\")"
   ]
  },
  {
   "cell_type": "markdown",
   "id": "0a271519-bf7a-43fb-8f8b-7770af5758de",
   "metadata": {},
   "source": [
    "**case-3: range(start,stop,step)**\n",
    "- start value =start\n",
    "- step=postive means + sign\n",
    "  - gap= positive step\n",
    "  - last=stop-1\n",
    "- last=stop-1\n",
    "- step=negative means - sign\n",
    "  - gap= negative step size"
   ]
  },
  {
   "cell_type": "code",
   "execution_count": 35,
   "id": "a3a6bb99-32bb-44df-8ffc-55bbcefe1247",
   "metadata": {},
   "outputs": [
    {
     "name": "stdout",
     "output_type": "stream",
     "text": [
      "2 4 6 8 10 12 14 16 18 "
     ]
    }
   ],
   "source": [
    "for i in range(2,20,2):\n",
    "    print(i,end=\" \")"
   ]
  },
  {
   "cell_type": "code",
   "execution_count": 37,
   "id": "4eb3ee32-def9-4064-b6d9-a686e757b88f",
   "metadata": {},
   "outputs": [
    {
     "name": "stdout",
     "output_type": "stream",
     "text": [
      "-2 -4 -6 -8 -10 -12 -14 -16 -18 "
     ]
    }
   ],
   "source": [
    "for i in range(-2,-20,-2):\n",
    "    print(i,end=\" \")"
   ]
  },
  {
   "cell_type": "code",
   "execution_count": 39,
   "id": "374e591e-f26a-4256-9da6-97c9d185c595",
   "metadata": {},
   "outputs": [
    {
     "name": "stdout",
     "output_type": "stream",
     "text": [
      "2 0 -2 -4 -6 -8 -10 -12 -14 -16 -18 "
     ]
    }
   ],
   "source": [
    "for i in range(2,-20,-2):\n",
    "    print(i,end=\" \")"
   ]
  },
  {
   "cell_type": "code",
   "execution_count": 3,
   "id": "57f8db31-2bc5-4028-9463-e0948fb6300c",
   "metadata": {},
   "outputs": [],
   "source": [
    "for i in range(2,-20,2):\n",
    "    print(i,end=\" \")\n",
    "# it is not possibe\n",
    "# step is positive \n",
    "# but last value is negative\n",
    "# hence it will give no answer no error"
   ]
  },
  {
   "cell_type": "code",
   "execution_count": 5,
   "id": "5fa89171-97e2-4cda-9de7-30f68d66d96e",
   "metadata": {},
   "outputs": [
    {
     "name": "stdin",
     "output_type": "stream",
     "text": [
      "Enter Number: 2\n"
     ]
    },
    {
     "name": "stdout",
     "output_type": "stream",
     "text": [
      "even\n"
     ]
    },
    {
     "name": "stdin",
     "output_type": "stream",
     "text": [
      "Enter Number: 3\n"
     ]
    },
    {
     "name": "stdout",
     "output_type": "stream",
     "text": [
      "odd\n"
     ]
    },
    {
     "name": "stdin",
     "output_type": "stream",
     "text": [
      "Enter Number: 4\n"
     ]
    },
    {
     "name": "stdout",
     "output_type": "stream",
     "text": [
      "even\n"
     ]
    },
    {
     "name": "stdin",
     "output_type": "stream",
     "text": [
      "Enter Number: 5\n"
     ]
    },
    {
     "name": "stdout",
     "output_type": "stream",
     "text": [
      "odd\n"
     ]
    },
    {
     "name": "stdin",
     "output_type": "stream",
     "text": [
      "Enter Number: 6\n"
     ]
    },
    {
     "name": "stdout",
     "output_type": "stream",
     "text": [
      "even\n"
     ]
    }
   ],
   "source": [
    "for i in range(0,5):\n",
    "    n=eval(input(\"Enter Number:\"))\n",
    "    if n%2==0:\n",
    "        print(\"even\")\n",
    "    else:\n",
    "        print(\"odd\")"
   ]
  },
  {
   "cell_type": "code",
   "execution_count": 13,
   "id": "e440ea3b-713d-4eec-83e1-dde0634b27ed",
   "metadata": {},
   "outputs": [
    {
     "name": "stdin",
     "output_type": "stream",
     "text": [
      "enter the number to print the table: 7\n"
     ]
    },
    {
     "name": "stdout",
     "output_type": "stream",
     "text": [
      "7 x 1 is : 7\n",
      "7 x 2 is : 14\n",
      "7 x 3 is : 21\n",
      "7 x 4 is : 28\n",
      "7 x 5 is : 35\n",
      "7 x 6 is : 42\n",
      "7 x 7 is : 49\n",
      "7 x 8 is : 56\n",
      "7 x 9 is : 63\n",
      "7 x 10 is : 70\n"
     ]
    }
   ],
   "source": [
    "n=eval(input(\"enter the number to print the table:\"))\n",
    "for i in range(1,11):\n",
    "    t=n*i\n",
    "    print(f\"{n} x {i} is : {t}\")   \n",
    "    "
   ]
  },
  {
   "cell_type": "code",
   "execution_count": 21,
   "id": "613745fc-c4f8-4090-82ee-f7187c2c2ca7",
   "metadata": {},
   "outputs": [
    {
     "name": "stdin",
     "output_type": "stream",
     "text": [
      "enter a number: 25\n"
     ]
    },
    {
     "name": "stdout",
     "output_type": "stream",
     "text": [
      "1 is a divisor for 25\n",
      "5 is a divisor for 25\n",
      "25 is a divisor for 25\n"
     ]
    }
   ],
   "source": []
  },
  {
   "cell_type": "code",
   "execution_count": 23,
   "id": "d4cbdf3a-194e-4cdb-b771-0edd406ae954",
   "metadata": {},
   "outputs": [
    {
     "name": "stdout",
     "output_type": "stream",
     "text": [
      "1 is a divisor for 75\n",
      "3 is a divisor for 75\n",
      "5 is a divisor for 75\n",
      "15 is a divisor for 75\n",
      "25 is a divisor for 75\n",
      "75 is a divisor for 75\n"
     ]
    }
   ],
   "source": [
    "def divisior(n):\n",
    "    for i in range(1,n+1):\n",
    "        if n%i==0:\n",
    "            print(f\"{i} is a divisor for {n}\")\n",
    "divisior(75)\n",
    "    \n",
    "    "
   ]
  },
  {
   "cell_type": "code",
   "execution_count": 25,
   "id": "90f91d9e-5957-478c-838e-b343ddfff9bd",
   "metadata": {},
   "outputs": [
    {
     "name": "stdout",
     "output_type": "stream",
     "text": [
      "0 1 2 3 4 "
     ]
    }
   ],
   "source": [
    "for i in range(5):\n",
    "    print(i,end=\" \")"
   ]
  },
  {
   "cell_type": "code",
   "execution_count": 27,
   "id": "655d3ad5-a84f-48bd-9d77-37122270456a",
   "metadata": {},
   "outputs": [
    {
     "data": {
      "text/plain": [
       "4"
      ]
     },
     "execution_count": 27,
     "metadata": {},
     "output_type": "execute_result"
    }
   ],
   "source": [
    "i"
   ]
  },
  {
   "cell_type": "markdown",
   "id": "0f3a33b8-9675-4bea-bb84-3b6bda1196af",
   "metadata": {},
   "source": [
    "**Note**\n",
    "- i variable will give always last value\n",
    "- do not print i outside the for loop\n",
    "- it will give only last value"
   ]
  },
  {
   "cell_type": "code",
   "execution_count": 30,
   "id": "a4f68a7f-2103-4346-8fb5-04b95ac325fc",
   "metadata": {},
   "outputs": [
    {
     "data": {
      "text/plain": [
       "1"
      ]
     },
     "execution_count": 30,
     "metadata": {},
     "output_type": "execute_result"
    }
   ],
   "source": [
    "def divisior(n):\n",
    "    for i in range(1,n+1):\n",
    "        if n%i==0:\n",
    "            return(i)\n",
    "divisior(75)"
   ]
  },
  {
   "cell_type": "code",
   "execution_count": 34,
   "id": "6bed09a9-22d5-48a0-b2cd-d6d80b964cd3",
   "metadata": {},
   "outputs": [
    {
     "data": {
      "text/plain": [
       "4"
      ]
     },
     "execution_count": 34,
     "metadata": {},
     "output_type": "execute_result"
    }
   ],
   "source": [
    "i"
   ]
  },
  {
   "cell_type": "code",
   "execution_count": 38,
   "id": "a8e85322-37ab-408b-abc2-a20906149691",
   "metadata": {},
   "outputs": [
    {
     "name": "stdout",
     "output_type": "stream",
     "text": [
      "1 is a divisor for 75\n",
      "3 is a divisor for 75\n",
      "5 is a divisor for 75\n",
      "15 is a divisor for 75\n",
      "25 is a divisor for 75\n",
      "75 is a divisor for 75\n"
     ]
    },
    {
     "ename": "SyntaxError",
     "evalue": "'return' outside function (1517150228.py, line 6)",
     "output_type": "error",
     "traceback": [
      "\u001b[1;36m  Cell \u001b[1;32mIn[38], line 6\u001b[1;36m\u001b[0m\n\u001b[1;33m    return(i)\u001b[0m\n\u001b[1;37m    ^\u001b[0m\n\u001b[1;31mSyntaxError\u001b[0m\u001b[1;31m:\u001b[0m 'return' outside function\n"
     ]
    }
   ],
   "source": [
    "def divisior(n):\n",
    "    for i in range(1,n+1):\n",
    "        if n%i==0:\n",
    "            print(f\"{i} is a divisor for {n}\")\n",
    "divisior(75)\n",
    "return(i)"
   ]
  },
  {
   "cell_type": "code",
   "execution_count": 40,
   "id": "b8b0843d-ae92-430e-88e9-25529610abcd",
   "metadata": {},
   "outputs": [
    {
     "name": "stdout",
     "output_type": "stream",
     "text": [
      "1 is a divisor for 75\n",
      "3 is a divisor for 75\n",
      "5 is a divisor for 75\n",
      "15 is a divisor for 75\n",
      "25 is a divisor for 75\n",
      "75 is a divisor for 75\n"
     ]
    },
    {
     "data": {
      "text/plain": [
       "4"
      ]
     },
     "execution_count": 40,
     "metadata": {},
     "output_type": "execute_result"
    }
   ],
   "source": [
    "def divisior(n):\n",
    "    for i in range(1,n+1):\n",
    "        if n%i==0:\n",
    "            print(f\"{i} is a divisor for {n}\")\n",
    "divisior(75)\n",
    "i"
   ]
  },
  {
   "cell_type": "code",
   "execution_count": 46,
   "id": "866dbc93-7acc-4b2e-ae1b-c7b5a6554d33",
   "metadata": {},
   "outputs": [
    {
     "name": "stdin",
     "output_type": "stream",
     "text": [
      "enter how many natural numbers you want: 10\n"
     ]
    },
    {
     "name": "stdout",
     "output_type": "stream",
     "text": [
      "1\n",
      "2\n",
      "3\n",
      "4\n",
      "5\n",
      "6\n",
      "7\n",
      "8\n",
      "9\n",
      "10\n"
     ]
    }
   ],
   "source": [
    "n=eval(input(\"enter how many natural numbers you want:\"))\n",
    "for i in range(1,n+1):\n",
    "    print(i)\n",
    "    \n"
   ]
  },
  {
   "cell_type": "markdown",
   "id": "eceb6e6e-4dfe-4d41-99e0-d4271f7fc82f",
   "metadata": {},
   "source": [
    "**summation wrapper**\n",
    "- always initialize the sum=0 before the loop\n",
    "- inside the loop sum=sum+i\n",
    "- then print the sum value outside the loop"
   ]
  },
  {
   "cell_type": "code",
   "execution_count": 58,
   "id": "a5f9b24a-e232-4fb2-b6a9-16ca0f41ff81",
   "metadata": {},
   "outputs": [
    {
     "name": "stdin",
     "output_type": "stream",
     "text": [
      "Enter the number: 15\n"
     ]
    },
    {
     "name": "stdout",
     "output_type": "stream",
     "text": [
      "120\n"
     ]
    }
   ],
   "source": [
    "sum=0\n",
    "n=eval(input(\"Enter the number:\"))\n",
    "for i in range(1,n+1):\n",
    "    sum=sum+i\n",
    "print(sum)"
   ]
  },
  {
   "cell_type": "code",
   "execution_count": 60,
   "id": "6a79ed8a-eca5-43bf-98bb-13b291386386",
   "metadata": {},
   "outputs": [
    {
     "name": "stdin",
     "output_type": "stream",
     "text": [
      "Enter the number: 15\n"
     ]
    },
    {
     "name": "stdout",
     "output_type": "stream",
     "text": [
      "1\n",
      "3\n",
      "6\n",
      "10\n",
      "15\n",
      "21\n",
      "28\n",
      "36\n",
      "45\n",
      "55\n",
      "66\n",
      "78\n",
      "91\n",
      "105\n",
      "120\n"
     ]
    }
   ],
   "source": [
    "sum=0\n",
    "n=eval(input(\"Enter the number:\"))\n",
    "for i in range(1,n+1):\n",
    "    sum=sum+i\n",
    "    print(sum)"
   ]
  },
  {
   "cell_type": "code",
   "execution_count": 62,
   "id": "79f02f76-5dad-4cce-84b3-64a4b77c5fd5",
   "metadata": {},
   "outputs": [
    {
     "name": "stdin",
     "output_type": "stream",
     "text": [
      "Enter the number: 10\n"
     ]
    },
    {
     "name": "stdout",
     "output_type": "stream",
     "text": [
      "55\n"
     ]
    }
   ],
   "source": [
    "sum=0\n",
    "n=eval(input(\"Enter the number:\"))\n",
    "for i in range(1,n+1):\n",
    "    sum+=i\n",
    "print(sum)"
   ]
  },
  {
   "cell_type": "markdown",
   "id": "0e25c462-ee87-4c9a-b134-9b6cc957c52c",
   "metadata": {},
   "source": [
    "**Counter operation**\n",
    "- Before the loop the count=0\n",
    "- inside the loop count=count+1, but this line under succesful operation\n",
    "- print the count outside the loop"
   ]
  },
  {
   "cell_type": "code",
   "execution_count": 73,
   "id": "6571b818-5232-466d-8f23-77b397a7c5bb",
   "metadata": {},
   "outputs": [
    {
     "name": "stdin",
     "output_type": "stream",
     "text": [
      "Enter the number: 15\n"
     ]
    },
    {
     "name": "stdout",
     "output_type": "stream",
     "text": [
      "4\n"
     ]
    }
   ],
   "source": [
    "num=eval(input(\"Enter the number:\"))\n",
    "count=0\n",
    "for i in range(1,num+1):\n",
    "    if num%i==0:\n",
    "        count=count+1\n",
    "print(count)     "
   ]
  },
  {
   "cell_type": "code",
   "execution_count": 85,
   "id": "66891ef2-aa62-4423-88a3-65854d13b75c",
   "metadata": {},
   "outputs": [
    {
     "name": "stdout",
     "output_type": "stream",
     "text": [
      "The even numbers are : 0\n",
      "The even numbers are : 1\n",
      "The even numbers are : 2\n",
      "The even numbers are : 3\n",
      "The even numbers are : 4\n",
      "The odd numbers are : 5\n",
      "The even numbers are : 6\n",
      "The odd numbers are : 7\n",
      "The even numbers are : 8\n",
      "The odd numbers are : 9\n",
      "The even numbers are : 10\n",
      "The even numbers are : 11\n",
      "The odd numbers are : 12\n",
      "The even numbers are : 13\n",
      "The odd numbers are : 14\n",
      "The even numbers are : 15\n",
      "The even numbers are : 16\n",
      "The even numbers are : 17\n",
      "The odd numbers are : 18\n",
      "The odd numbers are : 19\n",
      "The even numbers are : 20\n",
      "The even numbers are : 21\n",
      "The odd numbers are : 22\n",
      "The odd numbers are : 23\n",
      "The odd numbers are : 24\n",
      "The odd numbers are : 25\n",
      "The odd numbers are : 26\n",
      "The even numbers are : 27\n",
      "The even numbers are : 28\n",
      "The even numbers are : 29\n",
      "The even numbers are : 30\n",
      "The even numbers are : 31\n",
      "The odd numbers are : 32\n",
      "The even numbers are : 33\n",
      "The odd numbers are : 34\n",
      "The even numbers are : 35\n",
      "The odd numbers are : 36\n",
      "The even numbers are : 37\n",
      "The even numbers are : 38\n",
      "The odd numbers are : 39\n",
      "The even numbers are : 40\n",
      "The odd numbers are : 41\n",
      "The odd numbers are : 42\n",
      "The even numbers are : 43\n",
      "The even numbers are : 44\n",
      "The even numbers are : 45\n",
      "The odd numbers are : 46\n",
      "the sum of even numbers is : 607\n",
      "the sum of odd numbers  is : 474\n"
     ]
    }
   ],
   "source": [
    "from random import randint\n",
    "evensum,oddsum=0,0\n",
    "for i in range():\n",
    "    n=randint(1,100)\n",
    "    if n%2==0:\n",
    "        print(f\"The even numbers are : {i}\")\n",
    "        evensum=evensum+i\n",
    "    else:\n",
    "        print(f\"The odd numbers are : {i}\")\n",
    "        oddsum=oddsum+i\n",
    "print(f\"the sum of even numbers is : {evensum}\")\n",
    "print(f\"the sum of odd numbers  is : {oddsum}\")"
   ]
  },
  {
   "cell_type": "code",
   "execution_count": 93,
   "id": "2e32c0eb-a40e-4a9c-99ee-e9ddbe27a341",
   "metadata": {},
   "outputs": [
    {
     "name": "stdout",
     "output_type": "stream",
     "text": [
      "The odd numbers are : 67\n",
      "The even numbers are : 26\n",
      "The even numbers are : 40\n",
      "The even numbers are : 90\n",
      "The odd numbers are : 19\n",
      "the sum of even numbers is : 156\n",
      "the sum of odd numbers  is : 86\n"
     ]
    }
   ],
   "source": [
    "from random import randint\n",
    "evensum,oddsum=0,0\n",
    "for i in range(5):\n",
    "    n=randint(1,100)\n",
    "    if n%2==0:\n",
    "        print(f\"The even numbers are : {n}\")\n",
    "        evensum=evensum+n\n",
    "    else:\n",
    "        print(f\"The odd numbers are : {n}\")\n",
    "        oddsum=oddsum+n\n",
    "print(f\"the sum of even numbers is : {evensum}\")\n",
    "print(f\"the sum of odd numbers  is : {oddsum}\")"
   ]
  },
  {
   "cell_type": "code",
   "execution_count": 107,
   "id": "e0e8dfd1-0bb3-4c7c-a377-34e27f3ce8d4",
   "metadata": {},
   "outputs": [
    {
     "name": "stdout",
     "output_type": "stream",
     "text": [
      "2\n"
     ]
    },
    {
     "name": "stdin",
     "output_type": "stream",
     "text": [
      "enter a number: 2\n"
     ]
    },
    {
     "name": "stdout",
     "output_type": "stream",
     "text": [
      "won\n"
     ]
    }
   ],
   "source": [
    "for i in range(3):\n",
    "    n=randint(1,10)\n",
    "    print(n)\n",
    "    n1=eval(input(\"enter a number:\"))\n",
    "    if n==n1:\n",
    "        print(\"won\")\n",
    "        break\n",
    "    else:\n",
    "        print(\"lost\")"
   ]
  },
  {
   "cell_type": "code",
   "execution_count": 7,
   "id": "db8c2dbc-f07d-4d25-8975-3206faff4e75",
   "metadata": {},
   "outputs": [
    {
     "name": "stdin",
     "output_type": "stream",
     "text": [
      "enter the number How chances  you want: 3\n",
      "guess the number: 4\n"
     ]
    },
    {
     "name": "stdout",
     "output_type": "stream",
     "text": [
      "the chances left is: 2\n",
      "you lost\n"
     ]
    },
    {
     "name": "stdin",
     "output_type": "stream",
     "text": [
      "guess the number: 4\n"
     ]
    },
    {
     "name": "stdout",
     "output_type": "stream",
     "text": [
      "the chances left is: 1\n",
      "you lost\n"
     ]
    },
    {
     "name": "stdin",
     "output_type": "stream",
     "text": [
      "guess the number: 6\n"
     ]
    },
    {
     "name": "stdout",
     "output_type": "stream",
     "text": [
      "the chances left is: 0\n",
      "you lost\n"
     ]
    }
   ],
   "source": [
    "from random import randint\n",
    "num=eval(input(\"enter the number How chances  you want:\"))\n",
    "for i in range(1,num+1):\n",
    "    n1=eval(input(\"guess the number:\"))\n",
    "    print(n1)\n",
    "    n2=randint(1,100)\n",
    "    if n1==n2:\n",
    "        print(\"you won\")\n",
    "        break\n",
    "    else:\n",
    "        print(\"the chances left is:\",num-i)\n",
    "        print(\"you lost\")"
   ]
  },
  {
   "cell_type": "code",
   "execution_count": 9,
   "id": "b15cf4e4-fc44-4c75-9106-ca6038c95166",
   "metadata": {},
   "outputs": [
    {
     "name": "stdout",
     "output_type": "stream",
     "text": [
      "p\n",
      "y\n",
      "t\n",
      "h\n",
      "o\n",
      "n\n"
     ]
    }
   ],
   "source": [
    "'p' in 'python'\n",
    "'y' in 'python'\n",
    "'t' in 'python'\n",
    "'h' in 'python'\n",
    "'o' in 'python'\n",
    "'n' in 'python'\n",
    "\n",
    "for i in 'python':\n",
    "    print(i)\n"
   ]
  },
  {
   "cell_type": "code",
   "execution_count": 13,
   "id": "23604ab7-75df-41fa-a9be-6ff89257ffba",
   "metadata": {},
   "outputs": [
    {
     "data": {
      "text/plain": [
       "False"
      ]
     },
     "execution_count": 13,
     "metadata": {},
     "output_type": "execute_result"
    }
   ],
   "source": [
    "'p'=='P'"
   ]
  },
  {
   "cell_type": "code",
   "execution_count": 15,
   "id": "d2e92602-bc06-44e1-9caf-2b96204841f8",
   "metadata": {},
   "outputs": [
    {
     "data": {
      "text/plain": [
       "True"
      ]
     },
     "execution_count": 15,
     "metadata": {},
     "output_type": "execute_result"
    }
   ],
   "source": [
    "'p'=='p'"
   ]
  },
  {
   "cell_type": "code",
   "execution_count": 17,
   "id": "2900d005-3651-41a9-a367-b139f8e6f6ca",
   "metadata": {},
   "outputs": [
    {
     "data": {
      "text/plain": [
       "True"
      ]
     },
     "execution_count": 17,
     "metadata": {},
     "output_type": "execute_result"
    }
   ],
   "source": [
    "'p'>'P'"
   ]
  },
  {
   "cell_type": "code",
   "execution_count": 19,
   "id": "1b26b757-eab2-429a-a964-1c48eaf4080a",
   "metadata": {},
   "outputs": [
    {
     "data": {
      "text/plain": [
       "False"
      ]
     },
     "execution_count": 19,
     "metadata": {},
     "output_type": "execute_result"
    }
   ],
   "source": [
    "'p'<'P'"
   ]
  },
  {
   "cell_type": "markdown",
   "id": "a0909997-3340-44e0-871d-7dafc36d5eff",
   "metadata": {},
   "source": [
    "**ASCII: American Starndard code for information interchnage**\n",
    "- A=65 a=97\n",
    "- B=66 b=98"
   ]
  },
  {
   "cell_type": "markdown",
   "id": "812c1f43-6fe3-4cb1-9199-adbc83819e0d",
   "metadata": {},
   "source": [
    "**ord-chr**"
   ]
  },
  {
   "cell_type": "code",
   "execution_count": 24,
   "id": "c9b9245b-ce2e-49a9-abb9-61f4a86a7bea",
   "metadata": {},
   "outputs": [
    {
     "ename": "TypeError",
     "evalue": "ord() expected string of length 1, but int found",
     "output_type": "error",
     "traceback": [
      "\u001b[1;31m---------------------------------------------------------------------------\u001b[0m",
      "\u001b[1;31mTypeError\u001b[0m                                 Traceback (most recent call last)",
      "Cell \u001b[1;32mIn[24], line 1\u001b[0m\n\u001b[1;32m----> 1\u001b[0m \u001b[38;5;28mord\u001b[39m(\u001b[38;5;241m65\u001b[39m)\n",
      "\u001b[1;31mTypeError\u001b[0m: ord() expected string of length 1, but int found"
     ]
    }
   ],
   "source": [
    "ord(65)"
   ]
  },
  {
   "cell_type": "code",
   "execution_count": 26,
   "id": "521d6d16-0e55-4842-a6dd-3bdd4b7aec62",
   "metadata": {},
   "outputs": [
    {
     "data": {
      "text/plain": [
       "65"
      ]
     },
     "execution_count": 26,
     "metadata": {},
     "output_type": "execute_result"
    }
   ],
   "source": [
    "ord('A')"
   ]
  },
  {
   "cell_type": "code",
   "execution_count": 28,
   "id": "361e2b9b-3693-4a70-9efc-8a85733afa52",
   "metadata": {},
   "outputs": [
    {
     "data": {
      "text/plain": [
       "'A'"
      ]
     },
     "execution_count": 28,
     "metadata": {},
     "output_type": "execute_result"
    }
   ],
   "source": [
    "chr(65)"
   ]
  },
  {
   "cell_type": "code",
   "execution_count": 30,
   "id": "35e2036a-dafe-47b0-99cd-90ca179f0c82",
   "metadata": {},
   "outputs": [
    {
     "data": {
      "text/plain": [
       "97"
      ]
     },
     "execution_count": 30,
     "metadata": {},
     "output_type": "execute_result"
    }
   ],
   "source": [
    "ord('a')"
   ]
  },
  {
   "cell_type": "code",
   "execution_count": 32,
   "id": "f587a39d-6977-4a12-8cd7-6788e088ef9e",
   "metadata": {},
   "outputs": [
    {
     "data": {
      "text/plain": [
       "'a'"
      ]
     },
     "execution_count": 32,
     "metadata": {},
     "output_type": "execute_result"
    }
   ],
   "source": [
    "chr(97)"
   ]
  },
  {
   "cell_type": "code",
   "execution_count": 34,
   "id": "98f9c9ec-572f-4c68-b2ac-b4bb53508741",
   "metadata": {},
   "outputs": [
    {
     "name": "stdout",
     "output_type": "stream",
     "text": [
      "65 A\n",
      "66 B\n",
      "67 C\n",
      "68 D\n",
      "69 E\n",
      "70 F\n",
      "71 G\n",
      "72 H\n",
      "73 I\n",
      "74 J\n",
      "75 K\n",
      "76 L\n",
      "77 M\n",
      "78 N\n",
      "79 O\n",
      "80 P\n",
      "81 Q\n",
      "82 R\n",
      "83 S\n",
      "84 T\n",
      "85 U\n",
      "86 V\n",
      "87 W\n",
      "88 X\n",
      "89 Y\n",
      "90 Z\n",
      "91 [\n",
      "92 \\\n",
      "93 ]\n",
      "94 ^\n",
      "95 _\n",
      "96 `\n",
      "97 a\n",
      "98 b\n",
      "99 c\n"
     ]
    }
   ],
   "source": [
    "for i in range(65,100):\n",
    "    print(i,chr(i))"
   ]
  },
  {
   "cell_type": "code",
   "execution_count": 38,
   "id": "63a20425-5993-4811-bb24-9bcfa83e5ade",
   "metadata": {},
   "outputs": [
    {
     "name": "stdout",
     "output_type": "stream",
     "text": [
      "1 --> \u0001 2 --> \u0002 3 --> \u0003 4 --> \u0004 5 --> \u0005 6 --> \u0006 7 --> \u0007 8 --> 9 --> \t 10 --> \n",
      " 14 --> \u000e 15 --> \u000f 16 --> \u0010 17 --> \u0011 18 --> \u0012 19 --> \u0013 20 --> \u0014 21 --> \u0015 22 --> \u0016 23 --> \u0017 24 --> \u0018 25 --> \u0019 26 --> \u001a 27 --> \u001b 28 --> \u001c",
      " 29 --> \u001d",
      " 30 --> \u001e",
      " 31 --> \u001f 32 -->   33 --> ! 34 --> \" 35 --> # 36 --> $ 37 --> % 38 --> & 39 --> ' 40 --> ( 41 --> ) 42 --> * 43 --> + 44 --> , 45 --> - 46 --> . 47 --> / 48 --> 0 49 --> 1 50 --> 2 51 --> 3 52 --> 4 53 --> 5 54 --> 6 55 --> 7 56 --> 8 57 --> 9 58 --> : 59 --> ; 60 --> < 61 --> = 62 --> > 63 --> ? 64 --> @ 65 --> A 66 --> B 67 --> C 68 --> D 69 --> E 70 --> F 71 --> G 72 --> H 73 --> I 74 --> J 75 --> K 76 --> L 77 --> M 78 --> N 79 --> O 80 --> P 81 --> Q 82 --> R 83 --> S 84 --> T 85 --> U 86 --> V 87 --> W 88 --> X 89 --> Y 90 --> Z 91 --> [ 92 --> \\ 93 --> ] 94 --> ^ 95 --> _ 96 --> ` 97 --> a 98 --> b 99 --> c 100 --> d 101 --> e 102 --> f 103 --> g 104 --> h 105 --> i 106 --> j 107 --> k 108 --> l 109 --> m 110 --> n 111 --> o 112 --> p 113 --> q 114 --> r 115 --> s 116 --> t 117 --> u 118 --> v 119 --> w 120 --> x 121 --> y 122 --> z 123 --> { 124 --> | 125 --> } 126 --> ~ 127 -->  128 -->  129 -->  130 -->  131 -->  132 -->  133 --> ",
      " 134 -->  135 -->  136 -->  137 -->  138 -->  139 -->  140 -->  141 -->  142 -->  143 -->  144 -->  145 -->  146 -->  147 -->  148 -->  149 -->  150 -->  151 -->  152 -->  153 -->  154 -->  155 -->  156 -->  157 -->  158 -->  159 -->  160 -->   161 --> ¡ 162 --> ¢ 163 --> £ 164 --> ¤ 165 --> ¥ 166 --> ¦ 167 --> § 168 --> ¨ 169 --> © 170 --> ª 171 --> « 172 --> ¬ 173 --> ­ 174 --> ® 175 --> ¯ 176 --> ° 177 --> ± 178 --> ² 179 --> ³ 180 --> ´ 181 --> µ 182 --> ¶ 183 --> · 184 --> ¸ 185 --> ¹ 186 --> º 187 --> » 188 --> ¼ 189 --> ½ 190 --> ¾ 191 --> ¿ 192 --> À 193 --> Á 194 --> Â 195 --> Ã 196 --> Ä 197 --> Å 198 --> Æ 199 --> Ç 200 --> È 201 --> É 202 --> Ê 203 --> Ë 204 --> Ì 205 --> Í 206 --> Î 207 --> Ï 208 --> Ð 209 --> Ñ 210 --> Ò 211 --> Ó 212 --> Ô 213 --> Õ 214 --> Ö 215 --> × 216 --> Ø 217 --> Ù 218 --> Ú 219 --> Û 220 --> Ü 221 --> Ý 222 --> Þ 223 --> ß 224 --> à 225 --> á 226 --> â 227 --> ã 228 --> ä 229 --> å 230 --> æ 231 --> ç 232 --> è 233 --> é 234 --> ê 235 --> ë 236 --> ì 237 --> í 238 --> î 239 --> ï 240 --> ð 241 --> ñ 242 --> ò 243 --> ó 244 --> ô 245 --> õ 246 --> ö 247 --> ÷ 248 --> ø 249 --> ù 250 --> ú 251 --> û 252 --> ü 253 --> ý 254 --> þ 255 --> ÿ 256 --> Ā 257 --> ā 258 --> Ă 259 --> ă 260 --> Ą 261 --> ą 262 --> Ć 263 --> ć 264 --> Ĉ 265 --> ĉ 266 --> Ċ 267 --> ċ 268 --> Č 269 --> č 270 --> Ď 271 --> ď 272 --> Đ 273 --> đ 274 --> Ē 275 --> ē 276 --> Ĕ 277 --> ĕ 278 --> Ė 279 --> ė 280 --> Ę 281 --> ę 282 --> Ě 283 --> ě 284 --> Ĝ 285 --> ĝ 286 --> Ğ 287 --> ğ 288 --> Ġ 289 --> ġ 290 --> Ģ 291 --> ģ 292 --> Ĥ 293 --> ĥ 294 --> Ħ 295 --> ħ 296 --> Ĩ 297 --> ĩ 298 --> Ī 299 --> ī 300 --> Ĭ 301 --> ĭ 302 --> Į 303 --> į 304 --> İ 305 --> ı 306 --> Ĳ 307 --> ĳ 308 --> Ĵ 309 --> ĵ 310 --> Ķ 311 --> ķ 312 --> ĸ 313 --> Ĺ 314 --> ĺ 315 --> Ļ 316 --> ļ 317 --> Ľ 318 --> ľ 319 --> Ŀ 320 --> ŀ 321 --> Ł 322 --> ł 323 --> Ń 324 --> ń 325 --> Ņ 326 --> ņ 327 --> Ň 328 --> ň 329 --> ŉ 330 --> Ŋ 331 --> ŋ 332 --> Ō 333 --> ō 334 --> Ŏ 335 --> ŏ 336 --> Ő 337 --> ő 338 --> Œ 339 --> œ 340 --> Ŕ 341 --> ŕ 342 --> Ŗ 343 --> ŗ 344 --> Ř 345 --> ř 346 --> Ś 347 --> ś 348 --> Ŝ 349 --> ŝ 350 --> Ş 351 --> ş 352 --> Š 353 --> š 354 --> Ţ 355 --> ţ 356 --> Ť 357 --> ť 358 --> Ŧ 359 --> ŧ 360 --> Ũ 361 --> ũ 362 --> Ū 363 --> ū 364 --> Ŭ 365 --> ŭ 366 --> Ů 367 --> ů 368 --> Ű 369 --> ű 370 --> Ų 371 --> ų 372 --> Ŵ 373 --> ŵ 374 --> Ŷ 375 --> ŷ 376 --> Ÿ 377 --> Ź 378 --> ź 379 --> Ż 380 --> ż 381 --> Ž 382 --> ž 383 --> ſ 384 --> ƀ 385 --> Ɓ 386 --> Ƃ 387 --> ƃ 388 --> Ƅ 389 --> ƅ 390 --> Ɔ 391 --> Ƈ 392 --> ƈ 393 --> Ɖ 394 --> Ɗ 395 --> Ƌ 396 --> ƌ 397 --> ƍ 398 --> Ǝ 399 --> Ə 400 --> Ɛ 401 --> Ƒ 402 --> ƒ 403 --> Ɠ 404 --> Ɣ 405 --> ƕ 406 --> Ɩ 407 --> Ɨ 408 --> Ƙ 409 --> ƙ 410 --> ƚ 411 --> ƛ 412 --> Ɯ 413 --> Ɲ 414 --> ƞ 415 --> Ɵ 416 --> Ơ 417 --> ơ 418 --> Ƣ 419 --> ƣ 420 --> Ƥ 421 --> ƥ 422 --> Ʀ 423 --> Ƨ 424 --> ƨ 425 --> Ʃ 426 --> ƪ 427 --> ƫ 428 --> Ƭ 429 --> ƭ 430 --> Ʈ 431 --> Ư 432 --> ư 433 --> Ʊ 434 --> Ʋ 435 --> Ƴ 436 --> ƴ 437 --> Ƶ 438 --> ƶ 439 --> Ʒ 440 --> Ƹ 441 --> ƹ 442 --> ƺ 443 --> ƻ 444 --> Ƽ 445 --> ƽ 446 --> ƾ 447 --> ƿ 448 --> ǀ 449 --> ǁ 450 --> ǂ 451 --> ǃ 452 --> Ǆ 453 --> ǅ 454 --> ǆ 455 --> Ǉ 456 --> ǈ 457 --> ǉ 458 --> Ǌ 459 --> ǋ 460 --> ǌ 461 --> Ǎ 462 --> ǎ 463 --> Ǐ 464 --> ǐ 465 --> Ǒ 466 --> ǒ 467 --> Ǔ 468 --> ǔ 469 --> Ǖ 470 --> ǖ 471 --> Ǘ 472 --> ǘ 473 --> Ǚ 474 --> ǚ 475 --> Ǜ 476 --> ǜ 477 --> ǝ 478 --> Ǟ 479 --> ǟ 480 --> Ǡ 481 --> ǡ 482 --> Ǣ 483 --> ǣ 484 --> Ǥ 485 --> ǥ 486 --> Ǧ 487 --> ǧ 488 --> Ǩ 489 --> ǩ 490 --> Ǫ 491 --> ǫ 492 --> Ǭ 493 --> ǭ 494 --> Ǯ 495 --> ǯ 496 --> ǰ 497 --> Ǳ 498 --> ǲ 499 --> ǳ 500 --> Ǵ 501 --> ǵ 502 --> Ƕ 503 --> Ƿ 504 --> Ǹ 505 --> ǹ 506 --> Ǻ 507 --> ǻ 508 --> Ǽ 509 --> ǽ 510 --> Ǿ 511 --> ǿ 512 --> Ȁ 513 --> ȁ 514 --> Ȃ 515 --> ȃ 516 --> Ȅ 517 --> ȅ 518 --> Ȇ 519 --> ȇ 520 --> Ȉ 521 --> ȉ 522 --> Ȋ 523 --> ȋ 524 --> Ȍ 525 --> ȍ 526 --> Ȏ 527 --> ȏ 528 --> Ȑ 529 --> ȑ 530 --> Ȓ 531 --> ȓ 532 --> Ȕ 533 --> ȕ 534 --> Ȗ 535 --> ȗ 536 --> Ș 537 --> ș 538 --> Ț 539 --> ț 540 --> Ȝ 541 --> ȝ 542 --> Ȟ 543 --> ȟ 544 --> Ƞ 545 --> ȡ 546 --> Ȣ 547 --> ȣ 548 --> Ȥ 549 --> ȥ 550 --> Ȧ 551 --> ȧ 552 --> Ȩ 553 --> ȩ 554 --> Ȫ 555 --> ȫ 556 --> Ȭ 557 --> ȭ 558 --> Ȯ 559 --> ȯ 560 --> Ȱ 561 --> ȱ 562 --> Ȳ 563 --> ȳ 564 --> ȴ 565 --> ȵ 566 --> ȶ 567 --> ȷ 568 --> ȸ 569 --> ȹ 570 --> Ⱥ 571 --> Ȼ 572 --> ȼ 573 --> Ƚ 574 --> Ⱦ 575 --> ȿ 576 --> ɀ 577 --> Ɂ 578 --> ɂ 579 --> Ƀ 580 --> Ʉ 581 --> Ʌ 582 --> Ɇ 583 --> ɇ 584 --> Ɉ 585 --> ɉ 586 --> Ɋ 587 --> ɋ 588 --> Ɍ 589 --> ɍ 590 --> Ɏ 591 --> ɏ 592 --> ɐ 593 --> ɑ 594 --> ɒ 595 --> ɓ 596 --> ɔ 597 --> ɕ 598 --> ɖ 599 --> ɗ 600 --> ɘ 601 --> ə 602 --> ɚ 603 --> ɛ 604 --> ɜ 605 --> ɝ 606 --> ɞ 607 --> ɟ 608 --> ɠ 609 --> ɡ 610 --> ɢ 611 --> ɣ 612 --> ɤ 613 --> ɥ 614 --> ɦ 615 --> ɧ 616 --> ɨ 617 --> ɩ 618 --> ɪ 619 --> ɫ 620 --> ɬ 621 --> ɭ 622 --> ɮ 623 --> ɯ 624 --> ɰ 625 --> ɱ 626 --> ɲ 627 --> ɳ 628 --> ɴ 629 --> ɵ 630 --> ɶ 631 --> ɷ 632 --> ɸ 633 --> ɹ 634 --> ɺ 635 --> ɻ 636 --> ɼ 637 --> ɽ 638 --> ɾ 639 --> ɿ 640 --> ʀ 641 --> ʁ 642 --> ʂ 643 --> ʃ 644 --> ʄ 645 --> ʅ 646 --> ʆ 647 --> ʇ 648 --> ʈ 649 --> ʉ 650 --> ʊ 651 --> ʋ 652 --> ʌ 653 --> ʍ 654 --> ʎ 655 --> ʏ 656 --> ʐ 657 --> ʑ 658 --> ʒ 659 --> ʓ 660 --> ʔ 661 --> ʕ 662 --> ʖ 663 --> ʗ 664 --> ʘ 665 --> ʙ 666 --> ʚ 667 --> ʛ 668 --> ʜ 669 --> ʝ 670 --> ʞ 671 --> ʟ 672 --> ʠ 673 --> ʡ 674 --> ʢ 675 --> ʣ 676 --> ʤ 677 --> ʥ 678 --> ʦ 679 --> ʧ 680 --> ʨ 681 --> ʩ 682 --> ʪ 683 --> ʫ 684 --> ʬ 685 --> ʭ 686 --> ʮ 687 --> ʯ 688 --> ʰ 689 --> ʱ 690 --> ʲ 691 --> ʳ 692 --> ʴ 693 --> ʵ 694 --> ʶ 695 --> ʷ 696 --> ʸ 697 --> ʹ 698 --> ʺ 699 --> ʻ 700 --> ʼ 701 --> ʽ 702 --> ʾ 703 --> ʿ 704 --> ˀ 705 --> ˁ 706 --> ˂ 707 --> ˃ 708 --> ˄ 709 --> ˅ 710 --> ˆ 711 --> ˇ 712 --> ˈ 713 --> ˉ 714 --> ˊ 715 --> ˋ 716 --> ˌ 717 --> ˍ 718 --> ˎ 719 --> ˏ 720 --> ː 721 --> ˑ 722 --> ˒ 723 --> ˓ 724 --> ˔ 725 --> ˕ 726 --> ˖ 727 --> ˗ 728 --> ˘ 729 --> ˙ 730 --> ˚ 731 --> ˛ 732 --> ˜ 733 --> ˝ 734 --> ˞ 735 --> ˟ 736 --> ˠ 737 --> ˡ 738 --> ˢ 739 --> ˣ 740 --> ˤ 741 --> ˥ 742 --> ˦ 743 --> ˧ 744 --> ˨ 745 --> ˩ 746 --> ˪ 747 --> ˫ 748 --> ˬ 749 --> ˭ 750 --> ˮ 751 --> ˯ 752 --> ˰ 753 --> ˱ 754 --> ˲ 755 --> ˳ 756 --> ˴ 757 --> ˵ 758 --> ˶ 759 --> ˷ 760 --> ˸ 761 --> ˹ 762 --> ˺ 763 --> ˻ 764 --> ˼ 765 --> ˽ 766 --> ˾ 767 --> ˿ 768 --> ̀ 769 --> ́ 770 --> ̂ 771 --> ̃ 772 --> ̄ 773 --> ̅ 774 --> ̆ 775 --> ̇ 776 --> ̈ 777 --> ̉ 778 --> ̊ 779 --> ̋ 780 --> ̌ 781 --> ̍ 782 --> ̎ 783 --> ̏ 784 --> ̐ 785 --> ̑ 786 --> ̒ 787 --> ̓ 788 --> ̔ 789 --> ̕ 790 --> ̖ 791 --> ̗ 792 --> ̘ 793 --> ̙ 794 --> ̚ 795 --> ̛ 796 --> ̜ 797 --> ̝ 798 --> ̞ 799 --> ̟ 800 --> ̠ 801 --> ̡ 802 --> ̢ 803 --> ̣ 804 --> ̤ 805 --> ̥ 806 --> ̦ 807 --> ̧ 808 --> ̨ 809 --> ̩ 810 --> ̪ 811 --> ̫ 812 --> ̬ 813 --> ̭ 814 --> ̮ 815 --> ̯ 816 --> ̰ 817 --> ̱ 818 --> ̲ 819 --> ̳ 820 --> ̴ 821 --> ̵ 822 --> ̶ 823 --> ̷ 824 --> ̸ 825 --> ̹ 826 --> ̺ 827 --> ̻ 828 --> ̼ 829 --> ̽ 830 --> ̾ 831 --> ̿ 832 --> ̀ 833 --> ́ 834 --> ͂ 835 --> ̓ 836 --> ̈́ 837 --> ͅ 838 --> ͆ 839 --> ͇ 840 --> ͈ 841 --> ͉ 842 --> ͊ 843 --> ͋ 844 --> ͌ 845 --> ͍ 846 --> ͎ 847 --> ͏ 848 --> ͐ 849 --> ͑ 850 --> ͒ 851 --> ͓ 852 --> ͔ 853 --> ͕ 854 --> ͖ 855 --> ͗ 856 --> ͘ 857 --> ͙ 858 --> ͚ 859 --> ͛ 860 --> ͜ 861 --> ͝ 862 --> ͞ 863 --> ͟ 864 --> ͠ 865 --> ͡ 866 --> ͢ 867 --> ͣ 868 --> ͤ 869 --> ͥ 870 --> ͦ 871 --> ͧ 872 --> ͨ 873 --> ͩ 874 --> ͪ 875 --> ͫ 876 --> ͬ 877 --> ͭ 878 --> ͮ 879 --> ͯ 880 --> Ͱ 881 --> ͱ 882 --> Ͳ 883 --> ͳ 884 --> ʹ 885 --> ͵ 886 --> Ͷ 887 --> ͷ 888 --> ͸ 889 --> ͹ 890 --> ͺ 891 --> ͻ 892 --> ͼ 893 --> ͽ 894 --> ; 895 --> Ϳ 896 --> ΀ 897 --> ΁ 898 --> ΂ 899 --> ΃ 900 --> ΄ 901 --> ΅ 902 --> Ά 903 --> · 904 --> Έ 905 --> Ή 906 --> Ί 907 --> ΋ 908 --> Ό 909 --> ΍ 910 --> Ύ 911 --> Ώ 912 --> ΐ 913 --> Α 914 --> Β 915 --> Γ 916 --> Δ 917 --> Ε 918 --> Ζ 919 --> Η 920 --> Θ 921 --> Ι 922 --> Κ 923 --> Λ 924 --> Μ 925 --> Ν 926 --> Ξ 927 --> Ο 928 --> Π 929 --> Ρ 930 --> ΢ 931 --> Σ 932 --> Τ 933 --> Υ 934 --> Φ 935 --> Χ 936 --> Ψ 937 --> Ω 938 --> Ϊ 939 --> Ϋ 940 --> ά 941 --> έ 942 --> ή 943 --> ί 944 --> ΰ 945 --> α 946 --> β 947 --> γ 948 --> δ 949 --> ε 950 --> ζ 951 --> η 952 --> θ 953 --> ι 954 --> κ 955 --> λ 956 --> μ 957 --> ν 958 --> ξ 959 --> ο 960 --> π 961 --> ρ 962 --> ς 963 --> σ 964 --> τ 965 --> υ 966 --> φ 967 --> χ 968 --> ψ 969 --> ω 970 --> ϊ 971 --> ϋ 972 --> ό 973 --> ύ 974 --> ώ 975 --> Ϗ 976 --> ϐ 977 --> ϑ 978 --> ϒ 979 --> ϓ 980 --> ϔ 981 --> ϕ 982 --> ϖ 983 --> ϗ 984 --> Ϙ 985 --> ϙ 986 --> Ϛ 987 --> ϛ 988 --> Ϝ 989 --> ϝ 990 --> Ϟ 991 --> ϟ 992 --> Ϡ 993 --> ϡ 994 --> Ϣ 995 --> ϣ 996 --> Ϥ 997 --> ϥ 998 --> Ϧ 999 --> ϧ 1000 --> Ϩ 1001 --> ϩ 1002 --> Ϫ 1003 --> ϫ 1004 --> Ϭ 1005 --> ϭ 1006 --> Ϯ 1007 --> ϯ 1008 --> ϰ 1009 --> ϱ 1010 --> ϲ 1011 --> ϳ 1012 --> ϴ 1013 --> ϵ 1014 --> ϶ 1015 --> Ϸ 1016 --> ϸ 1017 --> Ϲ 1018 --> Ϻ 1019 --> ϻ 1020 --> ϼ 1021 --> Ͻ 1022 --> Ͼ 1023 --> Ͽ 1024 --> Ѐ 1025 --> Ё 1026 --> Ђ 1027 --> Ѓ 1028 --> Є 1029 --> Ѕ 1030 --> І 1031 --> Ї 1032 --> Ј 1033 --> Љ 1034 --> Њ 1035 --> Ћ 1036 --> Ќ 1037 --> Ѝ 1038 --> Ў 1039 --> Џ 1040 --> А 1041 --> Б 1042 --> В 1043 --> Г 1044 --> Д 1045 --> Е 1046 --> Ж 1047 --> З 1048 --> И 1049 --> Й 1050 --> К 1051 --> Л 1052 --> М 1053 --> Н 1054 --> О 1055 --> П 1056 --> Р 1057 --> С 1058 --> Т 1059 --> У 1060 --> Ф 1061 --> Х 1062 --> Ц 1063 --> Ч 1064 --> Ш 1065 --> Щ 1066 --> Ъ 1067 --> Ы 1068 --> Ь 1069 --> Э 1070 --> Ю 1071 --> Я 1072 --> а 1073 --> б 1074 --> в 1075 --> г 1076 --> д 1077 --> е 1078 --> ж 1079 --> з 1080 --> и 1081 --> й 1082 --> к 1083 --> л 1084 --> м 1085 --> н 1086 --> о 1087 --> п 1088 --> р 1089 --> с 1090 --> т 1091 --> у 1092 --> ф 1093 --> х 1094 --> ц 1095 --> ч 1096 --> ш 1097 --> щ 1098 --> ъ 1099 --> ы 1100 --> ь 1101 --> э 1102 --> ю 1103 --> я 1104 --> ѐ 1105 --> ё 1106 --> ђ 1107 --> ѓ 1108 --> є 1109 --> ѕ 1110 --> і 1111 --> ї 1112 --> ј 1113 --> љ 1114 --> њ 1115 --> ћ 1116 --> ќ 1117 --> ѝ 1118 --> ў 1119 --> џ 1120 --> Ѡ 1121 --> ѡ 1122 --> Ѣ 1123 --> ѣ 1124 --> Ѥ 1125 --> ѥ 1126 --> Ѧ 1127 --> ѧ 1128 --> Ѩ 1129 --> ѩ 1130 --> Ѫ 1131 --> ѫ 1132 --> Ѭ 1133 --> ѭ 1134 --> Ѯ 1135 --> ѯ 1136 --> Ѱ 1137 --> ѱ 1138 --> Ѳ 1139 --> ѳ 1140 --> Ѵ 1141 --> ѵ 1142 --> Ѷ 1143 --> ѷ 1144 --> Ѹ 1145 --> ѹ 1146 --> Ѻ 1147 --> ѻ 1148 --> Ѽ 1149 --> ѽ 1150 --> Ѿ 1151 --> ѿ 1152 --> Ҁ 1153 --> ҁ 1154 --> ҂ 1155 --> ҃ 1156 --> ҄ 1157 --> ҅ 1158 --> ҆ 1159 --> ҇ 1160 --> ҈ 1161 --> ҉ 1162 --> Ҋ 1163 --> ҋ 1164 --> Ҍ 1165 --> ҍ 1166 --> Ҏ 1167 --> ҏ 1168 --> Ґ 1169 --> ґ 1170 --> Ғ 1171 --> ғ 1172 --> Ҕ 1173 --> ҕ 1174 --> Җ 1175 --> җ 1176 --> Ҙ 1177 --> ҙ 1178 --> Қ 1179 --> қ 1180 --> Ҝ 1181 --> ҝ 1182 --> Ҟ 1183 --> ҟ 1184 --> Ҡ 1185 --> ҡ 1186 --> Ң 1187 --> ң 1188 --> Ҥ 1189 --> ҥ 1190 --> Ҧ 1191 --> ҧ 1192 --> Ҩ 1193 --> ҩ 1194 --> Ҫ 1195 --> ҫ 1196 --> Ҭ 1197 --> ҭ 1198 --> Ү 1199 --> ү 1200 --> Ұ 1201 --> ұ 1202 --> Ҳ 1203 --> ҳ 1204 --> Ҵ 1205 --> ҵ 1206 --> Ҷ 1207 --> ҷ 1208 --> Ҹ 1209 --> ҹ 1210 --> Һ 1211 --> һ 1212 --> Ҽ 1213 --> ҽ 1214 --> Ҿ 1215 --> ҿ 1216 --> Ӏ 1217 --> Ӂ 1218 --> ӂ 1219 --> Ӄ 1220 --> ӄ 1221 --> Ӆ 1222 --> ӆ 1223 --> Ӈ 1224 --> ӈ 1225 --> Ӊ 1226 --> ӊ 1227 --> Ӌ 1228 --> ӌ 1229 --> Ӎ 1230 --> ӎ 1231 --> ӏ 1232 --> Ӑ 1233 --> ӑ 1234 --> Ӓ 1235 --> ӓ 1236 --> Ӕ 1237 --> ӕ 1238 --> Ӗ 1239 --> ӗ 1240 --> Ә 1241 --> ә 1242 --> Ӛ 1243 --> ӛ 1244 --> Ӝ 1245 --> ӝ 1246 --> Ӟ 1247 --> ӟ 1248 --> Ӡ 1249 --> ӡ 1250 --> Ӣ 1251 --> ӣ 1252 --> Ӥ 1253 --> ӥ 1254 --> Ӧ 1255 --> ӧ 1256 --> Ө 1257 --> ө 1258 --> Ӫ 1259 --> ӫ 1260 --> Ӭ 1261 --> ӭ 1262 --> Ӯ 1263 --> ӯ 1264 --> Ӱ 1265 --> ӱ 1266 --> Ӳ 1267 --> ӳ 1268 --> Ӵ 1269 --> ӵ 1270 --> Ӷ 1271 --> ӷ 1272 --> Ӹ 1273 --> ӹ 1274 --> Ӻ 1275 --> ӻ 1276 --> Ӽ 1277 --> ӽ 1278 --> Ӿ 1279 --> ӿ 1280 --> Ԁ 1281 --> ԁ 1282 --> Ԃ 1283 --> ԃ 1284 --> Ԅ 1285 --> ԅ 1286 --> Ԇ 1287 --> ԇ 1288 --> Ԉ 1289 --> ԉ 1290 --> Ԋ 1291 --> ԋ 1292 --> Ԍ 1293 --> ԍ 1294 --> Ԏ 1295 --> ԏ 1296 --> Ԑ 1297 --> ԑ 1298 --> Ԓ 1299 --> ԓ 1300 --> Ԕ 1301 --> ԕ 1302 --> Ԗ 1303 --> ԗ 1304 --> Ԙ 1305 --> ԙ 1306 --> Ԛ 1307 --> ԛ 1308 --> Ԝ 1309 --> ԝ 1310 --> Ԟ 1311 --> ԟ 1312 --> Ԡ 1313 --> ԡ 1314 --> Ԣ 1315 --> ԣ 1316 --> Ԥ 1317 --> ԥ 1318 --> Ԧ 1319 --> ԧ 1320 --> Ԩ 1321 --> ԩ 1322 --> Ԫ 1323 --> ԫ 1324 --> Ԭ 1325 --> ԭ 1326 --> Ԯ 1327 --> ԯ 1328 --> ԰ 1329 --> Ա 1330 --> Բ 1331 --> Գ 1332 --> Դ 1333 --> Ե 1334 --> Զ 1335 --> Է 1336 --> Ը 1337 --> Թ 1338 --> Ժ 1339 --> Ի 1340 --> Լ 1341 --> Խ 1342 --> Ծ 1343 --> Կ 1344 --> Հ 1345 --> Ձ 1346 --> Ղ 1347 --> Ճ 1348 --> Մ 1349 --> Յ 1350 --> Ն 1351 --> Շ 1352 --> Ո 1353 --> Չ 1354 --> Պ 1355 --> Ջ 1356 --> Ռ 1357 --> Ս 1358 --> Վ 1359 --> Տ 1360 --> Ր 1361 --> Ց 1362 --> Ւ 1363 --> Փ 1364 --> Ք 1365 --> Օ 1366 --> Ֆ 1367 --> ՗ 1368 --> ՘ 1369 --> ՙ 1370 --> ՚ 1371 --> ՛ 1372 --> ՜ 1373 --> ՝ 1374 --> ՞ 1375 --> ՟ 1376 --> ՠ 1377 --> ա 1378 --> բ 1379 --> գ 1380 --> դ 1381 --> ե 1382 --> զ 1383 --> է 1384 --> ը 1385 --> թ 1386 --> ժ 1387 --> ի 1388 --> լ 1389 --> խ 1390 --> ծ 1391 --> կ 1392 --> հ 1393 --> ձ 1394 --> ղ 1395 --> ճ 1396 --> մ 1397 --> յ 1398 --> ն 1399 --> շ 1400 --> ո 1401 --> չ 1402 --> պ 1403 --> ջ 1404 --> ռ 1405 --> ս 1406 --> վ 1407 --> տ 1408 --> ր 1409 --> ց 1410 --> ւ 1411 --> փ 1412 --> ք 1413 --> օ 1414 --> ֆ 1415 --> և 1416 --> ֈ 1417 --> ։ 1418 --> ֊ 1419 --> ֋ 1420 --> ֌ 1421 --> ֍ 1422 --> ֎ 1423 --> ֏ 1424 --> ֐ 1425 --> ֑ 1426 --> ֒ 1427 --> ֓ 1428 --> ֔ 1429 --> ֕ 1430 --> ֖ 1431 --> ֗ 1432 --> ֘ 1433 --> ֙ 1434 --> ֚ 1435 --> ֛ 1436 --> ֜ 1437 --> ֝ 1438 --> ֞ 1439 --> ֟ 1440 --> ֠ 1441 --> ֡ 1442 --> ֢ 1443 --> ֣ 1444 --> ֤ 1445 --> ֥ 1446 --> ֦ 1447 --> ֧ 1448 --> ֨ 1449 --> ֩ 1450 --> ֪ 1451 --> ֫ 1452 --> ֬ 1453 --> ֭ 1454 --> ֮ 1455 --> ֯ 1456 --> ְ 1457 --> ֱ 1458 --> ֲ 1459 --> ֳ 1460 --> ִ 1461 --> ֵ 1462 --> ֶ 1463 --> ַ 1464 --> ָ 1465 --> ֹ 1466 --> ֺ 1467 --> ֻ 1468 --> ּ 1469 --> ֽ 1470 --> ־ 1471 --> ֿ 1472 --> ׀ 1473 --> ׁ 1474 --> ׂ 1475 --> ׃ 1476 --> ׄ 1477 --> ׅ 1478 --> ׆ 1479 --> ׇ 1480 --> ׈ 1481 --> ׉ 1482 --> ׊ 1483 --> ׋ 1484 --> ׌ 1485 --> ׍ 1486 --> ׎ 1487 --> ׏ 1488 --> א 1489 --> ב 1490 --> ג 1491 --> ד 1492 --> ה 1493 --> ו 1494 --> ז 1495 --> ח 1496 --> ט 1497 --> י 1498 --> ך 1499 --> כ 1500 --> ל 1501 --> ם 1502 --> מ 1503 --> ן 1504 --> נ 1505 --> ס 1506 --> ע 1507 --> ף 1508 --> פ 1509 --> ץ 1510 --> צ 1511 --> ק 1512 --> ר 1513 --> ש 1514 --> ת 1515 --> ׫ 1516 --> ׬ 1517 --> ׭ 1518 --> ׮ 1519 --> ׯ 1520 --> װ 1521 --> ױ 1522 --> ײ 1523 --> ׳ 1524 --> ״ 1525 --> ׵ 1526 --> ׶ 1527 --> ׷ 1528 --> ׸ 1529 --> ׹ 1530 --> ׺ 1531 --> ׻ 1532 --> ׼ 1533 --> ׽ 1534 --> ׾ 1535 --> ׿ 1536 --> ؀ 1537 --> ؁ 1538 --> ؂ 1539 --> ؃ 1540 --> ؄ 1541 --> ؅ 1542 --> ؆ 1543 --> ؇ 1544 --> ؈ 1545 --> ؉ 1546 --> ؊ 1547 --> ؋ 1548 --> ، 1549 --> ؍ 1550 --> ؎ 1551 --> ؏ 1552 --> ؐ 1553 --> ؑ 1554 --> ؒ 1555 --> ؓ 1556 --> ؔ 1557 --> ؕ 1558 --> ؖ 1559 --> ؗ 1560 --> ؘ 1561 --> ؙ 1562 --> ؚ 1563 --> ؛ 1564 --> ؜ 1565 --> ؝ 1566 --> ؞ 1567 --> ؟ 1568 --> ؠ 1569 --> ء 1570 --> آ 1571 --> أ 1572 --> ؤ 1573 --> إ 1574 --> ئ 1575 --> ا 1576 --> ب 1577 --> ة 1578 --> ت 1579 --> ث 1580 --> ج 1581 --> ح 1582 --> خ 1583 --> د 1584 --> ذ 1585 --> ر 1586 --> ز 1587 --> س 1588 --> ش 1589 --> ص 1590 --> ض 1591 --> ط 1592 --> ظ 1593 --> ع 1594 --> غ 1595 --> ػ 1596 --> ؼ 1597 --> ؽ 1598 --> ؾ 1599 --> ؿ 1600 --> ـ 1601 --> ف 1602 --> ق 1603 --> ك 1604 --> ل 1605 --> م 1606 --> ن 1607 --> ه 1608 --> و 1609 --> ى 1610 --> ي 1611 --> ً 1612 --> ٌ 1613 --> ٍ 1614 --> َ 1615 --> ُ 1616 --> ِ 1617 --> ّ 1618 --> ْ 1619 --> ٓ 1620 --> ٔ 1621 --> ٕ 1622 --> ٖ 1623 --> ٗ 1624 --> ٘ 1625 --> ٙ 1626 --> ٚ 1627 --> ٛ 1628 --> ٜ 1629 --> ٝ 1630 --> ٞ 1631 --> ٟ 1632 --> ٠ 1633 --> ١ 1634 --> ٢ 1635 --> ٣ 1636 --> ٤ 1637 --> ٥ 1638 --> ٦ 1639 --> ٧ 1640 --> ٨ 1641 --> ٩ 1642 --> ٪ 1643 --> ٫ 1644 --> ٬ 1645 --> ٭ 1646 --> ٮ 1647 --> ٯ 1648 --> ٰ 1649 --> ٱ 1650 --> ٲ 1651 --> ٳ 1652 --> ٴ 1653 --> ٵ 1654 --> ٶ 1655 --> ٷ 1656 --> ٸ 1657 --> ٹ 1658 --> ٺ 1659 --> ٻ 1660 --> ټ 1661 --> ٽ 1662 --> پ 1663 --> ٿ 1664 --> ڀ 1665 --> ځ 1666 --> ڂ 1667 --> ڃ 1668 --> ڄ 1669 --> څ 1670 --> چ 1671 --> ڇ 1672 --> ڈ 1673 --> ډ 1674 --> ڊ 1675 --> ڋ 1676 --> ڌ 1677 --> ڍ 1678 --> ڎ 1679 --> ڏ 1680 --> ڐ 1681 --> ڑ 1682 --> ڒ 1683 --> ړ 1684 --> ڔ 1685 --> ڕ 1686 --> ږ 1687 --> ڗ 1688 --> ژ 1689 --> ڙ 1690 --> ښ 1691 --> ڛ 1692 --> ڜ 1693 --> ڝ 1694 --> ڞ 1695 --> ڟ 1696 --> ڠ 1697 --> ڡ 1698 --> ڢ 1699 --> ڣ 1700 --> ڤ 1701 --> ڥ 1702 --> ڦ 1703 --> ڧ 1704 --> ڨ 1705 --> ک 1706 --> ڪ 1707 --> ګ 1708 --> ڬ 1709 --> ڭ 1710 --> ڮ 1711 --> گ 1712 --> ڰ 1713 --> ڱ 1714 --> ڲ 1715 --> ڳ 1716 --> ڴ 1717 --> ڵ 1718 --> ڶ 1719 --> ڷ 1720 --> ڸ 1721 --> ڹ 1722 --> ں 1723 --> ڻ 1724 --> ڼ 1725 --> ڽ 1726 --> ھ 1727 --> ڿ 1728 --> ۀ 1729 --> ہ 1730 --> ۂ 1731 --> ۃ 1732 --> ۄ 1733 --> ۅ 1734 --> ۆ 1735 --> ۇ 1736 --> ۈ 1737 --> ۉ 1738 --> ۊ 1739 --> ۋ 1740 --> ی 1741 --> ۍ 1742 --> ێ 1743 --> ۏ 1744 --> ې 1745 --> ۑ 1746 --> ے 1747 --> ۓ 1748 --> ۔ 1749 --> ە 1750 --> ۖ 1751 --> ۗ 1752 --> ۘ 1753 --> ۙ 1754 --> ۚ 1755 --> ۛ 1756 --> ۜ 1757 --> ۝ 1758 --> ۞ 1759 --> ۟ 1760 --> ۠ 1761 --> ۡ 1762 --> ۢ 1763 --> ۣ 1764 --> ۤ 1765 --> ۥ 1766 --> ۦ 1767 --> ۧ 1768 --> ۨ 1769 --> ۩ 1770 --> ۪ 1771 --> ۫ 1772 --> ۬ 1773 --> ۭ 1774 --> ۮ 1775 --> ۯ 1776 --> ۰ 1777 --> ۱ 1778 --> ۲ 1779 --> ۳ 1780 --> ۴ 1781 --> ۵ 1782 --> ۶ 1783 --> ۷ 1784 --> ۸ 1785 --> ۹ 1786 --> ۺ 1787 --> ۻ 1788 --> ۼ 1789 --> ۽ 1790 --> ۾ 1791 --> ۿ 1792 --> ܀ 1793 --> ܁ 1794 --> ܂ 1795 --> ܃ 1796 --> ܄ 1797 --> ܅ 1798 --> ܆ 1799 --> ܇ 1800 --> ܈ 1801 --> ܉ 1802 --> ܊ 1803 --> ܋ 1804 --> ܌ 1805 --> ܍ 1806 --> ܎ 1807 --> ܏ 1808 --> ܐ 1809 --> ܑ 1810 --> ܒ 1811 --> ܓ 1812 --> ܔ 1813 --> ܕ 1814 --> ܖ 1815 --> ܗ 1816 --> ܘ 1817 --> ܙ 1818 --> ܚ 1819 --> ܛ 1820 --> ܜ 1821 --> ܝ 1822 --> ܞ 1823 --> ܟ 1824 --> ܠ 1825 --> ܡ 1826 --> ܢ 1827 --> ܣ 1828 --> ܤ 1829 --> ܥ 1830 --> ܦ 1831 --> ܧ 1832 --> ܨ 1833 --> ܩ 1834 --> ܪ 1835 --> ܫ 1836 --> ܬ 1837 --> ܭ 1838 --> ܮ 1839 --> ܯ 1840 --> ܰ 1841 --> ܱ 1842 --> ܲ 1843 --> ܳ 1844 --> ܴ 1845 --> ܵ 1846 --> ܶ 1847 --> ܷ 1848 --> ܸ 1849 --> ܹ 1850 --> ܺ 1851 --> ܻ 1852 --> ܼ 1853 --> ܽ 1854 --> ܾ 1855 --> ܿ 1856 --> ݀ 1857 --> ݁ 1858 --> ݂ 1859 --> ݃ 1860 --> ݄ 1861 --> ݅ 1862 --> ݆ 1863 --> ݇ 1864 --> ݈ 1865 --> ݉ 1866 --> ݊ 1867 --> ݋ 1868 --> ݌ 1869 --> ݍ 1870 --> ݎ 1871 --> ݏ 1872 --> ݐ 1873 --> ݑ 1874 --> ݒ 1875 --> ݓ 1876 --> ݔ 1877 --> ݕ 1878 --> ݖ 1879 --> ݗ 1880 --> ݘ 1881 --> ݙ 1882 --> ݚ 1883 --> ݛ 1884 --> ݜ 1885 --> ݝ 1886 --> ݞ 1887 --> ݟ 1888 --> ݠ 1889 --> ݡ 1890 --> ݢ 1891 --> ݣ 1892 --> ݤ 1893 --> ݥ 1894 --> ݦ 1895 --> ݧ 1896 --> ݨ 1897 --> ݩ 1898 --> ݪ 1899 --> ݫ 1900 --> ݬ 1901 --> ݭ 1902 --> ݮ 1903 --> ݯ 1904 --> ݰ 1905 --> ݱ 1906 --> ݲ 1907 --> ݳ 1908 --> ݴ 1909 --> ݵ 1910 --> ݶ 1911 --> ݷ 1912 --> ݸ 1913 --> ݹ 1914 --> ݺ 1915 --> ݻ 1916 --> ݼ 1917 --> ݽ 1918 --> ݾ 1919 --> ݿ 1920 --> ހ 1921 --> ށ 1922 --> ނ 1923 --> ރ 1924 --> ބ 1925 --> ޅ 1926 --> ކ 1927 --> އ 1928 --> ވ 1929 --> މ 1930 --> ފ 1931 --> ދ 1932 --> ތ 1933 --> ލ 1934 --> ގ 1935 --> ޏ 1936 --> ސ 1937 --> ޑ 1938 --> ޒ 1939 --> ޓ 1940 --> ޔ 1941 --> ޕ 1942 --> ޖ 1943 --> ޗ 1944 --> ޘ 1945 --> ޙ 1946 --> ޚ 1947 --> ޛ 1948 --> ޜ 1949 --> ޝ 1950 --> ޞ 1951 --> ޟ 1952 --> ޠ 1953 --> ޡ 1954 --> ޢ 1955 --> ޣ 1956 --> ޤ 1957 --> ޥ 1958 --> ަ 1959 --> ާ 1960 --> ި 1961 --> ީ 1962 --> ު 1963 --> ޫ 1964 --> ެ 1965 --> ޭ 1966 --> ޮ 1967 --> ޯ 1968 --> ް 1969 --> ޱ 1970 --> ޲ 1971 --> ޳ 1972 --> ޴ 1973 --> ޵ 1974 --> ޶ 1975 --> ޷ 1976 --> ޸ 1977 --> ޹ 1978 --> ޺ 1979 --> ޻ 1980 --> ޼ 1981 --> ޽ 1982 --> ޾ 1983 --> ޿ 1984 --> ߀ 1985 --> ߁ 1986 --> ߂ 1987 --> ߃ 1988 --> ߄ 1989 --> ߅ 1990 --> ߆ 1991 --> ߇ 1992 --> ߈ 1993 --> ߉ 1994 --> ߊ 1995 --> ߋ 1996 --> ߌ 1997 --> ߍ 1998 --> ߎ 1999 --> ߏ 2000 --> ߐ 2001 --> ߑ 2002 --> ߒ 2003 --> ߓ 2004 --> ߔ 2005 --> ߕ 2006 --> ߖ 2007 --> ߗ 2008 --> ߘ 2009 --> ߙ 2010 --> ߚ 2011 --> ߛ 2012 --> ߜ 2013 --> ߝ 2014 --> ߞ 2015 --> ߟ 2016 --> ߠ 2017 --> ߡ 2018 --> ߢ 2019 --> ߣ 2020 --> ߤ 2021 --> ߥ 2022 --> ߦ 2023 --> ߧ 2024 --> ߨ 2025 --> ߩ 2026 --> ߪ 2027 --> ߫ 2028 --> ߬ 2029 --> ߭ 2030 --> ߮ 2031 --> ߯ 2032 --> ߰ 2033 --> ߱ 2034 --> ߲ 2035 --> ߳ 2036 --> ߴ 2037 --> ߵ 2038 --> ߶ 2039 --> ߷ 2040 --> ߸ 2041 --> ߹ 2042 --> ߺ 2043 --> ߻ 2044 --> ߼ 2045 --> ߽ 2046 --> ߾ 2047 --> ߿ 2048 --> ࠀ 2049 --> ࠁ 2050 --> ࠂ 2051 --> ࠃ 2052 --> ࠄ 2053 --> ࠅ 2054 --> ࠆ 2055 --> ࠇ 2056 --> ࠈ 2057 --> ࠉ 2058 --> ࠊ 2059 --> ࠋ 2060 --> ࠌ 2061 --> ࠍ 2062 --> ࠎ 2063 --> ࠏ 2064 --> ࠐ 2065 --> ࠑ 2066 --> ࠒ 2067 --> ࠓ 2068 --> ࠔ 2069 --> ࠕ 2070 --> ࠖ 2071 --> ࠗ 2072 --> ࠘ 2073 --> ࠙ 2074 --> ࠚ 2075 --> ࠛ 2076 --> ࠜ 2077 --> ࠝ 2078 --> ࠞ 2079 --> ࠟ 2080 --> ࠠ 2081 --> ࠡ 2082 --> ࠢ 2083 --> ࠣ 2084 --> ࠤ 2085 --> ࠥ 2086 --> ࠦ 2087 --> ࠧ 2088 --> ࠨ 2089 --> ࠩ 2090 --> ࠪ 2091 --> ࠫ 2092 --> ࠬ 2093 --> ࠭ 2094 --> ࠮ 2095 --> ࠯ 2096 --> ࠰ 2097 --> ࠱ 2098 --> ࠲ 2099 --> ࠳ 2100 --> ࠴ 2101 --> ࠵ 2102 --> ࠶ 2103 --> ࠷ 2104 --> ࠸ 2105 --> ࠹ 2106 --> ࠺ 2107 --> ࠻ 2108 --> ࠼ 2109 --> ࠽ 2110 --> ࠾ 2111 --> ࠿ 2112 --> ࡀ 2113 --> ࡁ 2114 --> ࡂ 2115 --> ࡃ 2116 --> ࡄ 2117 --> ࡅ 2118 --> ࡆ 2119 --> ࡇ 2120 --> ࡈ 2121 --> ࡉ 2122 --> ࡊ 2123 --> ࡋ 2124 --> ࡌ 2125 --> ࡍ 2126 --> ࡎ 2127 --> ࡏ 2128 --> ࡐ 2129 --> ࡑ 2130 --> ࡒ 2131 --> ࡓ 2132 --> ࡔ 2133 --> ࡕ 2134 --> ࡖ 2135 --> ࡗ 2136 --> ࡘ 2137 --> ࡙ 2138 --> ࡚ 2139 --> ࡛ 2140 --> ࡜ 2141 --> ࡝ 2142 --> ࡞ 2143 --> ࡟ 2144 --> ࡠ 2145 --> ࡡ 2146 --> ࡢ 2147 --> ࡣ 2148 --> ࡤ 2149 --> ࡥ 2150 --> ࡦ 2151 --> ࡧ 2152 --> ࡨ 2153 --> ࡩ 2154 --> ࡪ 2155 --> ࡫ 2156 --> ࡬ 2157 --> ࡭ 2158 --> ࡮ 2159 --> ࡯ 2160 --> ࡰ 2161 --> ࡱ 2162 --> ࡲ 2163 --> ࡳ 2164 --> ࡴ 2165 --> ࡵ 2166 --> ࡶ 2167 --> ࡷ 2168 --> ࡸ 2169 --> ࡹ 2170 --> ࡺ 2171 --> ࡻ 2172 --> ࡼ 2173 --> ࡽ 2174 --> ࡾ 2175 --> ࡿ 2176 --> ࢀ 2177 --> ࢁ 2178 --> ࢂ 2179 --> ࢃ 2180 --> ࢄ 2181 --> ࢅ 2182 --> ࢆ 2183 --> ࢇ 2184 --> ࢈ 2185 --> ࢉ 2186 --> ࢊ 2187 --> ࢋ 2188 --> ࢌ 2189 --> ࢍ 2190 --> ࢎ 2191 --> ࢏ 2192 --> ࢐ 2193 --> ࢑ 2194 --> ࢒ 2195 --> ࢓ 2196 --> ࢔ 2197 --> ࢕ 2198 --> ࢖ 2199 --> ࢗ 2200 --> ࢘ 2201 --> ࢙ 2202 --> ࢚ 2203 --> ࢛ 2204 --> ࢜ 2205 --> ࢝ 2206 --> ࢞ 2207 --> ࢟ 2208 --> ࢠ 2209 --> ࢡ 2210 --> ࢢ 2211 --> ࢣ 2212 --> ࢤ 2213 --> ࢥ 2214 --> ࢦ 2215 --> ࢧ 2216 --> ࢨ 2217 --> ࢩ 2218 --> ࢪ 2219 --> ࢫ 2220 --> ࢬ 2221 --> ࢭ 2222 --> ࢮ 2223 --> ࢯ 2224 --> ࢰ 2225 --> ࢱ 2226 --> ࢲ 2227 --> ࢳ 2228 --> ࢴ 2229 --> ࢵ 2230 --> ࢶ 2231 --> ࢷ 2232 --> ࢸ 2233 --> ࢹ 2234 --> ࢺ 2235 --> ࢻ 2236 --> ࢼ 2237 --> ࢽ 2238 --> ࢾ 2239 --> ࢿ 2240 --> ࣀ 2241 --> ࣁ 2242 --> ࣂ 2243 --> ࣃ 2244 --> ࣄ 2245 --> ࣅ 2246 --> ࣆ 2247 --> ࣇ 2248 --> ࣈ 2249 --> ࣉ 2250 --> ࣊ 2251 --> ࣋ 2252 --> ࣌ 2253 --> ࣍ 2254 --> ࣎ 2255 --> ࣏ 2256 --> ࣐ 2257 --> ࣑ 2258 --> ࣒ 2259 --> ࣓ 2260 --> ࣔ 2261 --> ࣕ 2262 --> ࣖ 2263 --> ࣗ 2264 --> ࣘ 2265 --> ࣙ 2266 --> ࣚ 2267 --> ࣛ 2268 --> ࣜ 2269 --> ࣝ 2270 --> ࣞ 2271 --> ࣟ 2272 --> ࣠ 2273 --> ࣡ 2274 --> ࣢ 2275 --> ࣣ 2276 --> ࣤ 2277 --> ࣥ 2278 --> ࣦ 2279 --> ࣧ 2280 --> ࣨ 2281 --> ࣩ 2282 --> ࣪ 2283 --> ࣫ 2284 --> ࣬ 2285 --> ࣭ 2286 --> ࣮ 2287 --> ࣯ 2288 --> ࣰ 2289 --> ࣱ 2290 --> ࣲ 2291 --> ࣳ 2292 --> ࣴ 2293 --> ࣵ 2294 --> ࣶ 2295 --> ࣷ 2296 --> ࣸ 2297 --> ࣹ 2298 --> ࣺ 2299 --> ࣻ 2300 --> ࣼ 2301 --> ࣽ 2302 --> ࣾ 2303 --> ࣿ 2304 --> ऀ 2305 --> ँ 2306 --> ं 2307 --> ः 2308 --> ऄ 2309 --> अ 2310 --> आ 2311 --> इ 2312 --> ई 2313 --> उ 2314 --> ऊ 2315 --> ऋ 2316 --> ऌ 2317 --> ऍ 2318 --> ऎ 2319 --> ए 2320 --> ऐ 2321 --> ऑ 2322 --> ऒ 2323 --> ओ 2324 --> औ 2325 --> क 2326 --> ख 2327 --> ग 2328 --> घ 2329 --> ङ 2330 --> च 2331 --> छ 2332 --> ज 2333 --> झ 2334 --> ञ 2335 --> ट 2336 --> ठ 2337 --> ड 2338 --> ढ 2339 --> ण 2340 --> त 2341 --> थ 2342 --> द 2343 --> ध 2344 --> न 2345 --> ऩ 2346 --> प 2347 --> फ 2348 --> ब 2349 --> भ 2350 --> म 2351 --> य 2352 --> र 2353 --> ऱ 2354 --> ल 2355 --> ळ 2356 --> ऴ 2357 --> व 2358 --> श 2359 --> ष 2360 --> स 2361 --> ह 2362 --> ऺ 2363 --> ऻ 2364 --> ़ 2365 --> ऽ 2366 --> ा 2367 --> ि 2368 --> ी 2369 --> ु 2370 --> ू 2371 --> ृ 2372 --> ॄ 2373 --> ॅ 2374 --> ॆ 2375 --> े 2376 --> ै 2377 --> ॉ 2378 --> ॊ 2379 --> ो 2380 --> ौ 2381 --> ् 2382 --> ॎ 2383 --> ॏ 2384 --> ॐ 2385 --> ॑ 2386 --> ॒ 2387 --> ॓ 2388 --> ॔ 2389 --> ॕ 2390 --> ॖ 2391 --> ॗ 2392 --> क़ 2393 --> ख़ 2394 --> ग़ 2395 --> ज़ 2396 --> ड़ 2397 --> ढ़ 2398 --> फ़ 2399 --> य़ 2400 --> ॠ 2401 --> ॡ 2402 --> ॢ 2403 --> ॣ 2404 --> । 2405 --> ॥ 2406 --> ० 2407 --> १ 2408 --> २ 2409 --> ३ 2410 --> ४ 2411 --> ५ 2412 --> ६ 2413 --> ७ 2414 --> ८ 2415 --> ९ 2416 --> ॰ 2417 --> ॱ 2418 --> ॲ 2419 --> ॳ 2420 --> ॴ 2421 --> ॵ 2422 --> ॶ 2423 --> ॷ 2424 --> ॸ 2425 --> ॹ 2426 --> ॺ 2427 --> ॻ 2428 --> ॼ 2429 --> ॽ 2430 --> ॾ 2431 --> ॿ 2432 --> ঀ 2433 --> ঁ 2434 --> ং 2435 --> ঃ 2436 --> ঄ 2437 --> অ 2438 --> আ 2439 --> ই 2440 --> ঈ 2441 --> উ 2442 --> ঊ 2443 --> ঋ 2444 --> ঌ 2445 --> ঍ 2446 --> ঎ 2447 --> এ 2448 --> ঐ 2449 --> ঑ 2450 --> ঒ 2451 --> ও 2452 --> ঔ 2453 --> ক 2454 --> খ 2455 --> গ 2456 --> ঘ 2457 --> ঙ 2458 --> চ 2459 --> ছ 2460 --> জ 2461 --> ঝ 2462 --> ঞ 2463 --> ট 2464 --> ঠ 2465 --> ড 2466 --> ঢ 2467 --> ণ 2468 --> ত 2469 --> থ 2470 --> দ 2471 --> ধ 2472 --> ন 2473 --> ঩ 2474 --> প 2475 --> ফ 2476 --> ব 2477 --> ভ 2478 --> ম 2479 --> য 2480 --> র 2481 --> ঱ 2482 --> ল 2483 --> ঳ 2484 --> ঴ 2485 --> ঵ 2486 --> শ 2487 --> ষ 2488 --> স 2489 --> হ 2490 --> ঺ 2491 --> ঻ 2492 --> ় 2493 --> ঽ 2494 --> া 2495 --> ি 2496 --> ী 2497 --> ু 2498 --> ূ 2499 --> ৃ 2500 --> ৄ 2501 --> ৅ 2502 --> ৆ 2503 --> ে 2504 --> ৈ 2505 --> ৉ 2506 --> ৊ 2507 --> ো 2508 --> ৌ 2509 --> ্ 2510 --> ৎ 2511 --> ৏ 2512 --> ৐ 2513 --> ৑ 2514 --> ৒ 2515 --> ৓ 2516 --> ৔ 2517 --> ৕ 2518 --> ৖ 2519 --> ৗ 2520 --> ৘ 2521 --> ৙ 2522 --> ৚ 2523 --> ৛ 2524 --> ড় 2525 --> ঢ় 2526 --> ৞ 2527 --> য় 2528 --> ৠ 2529 --> ৡ 2530 --> ৢ 2531 --> ৣ 2532 --> ৤ 2533 --> ৥ 2534 --> ০ 2535 --> ১ 2536 --> ২ 2537 --> ৩ 2538 --> ৪ 2539 --> ৫ 2540 --> ৬ 2541 --> ৭ 2542 --> ৮ 2543 --> ৯ 2544 --> ৰ 2545 --> ৱ 2546 --> ৲ 2547 --> ৳ 2548 --> ৴ 2549 --> ৵ 2550 --> ৶ 2551 --> ৷ 2552 --> ৸ 2553 --> ৹ 2554 --> ৺ 2555 --> ৻ 2556 --> ৼ 2557 --> ৽ 2558 --> ৾ 2559 --> ৿ 2560 --> ਀ 2561 --> ਁ 2562 --> ਂ 2563 --> ਃ 2564 --> ਄ 2565 --> ਅ 2566 --> ਆ 2567 --> ਇ 2568 --> ਈ 2569 --> ਉ 2570 --> ਊ 2571 --> ਋ 2572 --> ਌ 2573 --> ਍ 2574 --> ਎ 2575 --> ਏ 2576 --> ਐ 2577 --> ਑ 2578 --> ਒ 2579 --> ਓ 2580 --> ਔ 2581 --> ਕ 2582 --> ਖ 2583 --> ਗ 2584 --> ਘ 2585 --> ਙ 2586 --> ਚ 2587 --> ਛ 2588 --> ਜ 2589 --> ਝ 2590 --> ਞ 2591 --> ਟ 2592 --> ਠ 2593 --> ਡ 2594 --> ਢ 2595 --> ਣ 2596 --> ਤ 2597 --> ਥ 2598 --> ਦ 2599 --> ਧ 2600 --> ਨ 2601 --> ਩ 2602 --> ਪ 2603 --> ਫ 2604 --> ਬ 2605 --> ਭ 2606 --> ਮ 2607 --> ਯ 2608 --> ਰ 2609 --> ਱ 2610 --> ਲ 2611 --> ਲ਼ 2612 --> ਴ 2613 --> ਵ 2614 --> ਸ਼ 2615 --> ਷ 2616 --> ਸ 2617 --> ਹ 2618 --> ਺ 2619 --> ਻ 2620 --> ਼ 2621 --> ਽ 2622 --> ਾ 2623 --> ਿ 2624 --> ੀ 2625 --> ੁ 2626 --> ੂ 2627 --> ੃ 2628 --> ੄ 2629 --> ੅ 2630 --> ੆ 2631 --> ੇ 2632 --> ੈ 2633 --> ੉ 2634 --> ੊ 2635 --> ੋ 2636 --> ੌ 2637 --> ੍ 2638 --> ੎ 2639 --> ੏ 2640 --> ੐ 2641 --> ੑ 2642 --> ੒ 2643 --> ੓ 2644 --> ੔ 2645 --> ੕ 2646 --> ੖ 2647 --> ੗ 2648 --> ੘ 2649 --> ਖ਼ 2650 --> ਗ਼ 2651 --> ਜ਼ 2652 --> ੜ 2653 --> ੝ 2654 --> ਫ਼ 2655 --> ੟ 2656 --> ੠ 2657 --> ੡ 2658 --> ੢ 2659 --> ੣ 2660 --> ੤ 2661 --> ੥ 2662 --> ੦ 2663 --> ੧ 2664 --> ੨ 2665 --> ੩ 2666 --> ੪ 2667 --> ੫ 2668 --> ੬ 2669 --> ੭ 2670 --> ੮ 2671 --> ੯ 2672 --> ੰ 2673 --> ੱ 2674 --> ੲ 2675 --> ੳ 2676 --> ੴ 2677 --> ੵ 2678 --> ੶ 2679 --> ੷ 2680 --> ੸ 2681 --> ੹ 2682 --> ੺ 2683 --> ੻ 2684 --> ੼ 2685 --> ੽ 2686 --> ੾ 2687 --> ੿ 2688 --> ઀ 2689 --> ઁ 2690 --> ં 2691 --> ઃ 2692 --> ઄ 2693 --> અ 2694 --> આ 2695 --> ઇ 2696 --> ઈ 2697 --> ઉ 2698 --> ઊ 2699 --> ઋ 2700 --> ઌ 2701 --> ઍ 2702 --> ઎ 2703 --> એ 2704 --> ઐ 2705 --> ઑ 2706 --> ઒ 2707 --> ઓ 2708 --> ઔ 2709 --> ક 2710 --> ખ 2711 --> ગ 2712 --> ઘ 2713 --> ઙ 2714 --> ચ 2715 --> છ 2716 --> જ 2717 --> ઝ 2718 --> ઞ 2719 --> ટ 2720 --> ઠ 2721 --> ડ 2722 --> ઢ 2723 --> ણ 2724 --> ત 2725 --> થ 2726 --> દ 2727 --> ધ 2728 --> ન 2729 --> ઩ 2730 --> પ 2731 --> ફ 2732 --> બ 2733 --> ભ 2734 --> મ 2735 --> ય 2736 --> ર 2737 --> ઱ 2738 --> લ 2739 --> ળ 2740 --> ઴ 2741 --> વ 2742 --> શ 2743 --> ષ 2744 --> સ 2745 --> હ 2746 --> ઺ 2747 --> ઻ 2748 --> ઼ 2749 --> ઽ 2750 --> ા 2751 --> િ 2752 --> ી 2753 --> ુ 2754 --> ૂ 2755 --> ૃ 2756 --> ૄ 2757 --> ૅ 2758 --> ૆ 2759 --> ે 2760 --> ૈ 2761 --> ૉ 2762 --> ૊ 2763 --> ો 2764 --> ૌ 2765 --> ્ 2766 --> ૎ 2767 --> ૏ 2768 --> ૐ 2769 --> ૑ 2770 --> ૒ 2771 --> ૓ 2772 --> ૔ 2773 --> ૕ 2774 --> ૖ 2775 --> ૗ 2776 --> ૘ 2777 --> ૙ 2778 --> ૚ 2779 --> ૛ 2780 --> ૜ 2781 --> ૝ 2782 --> ૞ 2783 --> ૟ 2784 --> ૠ 2785 --> ૡ 2786 --> ૢ 2787 --> ૣ 2788 --> ૤ 2789 --> ૥ 2790 --> ૦ 2791 --> ૧ 2792 --> ૨ 2793 --> ૩ 2794 --> ૪ 2795 --> ૫ 2796 --> ૬ 2797 --> ૭ 2798 --> ૮ 2799 --> ૯ 2800 --> ૰ 2801 --> ૱ 2802 --> ૲ 2803 --> ૳ 2804 --> ૴ 2805 --> ૵ 2806 --> ૶ 2807 --> ૷ 2808 --> ૸ 2809 --> ૹ 2810 --> ૺ 2811 --> ૻ 2812 --> ૼ 2813 --> ૽ 2814 --> ૾ 2815 --> ૿ 2816 --> ଀ 2817 --> ଁ 2818 --> ଂ 2819 --> ଃ 2820 --> ଄ 2821 --> ଅ 2822 --> ଆ 2823 --> ଇ 2824 --> ଈ 2825 --> ଉ 2826 --> ଊ 2827 --> ଋ 2828 --> ଌ 2829 --> ଍ 2830 --> ଎ 2831 --> ଏ 2832 --> ଐ 2833 --> ଑ 2834 --> ଒ 2835 --> ଓ 2836 --> ଔ 2837 --> କ 2838 --> ଖ 2839 --> ଗ 2840 --> ଘ 2841 --> ଙ 2842 --> ଚ 2843 --> ଛ 2844 --> ଜ 2845 --> ଝ 2846 --> ଞ 2847 --> ଟ 2848 --> ଠ 2849 --> ଡ 2850 --> ଢ 2851 --> ଣ 2852 --> ତ 2853 --> ଥ 2854 --> ଦ 2855 --> ଧ 2856 --> ନ 2857 --> ଩ 2858 --> ପ 2859 --> ଫ 2860 --> ବ 2861 --> ଭ 2862 --> ମ 2863 --> ଯ 2864 --> ର 2865 --> ଱ 2866 --> ଲ 2867 --> ଳ 2868 --> ଴ 2869 --> ଵ 2870 --> ଶ 2871 --> ଷ 2872 --> ସ 2873 --> ହ 2874 --> ଺ 2875 --> ଻ 2876 --> ଼ 2877 --> ଽ 2878 --> ା 2879 --> ି 2880 --> ୀ 2881 --> ୁ 2882 --> ୂ 2883 --> ୃ 2884 --> ୄ 2885 --> ୅ 2886 --> ୆ 2887 --> େ 2888 --> ୈ 2889 --> ୉ 2890 --> ୊ 2891 --> ୋ 2892 --> ୌ 2893 --> ୍ 2894 --> ୎ 2895 --> ୏ 2896 --> ୐ 2897 --> ୑ 2898 --> ୒ 2899 --> ୓ 2900 --> ୔ 2901 --> ୕ 2902 --> ୖ 2903 --> ୗ 2904 --> ୘ 2905 --> ୙ 2906 --> ୚ 2907 --> ୛ 2908 --> ଡ଼ 2909 --> ଢ଼ 2910 --> ୞ 2911 --> ୟ 2912 --> ୠ 2913 --> ୡ 2914 --> ୢ 2915 --> ୣ 2916 --> ୤ 2917 --> ୥ 2918 --> ୦ 2919 --> ୧ 2920 --> ୨ 2921 --> ୩ 2922 --> ୪ 2923 --> ୫ 2924 --> ୬ 2925 --> ୭ 2926 --> ୮ 2927 --> ୯ 2928 --> ୰ 2929 --> ୱ 2930 --> ୲ 2931 --> ୳ 2932 --> ୴ 2933 --> ୵ 2934 --> ୶ 2935 --> ୷ 2936 --> ୸ 2937 --> ୹ 2938 --> ୺ 2939 --> ୻ 2940 --> ୼ 2941 --> ୽ 2942 --> ୾ 2943 --> ୿ 2944 --> ஀ 2945 --> ஁ 2946 --> ஂ 2947 --> ஃ 2948 --> ஄ 2949 --> அ 2950 --> ஆ 2951 --> இ 2952 --> ஈ 2953 --> உ 2954 --> ஊ 2955 --> ஋ 2956 --> ஌ 2957 --> ஍ 2958 --> எ 2959 --> ஏ 2960 --> ஐ 2961 --> ஑ 2962 --> ஒ 2963 --> ஓ 2964 --> ஔ 2965 --> க 2966 --> ஖ 2967 --> ஗ 2968 --> ஘ 2969 --> ங 2970 --> ச 2971 --> ஛ 2972 --> ஜ 2973 --> ஝ 2974 --> ஞ 2975 --> ட 2976 --> ஠ 2977 --> ஡ 2978 --> ஢ 2979 --> ண 2980 --> த 2981 --> ஥ 2982 --> ஦ 2983 --> ஧ 2984 --> ந 2985 --> ன 2986 --> ப 2987 --> ஫ 2988 --> ஬ 2989 --> ஭ 2990 --> ம 2991 --> ய 2992 --> ர 2993 --> ற 2994 --> ல 2995 --> ள 2996 --> ழ 2997 --> வ 2998 --> ஶ 2999 --> ஷ "
     ]
    }
   ],
   "source": [
    "for i in range(1,3000):\n",
    "    print(i,'-->',chr(i),end=' ')\n",
    "    "
   ]
  },
  {
   "cell_type": "code",
   "execution_count": 44,
   "id": "9e53efcb-e0e8-48d4-bd13-84c8771434c2",
   "metadata": {},
   "outputs": [
    {
     "ename": "SyntaxError",
     "evalue": "invalid syntax (982046752.py, line 4)",
     "output_type": "error",
     "traceback": [
      "\u001b[1;36m  Cell \u001b[1;32mIn[44], line 4\u001b[1;36m\u001b[0m\n\u001b[1;33m    i++:\u001b[0m\n\u001b[1;37m       ^\u001b[0m\n\u001b[1;31mSyntaxError\u001b[0m\u001b[1;31m:\u001b[0m invalid syntax\n"
     ]
    }
   ],
   "source": [
    "for i in range():\n",
    "    print(i,ord(i),end=' ')\n",
    "    if ord(i)=='A' and ord(i)=='Z':\n",
    "        print(i)\n",
    "    elif ord(i)>'Z':\n",
    "    break\n",
    "\n",
    "\n",
    "    "
   ]
  },
  {
   "cell_type": "code",
   "execution_count": null,
   "id": "5e549a45-f9ce-41eb-8112-93ee5744b32a",
   "metadata": {},
   "outputs": [],
   "source": []
  }
 ],
 "metadata": {
  "kernelspec": {
   "display_name": "Python 3 (ipykernel)",
   "language": "python",
   "name": "python3"
  },
  "language_info": {
   "codemirror_mode": {
    "name": "ipython",
    "version": 3
   },
   "file_extension": ".py",
   "mimetype": "text/x-python",
   "name": "python",
   "nbconvert_exporter": "python",
   "pygments_lexer": "ipython3",
   "version": "3.12.4"
  }
 },
 "nbformat": 4,
 "nbformat_minor": 5
}
