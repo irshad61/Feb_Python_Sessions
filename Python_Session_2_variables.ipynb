{
 "cells": [
  {
   "cell_type": "code",
   "execution_count": 1,
   "id": "d846f34b-1d44-4ced-ae04-3fa42282005c",
   "metadata": {},
   "outputs": [
    {
     "data": {
      "text/plain": [
       "'C:\\\\Users\\\\user\\\\Documents\\\\Naresh IT\\\\Python Sessions'"
      ]
     },
     "execution_count": 1,
     "metadata": {},
     "output_type": "execute_result"
    }
   ],
   "source": [
    "import os \n",
    "os.getcwd()\n",
    "# get Current Working Directory\n",
    "\n",
    "    "
   ]
  },
  {
   "cell_type": "markdown",
   "id": "3c89d5b6-3be1-4cde-8d3b-786c839c24c3",
   "metadata": {},
   "source": [
    "## Variables"
   ]
  },
  {
   "cell_type": "markdown",
   "id": "39bff557-9a3c-4856-a4d8-dad57bd2e3ff",
   "metadata": {},
   "source": [
    "Variables are used to store the values, and the values can be changed "
   ]
  },
  {
   "cell_type": "code",
   "execution_count": 6,
   "id": "4abbe332-7f37-4bb0-a0c3-1f594fa50d0c",
   "metadata": {},
   "outputs": [
    {
     "name": "stdout",
     "output_type": "stream",
     "text": [
      "100\n"
     ]
    }
   ],
   "source": [
    "num=100\n",
    "# value 100 stored in :num\n",
    "print(num)"
   ]
  },
  {
   "cell_type": "code",
   "execution_count": 8,
   "id": "be7d4af1-1d00-4b46-a743-fd1b4afa4065",
   "metadata": {},
   "outputs": [
    {
     "data": {
      "text/plain": [
       "200"
      ]
     },
     "execution_count": 8,
     "metadata": {},
     "output_type": "execute_result"
    }
   ],
   "source": [
    "NUMBER=200\n",
    "NUMBER"
   ]
  },
  {
   "cell_type": "code",
   "execution_count": 10,
   "id": "67bd730e-c5f0-4833-94e2-294285bbe482",
   "metadata": {},
   "outputs": [
    {
     "data": {
      "text/plain": [
       "300"
      ]
     },
     "execution_count": 10,
     "metadata": {},
     "output_type": "execute_result"
    }
   ],
   "source": [
    "number=300\n",
    "number"
   ]
  },
  {
   "cell_type": "code",
   "execution_count": 12,
   "id": "c1f699d2-4170-4470-853c-ed738f3b7431",
   "metadata": {},
   "outputs": [
    {
     "ename": "SyntaxError",
     "evalue": "invalid decimal literal (359278068.py, line 1)",
     "output_type": "error",
     "traceback": [
      "\u001b[1;36m  Cell \u001b[1;32mIn[12], line 1\u001b[1;36m\u001b[0m\n\u001b[1;33m    123number=400\u001b[0m\n\u001b[1;37m      ^\u001b[0m\n\u001b[1;31mSyntaxError\u001b[0m\u001b[1;31m:\u001b[0m invalid decimal literal\n"
     ]
    }
   ],
   "source": [
    "123number=400\n",
    "123number"
   ]
  },
  {
   "cell_type": "markdown",
   "id": "75a83556-ac50-4fc9-badc-4b99d22e6c64",
   "metadata": {},
   "source": [
    "number #works\n",
    "NUMBER #works \n",
    "number123 #works \n",
    "123number #not works"
   ]
  },
  {
   "cell_type": "code",
   "execution_count": 17,
   "id": "f4726ef5-2f84-4ce2-9bdb-2ab7fc3e66be",
   "metadata": {},
   "outputs": [
    {
     "ename": "SyntaxError",
     "evalue": "cannot assign to expression here. Maybe you meant '==' instead of '='? (522399091.py, line 1)",
     "output_type": "error",
     "traceback": [
      "\u001b[1;36m  Cell \u001b[1;32mIn[17], line 1\u001b[1;36m\u001b[0m\n\u001b[1;33m    number&one=600\u001b[0m\n\u001b[1;37m    ^\u001b[0m\n\u001b[1;31mSyntaxError\u001b[0m\u001b[1;31m:\u001b[0m cannot assign to expression here. Maybe you meant '==' instead of '='?\n"
     ]
    }
   ],
   "source": [
    "number&one=600\n",
    "number&one\n"
   ]
  },
  {
   "cell_type": "markdown",
   "id": "a419e58c-4958-45bf-9ab9-64413efbbb3d",
   "metadata": {},
   "source": [
    "- variables can be a Captial letter \n",
    "- Variables can be  a small letter\n",
    "- Variables can be a mix of both capital and small letters \n",
    "- Variables can be a mix of letters and numbers as **suffix**\n",
    "- variables cannot be a mix of letters and numbers as **Prefix**\n",
    "- variables cannot include special characters except **underscore**\n",
    "- variables cannot include **space between words**\n",
    "- only underscore is also consider as variable\n",
    "- Inbuilt keywords cannot be a variables"
   ]
  },
  {
   "cell_type": "markdown",
   "id": "9bc5a9bb-6d55-44b2-a54b-4f44110931b7",
   "metadata": {},
   "source": [
    "number # works \n",
    "NUMBER # Works\n",
    "number123 # notWorks\n",
    "123number # Not Works\n",
    "number$one # NW"
   ]
  },
  {
   "cell_type": "code",
   "execution_count": null,
   "id": "739b57b9-178f-490a-9447-1886ab9ff4ac",
   "metadata": {},
   "outputs": [],
   "source": []
  }
 ],
 "metadata": {
  "kernelspec": {
   "display_name": "Python 3 (ipykernel)",
   "language": "python",
   "name": "python3"
  },
  "language_info": {
   "codemirror_mode": {
    "name": "ipython",
    "version": 3
   },
   "file_extension": ".py",
   "mimetype": "text/x-python",
   "name": "python",
   "nbconvert_exporter": "python",
   "pygments_lexer": "ipython3",
   "version": "3.12.4"
  }
 },
 "nbformat": 4,
 "nbformat_minor": 5
}
