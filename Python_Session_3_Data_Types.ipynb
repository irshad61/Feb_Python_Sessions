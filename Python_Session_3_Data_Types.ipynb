{
 "cells": [
  {
   "cell_type": "markdown",
   "id": "3beee767-3bd1-41da-ab64-c78645ff8bcf",
   "metadata": {},
   "source": [
    "# Data Types"
   ]
  },
  {
   "cell_type": "markdown",
   "id": "763f8e60-5f18-41ab-81ef-fd9a91c048c5",
   "metadata": {},
   "source": [
    "- Python can say data type of the value with out initailization \n",
    "- Which means the data typr automatically consider\n",
    "- Python has some inbuilt datatype structure \n",
    "- int : integer\n",
    "- float \n",
    "- str: string\n",
    "- boo : boolean\n",
    "- complex\n",
    "- list\n",
    "- tuple\n",
    "- dict : dictionary\n",
    "- set\n",
    "- frozenset\n",
    "- bytes\n",
    "- bytearray\n",
    "- memoryview\n"
   ]
  },
  {
   "cell_type": "markdown",
   "id": "71e3ff9d-b1df-4b98-8851-be06e45d95d7",
   "metadata": {},
   "source": [
    "## Integer"
   ]
  },
  {
   "cell_type": "code",
   "execution_count": 8,
   "id": "6410a500-2a1b-49ec-b31a-83c467f302a9",
   "metadata": {},
   "outputs": [
    {
     "data": {
      "text/plain": [
       "int"
      ]
     },
     "execution_count": 8,
     "metadata": {},
     "output_type": "execute_result"
    }
   ],
   "source": [
    "num=100\n",
    "type(num)"
   ]
  },
  {
   "cell_type": "code",
   "execution_count": 10,
   "id": "dff78c7a-43e6-4c89-9b75-5031bd152c17",
   "metadata": {},
   "outputs": [
    {
     "name": "stdout",
     "output_type": "stream",
     "text": [
      "100\n"
     ]
    }
   ],
   "source": [
    "print(num)"
   ]
  },
  {
   "cell_type": "markdown",
   "id": "00ef0633-f23c-460a-a28e-33107d0f821b",
   "metadata": {},
   "source": [
    "**binary number system**\n",
    "- numbers 0,1,2,3,4,5,6,7,8,9\n",
    "- binary : bi means two : 0 and 1\n",
    "- representation is: 0b001,0b111,0B111\n",
    "- wrong representation is: ob102"
   ]
  },
  {
   "cell_type": "code",
   "execution_count": 14,
   "id": "79be3689-8b91-448c-a813-e537a82e0738",
   "metadata": {},
   "outputs": [
    {
     "data": {
      "text/plain": [
       "7"
      ]
     },
     "execution_count": 14,
     "metadata": {},
     "output_type": "execute_result"
    }
   ],
   "source": [
    "0b111"
   ]
  },
  {
   "cell_type": "code",
   "execution_count": 17,
   "id": "501539ec-e551-4710-967d-9a2be5db1b64",
   "metadata": {},
   "outputs": [
    {
     "data": {
      "text/plain": [
       "10"
      ]
     },
     "execution_count": 17,
     "metadata": {},
     "output_type": "execute_result"
    }
   ],
   "source": [
    "0b1010\n"
   ]
  },
  {
   "cell_type": "code",
   "execution_count": null,
   "id": "fad2b2ef-3301-4b97-bcd0-4cf7f29b04cb",
   "metadata": {},
   "outputs": [],
   "source": [
    "2^3=8  2^2=4\n",
    "0        0      0       0\n",
    "0        0      1           \n",
    "0\n",
    "0\n",
    "0\n",
    "0\n",
    "0\n",
    "0\n",
    "0\n",
    "0\n",
    "1\n",
    "1\n",
    "1\n",
    "1\n",
    "1\n",
    "1\n",
    "1\n",
    "1\n",
    "\n"
   ]
  }
 ],
 "metadata": {
  "kernelspec": {
   "display_name": "Python 3 (ipykernel)",
   "language": "python",
   "name": "python3"
  },
  "language_info": {
   "codemirror_mode": {
    "name": "ipython",
    "version": 3
   },
   "file_extension": ".py",
   "mimetype": "text/x-python",
   "name": "python",
   "nbconvert_exporter": "python",
   "pygments_lexer": "ipython3",
   "version": "3.12.4"
  }
 },
 "nbformat": 4,
 "nbformat_minor": 5
}
