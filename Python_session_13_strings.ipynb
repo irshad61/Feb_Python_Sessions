{
 "cells": [
  {
   "cell_type": "markdown",
   "id": "bc428b2c-f97b-4ec8-982f-929b40a8e5fb",
   "metadata": {},
   "source": [
    "**Strings**\n",
    "- How to initilize the strings\n",
    "- in built functions\n",
    "  - type\n",
    "  - print\n",
    "  - len\n",
    "  - max\n",
    "  - min\n",
    "  - reversed\n",
    "  - sorted\n",
    "- index operation\n",
    "- concatenation\n",
    "- mutable and immutable\n",
    "- slicing\n",
    "\n",
    "- ===========================================part-2====================================\n",
    "- string methods"
   ]
  },
  {
   "cell_type": "markdown",
   "id": "db29ffc1-fcc5-46a8-b012-278bfe717199",
   "metadata": {},
   "source": [
    "**Initilization**\n",
    "- strings represent with single quotes\n",
    "- strings represent with double quotes\n",
    "- strings represent with triple quotes\n",
    "- when you print a string, the output shows as with out quotes\n",
    "- a string represent with triple quotes : **Doc string**\n",
    "- if you want to highlight any word in entire string\n",
    "  - provide the entire in double quotes and highlight word in single quote and vice versa"
   ]
  },
  {
   "cell_type": "code",
   "execution_count": null,
   "id": "32b91b97-50b6-4109-b8bc-bc3e639bd5c2",
   "metadata": {},
   "outputs": [],
   "source": []
  },
  {
   "cell_type": "code",
   "execution_count": 6,
   "id": "d3c4ad15-9841-4b52-9acb-dbf0670b0ee9",
   "metadata": {},
   "outputs": [
    {
     "data": {
      "text/plain": [
       "'python'"
      ]
     },
     "execution_count": 6,
     "metadata": {},
     "output_type": "execute_result"
    }
   ],
   "source": [
    "str1='python'\n",
    "str1"
   ]
  },
  {
   "cell_type": "code",
   "execution_count": 8,
   "id": "4d7a4fae-6901-4b92-baf7-41529b687622",
   "metadata": {},
   "outputs": [
    {
     "data": {
      "text/plain": [
       "'python'"
      ]
     },
     "execution_count": 8,
     "metadata": {},
     "output_type": "execute_result"
    }
   ],
   "source": [
    "str2=\"python\"\n",
    "str2"
   ]
  },
  {
   "cell_type": "markdown",
   "id": "6127d6ac-2ea9-4bda-86e2-706eb54cab0e",
   "metadata": {},
   "source": [
    "**Doc string**"
   ]
  },
  {
   "cell_type": "code",
   "execution_count": 11,
   "id": "9f2051b7-93b0-4f6b-aa3b-502b2c8ffa4f",
   "metadata": {},
   "outputs": [
    {
     "data": {
      "text/plain": [
       "'python is understandable language'"
      ]
     },
     "execution_count": 11,
     "metadata": {},
     "output_type": "execute_result"
    }
   ],
   "source": [
    "str3=\"\"\"python is understandable language\"\"\"\n",
    "str3"
   ]
  },
  {
   "cell_type": "code",
   "execution_count": 19,
   "id": "4d85d70f-3202-4219-bf25-f70cfde060b6",
   "metadata": {},
   "outputs": [
    {
     "name": "stdout",
     "output_type": "stream",
     "text": [
      "python is understandable language\n"
     ]
    }
   ],
   "source": [
    "str3=\"\"\"python is understandable language\"\"\"\n",
    "print(str3)"
   ]
  },
  {
   "cell_type": "code",
   "execution_count": 21,
   "id": "c4c3b2a7-f140-4d23-8fd0-49676ba0acc8",
   "metadata": {},
   "outputs": [
    {
     "data": {
      "text/plain": [
       "\"I like 'python'\""
      ]
     },
     "execution_count": 21,
     "metadata": {},
     "output_type": "execute_result"
    }
   ],
   "source": [
    "str4=\"I like 'python'\"\n",
    "str4"
   ]
  },
  {
   "cell_type": "code",
   "execution_count": 25,
   "id": "05b3fd6b-dc8d-43f6-b838-a009ff3b3a4d",
   "metadata": {},
   "outputs": [
    {
     "name": "stdout",
     "output_type": "stream",
     "text": [
      "I like \"python\"\n"
     ]
    }
   ],
   "source": [
    "str4='I like \"python\"'\n",
    "print(str4)"
   ]
  },
  {
   "cell_type": "markdown",
   "id": "0ce6e1e0-cb8e-4ad8-8bee-40be81559de9",
   "metadata": {},
   "source": [
    "**some inbuilt functions**"
   ]
  },
  {
   "cell_type": "code",
   "execution_count": 28,
   "id": "7322d4f9-fdc7-4a2b-9e74-476fdd54794f",
   "metadata": {},
   "outputs": [
    {
     "ename": "TypeError",
     "evalue": "max expected at least 1 argument, got 0",
     "output_type": "error",
     "traceback": [
      "\u001b[1;31m---------------------------------------------------------------------------\u001b[0m",
      "\u001b[1;31mTypeError\u001b[0m                                 Traceback (most recent call last)",
      "Cell \u001b[1;32mIn[28], line 1\u001b[0m\n\u001b[1;32m----> 1\u001b[0m \u001b[38;5;28mmax\u001b[39m()\n\u001b[0;32m      2\u001b[0m \u001b[38;5;28mmin\u001b[39m()\n\u001b[0;32m      3\u001b[0m \u001b[38;5;28mlen\u001b[39m()\n",
      "\u001b[1;31mTypeError\u001b[0m: max expected at least 1 argument, got 0"
     ]
    }
   ],
   "source": [
    "max(\"python\")\n",
    "min()\n",
    "len()\n",
    "print()\n",
    "type()\n",
    "reversed()\n",
    "sorted()"
   ]
  },
  {
   "cell_type": "code",
   "execution_count": 30,
   "id": "59d8a422-e20f-41db-8be0-f0502ddcb2af",
   "metadata": {},
   "outputs": [
    {
     "data": {
      "text/plain": [
       "'y'"
      ]
     },
     "execution_count": 30,
     "metadata": {},
     "output_type": "execute_result"
    }
   ],
   "source": [
    "max(\"python\")"
   ]
  },
  {
   "cell_type": "code",
   "execution_count": 32,
   "id": "a717c660-e258-4fd5-96fd-3006c1161490",
   "metadata": {},
   "outputs": [
    {
     "data": {
      "text/plain": [
       "'h'"
      ]
     },
     "execution_count": 32,
     "metadata": {},
     "output_type": "execute_result"
    }
   ],
   "source": [
    "min(\"python\")"
   ]
  },
  {
   "cell_type": "code",
   "execution_count": 34,
   "id": "3b65cf3c-18d2-4669-8a78-f3b6437603e8",
   "metadata": {},
   "outputs": [
    {
     "data": {
      "text/plain": [
       "6"
      ]
     },
     "execution_count": 34,
     "metadata": {},
     "output_type": "execute_result"
    }
   ],
   "source": [
    "len(\"python\")"
   ]
  },
  {
   "cell_type": "code",
   "execution_count": 36,
   "id": "20476aea-ebac-4cda-890c-f55a77f37512",
   "metadata": {},
   "outputs": [
    {
     "name": "stdout",
     "output_type": "stream",
     "text": [
      "python\n"
     ]
    }
   ],
   "source": [
    "print(\"python\")"
   ]
  },
  {
   "cell_type": "code",
   "execution_count": 38,
   "id": "fba92ed3-feb7-4b84-bf73-8a3762d58c7d",
   "metadata": {},
   "outputs": [
    {
     "data": {
      "text/plain": [
       "str"
      ]
     },
     "execution_count": 38,
     "metadata": {},
     "output_type": "execute_result"
    }
   ],
   "source": [
    "type(\"python\")"
   ]
  },
  {
   "cell_type": "code",
   "execution_count": 40,
   "id": "f22c234c-caaa-4dc3-9051-274e599d5942",
   "metadata": {},
   "outputs": [
    {
     "data": {
      "text/plain": [
       "<reversed at 0x1e88e91bdf0>"
      ]
     },
     "execution_count": 40,
     "metadata": {},
     "output_type": "execute_result"
    }
   ],
   "source": [
    "reversed(\"python\")"
   ]
  },
  {
   "cell_type": "code",
   "execution_count": 42,
   "id": "7060be4b-f6ef-424a-b8f6-6d6e07691e05",
   "metadata": {},
   "outputs": [
    {
     "data": {
      "text/plain": [
       "['h', 'n', 'o', 'p', 't', 'y']"
      ]
     },
     "execution_count": 42,
     "metadata": {},
     "output_type": "execute_result"
    }
   ],
   "source": [
    "sorted(\"python\")"
   ]
  },
  {
   "cell_type": "code",
   "execution_count": 50,
   "id": "742a03e4-4ced-4704-bb27-22bdb9674637",
   "metadata": {},
   "outputs": [
    {
     "name": "stdout",
     "output_type": "stream",
     "text": [
      "p 112\n",
      "y 121\n",
      "t 116\n",
      "h 104\n",
      "o 111\n",
      "n 110\n"
     ]
    }
   ],
   "source": [
    "for i in \"python\":\n",
    "    print(i,ord(i))"
   ]
  },
  {
   "cell_type": "markdown",
   "id": "5930a1c8-fbed-4fb7-a1ce-05c26b22fbc7",
   "metadata": {},
   "source": [
    "**sorted**"
   ]
  },
  {
   "cell_type": "markdown",
   "id": "c6b9c3a5-0df1-4dae-af87-f988bbc10699",
   "metadata": {},
   "source": [
    "- sorted means sorting the letters based on ascending or descending\n",
    "- there are two possible sortings avaiable\n",
    "  - ascending small to big\n",
    "  - descending  big to small"
   ]
  },
  {
   "cell_type": "code",
   "execution_count": 54,
   "id": "80b59d5f-2f20-4f00-8256-b745470b26a0",
   "metadata": {},
   "outputs": [
    {
     "data": {
      "text/plain": [
       "['h', 'n', 'o', 'p', 't', 'y']"
      ]
     },
     "execution_count": 54,
     "metadata": {},
     "output_type": "execute_result"
    }
   ],
   "source": [
    "str1='python'\n",
    "sorted(str1)"
   ]
  },
  {
   "cell_type": "code",
   "execution_count": null,
   "id": "29181612-daea-4408-8864-0c87ec205660",
   "metadata": {},
   "outputs": [],
   "source": [
    "reversed()"
   ]
  },
  {
   "cell_type": "markdown",
   "id": "5cdfa61e-9489-4344-814f-29f589b33233",
   "metadata": {},
   "source": [
    "- when you apply the shift + tab\n",
    "- focus on two things\n",
    "- \n"
   ]
  },
  {
   "cell_type": "code",
   "execution_count": 56,
   "id": "d0cbaaff-7e02-42d7-9eab-797b3e3a9819",
   "metadata": {},
   "outputs": [
    {
     "ename": "SyntaxError",
     "evalue": "positional argument follows keyword argument (2424881132.py, line 2)",
     "output_type": "error",
     "traceback": [
      "\u001b[1;36m  Cell \u001b[1;32mIn[56], line 2\u001b[1;36m\u001b[0m\n\u001b[1;33m    sorted(iterable=str1,False)\u001b[0m\n\u001b[1;37m                              ^\u001b[0m\n\u001b[1;31mSyntaxError\u001b[0m\u001b[1;31m:\u001b[0m positional argument follows keyword argument\n"
     ]
    }
   ],
   "source": [
    "sorted(iterable=str1,reversed=False)\n",
    "sorted(iterable=str1,False)\n",
    "sorted(str1,False)"
   ]
  },
  {
   "cell_type": "code",
   "execution_count": 58,
   "id": "df66f2d0-4cda-4e1e-9e4c-efc7a4b28d17",
   "metadata": {},
   "outputs": [
    {
     "ename": "TypeError",
     "evalue": "sorted expected 1 argument, got 0",
     "output_type": "error",
     "traceback": [
      "\u001b[1;31m---------------------------------------------------------------------------\u001b[0m",
      "\u001b[1;31mTypeError\u001b[0m                                 Traceback (most recent call last)",
      "Cell \u001b[1;32mIn[58], line 1\u001b[0m\n\u001b[1;32m----> 1\u001b[0m \u001b[38;5;28msorted\u001b[39m(iterable\u001b[38;5;241m=\u001b[39mstr1,\u001b[38;5;28mreversed\u001b[39m\u001b[38;5;241m=\u001b[39m\u001b[38;5;28;01mFalse\u001b[39;00m)\n",
      "\u001b[1;31mTypeError\u001b[0m: sorted expected 1 argument, got 0"
     ]
    }
   ],
   "source": [
    "sorted(iterable=str1,reversed=False)"
   ]
  },
  {
   "cell_type": "code",
   "execution_count": 62,
   "id": "b4df4340-398b-44e6-9f1c-1559b507465b",
   "metadata": {},
   "outputs": [
    {
     "ename": "SyntaxError",
     "evalue": "positional argument follows keyword argument (1574980832.py, line 1)",
     "output_type": "error",
     "traceback": [
      "\u001b[1;36m  Cell \u001b[1;32mIn[62], line 1\u001b[1;36m\u001b[0m\n\u001b[1;33m    sorted(iterable=str1,False)\u001b[0m\n\u001b[1;37m                              ^\u001b[0m\n\u001b[1;31mSyntaxError\u001b[0m\u001b[1;31m:\u001b[0m positional argument follows keyword argument\n"
     ]
    }
   ],
   "source": [
    "sorted(iterable=str1,False)"
   ]
  },
  {
   "cell_type": "code",
   "execution_count": 64,
   "id": "b47b75c8-7dad-48f5-aa0d-8498ad1b10fa",
   "metadata": {},
   "outputs": [
    {
     "ename": "TypeError",
     "evalue": "sorted expected 1 argument, got 2",
     "output_type": "error",
     "traceback": [
      "\u001b[1;31m---------------------------------------------------------------------------\u001b[0m",
      "\u001b[1;31mTypeError\u001b[0m                                 Traceback (most recent call last)",
      "Cell \u001b[1;32mIn[64], line 1\u001b[0m\n\u001b[1;32m----> 1\u001b[0m \u001b[38;5;28msorted\u001b[39m(str1,\u001b[38;5;28;01mFalse\u001b[39;00m)\n",
      "\u001b[1;31mTypeError\u001b[0m: sorted expected 1 argument, got 2"
     ]
    }
   ],
   "source": [
    "sorted(str1,False)"
   ]
  },
  {
   "cell_type": "code",
   "execution_count": 66,
   "id": "b3cdef8a-d3bd-478c-a88d-1517e244471a",
   "metadata": {},
   "outputs": [
    {
     "ename": "TypeError",
     "evalue": "'type' object is not iterable",
     "output_type": "error",
     "traceback": [
      "\u001b[1;31m---------------------------------------------------------------------------\u001b[0m",
      "\u001b[1;31mTypeError\u001b[0m                                 Traceback (most recent call last)",
      "Cell \u001b[1;32mIn[66], line 1\u001b[0m\n\u001b[1;32m----> 1\u001b[0m \u001b[38;5;28msorted\u001b[39m(\u001b[38;5;28mstr\u001b[39m,\u001b[38;5;28mreversed\u001b[39m\u001b[38;5;241m=\u001b[39m\u001b[38;5;28;01mTrue\u001b[39;00m)\n",
      "\u001b[1;31mTypeError\u001b[0m: 'type' object is not iterable"
     ]
    }
   ],
   "source": [
    "sorted(str,reversed=True)"
   ]
  },
  {
   "cell_type": "code",
   "execution_count": 68,
   "id": "fe832904-3191-4b5f-9b1b-472958d7a240",
   "metadata": {},
   "outputs": [
    {
     "ename": "TypeError",
     "evalue": "'reversed' is an invalid keyword argument for sort()",
     "output_type": "error",
     "traceback": [
      "\u001b[1;31m---------------------------------------------------------------------------\u001b[0m",
      "\u001b[1;31mTypeError\u001b[0m                                 Traceback (most recent call last)",
      "Cell \u001b[1;32mIn[68], line 1\u001b[0m\n\u001b[1;32m----> 1\u001b[0m \u001b[38;5;28msorted\u001b[39m(str1,\u001b[38;5;28mreversed\u001b[39m\u001b[38;5;241m=\u001b[39m\u001b[38;5;28;01mTrue\u001b[39;00m)\n",
      "\u001b[1;31mTypeError\u001b[0m: 'reversed' is an invalid keyword argument for sort()"
     ]
    }
   ],
   "source": [
    "sorted(str1,reversed=True)"
   ]
  },
  {
   "cell_type": "code",
   "execution_count": 72,
   "id": "79b3f312-0b90-407d-afd7-2212bb0f4314",
   "metadata": {},
   "outputs": [
    {
     "data": {
      "text/plain": [
       "['y', 't', 'p', 'o', 'n', 'h']"
      ]
     },
     "execution_count": 72,
     "metadata": {},
     "output_type": "execute_result"
    }
   ],
   "source": [
    "sorted(str1,reverse=True)"
   ]
  },
  {
   "cell_type": "markdown",
   "id": "6f74f9c5-bdd5-4ce9-b73b-c7506109c690",
   "metadata": {},
   "source": [
    "- we should not allowed to use iterable argument name while provide the value\n",
    "- we should use the argument names while provide the value after '/'\n",
    "- we should not use the argument names before '/'\n",
    "  - iterable argument name is there before '/'\n",
    "  - so do not use iterable name"
   ]
  },
  {
   "cell_type": "markdown",
   "id": "7f5c53ae-0b1a-45c3-a380-520ffc33d3e0",
   "metadata": {},
   "source": [
    "-  any function indicates * means\n",
    "-  you can use any variable after *\n",
    "-  after * there are two arguments are there\n",
    "  - key\n",
    "  - reverse\n",
    "- you can use both\n",
    "- you can use anyone\n",
    "- you no need to use anything   "
   ]
  },
  {
   "cell_type": "code",
   "execution_count": 78,
   "id": "218143f8-f28f-4ee7-b1da-9a79df062f26",
   "metadata": {},
   "outputs": [
    {
     "data": {
      "text/plain": [
       "['h', 'e', 'l', 'l', 'o']"
      ]
     },
     "execution_count": 78,
     "metadata": {},
     "output_type": "execute_result"
    }
   ],
   "source": [
    "sorted('hello',reverse=True,key=len)"
   ]
  },
  {
   "cell_type": "markdown",
   "id": "c730783c-71eb-466d-a129-376e2a8f38da",
   "metadata": {},
   "source": [
    "**reversed**"
   ]
  },
  {
   "cell_type": "code",
   "execution_count": 81,
   "id": "1098f9c8-4d78-4b7c-b5d5-72f88475a840",
   "metadata": {},
   "outputs": [
    {
     "data": {
      "text/plain": [
       "<reversed at 0x1e88ce72560>"
      ]
     },
     "execution_count": 81,
     "metadata": {},
     "output_type": "execute_result"
    }
   ],
   "source": [
    "str1='hello'\n",
    "reversed(str1)"
   ]
  },
  {
   "cell_type": "code",
   "execution_count": 85,
   "id": "33285f48-5a95-46af-b936-be2cf071ab6e",
   "metadata": {},
   "outputs": [
    {
     "data": {
      "text/plain": [
       "reversed"
      ]
     },
     "execution_count": 85,
     "metadata": {},
     "output_type": "execute_result"
    }
   ],
   "source": [
    "str1='hello'\n",
    "ans=reversed(str1)\n",
    "type(ans)\n",
    "#\n",
    "# whenever you want to see output\n",
    "# use list to see output\n",
    "     "
   ]
  },
  {
   "cell_type": "code",
   "execution_count": 87,
   "id": "408a3f2d-9d5d-4637-8232-109a86982b12",
   "metadata": {},
   "outputs": [
    {
     "name": "stdout",
     "output_type": "stream",
     "text": [
      "o\n",
      "l\n",
      "l\n",
      "e\n",
      "h\n"
     ]
    }
   ],
   "source": [
    "for i in ans:\n",
    "    print(i)"
   ]
  },
  {
   "cell_type": "code",
   "execution_count": 89,
   "id": "06bea062-1032-4137-8e14-0c6d428d34df",
   "metadata": {},
   "outputs": [
    {
     "data": {
      "text/plain": [
       "['o', 'l', 'l', 'e', 'h']"
      ]
     },
     "execution_count": 89,
     "metadata": {},
     "output_type": "execute_result"
    }
   ],
   "source": [
    "ans=reversed(str1)\n",
    "list(ans)\n"
   ]
  },
  {
   "cell_type": "markdown",
   "id": "20ac3da5-28e9-4d9b-8ce9-efe7a531938f",
   "metadata": {},
   "source": [
    "**concatenation**"
   ]
  },
  {
   "cell_type": "code",
   "execution_count": null,
   "id": "399a7616-e062-4bc7-8eaa-bb990f000787",
   "metadata": {},
   "outputs": [],
   "source": [
    "str1='hello'\n",
    "str2='python'"
   ]
  },
  {
   "cell_type": "code",
   "execution_count": 92,
   "id": "7bc4e968-2113-43fc-aa9d-96f1a5178146",
   "metadata": {},
   "outputs": [
    {
     "data": {
      "text/plain": [
       "'hellopython'"
      ]
     },
     "execution_count": 92,
     "metadata": {},
     "output_type": "execute_result"
    }
   ],
   "source": [
    "str1+str2"
   ]
  },
  {
   "cell_type": "code",
   "execution_count": 94,
   "id": "c91bfb02-74e3-4d5d-a975-59da0e5fe00d",
   "metadata": {},
   "outputs": [
    {
     "ename": "TypeError",
     "evalue": "can't multiply sequence by non-int of type 'str'",
     "output_type": "error",
     "traceback": [
      "\u001b[1;31m---------------------------------------------------------------------------\u001b[0m",
      "\u001b[1;31mTypeError\u001b[0m                                 Traceback (most recent call last)",
      "Cell \u001b[1;32mIn[94], line 1\u001b[0m\n\u001b[1;32m----> 1\u001b[0m str1\u001b[38;5;241m*\u001b[39mstr2\n",
      "\u001b[1;31mTypeError\u001b[0m: can't multiply sequence by non-int of type 'str'"
     ]
    }
   ],
   "source": [
    "str1*str2"
   ]
  },
  {
   "cell_type": "code",
   "execution_count": 96,
   "id": "2acf4b05-87b1-465d-ae8d-197eff83d0d4",
   "metadata": {},
   "outputs": [
    {
     "ename": "TypeError",
     "evalue": "unsupported operand type(s) for /: 'str' and 'str'",
     "output_type": "error",
     "traceback": [
      "\u001b[1;31m---------------------------------------------------------------------------\u001b[0m",
      "\u001b[1;31mTypeError\u001b[0m                                 Traceback (most recent call last)",
      "Cell \u001b[1;32mIn[96], line 1\u001b[0m\n\u001b[1;32m----> 1\u001b[0m str1\u001b[38;5;241m/\u001b[39mstr2\n",
      "\u001b[1;31mTypeError\u001b[0m: unsupported operand type(s) for /: 'str' and 'str'"
     ]
    }
   ],
   "source": [
    "str1/str2"
   ]
  },
  {
   "cell_type": "code",
   "execution_count": 98,
   "id": "ae22ea0b-097e-468a-bf4b-5c8d45bab8e6",
   "metadata": {},
   "outputs": [
    {
     "ename": "TypeError",
     "evalue": "unsupported operand type(s) for -: 'str' and 'str'",
     "output_type": "error",
     "traceback": [
      "\u001b[1;31m---------------------------------------------------------------------------\u001b[0m",
      "\u001b[1;31mTypeError\u001b[0m                                 Traceback (most recent call last)",
      "Cell \u001b[1;32mIn[98], line 1\u001b[0m\n\u001b[1;32m----> 1\u001b[0m str1\u001b[38;5;241m-\u001b[39mstr2\n",
      "\u001b[1;31mTypeError\u001b[0m: unsupported operand type(s) for -: 'str' and 'str'"
     ]
    }
   ],
   "source": [
    "str1-str2"
   ]
  },
  {
   "cell_type": "code",
   "execution_count": 100,
   "id": "166271e6-65c8-4971-9f6b-1af5cc4071dd",
   "metadata": {},
   "outputs": [
    {
     "data": {
      "text/plain": [
       "'hellohello'"
      ]
     },
     "execution_count": 100,
     "metadata": {},
     "output_type": "execute_result"
    }
   ],
   "source": [
    "str1*2"
   ]
  },
  {
   "cell_type": "code",
   "execution_count": 102,
   "id": "daa1e650-a2ff-435a-9e79-c23e6d8061ac",
   "metadata": {},
   "outputs": [
    {
     "data": {
      "text/plain": [
       "'pythonpython'"
      ]
     },
     "execution_count": 102,
     "metadata": {},
     "output_type": "execute_result"
    }
   ],
   "source": [
    "'python'+'python'"
   ]
  },
  {
   "cell_type": "markdown",
   "id": "df5c08e7-3205-43a8-80fc-a919b1b23e97",
   "metadata": {},
   "source": [
    "**index**"
   ]
  },
  {
   "cell_type": "code",
   "execution_count": null,
   "id": "26f1be79-8ef8-4067-b857-348cc47d1ad5",
   "metadata": {},
   "outputs": [],
   "source": [
    "str1='python'\n",
    "# -6 -5  -4  -3  -2  -1\n",
    "#'p' 'y' 't' 'h' 'o' 'n'\n",
    "# 0   1   2   3   4   5"
   ]
  },
  {
   "cell_type": "code",
   "execution_count": 4,
   "id": "9dc3578d-0f06-4a3c-8b2a-d3321489ea3b",
   "metadata": {},
   "outputs": [],
   "source": [
    "str1=\"python\""
   ]
  },
  {
   "cell_type": "code",
   "execution_count": 6,
   "id": "c17a0bb9-241f-4746-bdbc-84a731b31dc1",
   "metadata": {},
   "outputs": [
    {
     "name": "stdout",
     "output_type": "stream",
     "text": [
      "0 1 2 3 4 5 "
     ]
    }
   ],
   "source": [
    "for i in range(0,6):\n",
    "    print(i,end=\" \")"
   ]
  },
  {
   "cell_type": "code",
   "execution_count": 8,
   "id": "b11ec473-8d74-450e-89c5-59cb5231a159",
   "metadata": {},
   "outputs": [
    {
     "name": "stdout",
     "output_type": "stream",
     "text": [
      "0 1 2 3 4 5 "
     ]
    }
   ],
   "source": [
    "for str1 in range(0,6):\n",
    "    print(str1,end=\" \")"
   ]
  },
  {
   "cell_type": "code",
   "execution_count": 10,
   "id": "b9a4e9d9-23ff-43a5-9ad4-368181c40ec8",
   "metadata": {},
   "outputs": [
    {
     "ename": "TypeError",
     "evalue": "'int' object is not iterable",
     "output_type": "error",
     "traceback": [
      "\u001b[1;31m---------------------------------------------------------------------------\u001b[0m",
      "\u001b[1;31mTypeError\u001b[0m                                 Traceback (most recent call last)",
      "Cell \u001b[1;32mIn[10], line 1\u001b[0m\n\u001b[1;32m----> 1\u001b[0m \u001b[38;5;28;01mfor\u001b[39;00m i \u001b[38;5;129;01min\u001b[39;00m str1:\n\u001b[0;32m      2\u001b[0m     \u001b[38;5;28mprint\u001b[39m(i,end\u001b[38;5;241m=\u001b[39m\u001b[38;5;124m\"\u001b[39m\u001b[38;5;124m \u001b[39m\u001b[38;5;124m\"\u001b[39m)\n",
      "\u001b[1;31mTypeError\u001b[0m: 'int' object is not iterable"
     ]
    }
   ],
   "source": []
  },
  {
   "cell_type": "code",
   "execution_count": 12,
   "id": "448c0430-b2e2-4264-a9d0-ad57d4e7eb0f",
   "metadata": {},
   "outputs": [
    {
     "ename": "TypeError",
     "evalue": "'int' object is not subscriptable",
     "output_type": "error",
     "traceback": [
      "\u001b[1;31m---------------------------------------------------------------------------\u001b[0m",
      "\u001b[1;31mTypeError\u001b[0m                                 Traceback (most recent call last)",
      "Cell \u001b[1;32mIn[12], line 2\u001b[0m\n\u001b[0;32m      1\u001b[0m \u001b[38;5;28;01mfor\u001b[39;00m i \u001b[38;5;129;01min\u001b[39;00m \u001b[38;5;28mrange\u001b[39m(\u001b[38;5;241m0\u001b[39m,\u001b[38;5;241m6\u001b[39m):\n\u001b[1;32m----> 2\u001b[0m     \u001b[38;5;28mprint\u001b[39m(str1[i])\n",
      "\u001b[1;31mTypeError\u001b[0m: 'int' object is not subscriptable"
     ]
    }
   ],
   "source": [
    "for i in range(0,6):\n",
    "    print(str1[i])"
   ]
  },
  {
   "cell_type": "code",
   "execution_count": 16,
   "id": "c39ec32e-3f64-4204-85be-ef555cda337f",
   "metadata": {},
   "outputs": [
    {
     "ename": "TypeError",
     "evalue": "'int' object is not subscriptable",
     "output_type": "error",
     "traceback": [
      "\u001b[1;31m---------------------------------------------------------------------------\u001b[0m",
      "\u001b[1;31mTypeError\u001b[0m                                 Traceback (most recent call last)",
      "Cell \u001b[1;32mIn[16], line 2\u001b[0m\n\u001b[0;32m      1\u001b[0m \u001b[38;5;28;01mfor\u001b[39;00m i \u001b[38;5;129;01min\u001b[39;00m \u001b[38;5;28mrange\u001b[39m(\u001b[38;5;241m6\u001b[39m):\n\u001b[1;32m----> 2\u001b[0m     \u001b[38;5;28mprint\u001b[39m(i,str1[i])\n",
      "\u001b[1;31mTypeError\u001b[0m: 'int' object is not subscriptable"
     ]
    }
   ],
   "source": [
    "for i in range(6):\n",
    "    print(i,str1[i])"
   ]
  },
  {
   "cell_type": "code",
   "execution_count": 18,
   "id": "9e54e33b-ffdf-4395-8202-6e5254e404b7",
   "metadata": {},
   "outputs": [
    {
     "name": "stdout",
     "output_type": "stream",
     "text": [
      "The positive index of p is : 0\n",
      "The positive index of y is : 1\n",
      "The positive index of t is : 2\n",
      "The positive index of h is : 3\n",
      "The positive index of o is : 4\n",
      "The positive index of n is : 5\n"
     ]
    }
   ],
   "source": [
    "str1=\"python\"\n",
    "for i in range(len(str1)):\n",
    "    print(f\"The positive index of {str1[i]} is : {i}\")"
   ]
  },
  {
   "cell_type": "code",
   "execution_count": 22,
   "id": "a654ccba-9817-4a74-847f-0029d2fa494c",
   "metadata": {},
   "outputs": [
    {
     "ename": "ValueError",
     "evalue": "Invalid format specifier ':-1' for object of type 'str'",
     "output_type": "error",
     "traceback": [
      "\u001b[1;31m---------------------------------------------------------------------------\u001b[0m",
      "\u001b[1;31mValueError\u001b[0m                                Traceback (most recent call last)",
      "Cell \u001b[1;32mIn[22], line 3\u001b[0m\n\u001b[0;32m      1\u001b[0m str1\u001b[38;5;241m=\u001b[39m\u001b[38;5;124m\"\u001b[39m\u001b[38;5;124mpython\u001b[39m\u001b[38;5;124m\"\u001b[39m\n\u001b[0;32m      2\u001b[0m \u001b[38;5;28;01mfor\u001b[39;00m i \u001b[38;5;129;01min\u001b[39;00m \u001b[38;5;28mrange\u001b[39m(\u001b[38;5;28mlen\u001b[39m(str1)):\n\u001b[1;32m----> 3\u001b[0m     \u001b[38;5;28mprint\u001b[39m(\u001b[38;5;124mf\u001b[39m\u001b[38;5;124m\"\u001b[39m\u001b[38;5;124mThe negative index of \u001b[39m\u001b[38;5;132;01m{\u001b[39;00mstr1[i]\u001b[38;5;132;01m:\u001b[39;00m\u001b[38;5;124m:-1\u001b[39m\u001b[38;5;132;01m}\u001b[39;00m\u001b[38;5;124m is : \u001b[39m\u001b[38;5;132;01m{\u001b[39;00mi\u001b[38;5;132;01m}\u001b[39;00m\u001b[38;5;124m\"\u001b[39m)\n",
      "\u001b[1;31mValueError\u001b[0m: Invalid format specifier ':-1' for object of type 'str'"
     ]
    }
   ],
   "source": [
    "str1=\"python\"\n",
    "for i in range(len(str1)):\n",
    "    print(f\"The negative index of {str1[i]} is : {i}\")"
   ]
  },
  {
   "cell_type": "code",
   "execution_count": 24,
   "id": "08cb6673-96ca-470b-af08-26d70359c4b1",
   "metadata": {},
   "outputs": [
    {
     "name": "stdout",
     "output_type": "stream",
     "text": [
      "The negative index of p is : -6\n",
      "The positive index of p is : 0\n",
      "The negative index of y is : -5\n",
      "The positive index of y is : 1\n",
      "The negative index of t is : -4\n",
      "The positive index of t is : 2\n",
      "The negative index of h is : -3\n",
      "The positive index of h is : 3\n",
      "The negative index of o is : -2\n",
      "The positive index of o is : 4\n",
      "The negative index of n is : -1\n",
      "The positive index of n is : 5\n"
     ]
    }
   ],
   "source": [
    "str1=\"python\"\n",
    "for i in range(len(str1)):\n",
    "    print(f\"The negative index of {str1[i]} is : {i-len(str1)}\")\n",
    "    print(f\"The positive index of {str1[i]} is : {i}\")\n",
    "    "
   ]
  },
  {
   "cell_type": "code",
   "execution_count": 28,
   "id": "008c2e01-dc77-4017-a980-3cd52fb80ba7",
   "metadata": {},
   "outputs": [
    {
     "name": "stdout",
     "output_type": "stream",
     "text": [
      "-6 is (-) index and 0 is (+)ve index of p\n",
      "-5 is (-) index and 1 is (+)ve index of y\n",
      "-4 is (-) index and 2 is (+)ve index of t\n",
      "-3 is (-) index and 3 is (+)ve index of h\n",
      "-2 is (-) index and 4 is (+)ve index of o\n",
      "-1 is (-) index and 5 is (+)ve index of n\n"
     ]
    }
   ],
   "source": [
    "n=len(str1)\n",
    "for i in range(n):\n",
    "    print(f\"{i-n} is (-) index and {i} is (+)ve index of {str1[i]}\")"
   ]
  },
  {
   "cell_type": "markdown",
   "id": "c6824ce0-7f85-448f-b235-f3610a8ce6cc",
   "metadata": {},
   "source": [
    "**when to use range = when to use in operator**\n",
    "- any problem if we work with index use range operator\n",
    "- range operator will give index as well as character\n",
    "- any problem if index is not useful, only character is useful then go with **in**\n",
    "- with in operator we can not get index"
   ]
  },
  {
   "cell_type": "code",
   "execution_count": null,
   "id": "d3f95c03-6b39-462a-ac06-0dff31ecbb78",
   "metadata": {},
   "outputs": [],
   "source": [
    "#q4 wap count the number of 'a' letters in a given string\n",
    "# str1='hello python how are you'\n",
    "##q5 wap to find the index of 'a' letters in a given string\n",
    "# str1='hello python how are you'\n",
    "#q6 wap to get sum of all the indexes of 'a' letters in a given string\n",
    "# str1='hello python how are you'"
   ]
  },
  {
   "cell_type": "code",
   "execution_count": 47,
   "id": "86d679b6-d2c1-45e9-bc30-aebcc3378d20",
   "metadata": {},
   "outputs": [],
   "source": [
    "str1='hello python how are you'\n",
    "for i in range(len(str1[i])):\n",
    "    if len(str1[i])=='a':\n",
    "        count=count+1\n",
    "        print(f\"The number of 'a' letters in {str1} are : {count}\")"
   ]
  },
  {
   "cell_type": "code",
   "execution_count": 3,
   "id": "82a1b900-fb1c-4aaf-84f6-ee7f4fb16568",
   "metadata": {},
   "outputs": [
    {
     "name": "stdout",
     "output_type": "stream",
     "text": [
      "1\n"
     ]
    }
   ],
   "source": [
    "str1='hello python how are you'\n",
    "count=0\n",
    "for i in str1:\n",
    "    if i==\"a\":\n",
    "        count=count+1\n",
    "print(count)"
   ]
  },
  {
   "cell_type": "code",
   "execution_count": 37,
   "id": "c2967b16-c12c-4935-8d19-0272d4410dbc",
   "metadata": {},
   "outputs": [
    {
     "data": {
      "text/plain": [
       "'h'"
      ]
     },
     "execution_count": 37,
     "metadata": {},
     "output_type": "execute_result"
    }
   ],
   "source": [
    "str1='hello python how are you'\n",
    "str1[0]"
   ]
  },
  {
   "cell_type": "code",
   "execution_count": 19,
   "id": "bf746a26-912f-4527-a28c-2036e6fca12b",
   "metadata": {},
   "outputs": [
    {
     "name": "stdout",
     "output_type": "stream",
     "text": [
      "0\n",
      "1\n",
      "2\n",
      "3\n",
      "4\n",
      "5\n",
      "6\n",
      "7\n",
      "8\n",
      "9\n",
      "10\n"
     ]
    }
   ],
   "source": [
    "str1='ola ola ola'\n",
    "count=0\n",
    "for i in range(len(str1)):\n",
    "    print(i)"
   ]
  },
  {
   "cell_type": "code",
   "execution_count": 53,
   "id": "68e38fbd-dc6c-4558-9620-1e22b3091c42",
   "metadata": {},
   "outputs": [
    {
     "name": "stdout",
     "output_type": "stream",
     "text": [
      "The number of 'a' letters in ola ola ola are : 3\n"
     ]
    }
   ],
   "source": [
    "str1='ola ola ola'\n",
    "count=0\n",
    "for i in str1:\n",
    "    if  i=='a':\n",
    "        count=count+1\n",
    "print(f\"The number of 'a' letters in {str1} are : {count}\")"
   ]
  },
  {
   "cell_type": "code",
   "execution_count": 69,
   "id": "d28d478f-5d5e-42e3-a170-503dae30866e",
   "metadata": {},
   "outputs": [
    {
     "name": "stdout",
     "output_type": "stream",
     "text": [
      "e\n",
      "o\n",
      "o\n",
      "o\n",
      "a\n",
      "e\n",
      "o\n",
      "u\n",
      "the number of vowels in str1 are : 8\n"
     ]
    }
   ],
   "source": [
    "str1='hello python how are you'\n",
    "count=0\n",
    "for i in str1:\n",
    "    if i=='a' or i=='e' or i=='i' or i=='o' or i=='u':\n",
    "        print(i)\n",
    "        count=count+1\n",
    "print(f\"the number of vowels in str1 are : {count}\")"
   ]
  },
  {
   "cell_type": "code",
   "execution_count": 59,
   "id": "ec288624-ae02-4ad8-8025-fc69c6154020",
   "metadata": {},
   "outputs": [
    {
     "name": "stdout",
     "output_type": "stream",
     "text": [
      "e\n",
      "o\n",
      "o\n",
      "o\n",
      "a\n",
      "e\n",
      "o\n",
      "u\n",
      "the number of vowels in str1 are : 8\n"
     ]
    }
   ],
   "source": [
    "str1='hello python how are you'\n",
    "count=0\n",
    "for i in str1:\n",
    "    if i in 'aeiou':\n",
    "        print(i)\n",
    "        count=count+1\n",
    "print(f\"the number of vowels in str1 are : {count}\")"
   ]
  },
  {
   "cell_type": "code",
   "execution_count": 79,
   "id": "c21fe311-c6f7-4608-8e6d-f719eb9a169c",
   "metadata": {},
   "outputs": [
    {
     "name": "stdout",
     "output_type": "stream",
     "text": [
      "e\n",
      "o\n",
      "a\n",
      "u\n",
      "the total count is : 4\n"
     ]
    }
   ],
   "source": [
    "s1=''\n",
    "s2='aeiou'\n",
    "str1=\"hello python how are you\"\n",
    "count=0\n",
    "for i in str1:\n",
    "    if i in s2 and i not in s1:\n",
    "        print(i)\n",
    "        s1=s1+i\n",
    "        count=count+1\n",
    "print(\"the total count is :\",count)"
   ]
  },
  {
   "cell_type": "markdown",
   "id": "d810de8a-cead-40aa-a7b2-82439d0587ce",
   "metadata": {},
   "source": [
    "**mutable and immutable**\n",
    "- mutable means changeing\n",
    "- immutable means no change"
   ]
  },
  {
   "cell_type": "code",
   "execution_count": 3,
   "id": "c04edc72-3e1b-4aba-8dcd-6d61a8fea96e",
   "metadata": {},
   "outputs": [
    {
     "data": {
      "text/plain": [
       "'l'"
      ]
     },
     "execution_count": 3,
     "metadata": {},
     "output_type": "execute_result"
    }
   ],
   "source": [
    "str1='welcome'\n",
    "str1[2]"
   ]
  },
  {
   "cell_type": "code",
   "execution_count": 9,
   "id": "8bf1fa39-4420-4b0a-afed-8eb5530bb760",
   "metadata": {},
   "outputs": [
    {
     "ename": "TypeError",
     "evalue": "'str' object does not support item assignment",
     "output_type": "error",
     "traceback": [
      "\u001b[1;31m---------------------------------------------------------------------------\u001b[0m",
      "\u001b[1;31mTypeError\u001b[0m                                 Traceback (most recent call last)",
      "Cell \u001b[1;32mIn[9], line 2\u001b[0m\n\u001b[0;32m      1\u001b[0m str1\u001b[38;5;241m=\u001b[39m\u001b[38;5;124m'\u001b[39m\u001b[38;5;124mwelcome\u001b[39m\u001b[38;5;124m'\u001b[39m\n\u001b[1;32m----> 2\u001b[0m str1[\u001b[38;5;241m2\u001b[39m]\u001b[38;5;241m=\u001b[39m\u001b[38;5;124m'\u001b[39m\u001b[38;5;124mL\u001b[39m\u001b[38;5;124m'\u001b[39m\n\u001b[0;32m      3\u001b[0m \u001b[38;5;28mprint\u001b[39m(str1)\n",
      "\u001b[1;31mTypeError\u001b[0m: 'str' object does not support item assignment"
     ]
    }
   ],
   "source": [
    "str1='welcome'\n",
    "str1[2]='L'\n",
    "print(str1)"
   ]
  },
  {
   "cell_type": "code",
   "execution_count": 11,
   "id": "ad31d4e1-61c4-4486-afac-d095a40b1098",
   "metadata": {},
   "outputs": [
    {
     "data": {
      "text/plain": [
       "33"
      ]
     },
     "execution_count": 11,
     "metadata": {},
     "output_type": "execute_result"
    }
   ],
   "source": [
    "l=[11,22,33,44]\n",
    "l[2]\n"
   ]
  },
  {
   "cell_type": "code",
   "execution_count": 13,
   "id": "811a2a82-457e-49ff-86fb-50276f5f3164",
   "metadata": {},
   "outputs": [
    {
     "data": {
      "text/plain": [
       "[11, 22, 45, 44]"
      ]
     },
     "execution_count": 13,
     "metadata": {},
     "output_type": "execute_result"
    }
   ],
   "source": [
    "l[2]=45\n",
    "l"
   ]
  },
  {
   "cell_type": "markdown",
   "id": "cac788ab-598b-426d-a477-b9f3f37640ac",
   "metadata": {},
   "source": [
    "**slicing**\n",
    "- slice : Piece of string\n",
    "- it is similar to for loop start:stop:step"
   ]
  },
  {
   "cell_type": "code",
   "execution_count": 16,
   "id": "257ce208-1f89-4c3d-8068-1f845b5dcb27",
   "metadata": {},
   "outputs": [],
   "source": [
    "str1='hello how are you'"
   ]
  },
  {
   "cell_type": "code",
   "execution_count": 18,
   "id": "fe78097f-f6b0-4bdb-b472-8efaca2a753a",
   "metadata": {},
   "outputs": [
    {
     "data": {
      "text/plain": [
       "17"
      ]
     },
     "execution_count": 18,
     "metadata": {},
     "output_type": "execute_result"
    }
   ],
   "source": [
    "len(str1)"
   ]
  },
  {
   "cell_type": "code",
   "execution_count": null,
   "id": "f07e5964-4334-4c06-b53a-5ea06780684b",
   "metadata": {},
   "outputs": [],
   "source": [
    "-17 -16 -15 -14 -13 -12 -11 -10 -9 -8 -7 -6 -5 -4 -3 -2 -1\n",
    " h   e   l   l   o       h   o   w     a  r  e     y  o  u\n",
    " 0   1   2   3   4   5   6   7   8  9  10 11 12 13 14 15 16 "
   ]
  },
  {
   "cell_type": "code",
   "execution_count": 13,
   "id": "524edc79-895d-46f4-a3e7-fde502bd106f",
   "metadata": {},
   "outputs": [
    {
     "name": "stdout",
     "output_type": "stream",
     "text": [
      "-17 -16 -15 -14 -13 -12 -11 -10 -9 -8 -7 -6 -5 -4 -3 -2 -1 "
     ]
    }
   ],
   "source": [
    "for i in range(0,17):\n",
    "    \n",
    "        print(i-17,end=\" \")"
   ]
  },
  {
   "cell_type": "markdown",
   "id": "48ff21a1-2085-4694-806c-7f35580e6f02",
   "metadata": {},
   "source": [
    "**case-1:** \n",
    "- start =start value\n",
    "- step is not mentioned means positive 1 (go with +1 increment)\n",
    "- stop = stop value"
   ]
  },
  {
   "cell_type": "markdown",
   "id": "07ac8cdc-0142-40e9-ae36-58905b186766",
   "metadata": {},
   "source": [
    "**case-2:**\n",
    "- str1=[start:stop]\n",
    "- start=start value\n",
    "- step= no given means +ve\n",
    "- stop= stop value"
   ]
  },
  {
   "cell_type": "code",
   "execution_count": 32,
   "id": "72f07393-befa-4029-88cf-e0c0084ed542",
   "metadata": {},
   "outputs": [
    {
     "data": {
      "text/plain": [
       "' how are y'"
      ]
     },
     "execution_count": 32,
     "metadata": {},
     "output_type": "execute_result"
    }
   ],
   "source": [
    "str1='hello how are you'\n",
    "str1[-12:-2]"
   ]
  },
  {
   "cell_type": "markdown",
   "id": "fa6b8335-58dc-4538-97ed-bd155bdf5bbd",
   "metadata": {},
   "source": [
    "**case-3:**\n",
    "- "
   ]
  },
  {
   "cell_type": "code",
   "execution_count": 36,
   "id": "93d91655-c35c-419f-bb52-ba502a49dccd",
   "metadata": {},
   "outputs": [
    {
     "data": {
      "text/plain": [
       "''"
      ]
     },
     "execution_count": 36,
     "metadata": {},
     "output_type": "execute_result"
    }
   ],
   "source": [
    "str1='hello how are you'\n",
    "str1[2:-15:2]"
   ]
  },
  {
   "cell_type": "code",
   "execution_count": 38,
   "id": "1a92c9bd-2d40-4f22-99a6-569384f44dc0",
   "metadata": {},
   "outputs": [
    {
     "data": {
      "text/plain": [
       "''"
      ]
     },
     "execution_count": 38,
     "metadata": {},
     "output_type": "execute_result"
    }
   ],
   "source": [
    "str1='hello how are you'\n",
    "str1[-2:15:2]"
   ]
  },
  {
   "cell_type": "code",
   "execution_count": 40,
   "id": "91d49d43-ae96-485c-a129-0a30c5b75768",
   "metadata": {},
   "outputs": [
    {
     "data": {
      "text/plain": [
       "''"
      ]
     },
     "execution_count": 40,
     "metadata": {},
     "output_type": "execute_result"
    }
   ],
   "source": [
    "str1='hello how are you'\n",
    "str1[15:-2:2]"
   ]
  },
  {
   "cell_type": "code",
   "execution_count": 42,
   "id": "a2cc799f-7586-46bd-aea7-0bf277c431c6",
   "metadata": {},
   "outputs": [
    {
     "data": {
      "text/plain": [
       "''"
      ]
     },
     "execution_count": 42,
     "metadata": {},
     "output_type": "execute_result"
    }
   ],
   "source": [
    "str1='hello how are you'\n",
    "str1[2:-15:2]"
   ]
  },
  {
   "cell_type": "code",
   "execution_count": 44,
   "id": "c781b592-757e-4cef-81bb-b36d64516398",
   "metadata": {},
   "outputs": [
    {
     "data": {
      "text/plain": [
       "'l'"
      ]
     },
     "execution_count": 44,
     "metadata": {},
     "output_type": "execute_result"
    }
   ],
   "source": [
    "str1='hello how are you'\n",
    "str1[2:3:1]"
   ]
  },
  {
   "cell_type": "code",
   "execution_count": 46,
   "id": "87d82e35-5e17-469b-b659-eb6b3eb234a3",
   "metadata": {},
   "outputs": [
    {
     "data": {
      "text/plain": [
       "'l'"
      ]
     },
     "execution_count": 46,
     "metadata": {},
     "output_type": "execute_result"
    }
   ],
   "source": [
    "str1='hello how are you'\n",
    "str1[2:-14:1]"
   ]
  },
  {
   "cell_type": "code",
   "execution_count": 48,
   "id": "fc7e06a8-9c83-4278-a487-200e694f404a",
   "metadata": {},
   "outputs": [
    {
     "data": {
      "text/plain": [
       "'l'"
      ]
     },
     "execution_count": 48,
     "metadata": {},
     "output_type": "execute_result"
    }
   ],
   "source": [
    "str1='hello how are you'\n",
    "str1[2:-14:2]"
   ]
  },
  {
   "cell_type": "code",
   "execution_count": 50,
   "id": "1f06eea3-e3c5-400f-8228-983305e956c6",
   "metadata": {},
   "outputs": [
    {
     "data": {
      "text/plain": [
       "'llo how are you'"
      ]
     },
     "execution_count": 50,
     "metadata": {},
     "output_type": "execute_result"
    }
   ],
   "source": [
    "str1='hello how are you'\n",
    "str1[2:25]"
   ]
  },
  {
   "cell_type": "code",
   "execution_count": null,
   "id": "9177c3e9-ae7e-4701-998a-86e75afc296b",
   "metadata": {},
   "outputs": [],
   "source": [
    "#str[start:stop:step]\n"
   ]
  },
  {
   "cell_type": "markdown",
   "id": "f24ddc6a-f843-4deb-92b7-d4b54cff803a",
   "metadata": {},
   "source": [
    "**Methods**"
   ]
  },
  {
   "cell_type": "code",
   "execution_count": 53,
   "id": "52929d95-7d5c-4edf-b277-8bba383509a8",
   "metadata": {},
   "outputs": [
    {
     "data": {
      "text/plain": [
       "['__add__',\n",
       " '__class__',\n",
       " '__contains__',\n",
       " '__delattr__',\n",
       " '__dir__',\n",
       " '__doc__',\n",
       " '__eq__',\n",
       " '__format__',\n",
       " '__ge__',\n",
       " '__getattribute__',\n",
       " '__getitem__',\n",
       " '__getnewargs__',\n",
       " '__getstate__',\n",
       " '__gt__',\n",
       " '__hash__',\n",
       " '__init__',\n",
       " '__init_subclass__',\n",
       " '__iter__',\n",
       " '__le__',\n",
       " '__len__',\n",
       " '__lt__',\n",
       " '__mod__',\n",
       " '__mul__',\n",
       " '__ne__',\n",
       " '__new__',\n",
       " '__reduce__',\n",
       " '__reduce_ex__',\n",
       " '__repr__',\n",
       " '__rmod__',\n",
       " '__rmul__',\n",
       " '__setattr__',\n",
       " '__sizeof__',\n",
       " '__str__',\n",
       " '__subclasshook__',\n",
       " 'capitalize',\n",
       " 'casefold',\n",
       " 'center',\n",
       " 'count',\n",
       " 'encode',\n",
       " 'endswith',\n",
       " 'expandtabs',\n",
       " 'find',\n",
       " 'format',\n",
       " 'format_map',\n",
       " 'index',\n",
       " 'isalnum',\n",
       " 'isalpha',\n",
       " 'isascii',\n",
       " 'isdecimal',\n",
       " 'isdigit',\n",
       " 'isidentifier',\n",
       " 'islower',\n",
       " 'isnumeric',\n",
       " 'isprintable',\n",
       " 'isspace',\n",
       " 'istitle',\n",
       " 'isupper',\n",
       " 'join',\n",
       " 'ljust',\n",
       " 'lower',\n",
       " 'lstrip',\n",
       " 'maketrans',\n",
       " 'partition',\n",
       " 'removeprefix',\n",
       " 'removesuffix',\n",
       " 'replace',\n",
       " 'rfind',\n",
       " 'rindex',\n",
       " 'rjust',\n",
       " 'rpartition',\n",
       " 'rsplit',\n",
       " 'rstrip',\n",
       " 'split',\n",
       " 'splitlines',\n",
       " 'startswith',\n",
       " 'strip',\n",
       " 'swapcase',\n",
       " 'title',\n",
       " 'translate',\n",
       " 'upper',\n",
       " 'zfill']"
      ]
     },
     "execution_count": 53,
     "metadata": {},
     "output_type": "execute_result"
    }
   ],
   "source": [
    "name='irshad'\n",
    "dir(name)"
   ]
  },
  {
   "cell_type": "markdown",
   "id": "59e01acf-ed10-4c0d-88c3-e07ca10c1ff9",
   "metadata": {},
   "source": [
    "**upper**"
   ]
  },
  {
   "cell_type": "code",
   "execution_count": 86,
   "id": "43728d70-ba85-4b36-97f7-c6ab0284cb26",
   "metadata": {},
   "outputs": [
    {
     "name": "stdout",
     "output_type": "stream",
     "text": [
      "IRSHAD\n"
     ]
    }
   ],
   "source": [
    "name='irshad'\n",
    "dir(name)\n",
    "name_upper=name.upper()\n",
    "print(name_upper)"
   ]
  },
  {
   "cell_type": "code",
   "execution_count": null,
   "id": "1d40d029-b275-4407-ae77-891b0c660300",
   "metadata": {},
   "outputs": [],
   "source": [
    "<package_name>.<method_name>"
   ]
  },
  {
   "cell_type": "code",
   "execution_count": 58,
   "id": "80500c5b-36ed-48c7-91b2-e6ebee1fc014",
   "metadata": {},
   "outputs": [
    {
     "data": {
      "text/plain": [
       "'irshad'"
      ]
     },
     "execution_count": 58,
     "metadata": {},
     "output_type": "execute_result"
    }
   ],
   "source": [
    "name.lower()"
   ]
  },
  {
   "cell_type": "markdown",
   "id": "98bcb5a3-a5d8-49c0-9c9f-df9121c30fc9",
   "metadata": {},
   "source": [
    "**output will not overwrite**"
   ]
  },
  {
   "cell_type": "markdown",
   "id": "c1fd5cd9-2a80-43dc-8e31-17363695fd21",
   "metadata": {},
   "source": [
    "- whenever we apply the function\n",
    "- always ap0ply shift+tab\n",
    "- then if any arguments are there try to understand those\n",
    "- in that one argument name is called as **inplace**\n",
    "- inplace=True the result will be overwrite in orginal variable\n",
    "- if inplace not available or inplace=False\n",
    "- then the output will not overwrite\n",
    "- in the uppercase there is no argument\n",
    "- so when we apply upper the output will not overwrite"
   ]
  },
  {
   "cell_type": "code",
   "execution_count": 60,
   "id": "b4b0e701-53c8-45c5-9df6-d878120bc998",
   "metadata": {},
   "outputs": [
    {
     "data": {
      "text/plain": [
       "'irshad'"
      ]
     },
     "execution_count": 60,
     "metadata": {},
     "output_type": "execute_result"
    }
   ],
   "source": [
    "name.casefold()"
   ]
  },
  {
   "cell_type": "code",
   "execution_count": 72,
   "id": "fa208c2b-4e23-404f-b56e-8676dcd4d84a",
   "metadata": {},
   "outputs": [
    {
     "name": "stdout",
     "output_type": "stream",
     "text": [
      "python\n"
     ]
    }
   ],
   "source": [
    "n='python'\n",
    "m=n.center(4)\n",
    "print(m)"
   ]
  },
  {
   "cell_type": "code",
   "execution_count": 76,
   "id": "0dc427cd-9241-4e0e-b8b8-8cbd772224de",
   "metadata": {},
   "outputs": [
    {
     "data": {
      "text/plain": [
       "'Irshad'"
      ]
     },
     "execution_count": 76,
     "metadata": {},
     "output_type": "execute_result"
    }
   ],
   "source": [
    "name.capitalize()"
   ]
  },
  {
   "cell_type": "code",
   "execution_count": 78,
   "id": "d721b061-871f-4d79-a50b-55d16287c2a4",
   "metadata": {},
   "outputs": [
    {
     "data": {
      "text/plain": [
       "'Irshad'"
      ]
     },
     "execution_count": 78,
     "metadata": {},
     "output_type": "execute_result"
    }
   ],
   "source": [
    "name.title()"
   ]
  },
  {
   "cell_type": "code",
   "execution_count": 80,
   "id": "b0c696b5-abaf-491f-9a70-0c93f15303fa",
   "metadata": {},
   "outputs": [
    {
     "data": {
      "text/plain": [
       "'irshad'"
      ]
     },
     "execution_count": 80,
     "metadata": {},
     "output_type": "execute_result"
    }
   ],
   "source": [
    "name.center(2)"
   ]
  },
  {
   "cell_type": "code",
   "execution_count": null,
   "id": "54a61882-a412-488a-96f9-04f46ca2933b",
   "metadata": {},
   "outputs": [],
   "source": [
    "PYTHON.lower() #error\n",
    "lower('python') #fail\n",
    "min('python') # pass\n",
    "# min is a inbuilt function but lower is a method in string"
   ]
  },
  {
   "cell_type": "markdown",
   "id": "3d8ecd67-676a-4aaf-8786-96cf2b5bbb55",
   "metadata": {},
   "source": [
    "**Methods vs inbuilt function**\n",
    "- inbuilt functions applicable for all python data types\n",
    "- ex: print, type,min,max\n",
    "- access: inbuilt_function()\n",
    "- method is a specific use for different data types\n",
    "- access: package.methodname()\n",
    "- access: element.methodname()"
   ]
  },
  {
   "cell_type": "markdown",
   "id": "e5213eee-6a63-4d9f-bacd-568d4f036dea",
   "metadata": {},
   "source": [
    "**casefold**"
   ]
  },
  {
   "cell_type": "code",
   "execution_count": 90,
   "id": "505d2ce6-af1d-4f14-95d1-1c85899a7d0c",
   "metadata": {},
   "outputs": [
    {
     "data": {
      "text/plain": [
       "'Hello How Are You'"
      ]
     },
     "execution_count": 90,
     "metadata": {},
     "output_type": "execute_result"
    }
   ],
   "source": [
    "str1='hello'\n",
    "str2='hello how are you'\n",
    "str1.casefold()\n",
    "str2.title()"
   ]
  },
  {
   "cell_type": "code",
   "execution_count": 94,
   "id": "5b0769c9-b4b2-4f3e-a639-5185c0b20efe",
   "metadata": {},
   "outputs": [
    {
     "data": {
      "text/plain": [
       "'Hello'"
      ]
     },
     "execution_count": 94,
     "metadata": {},
     "output_type": "execute_result"
    }
   ],
   "source": [
    "str1.capitalize()"
   ]
  },
  {
   "cell_type": "code",
   "execution_count": 96,
   "id": "440a5987-c728-4d46-9d3e-4174fdba6da4",
   "metadata": {},
   "outputs": [
    {
     "data": {
      "text/plain": [
       "'Welcome'"
      ]
     },
     "execution_count": 96,
     "metadata": {},
     "output_type": "execute_result"
    }
   ],
   "source": [
    "'welcome'.title()\n",
    "#shift+tab will not work"
   ]
  },
  {
   "cell_type": "code",
   "execution_count": 98,
   "id": "d49ae403-1abd-4f6b-80ff-509352d7e8ac",
   "metadata": {},
   "outputs": [
    {
     "data": {
      "text/plain": [
       "' python'"
      ]
     },
     "execution_count": 98,
     "metadata": {},
     "output_type": "execute_result"
    }
   ],
   "source": [
    "str1='python'\n",
    "str1.center(7)"
   ]
  },
  {
   "cell_type": "code",
   "execution_count": 102,
   "id": "6a22ae55-b348-4196-baf2-3ec39714b4fe",
   "metadata": {},
   "outputs": [
    {
     "data": {
      "text/plain": [
       "20"
      ]
     },
     "execution_count": 102,
     "metadata": {},
     "output_type": "execute_result"
    }
   ],
   "source": [
    "len(str1.center(20))"
   ]
  },
  {
   "cell_type": "code",
   "execution_count": 104,
   "id": "bce7072a-d5c2-411d-b789-7c80219701dd",
   "metadata": {},
   "outputs": [
    {
     "data": {
      "text/plain": [
       "'*******python*******'"
      ]
     },
     "execution_count": 104,
     "metadata": {},
     "output_type": "execute_result"
    }
   ],
   "source": [
    "str1.center(20,'*')"
   ]
  },
  {
   "cell_type": "code",
   "execution_count": 106,
   "id": "ddfcadba-9d7a-400b-ad62-3053dd43a19f",
   "metadata": {},
   "outputs": [
    {
     "data": {
      "text/plain": [
       "'********python*******'"
      ]
     },
     "execution_count": 106,
     "metadata": {},
     "output_type": "execute_result"
    }
   ],
   "source": [
    "str1.center(21,'*')"
   ]
  },
  {
   "cell_type": "code",
   "execution_count": 110,
   "id": "9d7d18f1-61b1-46e1-950a-a22f3c6e9840",
   "metadata": {},
   "outputs": [
    {
     "data": {
      "text/plain": [
       "'heLLo'"
      ]
     },
     "execution_count": 110,
     "metadata": {},
     "output_type": "execute_result"
    }
   ],
   "source": [
    "str1='hello'\n",
    "str1.replace('l','L')\n"
   ]
  },
  {
   "cell_type": "markdown",
   "id": "f1a51fee-7965-43a0-9ec9-a7283743c5f6",
   "metadata": {},
   "source": [
    "**strings are immutable with indexing but mutable with methods**"
   ]
  },
  {
   "cell_type": "code",
   "execution_count": 113,
   "id": "767401b3-d1ad-4166-ac70-48b78639f424",
   "metadata": {},
   "outputs": [
    {
     "data": {
      "text/plain": [
       "'weLllcome'"
      ]
     },
     "execution_count": 113,
     "metadata": {},
     "output_type": "execute_result"
    }
   ],
   "source": [
    "str1='welllcome'\n",
    "str1.replace('l','L',1)"
   ]
  },
  {
   "cell_type": "code",
   "execution_count": 115,
   "id": "7bc807d8-dfc6-408a-862a-a265b1d9f526",
   "metadata": {},
   "outputs": [
    {
     "data": {
      "text/plain": [
       "'weLLLcome'"
      ]
     },
     "execution_count": 115,
     "metadata": {},
     "output_type": "execute_result"
    }
   ],
   "source": [
    "str1='welllcome'\n",
    "str1.replace('l','L',-1)"
   ]
  },
  {
   "cell_type": "code",
   "execution_count": 117,
   "id": "dc4b681e-41b2-4b7d-94aa-a4985756463e",
   "metadata": {},
   "outputs": [
    {
     "data": {
      "text/plain": [
       "'weLLlcome'"
      ]
     },
     "execution_count": 117,
     "metadata": {},
     "output_type": "execute_result"
    }
   ],
   "source": [
    "str1='welllcome'\n",
    "str1.replace('l','L',2)"
   ]
  },
  {
   "cell_type": "code",
   "execution_count": 119,
   "id": "e7644167-21e4-4768-862d-9fbe5620bbd9",
   "metadata": {},
   "outputs": [
    {
     "data": {
      "text/plain": [
       "'weLLLcome'"
      ]
     },
     "execution_count": 119,
     "metadata": {},
     "output_type": "execute_result"
    }
   ],
   "source": [
    "str1='welllcome'\n",
    "str1.replace('l','L',4)"
   ]
  },
  {
   "cell_type": "code",
   "execution_count": 121,
   "id": "016aab16-a5b3-4ed1-9fe2-98952edc77da",
   "metadata": {},
   "outputs": [
    {
     "data": {
      "text/plain": [
       "'welllcome'"
      ]
     },
     "execution_count": 121,
     "metadata": {},
     "output_type": "execute_result"
    }
   ],
   "source": [
    "str1='welllcome'\n",
    "str1.replace('z','Z',-1)"
   ]
  },
  {
   "cell_type": "code",
   "execution_count": null,
   "id": "4959fa22-261b-4582-b218-957fb351b514",
   "metadata": {},
   "outputs": [],
   "source": []
  }
 ],
 "metadata": {
  "kernelspec": {
   "display_name": "Python 3 (ipykernel)",
   "language": "python",
   "name": "python3"
  },
  "language_info": {
   "codemirror_mode": {
    "name": "ipython",
    "version": 3
   },
   "file_extension": ".py",
   "mimetype": "text/x-python",
   "name": "python",
   "nbconvert_exporter": "python",
   "pygments_lexer": "ipython3",
   "version": "3.12.4"
  }
 },
 "nbformat": 4,
 "nbformat_minor": 5
}
