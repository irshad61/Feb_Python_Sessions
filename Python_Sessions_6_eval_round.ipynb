{
 "cells": [
  {
   "cell_type": "code",
   "execution_count": 1,
   "id": "73925451-00b1-4756-a7c7-389a1e6c2387",
   "metadata": {},
   "outputs": [
    {
     "name": "stdin",
     "output_type": "stream",
     "text": [
      "Enter a Number1: 100\n",
      "Enter a Number2: 200\n"
     ]
    },
    {
     "data": {
      "text/plain": [
       "300"
      ]
     },
     "execution_count": 1,
     "metadata": {},
     "output_type": "execute_result"
    }
   ],
   "source": [
    "n1=int(input(\"Enter a Number1:\"))\n",
    "n2=int(input(\"Enter a Number2:\"))\n",
    "n1+n2\n"
   ]
  },
  {
   "cell_type": "code",
   "execution_count": 3,
   "id": "04e2c883-d81a-44fb-a0ab-db7b481ff317",
   "metadata": {},
   "outputs": [
    {
     "name": "stdin",
     "output_type": "stream",
     "text": [
      "enter the n1: 150\n",
      "enter the n2: 120\n"
     ]
    },
    {
     "data": {
      "text/plain": [
       "270"
      ]
     },
     "execution_count": 3,
     "metadata": {},
     "output_type": "execute_result"
    }
   ],
   "source": [
    "n1=input(\"enter the n1:\")\n",
    "n2=input(\"enter the n2:\")\n",
    "add=int(n1)+int(n2)\n",
    "add"
   ]
  },
  {
   "cell_type": "code",
   "execution_count": 9,
   "id": "94c37555-31f5-4b4a-a44b-5b7d6fda343f",
   "metadata": {},
   "outputs": [
    {
     "name": "stdin",
     "output_type": "stream",
     "text": [
      "enter n1: 100.5\n",
      "enter n2: 100\n"
     ]
    },
    {
     "data": {
      "text/plain": [
       "200.5"
      ]
     },
     "execution_count": 9,
     "metadata": {},
     "output_type": "execute_result"
    }
   ],
   "source": [
    "n1=float(input(\"enter n1:\"))\n",
    "n2=int(input(\"enter n2:\"))\n",
    "n1+n2"
   ]
  },
  {
   "cell_type": "markdown",
   "id": "505c07eb-f3c9-4daa-9d03-71e0250c3dc4",
   "metadata": {},
   "source": [
    "**eval**\n",
    "- whenever we listen about eval it represents math term evaluate\n",
    "- instead of focus on int and float everytime\n",
    "- simply use **eval** conversion always\n",
    "- if you apply eval it will convert the value based on base data type\n",
    "- if user  will provide the integer ,it will convert into integer value\n",
    "- if user  will provide the float ,it will convert into float value\n",
    "- if user will provide the string"
   ]
  },
  {
   "cell_type": "code",
   "execution_count": 12,
   "id": "cc16a17c-5f4a-4004-82b4-ee159b103830",
   "metadata": {},
   "outputs": [
    {
     "name": "stdin",
     "output_type": "stream",
     "text": [
      "Enter the number: 15\n",
      "Enter the number: 20\n"
     ]
    },
    {
     "data": {
      "text/plain": [
       "35"
      ]
     },
     "execution_count": 12,
     "metadata": {},
     "output_type": "execute_result"
    }
   ],
   "source": [
    "n1=eval(input(\"Enter the number:\"))\n",
    "n2=eval(input(\"Enter the number:\"))\n",
    "n1+n2"
   ]
  },
  {
   "cell_type": "code",
   "execution_count": 16,
   "id": "c7c76b62-da79-4553-9b9c-198de8576e51",
   "metadata": {},
   "outputs": [
    {
     "name": "stdin",
     "output_type": "stream",
     "text": [
      "Enter the num1: 5\n",
      "Enter the num2: 10\n",
      "Enter the num3: 15\n"
     ]
    },
    {
     "data": {
      "text/plain": [
       "20.0"
      ]
     },
     "execution_count": 16,
     "metadata": {},
     "output_type": "execute_result"
    }
   ],
   "source": [
    "n1=eval(input(\"Enter the num1:\"))\n",
    "n2=eval(input(\"Enter the num2:\"))\n",
    "n3=eval(input(\"Enter the num3:\"))\n",
    "avg=n1+n2+n3/3\n",
    "avg\n"
   ]
  },
  {
   "cell_type": "code",
   "execution_count": 18,
   "id": "b4c0632c-4610-4762-8be9-565a315426a1",
   "metadata": {},
   "outputs": [
    {
     "name": "stdin",
     "output_type": "stream",
     "text": [
      "Enter the Height: 50\n",
      "enter the breadth: 60\n"
     ]
    },
    {
     "data": {
      "text/plain": [
       "1500.0"
      ]
     },
     "execution_count": 18,
     "metadata": {},
     "output_type": "execute_result"
    }
   ],
   "source": [
    "n1=eval(input(\"Enter the Height:\"))\n",
    "n2=eval(input(\"enter the breadth:\"))\n",
    "area=0.5*n1*n2\n",
    "area"
   ]
  },
  {
   "cell_type": "code",
   "execution_count": 20,
   "id": "b115cbf1-e273-4ba0-96e6-2316242a6f2b",
   "metadata": {},
   "outputs": [
    {
     "name": "stdin",
     "output_type": "stream",
     "text": [
      "Enter the radius: 15\n"
     ]
    },
    {
     "data": {
      "text/plain": [
       "706.5"
      ]
     },
     "execution_count": 20,
     "metadata": {},
     "output_type": "execute_result"
    }
   ],
   "source": [
    "n1=eval(input(\"Enter the radius:\"))\n",
    "area=3.14*n1*n1\n",
    "area\n"
   ]
  },
  {
   "cell_type": "code",
   "execution_count": 22,
   "id": "19b2eae5-ff23-4cba-9400-3333587f0b39",
   "metadata": {},
   "outputs": [
    {
     "name": "stdin",
     "output_type": "stream",
     "text": [
      "Enter the Bill Amount: 1000\n",
      "Enter the tip amount: 100\n"
     ]
    },
    {
     "data": {
      "text/plain": [
       "1100"
      ]
     },
     "execution_count": 22,
     "metadata": {},
     "output_type": "execute_result"
    }
   ],
   "source": [
    "n1=eval(input(\"Enter the Bill Amount:\"))\n",
    "n2=eval(input(\"Enter the tip amount:\"))\n",
    "totbill=n1+n2\n",
    "totbill"
   ]
  },
  {
   "cell_type": "markdown",
   "id": "6bcb9a8c-0371-4c2d-ac06-bf993a557d25",
   "metadata": {},
   "source": [
    "**round**"
   ]
  },
  {
   "cell_type": "code",
   "execution_count": 27,
   "id": "db71f150-30fc-47da-84c5-991ee3bb0756",
   "metadata": {},
   "outputs": [
    {
     "data": {
      "text/plain": [
       "19.67"
      ]
     },
     "execution_count": 27,
     "metadata": {},
     "output_type": "execute_result"
    }
   ],
   "source": [
    "round(19.6666,2)"
   ]
  },
  {
   "cell_type": "code",
   "execution_count": 38,
   "id": "864a1c48-a320-4791-9903-88580e75c4fc",
   "metadata": {},
   "outputs": [
    {
     "name": "stdin",
     "output_type": "stream",
     "text": [
      "Enter the num1: 11\n",
      "Enter the num2: 15\n",
      "Enter the num3: 16\n"
     ]
    },
    {
     "name": "stdout",
     "output_type": "stream",
     "text": [
      "The avg of 11 and 15 and 16 is 31.33\n"
     ]
    }
   ],
   "source": [
    "n1=eval(input(\"Enter the num1:\"))\n",
    "n2=eval(input(\"Enter the num2:\"))\n",
    "n3=eval(input(\"Enter the num3:\"))\n",
    "avg=n1+n2+n3/3\n",
    "avg1=round(avg,2)\n",
    "print(f\"The avg of {n1} and {n2} and {n3} is {avg1}\")"
   ]
  },
  {
   "cell_type": "code",
   "execution_count": null,
   "id": "c70467ab-1772-4dcd-b272-671a013765c7",
   "metadata": {},
   "outputs": [],
   "source": [
    "n1=eval(input(\"Enter the Bill Amount:\"))\n",
    "n2=eval(input(\"Enter the tip percentage:\"))\n",
    "tipamount=n1*n2/100\n",
    "totbill=tipamount+n1\n",
    "totbill"
   ]
  },
  {
   "cell_type": "code",
   "execution_count": 4,
   "id": "6ef1d480-9f11-4908-b3f8-3adcd43c4270",
   "metadata": {},
   "outputs": [
    {
     "name": "stdin",
     "output_type": "stream",
     "text": [
      "Father: hey son\n",
      "son: yes father\n"
     ]
    },
    {
     "data": {
      "text/plain": [
       "'yes father'"
      ]
     },
     "execution_count": 4,
     "metadata": {},
     "output_type": "execute_result"
    }
   ],
   "source": [
    "input('Father:')\n",
    "input('son:')"
   ]
  },
  {
   "cell_type": "code",
   "execution_count": 6,
   "id": "114c6905-8f1e-4886-942a-d5f4a41e7a45",
   "metadata": {},
   "outputs": [
    {
     "name": "stdin",
     "output_type": "stream",
     "text": [
      "Father: how about your academics and exams \n",
      "son: thats going great!\n"
     ]
    },
    {
     "data": {
      "text/plain": [
       "'thats going great!'"
      ]
     },
     "execution_count": 6,
     "metadata": {},
     "output_type": "execute_result"
    }
   ],
   "source": [
    "input('Father:')\n",
    "input('son:')"
   ]
  },
  {
   "cell_type": "code",
   "execution_count": 8,
   "id": "2d5166fd-8fec-4728-a730-a115e04db6b9",
   "metadata": {},
   "outputs": [
    {
     "name": "stdin",
     "output_type": "stream",
     "text": [
      "Father: what is the percentage you have acquired\n",
      "son: well i secured great marks individually but i have a condition for it \n"
     ]
    },
    {
     "data": {
      "text/plain": [
       "'well i secured great marks individually but i have a condition for it '"
      ]
     },
     "execution_count": 8,
     "metadata": {},
     "output_type": "execute_result"
    }
   ],
   "source": [
    "input('Father:')\n",
    "input('son:')"
   ]
  },
  {
   "cell_type": "code",
   "execution_count": 10,
   "id": "e8109957-1aa0-4f87-a354-f6ae46db755f",
   "metadata": {},
   "outputs": [
    {
     "name": "stdin",
     "output_type": "stream",
     "text": [
      "Father: well whats that \n",
      "son: i need a bike if i secure according to your expectation\n"
     ]
    },
    {
     "data": {
      "text/plain": [
       "'i need a bike if i secure according to your expectation'"
      ]
     },
     "execution_count": 10,
     "metadata": {},
     "output_type": "execute_result"
    }
   ],
   "source": [
    "input('Father:')\n",
    "input('son:')"
   ]
  },
  {
   "cell_type": "code",
   "execution_count": 3,
   "id": "8d0443fe-9046-44a9-b0dd-5e992eb0b42d",
   "metadata": {},
   "outputs": [
    {
     "name": "stdin",
     "output_type": "stream",
     "text": [
      "Enter the Telugu marks: 15\n",
      "Enter the Hindi marks: 95\n",
      "Enter the English marks: 95\n",
      "Enter the Maths marks: 98\n",
      "Enter the Science marks: 99\n",
      "Enter the Social marks: 97\n"
     ]
    },
    {
     "name": "stdout",
     "output_type": "stream",
     "text": [
      "The individual marks are 15,95,95,98,99,97 The Average marks Are: 83.16666666666667\n"
     ]
    }
   ],
   "source": [
    "Telugu=eval(input(\"Enter the Telugu marks:\"))\n",
    "Hindi=eval(input(\"Enter the Hindi marks:\"))\n",
    "English=eval(input(\"Enter the English marks:\"))\n",
    "Maths=eval(input(\"Enter the Maths marks:\"))\n",
    "Science=eval(input(\"Enter the Science marks:\"))\n",
    "Social=eval(input(\"Enter the Social marks:\"))\n",
    "Avg_marks=(Telugu+Hindi+English+Maths+Science+Social)/6\n",
    "Avg_marks\n",
    "print(f\"The individual marks are {Telugu},{Hindi},{English},{Maths},{Science},{Social} The Average marks Are: {Avg_marks}\")\n"
   ]
  },
  {
   "cell_type": "markdown",
   "id": "c0dc7e07-5527-4dc2-9c8e-986795e49812",
   "metadata": {},
   "source": []
  }
 ],
 "metadata": {
  "kernelspec": {
   "display_name": "Python 3 (ipykernel)",
   "language": "python",
   "name": "python3"
  },
  "language_info": {
   "codemirror_mode": {
    "name": "ipython",
    "version": 3
   },
   "file_extension": ".py",
   "mimetype": "text/x-python",
   "name": "python",
   "nbconvert_exporter": "python",
   "pygments_lexer": "ipython3",
   "version": "3.12.4"
  }
 },
 "nbformat": 4,
 "nbformat_minor": 5
}
