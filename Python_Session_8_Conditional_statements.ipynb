{
 "cells": [
  {
   "cell_type": "markdown",
   "id": "84d5ce37-e804-4426-a0ef-153e9c65c6e4",
   "metadata": {},
   "source": [
    "- Conditional statments refers to execute the code based on some conditions\n",
    "- we have mainly three types\n",
    " - if\n",
    "- if else\n",
    "- if elif else\n",
    "- if (condition):"
   ]
  },
  {
   "cell_type": "code",
   "execution_count": null,
   "id": "b6bac5fc-f0f9-4506-af16-24992f23d8b7",
   "metadata": {},
   "outputs": [],
   "source": [
    "if <condition>:\n",
    "    <write your code here>"
   ]
  },
  {
   "cell_type": "markdown",
   "id": "4c963185-3626-4bde-a1f7-295841f1fc0a",
   "metadata": {},
   "source": [
    "**if and else**\n",
    "- whenever if condition fails automataically it goes to else condition\n",
    "- so else does not require any condition\n",
    "- always maintain indentation for both if and else part"
   ]
  },
  {
   "cell_type": "code",
   "execution_count": 4,
   "id": "06c6d802-4591-48b2-af07-a703d720ff73",
   "metadata": {},
   "outputs": [
    {
     "name": "stdout",
     "output_type": "stream",
     "text": [
      "Hello Good morning\n"
     ]
    }
   ],
   "source": [
    "num=10\n",
    "if num>0:\n",
    "    print(\"Hello Good morning\")"
   ]
  },
  {
   "cell_type": "markdown",
   "id": "1bca1b53-fb44-4df7-ad66-b8e0bd45d5e0",
   "metadata": {},
   "source": [
    "- we can write any condition in order to satisfy or execute"
   ]
  },
  {
   "cell_type": "code",
   "execution_count": 2,
   "id": "0f54d1e1-a5b4-4f12-8bd7-cade5dcfea47",
   "metadata": {},
   "outputs": [
    {
     "data": {
      "text/plain": [
       "True"
      ]
     },
     "execution_count": 2,
     "metadata": {},
     "output_type": "execute_result"
    }
   ],
   "source": [
    "name='python'\n",
    "name=='python'\n"
   ]
  },
  {
   "cell_type": "code",
   "execution_count": 4,
   "id": "756d18fc-3ecc-4231-aab8-ba463d831b6b",
   "metadata": {},
   "outputs": [
    {
     "data": {
      "text/plain": [
       "False"
      ]
     },
     "execution_count": 4,
     "metadata": {},
     "output_type": "execute_result"
    }
   ],
   "source": [
    "name!='python'"
   ]
  },
  {
   "cell_type": "code",
   "execution_count": 6,
   "id": "137960a6-400f-45d6-9f51-d4ac7c915e1d",
   "metadata": {},
   "outputs": [
    {
     "name": "stdout",
     "output_type": "stream",
     "text": [
      "Hello\n",
      "25\n"
     ]
    }
   ],
   "source": [
    "name='python'\n",
    "if name=='python':\n",
    "    print(\"Hello\")\n",
    "    a=10\n",
    "    b=15\n",
    "    print(a+b)"
   ]
  },
  {
   "cell_type": "code",
   "execution_count": 8,
   "id": "4fe391ed-3c98-4bcf-93de-e879ab5edbbf",
   "metadata": {},
   "outputs": [
    {
     "name": "stdout",
     "output_type": "stream",
     "text": [
      "correct\n",
      "Bye\n"
     ]
    }
   ],
   "source": [
    "if 100>10:\n",
    "    print(\"correct\")\n",
    "    print(\"Bye\")"
   ]
  },
  {
   "cell_type": "code",
   "execution_count": 14,
   "id": "44a27bfa-8d74-4d04-8270-8aa720792119",
   "metadata": {},
   "outputs": [
    {
     "name": "stdout",
     "output_type": "stream",
     "text": [
      "Hai\n",
      "Hello\n",
      "Bye\n"
     ]
    }
   ],
   "source": [
    "print(\"Hai\")\n",
    "if 100>10:\n",
    "    print(\"Hello\")\n",
    "    print(\"Bye\")"
   ]
  },
  {
   "cell_type": "code",
   "execution_count": 23,
   "id": "84264c43-4b36-48c7-88d9-b740486bacc2",
   "metadata": {},
   "outputs": [
    {
     "name": "stdout",
     "output_type": "stream",
     "text": [
      "Wrong condition\n"
     ]
    }
   ],
   "source": [
    "if 100<10:\n",
    "    print(\"Correct condition\")\n",
    "else:\n",
    "    print(\"Wrong condition\")"
   ]
  },
  {
   "cell_type": "code",
   "execution_count": 35,
   "id": "4c626416-b4ea-4494-b186-a8e464a6ac01",
   "metadata": {},
   "outputs": [
    {
     "name": "stdout",
     "output_type": "stream",
     "text": [
      "10\n",
      "Correct condition\n",
      "okay\n"
     ]
    }
   ],
   "source": [
    "print(10)\n",
    "if 100>10:\n",
    "    print(\"Correct condition\")\n",
    "    print(\"okay\")\n",
    "    ## no line should be in the middle of if and else\n",
    "else:\n",
    "    print(\"wrong condition\")\n",
    "    print(20)\n"
   ]
  },
  {
   "cell_type": "markdown",
   "id": "6750c07e-bc66-41f3-b6cd-746d9a5268e3",
   "metadata": {},
   "source": [
    "**If and else always together**"
   ]
  },
  {
   "cell_type": "code",
   "execution_count": 65,
   "id": "b2412446-79ad-4f8c-a011-c62b1bce05e0",
   "metadata": {},
   "outputs": [
    {
     "name": "stdin",
     "output_type": "stream",
     "text": [
      "enter the number: 5\n"
     ]
    },
    {
     "name": "stdout",
     "output_type": "stream",
     "text": [
      "we lost\n"
     ]
    }
   ],
   "source": [
    "import random \n",
    "n1=random.randint(1,10)\n",
    "n2=eval(input(\"enter the number:\"))\n",
    "if n1==n2:\n",
    "    print(\"we won\")\n",
    "else:\n",
    "    print(\"we lost\")"
   ]
  },
  {
   "cell_type": "markdown",
   "id": "13f61703-736e-4757-aee8-6714124b7343",
   "metadata": {},
   "source": [
    "- if anything starting with green colour keyword colon will come"
   ]
  },
  {
   "cell_type": "code",
   "execution_count": 67,
   "id": "93880c0e-7b18-45d1-94c9-f730b77b4de2",
   "metadata": {},
   "outputs": [
    {
     "data": {
      "text/plain": [
       "2.5"
      ]
     },
     "execution_count": 67,
     "metadata": {},
     "output_type": "execute_result"
    }
   ],
   "source": [
    "5/2 # division\n"
   ]
  },
  {
   "cell_type": "code",
   "execution_count": 69,
   "id": "4cc9e58f-1a66-496d-9ffb-543a65680f78",
   "metadata": {},
   "outputs": [
    {
     "data": {
      "text/plain": [
       "2"
      ]
     },
     "execution_count": 69,
     "metadata": {},
     "output_type": "execute_result"
    }
   ],
   "source": [
    "5//2 # floor division"
   ]
  },
  {
   "cell_type": "code",
   "execution_count": 71,
   "id": "af55c2c4-e6f1-40b7-9cab-e6d497a0a6fa",
   "metadata": {},
   "outputs": [
    {
     "data": {
      "text/plain": [
       "1"
      ]
     },
     "execution_count": 71,
     "metadata": {},
     "output_type": "execute_result"
    }
   ],
   "source": [
    "5%2 # modulus operator"
   ]
  },
  {
   "cell_type": "code",
   "execution_count": 83,
   "id": "5b0c8019-2d41-41ca-b085-4d4da94b7f0c",
   "metadata": {},
   "outputs": [
    {
     "name": "stdin",
     "output_type": "stream",
     "text": [
      "Enter a Number: 14\n"
     ]
    },
    {
     "name": "stdout",
     "output_type": "stream",
     "text": [
      "the given number 14 is even\n"
     ]
    }
   ],
   "source": [
    "n1=eval(input(\"Enter a Number:\"))\n",
    "if n1%2==0:\n",
    "        print(f\"the given number {n1} is even\")\n",
    "else:\n",
    "        print(f\"the given number {n1} is odd\")\n"
   ]
  },
  {
   "cell_type": "code",
   "execution_count": 97,
   "id": "d75795cf-b71d-4f7a-b555-389abe1601d4",
   "metadata": {},
   "outputs": [
    {
     "name": "stdin",
     "output_type": "stream",
     "text": [
      "enter a number: 50\n",
      "how much charge: 5\n"
     ]
    },
    {
     "name": "stdout",
     "output_type": "stream",
     "text": [
      "the total charge is:125\n"
     ]
    }
   ],
   "source": [
    "n1=eval(input(\"enter a number:\"))\n",
    "if n1>25:\n",
    "    charge=eval(input(\"how much charge:\"))\n",
    "    total_charge=(n1-25)*charge\n",
    "    print(f\"the total charge is:{total_charge}\")\n",
    "else: \n",
    "    print(\"The ride is free\")\n",
    "\n"
   ]
  },
  {
   "cell_type": "code",
   "execution_count": 99,
   "id": "fef53668-68c4-4c8e-bb32-ae32db0aaf31",
   "metadata": {},
   "outputs": [
    {
     "name": "stdin",
     "output_type": "stream",
     "text": [
      "Enter the distance 50\n",
      "the government cutoff distance : 25\n"
     ]
    },
    {
     "name": "stdout",
     "output_type": "stream",
     "text": [
      "the charge is applicable only on:25 kms\n"
     ]
    },
    {
     "name": "stdin",
     "output_type": "stream",
     "text": [
      "enter the charge 2\n"
     ]
    },
    {
     "name": "stdout",
     "output_type": "stream",
     "text": [
      "the total charge is:50 rs\n"
     ]
    }
   ],
   "source": [
    "distance=eval(input('Enter the distance'))\n",
    "cutoff_dis=eval(input('the government cutoff distance :'))\n",
    "if distance>cutoff_dis:\n",
    "    print(f\"the charge is applicable only on:{distance-cutoff_dis} kms\")\n",
    "    charge=eval(input(\"enter the charge\"))\n",
    "    total_charge=(distance-cutoff_dis)*charge\n",
    "    print(f\"the total charge is:{total_charge} rs\")\n",
    "else:\n",
    "    print(\"The ride is free\")"
   ]
  },
  {
   "cell_type": "code",
   "execution_count": 105,
   "id": "be43bf80-bec8-4db6-96f8-6786bcc6f1f9",
   "metadata": {},
   "outputs": [
    {
     "name": "stdin",
     "output_type": "stream",
     "text": [
      "enter a number: 15\n",
      "enter a number: 10\n"
     ]
    },
    {
     "name": "stdout",
     "output_type": "stream",
     "text": [
      "The greater number is 15\n"
     ]
    }
   ],
   "source": [
    "#wap ask the user take two numbers\n",
    "n1=eval(input(\"enter a number:\"))\n",
    "n2=eval(input(\"enter a number:\"))\n",
    "if n1>n2:\n",
    "    print(f\"The greater number is {n1}\")\n",
    "else:\n",
    "    print(f\"the number  {n2} is greater \")\n"
   ]
  },
  {
   "cell_type": "code",
   "execution_count": 107,
   "id": "833c06d4-222e-4e28-ac2e-e66ec358743a",
   "metadata": {},
   "outputs": [
    {
     "name": "stdout",
     "output_type": "stream",
     "text": [
      "The greater number is 65\n"
     ]
    }
   ],
   "source": [
    "n1=random.randint(1,100)\n",
    "n2=random.randint(1,100)\n",
    "if n1>n2:\n",
    "    print(f\"The greater number is {n1}\")\n",
    "else:\n",
    "    print(f\"the number  {n2} is greater \")"
   ]
  },
  {
   "cell_type": "code",
   "execution_count": 115,
   "id": "3942457a-3232-40dc-802f-a8e109041922",
   "metadata": {},
   "outputs": [
    {
     "name": "stdin",
     "output_type": "stream",
     "text": [
      "Enter the course name: data science\n",
      "Enter the institute name: nareshit\n"
     ]
    },
    {
     "name": "stdout",
     "output_type": "stream",
     "text": [
      "good\n"
     ]
    }
   ],
   "source": [
    "#wap ask the user\n",
    "#enter the course name \n",
    "#enter the institute name \n",
    "#if course name is equal to data science\n",
    "course_name=input(\"Enter the course name:\")\n",
    "inst_name=input(\"Enter the institute name:\")\n",
    "if course_name==\"data science\" and inst_name==\"nareshit\":\n",
    "    print(\"good\")\n",
    "else:\n",
    "    print(\"Bad\")\n",
    "\n"
   ]
  },
  {
   "cell_type": "markdown",
   "id": "c1037fd0-045e-4825-b3fe-d9c42b98cd48",
   "metadata": {},
   "source": [
    "**if-elif-else**\n",
    "- when we have two solutions based on one condition\n",
    "- then we can go for if-else\n",
    "- when we have 3 solutions based on two conditions\n",
    "- then we go for if elif else\n",
    "- if needs condition\n",
    "- elif needs condition\n",
    "- if and elif both are wrong then will get else output\n",
    "- two condtions if elif else\n",
    "- three condtions if elif elif else\n",
    "                "
   ]
  },
  {
   "cell_type": "code",
   "execution_count": 8,
   "id": "7a63f57d-f1b1-443b-a711-4885923005df",
   "metadata": {},
   "outputs": [
    {
     "name": "stdin",
     "output_type": "stream",
     "text": [
      "enter a number 4\n"
     ]
    },
    {
     "name": "stdout",
     "output_type": "stream",
     "text": [
      "enter a valid number\n"
     ]
    }
   ],
   "source": [
    "n1=eval(input(\"enter a number\"))\n",
    "if n1==1:\n",
    "    print(\"one\")\n",
    "elif n1==2:\n",
    "    print(\"two\")\n",
    "elif n1==3:\n",
    "    print(\"three\")\n",
    "else:\n",
    "    print(\"enter a valid number\")"
   ]
  },
  {
   "cell_type": "code",
   "execution_count": 20,
   "id": "71e1b382-5a58-4653-b7ad-faeaf7be4b96",
   "metadata": {},
   "outputs": [
    {
     "name": "stdin",
     "output_type": "stream",
     "text": [
      "Enter the marks 95\n"
     ]
    },
    {
     "name": "stdout",
     "output_type": "stream",
     "text": [
      "A grade\n"
     ]
    }
   ],
   "source": [
    "#wap ask the user enter percentage of marks \n",
    "#if marks greater than 75 then print A grade\n",
    "#if marks between 60 to 75 print B grade\n",
    "#if marks between 45 to 60 then print C grade\n",
    "#if marks between 35 to 45 then print D grade\n",
    "n1=eval(input(\"Enter the marks\"))\n",
    "if n1>=75:\n",
    "    print(\"A grade\")\n",
    "elif n1>=60:\n",
    "    print(\"B grade\")\n",
    "elif n1>=45:\n",
    "    print(\"C grade\")\n",
    "elif n1>=35:\n",
    "    print(\"D grade\")\n",
    "else:\n",
    "    print(\"fail\")\n",
    "\n",
    "\n",
    "        "
   ]
  },
  {
   "cell_type": "code",
   "execution_count": 22,
   "id": "aeb8c349-6f49-45c9-b0b4-b7de7ab8a8b5",
   "metadata": {},
   "outputs": [],
   "source": [
    "# wap ask the user enter the age\n",
    "# if age greater than 100 print unlucky guy \n",
    "# if age between 80 and 100 print super senior citizen\n",
    "# if age between 60 and 80 print ss\n",
    "# if age between 40 and 60 print aged\n",
    "# if age between 25 and 40 print middle aged\n",
    "# if age between 15 and 25 print middle young\n",
    "#otherwise print kid\n",
    "\n"
   ]
  },
  {
   "cell_type": "code",
   "execution_count": 34,
   "id": "0efffc84-f983-4b63-96dd-d996a3e08d20",
   "metadata": {},
   "outputs": [
    {
     "name": "stdin",
     "output_type": "stream",
     "text": [
      "Enter the age: 10\n"
     ]
    },
    {
     "name": "stdout",
     "output_type": "stream",
     "text": [
      "kid\n"
     ]
    }
   ],
   "source": [
    "n1=eval(input(\"Enter the age:\"))\n",
    "if n1>100:\n",
    "    print(\"unlucky guy\")\n",
    "elif n1>=80:\n",
    "    print(\"super senior citizen\")\n",
    "elif n1>=60:\n",
    "    print(\"ss\")\n",
    "elif n1>=40:\n",
    "    print(\"aged\")\n",
    "elif n1>=25:\n",
    "    print(\"middle aged\")\n",
    "elif n1>=15:\n",
    "    print(\"youth\")\n",
    "else:\n",
    "    print(\"kid\")\n",
    "    \n",
    "    \n"
   ]
  },
  {
   "cell_type": "code",
   "execution_count": 36,
   "id": "446aed17-ec5b-4383-a895-93805ff3951e",
   "metadata": {},
   "outputs": [],
   "source": [
    "#wap ask the user enter the distance\n",
    "#if the distamce greater than 100\n",
    "# ask the user to enter the charge 20rs\n",
    "#print total charge\n",
    "#if the distance between 50 to 100\n",
    "# ask the user enter the charge is 10rs\n",
    "#if the distance"
   ]
  },
  {
   "cell_type": "code",
   "execution_count": 44,
   "id": "ae5ae9f7-56e0-479a-af6b-04974752aa6d",
   "metadata": {},
   "outputs": [
    {
     "name": "stdin",
     "output_type": "stream",
     "text": [
      "enter the distance: 105\n"
     ]
    },
    {
     "name": "stdout",
     "output_type": "stream",
     "text": [
      "The charge for more than 100km is 20rs\n"
     ]
    },
    {
     "name": "stdin",
     "output_type": "stream",
     "text": [
      "enter the charge 20\n"
     ]
    },
    {
     "name": "stdout",
     "output_type": "stream",
     "text": [
      "the charge for 105km is : 2100\n"
     ]
    }
   ],
   "source": [
    "n1=eval(input(\"enter the distance:\"))\n",
    "if n1>100:\n",
    "    print(\"The charge for more than 100km is 20rs\")\n",
    "    charge=eval(input(\"enter the charge\"))\n",
    "    total_charge=n1*charge\n",
    "    print(f\"the charge for {n1}km is : {total_charge}\")\n",
    "elif n1>=50:\n",
    "    print(\"The charge for more than 50km is 10rs\")\n",
    "    charge=eval(input(\"enter the charge\"))\n",
    "    total_charge=n1*charge\n",
    "    print(f\"the charge for {n1}km is : {total_charge}\")\n",
    "elif n1>=25:\n",
    "    print(\"The charge for more than 25km is 5rs\")\n",
    "    charge=eval(input(\"enter the charge\"))\n",
    "    total_charge=n1*charge\n",
    "    print(f\"the charge for {n1}km is : {total_charge}\")\n",
    "else:\n",
    "    print(\"The ride is free\")\n",
    "          "
   ]
  },
  {
   "cell_type": "code",
   "execution_count": 54,
   "id": "59a57a97-83e2-4314-8622-6c9e61bd4a0d",
   "metadata": {},
   "outputs": [
    {
     "name": "stdout",
     "output_type": "stream",
     "text": [
      "Enter 1 for addition\n",
      "Enter 2 for subraction\n",
      "Enter 3 for multiplication\n",
      "Enter 4 for division\n"
     ]
    },
    {
     "name": "stdin",
     "output_type": "stream",
     "text": [
      "choose the number between 1 to 4 : 3\n"
     ]
    },
    {
     "name": "stdout",
     "output_type": "stream",
     "text": [
      "You have selected the multiplication\n"
     ]
    },
    {
     "name": "stdin",
     "output_type": "stream",
     "text": [
      "Enter the number:  25\n",
      "Enter the another number:  20\n"
     ]
    },
    {
     "name": "stdout",
     "output_type": "stream",
     "text": [
      "The multiplication of 25 and 20 is : 500\n"
     ]
    }
   ],
   "source": [
    "import time\n",
    "print(\"Enter 1 for addition\")\n",
    "time.sleep(1)\n",
    "print(\"Enter 2 for subtraction\")\n",
    "time.sleep(1)\n",
    "print(\"Enter 3 for multiplication\")\n",
    "time.sleep(1)\n",
    "print(\"Enter 4 for division\")\n",
    "time.sleep(1)\n",
    "\n",
    "operation=eval(input(\"choose the number between 1 to 4 :\"))\n",
    "if operation==1:\n",
    "    print(\"You have selected the addition\")\n",
    "    n1=eval(input(\"Enter the number: \"))\n",
    "    n2=eval(input(\"Enter the another number: \"))\n",
    "    add=n1+n2\n",
    "    print(f\"The addition of {n1} and {n2} is : {add}\")\n",
    "elif operation==2:\n",
    "    print(\"You have selected the subraction\")\n",
    "    n1=eval(input(\"Enter the number: \"))\n",
    "    n2=eval(input(\"Enter the another number: \"))\n",
    "    sub=n1-n2\n",
    "    print(f\"The subraction of {n1} and {n2} is : {sub}\")\n",
    "\n",
    "elif operation==3:\n",
    "    print(\"You have selected the multiplication\")\n",
    "    n1=eval(input(\"Enter the number: \"))\n",
    "    n2=eval(input(\"Enter the another number: \"))\n",
    "    mul=n1*n2\n",
    "    print(f\"The multiplication of {n1} and {n2} is : {mul}\")\n",
    "elif operation==4:\n",
    "    print(\"You have selected the division\")\n",
    "    n1=eval(input(\"Enter the number: \"))\n",
    "    n2=eval(input(\"Enter the another number: \"))\n",
    "    div=n1/n2\n",
    "    print(f\"The division of {n1} and {n2} is : {div}\")\n",
    "else:\n",
    "    print(\"Enter a valid number\")\n",
    "    \n",
    "\n",
    "\n",
    "\n"
   ]
  },
  {
   "cell_type": "markdown",
   "id": "7a0341f4-14f0-49da-b50b-1674ce2f09cc",
   "metadata": {},
   "source": [
    "**nested if-else**"
   ]
  },
  {
   "cell_type": "code",
   "execution_count": 10,
   "id": "d4c6e207-fef7-4321-812f-bf741e8fba99",
   "metadata": {},
   "outputs": [
    {
     "name": "stdin",
     "output_type": "stream",
     "text": [
      "Enter a number: 25\n"
     ]
    },
    {
     "name": "stdout",
     "output_type": "stream",
     "text": [
      "The given 25 number is Positive\n"
     ]
    }
   ],
   "source": [
    "n1=eval(input(\"Enter a number:\"))\n",
    "if n1>0:\n",
    "    print(f\"The given {n1} number is Positive\")\n",
    "elif n1<0:\n",
    "    print(f\"The given {n1} number is Negative\")\n",
    "else:\n",
    "    print(\"The entered number is zero\")\n",
    "        "
   ]
  },
  {
   "cell_type": "code",
   "execution_count": 18,
   "id": "e74ca4d2-927a-4fe0-ac58-6865cdd00950",
   "metadata": {},
   "outputs": [
    {
     "name": "stdin",
     "output_type": "stream",
     "text": [
      "Enter a number: 25\n"
     ]
    },
    {
     "name": "stdout",
     "output_type": "stream",
     "text": [
      "it is positive number\n"
     ]
    }
   ],
   "source": [
    "n1=eval(input(\"Enter a number:\"))\n",
    "if n1>=0:\n",
    "    if n1==0:\n",
    "        print(f\"The number {n1} is zero\")\n",
    "    else:\n",
    "        print(\"it is positive number\")\n",
    "else:\n",
    "    print(\"it is negative number\")\n",
    "        "
   ]
  },
  {
   "cell_type": "code",
   "execution_count": 30,
   "id": "54178d53-09b6-4be4-996f-841c321b2aec",
   "metadata": {},
   "outputs": [
    {
     "name": "stdin",
     "output_type": "stream",
     "text": [
      "Enter the gender: male\n",
      "enter the age 25\n"
     ]
    },
    {
     "name": "stdout",
     "output_type": "stream",
     "text": [
      "you are young\n"
     ]
    }
   ],
   "source": [
    "gender=input(\"Enter the gender:\")\n",
    "if gender=='male':\n",
    "    age=eval(input(\"enter the age\"))\n",
    "    if age>=60:\n",
    "        print(\"You are senior cizizen\")\n",
    "    elif age>=30:\n",
    "        print(\"you are middle aged man\")\n",
    "    elif age>=10:\n",
    "        print(\"you are young\")\n",
    "    else:\n",
    "        print(\"You are a boy\")\n",
    "elif gender=='female':\n",
    "    age=eval(input(\"enter the age\"))\n",
    "    if age>=60:\n",
    "        print(\"You are senior cizizen\")\n",
    "    if age>=30:\n",
    "        print(\"you are middle aged man\")\n",
    "    if age>=10:\n",
    "        print(\"you are young\")\n",
    "    else:\n",
    "        print(\"You are a girl\")\n",
    "else:\n",
    "        print(\"Enter a valid gender\")\n",
    "        \n",
    "              "
   ]
  },
  {
   "cell_type": "code",
   "execution_count": 32,
   "id": "5872ae8e-cc52-4840-925b-7a3b72fe41e2",
   "metadata": {},
   "outputs": [
    {
     "name": "stdin",
     "output_type": "stream",
     "text": [
      "Enter the gender: male\n",
      "enter the age 22\n"
     ]
    },
    {
     "name": "stdout",
     "output_type": "stream",
     "text": [
      "you are young\n"
     ]
    }
   ],
   "source": [
    "gender=input(\"Enter the gender:\")\n",
    "if gender=='male':\n",
    "    age=eval(input(\"enter the age\"))\n",
    "    if age>=60:print(\"You are senior cizizen\")\n",
    "    elif age>=30:print(\"you are middle aged man\")\n",
    "    elif age>=10:print(\"you are young\")\n",
    "    else:print(\"You are a boy\")\n",
    "elif gender=='female':\n",
    "    age=eval(input(\"enter the age\"))\n",
    "    if age>=60:print(\"You are senior cizizen\")\n",
    "    if age>=30:print(\"you are middle aged man\")\n",
    "    if age>=10:print(\"you are young\")\n",
    "    else:print(\"You are a girl\")\n",
    "else:print(\"Enter a valid gender\")"
   ]
  },
  {
   "cell_type": "code",
   "execution_count": 38,
   "id": "b7330768-6d2a-45c4-83d5-ba98a26d1986",
   "metadata": {},
   "outputs": [
    {
     "name": "stdin",
     "output_type": "stream",
     "text": [
      "enter the first number: 5\n",
      "enter the second number: 50\n",
      "enter the third number: 10\n"
     ]
    },
    {
     "name": "stdout",
     "output_type": "stream",
     "text": [
      "The number 50 is greater\n"
     ]
    }
   ],
   "source": [
    "n1=eval(input(\"enter the first number:\"))\n",
    "n2=eval(input(\"enter the second number:\"))\n",
    "n3=eval(input(\"enter the third number:\"))\n",
    "if n1>n2:\n",
    "    print(f\"The number {n1} is greater\")\n",
    "elif n2>n3:\n",
    "    print(f\"The number {n2} is greater\")\n",
    "else:\n",
    "    print(f\"The number {n3} is greater\")\n"
   ]
  },
  {
   "cell_type": "code",
   "execution_count": 42,
   "id": "e72f9e92-d60f-4438-9eec-9c9e70a0573f",
   "metadata": {},
   "outputs": [
    {
     "name": "stdin",
     "output_type": "stream",
     "text": [
      "enter the first number: 55\n",
      "enter the second number: 45\n",
      "enter the third number: 15\n"
     ]
    },
    {
     "name": "stdout",
     "output_type": "stream",
     "text": [
      "The number 55 is greater\n"
     ]
    }
   ],
   "source": [
    "n1=eval(input(\"enter the first number:\"))\n",
    "n2=eval(input(\"enter the second number:\"))\n",
    "n3=eval(input(\"enter the third number:\"))\n",
    "if n1>n2 and n1>n3:\n",
    "    print(f\"The number {n1} is greater\")\n",
    "elif n2>n3:\n",
    "    print(f\"The number {n2} is greater\")\n",
    "else:\n",
    "    print(f\"The number {n3} is greater\")"
   ]
  },
  {
   "cell_type": "code",
   "execution_count": 46,
   "id": "bcdf972f-2b2f-4350-87de-a3c065c2b193",
   "metadata": {},
   "outputs": [
    {
     "name": "stdin",
     "output_type": "stream",
     "text": [
      "enter the first number: 55\n",
      "enter the second number: 45\n",
      "enter the third number: 40\n"
     ]
    },
    {
     "name": "stdout",
     "output_type": "stream",
     "text": [
      "The number 55 is greater\n"
     ]
    }
   ],
   "source": [
    "n1=eval(input(\"enter the first number:\"))\n",
    "n2=eval(input(\"enter the second number:\"))\n",
    "n3=eval(input(\"enter the third number:\"))\n",
    "if n1>n2:\n",
    "    if n1>n3:\n",
    "        print(f\"The number {n1} is greater\")\n",
    "    else:\n",
    "        print(f\"The number{n3} is greater\")\n",
    "elif n2>n3:\n",
    "    print(f\"The number {n2} is greater\")\n",
    "else:\n",
    "    print(f\"The number {n3} is greater\")\n",
    "    \n",
    "        "
   ]
  },
  {
   "cell_type": "markdown",
   "id": "30705b72-d6f0-4cdd-a47d-7b535115df22",
   "metadata": {},
   "source": []
  },
  {
   "cell_type": "code",
   "execution_count": null,
   "id": "fe520540-4985-491e-a7e9-22c52fe3b7e9",
   "metadata": {},
   "outputs": [],
   "source": []
  }
 ],
 "metadata": {
  "kernelspec": {
   "display_name": "Python 3 (ipykernel)",
   "language": "python",
   "name": "python3"
  },
  "language_info": {
   "codemirror_mode": {
    "name": "ipython",
    "version": 3
   },
   "file_extension": ".py",
   "mimetype": "text/x-python",
   "name": "python",
   "nbconvert_exporter": "python",
   "pygments_lexer": "ipython3",
   "version": "3.12.4"
  }
 },
 "nbformat": 4,
 "nbformat_minor": 5
}
