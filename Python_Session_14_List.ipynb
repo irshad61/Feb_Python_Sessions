{
 "cells": [
  {
   "cell_type": "markdown",
   "id": "5c63b8d5-c364-4d58-bfde-6b01db97a430",
   "metadata": {},
   "source": [
    "- initilisation\n",
    "- inbuilt functions\n",
    "- min\n",
    "- max\n",
    "- len sorted\n",
    "- reversed\n",
    "- print\n",
    "- type\n",
    "- index operations( for loop vs in)\n",
    "- mutable vs immutable\n",
    "- concatenation\n",
    "- slicing\n",
    "- list methods"
   ]
  },
  {
   "cell_type": "code",
   "execution_count": null,
   "id": "ec0cf251-099e-4d46-b84b-1bc57dbff543",
   "metadata": {},
   "outputs": [],
   "source": []
  },
  {
   "cell_type": "markdown",
   "id": "83e8fa9b-e606-47a6-84e0-d170f25ea850",
   "metadata": {},
   "source": [
    "- strings denoted with quotes\n",
    "- list denoted with square brackets\n",
    "- list means array of elements\n",
    "- list can access any data type together"
   ]
  },
  {
   "cell_type": "code",
   "execution_count": 2,
   "id": "48f62408-c9ef-4840-b79a-e33c54e5e5f4",
   "metadata": {},
   "outputs": [
    {
     "data": {
      "text/plain": [
       "[1, 2, 3, 4]"
      ]
     },
     "execution_count": 2,
     "metadata": {},
     "output_type": "execute_result"
    }
   ],
   "source": [
    "l1=[1,2,3,4]\n",
    "l1"
   ]
  },
  {
   "cell_type": "code",
   "execution_count": 4,
   "id": "e0019c19-d9c2-4b62-973e-cf62fc212efb",
   "metadata": {},
   "outputs": [
    {
     "data": {
      "text/plain": [
       "list"
      ]
     },
     "execution_count": 4,
     "metadata": {},
     "output_type": "execute_result"
    }
   ],
   "source": [
    "type(l1)"
   ]
  },
  {
   "cell_type": "code",
   "execution_count": 6,
   "id": "66dc66dc-abb4-4ec6-a502-66e7f38f52fe",
   "metadata": {},
   "outputs": [
    {
     "data": {
      "text/plain": [
       "['A', 'B', 'C']"
      ]
     },
     "execution_count": 6,
     "metadata": {},
     "output_type": "execute_result"
    }
   ],
   "source": [
    "l2=['A','B','C']\n",
    "l2"
   ]
  },
  {
   "cell_type": "code",
   "execution_count": 8,
   "id": "1ff60639-a9e0-4793-a282-f9d2874d5320",
   "metadata": {},
   "outputs": [
    {
     "data": {
      "text/plain": [
       "[1, 2, 3, 4, 'a', 'b', 'c']"
      ]
     },
     "execution_count": 8,
     "metadata": {},
     "output_type": "execute_result"
    }
   ],
   "source": [
    "l3=[1,2,3,4,'a','b','c']\n",
    "l3"
   ]
  },
  {
   "cell_type": "code",
   "execution_count": 12,
   "id": "3337c55b-a0ea-493a-bc1c-11258d8cbf26",
   "metadata": {},
   "outputs": [
    {
     "data": {
      "text/plain": [
       "[1.24, '@', 'L', 1]"
      ]
     },
     "execution_count": 12,
     "metadata": {},
     "output_type": "execute_result"
    }
   ],
   "source": [
    "l4=[1.24,'@','L',1]\n",
    "l4"
   ]
  },
  {
   "cell_type": "code",
   "execution_count": 14,
   "id": "5f902ff1-8a22-4ff6-a0e4-7d5ddb6bfa2a",
   "metadata": {},
   "outputs": [
    {
     "data": {
      "text/plain": [
       "True"
      ]
     },
     "execution_count": 14,
     "metadata": {},
     "output_type": "execute_result"
    }
   ],
   "source": [
    "bool(l4)"
   ]
  },
  {
   "cell_type": "code",
   "execution_count": 16,
   "id": "caf95c3f-7285-45b3-ac06-a3b67ddee303",
   "metadata": {},
   "outputs": [
    {
     "data": {
      "text/plain": [
       "list"
      ]
     },
     "execution_count": 16,
     "metadata": {},
     "output_type": "execute_result"
    }
   ],
   "source": [
    "type(l4)"
   ]
  },
  {
   "cell_type": "code",
   "execution_count": 18,
   "id": "85dba957-d090-4bbf-8d4d-c67418700b9c",
   "metadata": {},
   "outputs": [
    {
     "data": {
      "text/plain": [
       "'@'"
      ]
     },
     "execution_count": 18,
     "metadata": {},
     "output_type": "execute_result"
    }
   ],
   "source": [
    "l4[1]"
   ]
  },
  {
   "cell_type": "code",
   "execution_count": 27,
   "id": "a069efcc-1923-45cd-b28e-9b6f48f0a352",
   "metadata": {},
   "outputs": [
    {
     "data": {
      "text/plain": [
       "[True]"
      ]
     },
     "execution_count": 27,
     "metadata": {},
     "output_type": "execute_result"
    }
   ],
   "source": [
    "l5=[True]\n",
    "l5"
   ]
  },
  {
   "cell_type": "code",
   "execution_count": 29,
   "id": "648aab4b-2300-4425-8abf-9a380aea6153",
   "metadata": {},
   "outputs": [
    {
     "data": {
      "text/plain": [
       "[10, 10, 10]"
      ]
     },
     "execution_count": 29,
     "metadata": {},
     "output_type": "execute_result"
    }
   ],
   "source": [
    "l6=[10,10,10]\n",
    "l6\n",
    "#duplicates are allowed"
   ]
  },
  {
   "cell_type": "code",
   "execution_count": 33,
   "id": "0f1dd6f0-16bc-4498-90f1-5d278d1eface",
   "metadata": {},
   "outputs": [
    {
     "data": {
      "text/plain": [
       "[1, 2, 3, ' ']"
      ]
     },
     "execution_count": 33,
     "metadata": {},
     "output_type": "execute_result"
    }
   ],
   "source": [
    "l7=[1,2,3,\" \"]\n",
    "l7"
   ]
  },
  {
   "cell_type": "code",
   "execution_count": 45,
   "id": "635da3df-76a9-45a9-b600-11782dae78ee",
   "metadata": {},
   "outputs": [
    {
     "data": {
      "text/plain": [
       "['{\"dataframes\": [], \"user\": \"user\"}']"
      ]
     },
     "execution_count": 45,
     "metadata": {},
     "output_type": "execute_result"
    }
   ],
   "source": [
    "l9=[_]# answer \n",
    "l9"
   ]
  },
  {
   "cell_type": "code",
   "execution_count": 47,
   "id": "c7ba39b7-4490-427b-9c89-ec6745b7bfb6",
   "metadata": {},
   "outputs": [
    {
     "ename": "NameError",
     "evalue": "name 'python' is not defined",
     "output_type": "error",
     "traceback": [
      "\u001b[1;31m---------------------------------------------------------------------------\u001b[0m",
      "\u001b[1;31mNameError\u001b[0m                                 Traceback (most recent call last)",
      "Cell \u001b[1;32mIn[47], line 1\u001b[0m\n\u001b[1;32m----> 1\u001b[0m l10\u001b[38;5;241m=\u001b[39m[python] \u001b[38;5;66;03m#error\u001b[39;00m\n\u001b[0;32m      2\u001b[0m l10\n",
      "\u001b[1;31mNameError\u001b[0m: name 'python' is not defined"
     ]
    }
   ],
   "source": [
    "l10=[python] #error\n",
    "l10"
   ]
  },
  {
   "cell_type": "markdown",
   "id": "34ed6dfb-f044-4502-93cb-dec0d49b5d92",
   "metadata": {},
   "source": [
    "- List can be accessed with square brackets\n",
    "- List can have duplicates\n",
    "- List can have any data types of elements\n",
    "  - Heterogeneous\n",
    "- List in List is possible\n",
    "- An empty List can also possible\n",
    "- The values Inside list is called as element"
   ]
  },
  {
   "cell_type": "code",
   "execution_count": 50,
   "id": "d81ab34c-21cd-423a-b654-fb40bce22548",
   "metadata": {},
   "outputs": [
    {
     "data": {
      "text/plain": [
       "1"
      ]
     },
     "execution_count": 50,
     "metadata": {},
     "output_type": "execute_result"
    }
   ],
   "source": [
    "min(l1)"
   ]
  },
  {
   "cell_type": "code",
   "execution_count": 52,
   "id": "7b60fe8a-e7fa-490f-8a0d-21b8200e36ac",
   "metadata": {},
   "outputs": [
    {
     "data": {
      "text/plain": [
       "4"
      ]
     },
     "execution_count": 52,
     "metadata": {},
     "output_type": "execute_result"
    }
   ],
   "source": [
    "max(l1)"
   ]
  },
  {
   "cell_type": "code",
   "execution_count": 100,
   "id": "d7f481d3-1839-495e-96c1-36d4ae0f32b0",
   "metadata": {},
   "outputs": [
    {
     "ename": "TypeError",
     "evalue": "'list_reverseiterator' object is not reversible",
     "output_type": "error",
     "traceback": [
      "\u001b[1;31m---------------------------------------------------------------------------\u001b[0m",
      "\u001b[1;31mTypeError\u001b[0m                                 Traceback (most recent call last)",
      "Cell \u001b[1;32mIn[100], line 1\u001b[0m\n\u001b[1;32m----> 1\u001b[0m \u001b[38;5;28mreversed\u001b[39m(l1)\n",
      "\u001b[1;31mTypeError\u001b[0m: 'list_reverseiterator' object is not reversible"
     ]
    }
   ],
   "source": [
    "reversed(l1)"
   ]
  },
  {
   "cell_type": "code",
   "execution_count": 54,
   "id": "a63c3174-dd69-42e9-beaf-02713964ae3d",
   "metadata": {},
   "outputs": [
    {
     "data": {
      "text/plain": [
       "4"
      ]
     },
     "execution_count": 54,
     "metadata": {},
     "output_type": "execute_result"
    }
   ],
   "source": [
    "len(l1)"
   ]
  },
  {
   "cell_type": "code",
   "execution_count": 56,
   "id": "dff25c93-6e61-4237-ad4d-e273b441319f",
   "metadata": {},
   "outputs": [
    {
     "data": {
      "text/plain": [
       "[1, 2, 3, 4]"
      ]
     },
     "execution_count": 56,
     "metadata": {},
     "output_type": "execute_result"
    }
   ],
   "source": [
    "sorted(l1)"
   ]
  },
  {
   "cell_type": "code",
   "execution_count": 66,
   "id": "0f482ba5-0c4d-4838-957e-71a341b335b2",
   "metadata": {},
   "outputs": [
    {
     "data": {
      "text/plain": [
       "list"
      ]
     },
     "execution_count": 66,
     "metadata": {},
     "output_type": "execute_result"
    }
   ],
   "source": [
    "type(l1)"
   ]
  },
  {
   "cell_type": "code",
   "execution_count": 84,
   "id": "664075ca-131b-4941-988d-b3fa4154eb10",
   "metadata": {},
   "outputs": [
    {
     "name": "stdout",
     "output_type": "stream",
     "text": [
      "[False, True, 4, 3, 2, 1]\n"
     ]
    }
   ],
   "source": [
    "l11=[1,2,3,4,True,False]\n",
    "s=reversed(l11)\n",
    "print(list(s))"
   ]
  },
  {
   "cell_type": "code",
   "execution_count": 86,
   "id": "949a8c2b-8f11-4983-bd94-05ed0fb64c06",
   "metadata": {},
   "outputs": [
    {
     "data": {
      "text/plain": [
       "1"
      ]
     },
     "execution_count": 86,
     "metadata": {},
     "output_type": "execute_result"
    }
   ],
   "source": [
    "len(l9)"
   ]
  },
  {
   "cell_type": "code",
   "execution_count": 88,
   "id": "b30f4b02-4d2b-4043-972e-b8377d237e12",
   "metadata": {},
   "outputs": [
    {
     "ename": "NameError",
     "evalue": "name 'l10' is not defined",
     "output_type": "error",
     "traceback": [
      "\u001b[1;31m---------------------------------------------------------------------------\u001b[0m",
      "\u001b[1;31mNameError\u001b[0m                                 Traceback (most recent call last)",
      "Cell \u001b[1;32mIn[88], line 1\u001b[0m\n\u001b[1;32m----> 1\u001b[0m \u001b[38;5;28mmin\u001b[39m(l10)\n",
      "\u001b[1;31mNameError\u001b[0m: name 'l10' is not defined"
     ]
    }
   ],
   "source": [
    "min(l10)"
   ]
  },
  {
   "cell_type": "code",
   "execution_count": 90,
   "id": "42240016-e7b9-424d-8d9f-a9b028d9dcc4",
   "metadata": {},
   "outputs": [
    {
     "ename": "TypeError",
     "evalue": "'<' not supported between instances of 'str' and 'int'",
     "output_type": "error",
     "traceback": [
      "\u001b[1;31m---------------------------------------------------------------------------\u001b[0m",
      "\u001b[1;31mTypeError\u001b[0m                                 Traceback (most recent call last)",
      "Cell \u001b[1;32mIn[90], line 1\u001b[0m\n\u001b[1;32m----> 1\u001b[0m \u001b[38;5;28mmin\u001b[39m(l3)\n",
      "\u001b[1;31mTypeError\u001b[0m: '<' not supported between instances of 'str' and 'int'"
     ]
    }
   ],
   "source": [
    "min(l3) \n",
    "# same data "
   ]
  },
  {
   "cell_type": "code",
   "execution_count": 92,
   "id": "d93da0a8-6ae4-493e-af92-413ede85b48c",
   "metadata": {},
   "outputs": [
    {
     "ename": "TypeError",
     "evalue": "ord() expected string of length 1, but list_reverseiterator found",
     "output_type": "error",
     "traceback": [
      "\u001b[1;31m---------------------------------------------------------------------------\u001b[0m",
      "\u001b[1;31mTypeError\u001b[0m                                 Traceback (most recent call last)",
      "Cell \u001b[1;32mIn[92], line 1\u001b[0m\n\u001b[1;32m----> 1\u001b[0m \u001b[38;5;28mord\u001b[39m(l1)\n",
      "\u001b[1;31mTypeError\u001b[0m: ord() expected string of length 1, but list_reverseiterator found"
     ]
    }
   ],
   "source": [
    "ord(l1)"
   ]
  },
  {
   "cell_type": "code",
   "execution_count": 94,
   "id": "b75ac084-ec22-4894-b488-0e13d3d7be9d",
   "metadata": {},
   "outputs": [
    {
     "data": {
      "text/plain": [
       "(0, 1, 1)"
      ]
     },
     "execution_count": 94,
     "metadata": {},
     "output_type": "execute_result"
    }
   ],
   "source": [
    "len([]),len([100]),len([''])"
   ]
  },
  {
   "cell_type": "code",
   "execution_count": 102,
   "id": "b8fc2219-fa1f-4038-851c-ab55c13c87af",
   "metadata": {},
   "outputs": [
    {
     "data": {
      "text/plain": [
       "[1, 2, 3, 4]"
      ]
     },
     "execution_count": 102,
     "metadata": {},
     "output_type": "execute_result"
    }
   ],
   "source": [
    "l12=[1,2,3,4]\n",
    "l12"
   ]
  },
  {
   "cell_type": "code",
   "execution_count": 106,
   "id": "7f092502-0573-492a-95b6-cf17a8c21494",
   "metadata": {},
   "outputs": [
    {
     "data": {
      "text/plain": [
       "<list_reverseiterator at 0x1ec43373b50>"
      ]
     },
     "execution_count": 106,
     "metadata": {},
     "output_type": "execute_result"
    }
   ],
   "source": [
    "reversed(l12)"
   ]
  },
  {
   "cell_type": "code",
   "execution_count": 108,
   "id": "a09f5dbb-a8a5-4be1-bc95-5c7044765406",
   "metadata": {},
   "outputs": [
    {
     "name": "stdout",
     "output_type": "stream",
     "text": [
      "4\n",
      "3\n",
      "2\n",
      "1\n"
     ]
    }
   ],
   "source": [
    "for i in reversed(l12):\n",
    "    print(i)"
   ]
  },
  {
   "cell_type": "code",
   "execution_count": 114,
   "id": "1bd2c07f-a59c-4a4b-b888-34f81d631953",
   "metadata": {},
   "outputs": [
    {
     "data": {
      "text/plain": [
       "[4, 3, 2, 1]"
      ]
     },
     "execution_count": 114,
     "metadata": {},
     "output_type": "execute_result"
    }
   ],
   "source": [
    "list(reversed(l12))"
   ]
  },
  {
   "cell_type": "markdown",
   "id": "336d9398-6235-46d1-8454-302cd20288c6",
   "metadata": {},
   "source": [
    "- sorted will compare the elements\n",
    "- the same rules applicable for min and max\n",
    "- sorted never return any error eventhough we have an empty list\n",
    "- min and max will give error if it has empty list\n",
    "- reversed only do reverse elements"
   ]
  },
  {
   "cell_type": "markdown",
   "id": "9e389c52-f6d6-404c-b4eb-10d547b93b27",
   "metadata": {},
   "source": [
    "**sum**"
   ]
  },
  {
   "cell_type": "code",
   "execution_count": 117,
   "id": "f70f6423-1bda-4b84-ac3f-69a7fd21c462",
   "metadata": {},
   "outputs": [
    {
     "data": {
      "text/plain": [
       "600"
      ]
     },
     "execution_count": 117,
     "metadata": {},
     "output_type": "execute_result"
    }
   ],
   "source": [
    "sum([100,200,300])"
   ]
  },
  {
   "cell_type": "code",
   "execution_count": 119,
   "id": "3933145d-5c38-4053-a7e8-fa79a409cc3d",
   "metadata": {},
   "outputs": [
    {
     "data": {
      "text/plain": [
       "750"
      ]
     },
     "execution_count": 119,
     "metadata": {},
     "output_type": "execute_result"
    }
   ],
   "source": [
    "sum([100,200,300],start=150)"
   ]
  },
  {
   "cell_type": "code",
   "execution_count": 123,
   "id": "f2716d61-3b1b-4831-9fea-04614991d8a9",
   "metadata": {},
   "outputs": [
    {
     "data": {
      "text/plain": [
       "0"
      ]
     },
     "execution_count": 123,
     "metadata": {},
     "output_type": "execute_result"
    }
   ],
   "source": [
    "sum([]) # because default value is 0"
   ]
  },
  {
   "cell_type": "markdown",
   "id": "38069b0b-6288-4afc-aedb-1836503a86c6",
   "metadata": {},
   "source": [
    "**index**"
   ]
  },
  {
   "cell_type": "code",
   "execution_count": 150,
   "id": "ffb53a76-44bf-4374-93e3-4af88993c586",
   "metadata": {},
   "outputs": [
    {
     "data": {
      "text/plain": [
       "[1, 2, 3, 4, 'A', 'B', 'C']"
      ]
     },
     "execution_count": 150,
     "metadata": {},
     "output_type": "execute_result"
    }
   ],
   "source": [
    "l14=[1,2,3,4,'A','B','C']\n",
    "l14"
   ]
  },
  {
   "cell_type": "code",
   "execution_count": 2,
   "id": "8ad021a1-b121-435a-90cf-db04ce800069",
   "metadata": {},
   "outputs": [
    {
     "name": "stdout",
     "output_type": "stream",
     "text": [
      "The positive index of 10 : 0\n",
      "The negative index of 10 : -7\n",
      "The positive index of 20 : 1\n",
      "The negative index of 20 : -6\n",
      "The positive index of 30 : 2\n",
      "The negative index of 30 : -5\n",
      "The positive index of 40 : 3\n",
      "The negative index of 40 : -4\n",
      "The positive index of A : 4\n",
      "The negative index of A : -3\n",
      "The positive index of B : 5\n",
      "The negative index of B : -2\n",
      "The positive index of C : 6\n",
      "The negative index of C : -1\n"
     ]
    }
   ],
   "source": [
    "l14=[10,20,30,40,'A','B','C']\n",
    "for i in range(len(l14)):\n",
    "    print(f'The positive index of {l14[i]} : {i}')\n",
    "    print(f'The negative index of {l14[i]} : {i-len(l14)}')"
   ]
  },
  {
   "cell_type": "code",
   "execution_count": 170,
   "id": "c541cb9e-e522-42c4-b196-22ba3ac5dea2",
   "metadata": {},
   "outputs": [
    {
     "data": {
      "text/plain": [
       "1"
      ]
     },
     "execution_count": 170,
     "metadata": {},
     "output_type": "execute_result"
    }
   ],
   "source": [
    "l=[[10,20,15]]\n",
    "len(l)"
   ]
  },
  {
   "cell_type": "code",
   "execution_count": 172,
   "id": "9b62aa1d-bfd8-424a-863d-d9bad2995ec2",
   "metadata": {},
   "outputs": [
    {
     "data": {
      "text/plain": [
       "[10, 20, 15]"
      ]
     },
     "execution_count": 172,
     "metadata": {},
     "output_type": "execute_result"
    }
   ],
   "source": [
    "l[0]"
   ]
  },
  {
   "cell_type": "code",
   "execution_count": 174,
   "id": "35131e97-991b-4869-bbe4-bc790f38df63",
   "metadata": {},
   "outputs": [
    {
     "data": {
      "text/plain": [
       "10"
      ]
     },
     "execution_count": 174,
     "metadata": {},
     "output_type": "execute_result"
    }
   ],
   "source": [
    "l[0][0]"
   ]
  },
  {
   "cell_type": "code",
   "execution_count": 176,
   "id": "5d7d5cae-d9f0-4a41-bdca-a33a5a6dadb9",
   "metadata": {},
   "outputs": [
    {
     "data": {
      "text/plain": [
       "20"
      ]
     },
     "execution_count": 176,
     "metadata": {},
     "output_type": "execute_result"
    }
   ],
   "source": [
    "l[0][1]"
   ]
  },
  {
   "cell_type": "code",
   "execution_count": 178,
   "id": "6a9c5434-f008-42b7-ba26-2b35bdc9ab2f",
   "metadata": {},
   "outputs": [
    {
     "data": {
      "text/plain": [
       "3"
      ]
     },
     "execution_count": 178,
     "metadata": {},
     "output_type": "execute_result"
    }
   ],
   "source": [
    "l1=[10,20,['A','B']]\n",
    "#retrive A\n",
    "len(l1)"
   ]
  },
  {
   "cell_type": "code",
   "execution_count": 184,
   "id": "ed185134-5028-4d7d-9117-c9ef48ff15a2",
   "metadata": {},
   "outputs": [
    {
     "data": {
      "text/plain": [
       "(10, 20, ['A', 'B'])"
      ]
     },
     "execution_count": 184,
     "metadata": {},
     "output_type": "execute_result"
    }
   ],
   "source": [
    "l1[0],l1[1],l1[2]"
   ]
  },
  {
   "cell_type": "code",
   "execution_count": 186,
   "id": "15bb3437-aba8-4517-9b70-8ae7ef02e890",
   "metadata": {},
   "outputs": [
    {
     "data": {
      "text/plain": [
       "'A'"
      ]
     },
     "execution_count": 186,
     "metadata": {},
     "output_type": "execute_result"
    }
   ],
   "source": [
    "l1[2][0]"
   ]
  },
  {
   "cell_type": "code",
   "execution_count": 194,
   "id": "37ed9841-8eeb-45cb-9e8f-41d0581a9bd1",
   "metadata": {},
   "outputs": [
    {
     "data": {
      "text/plain": [
       "'Apple'"
      ]
     },
     "execution_count": 194,
     "metadata": {},
     "output_type": "execute_result"
    }
   ],
   "source": [
    "l2=[1,2,3,4,[5,6,['Apple']]]\n",
    "l2[4][2][0]"
   ]
  },
  {
   "cell_type": "code",
   "execution_count": 212,
   "id": "cecc5e64-e2ea-409f-8ee1-4773c8fe12ad",
   "metadata": {},
   "outputs": [
    {
     "data": {
      "text/plain": [
       "[4, [5, ['cherry']]]"
      ]
     },
     "execution_count": 212,
     "metadata": {},
     "output_type": "execute_result"
    }
   ],
   "source": [
    "l1=[1,2,3,[4,[5,['cherry']]]]\n",
    "l1[3]"
   ]
  },
  {
   "cell_type": "code",
   "execution_count": 214,
   "id": "fda98a19-7c1b-404d-b760-5be5729c2143",
   "metadata": {},
   "outputs": [
    {
     "data": {
      "text/plain": [
       "[5, ['cherry']]"
      ]
     },
     "execution_count": 214,
     "metadata": {},
     "output_type": "execute_result"
    }
   ],
   "source": [
    "l1=[1,2,3,[4,[5,['cherry']]]]\n",
    "l1[3][1]"
   ]
  },
  {
   "cell_type": "code",
   "execution_count": 216,
   "id": "f0a28a74-cac6-4aa1-b776-846882fadbee",
   "metadata": {},
   "outputs": [
    {
     "data": {
      "text/plain": [
       "['cherry']"
      ]
     },
     "execution_count": 216,
     "metadata": {},
     "output_type": "execute_result"
    }
   ],
   "source": [
    "l1=[1,2,3,[4,[5,['cherry']]]]\n",
    "l1[3][1][1]"
   ]
  },
  {
   "cell_type": "code",
   "execution_count": 218,
   "id": "705969ff-f924-49a8-afc6-d2b17b9a5934",
   "metadata": {},
   "outputs": [
    {
     "data": {
      "text/plain": [
       "'cherry'"
      ]
     },
     "execution_count": 218,
     "metadata": {},
     "output_type": "execute_result"
    }
   ],
   "source": [
    "l1=[1,2,3,[4,[5,['cherry']]]]\n",
    "l1[3][1][1][0]"
   ]
  },
  {
   "cell_type": "code",
   "execution_count": 220,
   "id": "708c1b90-2cd5-44c5-aac0-883a076c759c",
   "metadata": {},
   "outputs": [
    {
     "data": {
      "text/plain": [
       "1"
      ]
     },
     "execution_count": 220,
     "metadata": {},
     "output_type": "execute_result"
    }
   ],
   "source": [
    "l1=[[[[[[[[['banana']]]]]]]]]\n",
    "len(l1)"
   ]
  },
  {
   "cell_type": "code",
   "execution_count": 222,
   "id": "c8cd2670-e817-4875-b348-6d514d0d4d8e",
   "metadata": {},
   "outputs": [
    {
     "data": {
      "text/plain": [
       "[[[[[[[['banana']]]]]]]]"
      ]
     },
     "execution_count": 222,
     "metadata": {},
     "output_type": "execute_result"
    }
   ],
   "source": [
    "l1[0]"
   ]
  },
  {
   "cell_type": "code",
   "execution_count": 226,
   "id": "28665c97-2072-451e-8181-12132ca2c34e",
   "metadata": {},
   "outputs": [
    {
     "data": {
      "text/plain": [
       "[[[[[[['banana']]]]]]]"
      ]
     },
     "execution_count": 226,
     "metadata": {},
     "output_type": "execute_result"
    }
   ],
   "source": [
    "l1[0][0]"
   ]
  },
  {
   "cell_type": "code",
   "execution_count": 224,
   "id": "364c4f57-ce7e-46b5-8ee1-a686985c3318",
   "metadata": {},
   "outputs": [
    {
     "data": {
      "text/plain": [
       "'banana'"
      ]
     },
     "execution_count": 224,
     "metadata": {},
     "output_type": "execute_result"
    }
   ],
   "source": [
    "l1[0][0][0][0][0][0][0][0][0]"
   ]
  },
  {
   "cell_type": "code",
   "execution_count": 228,
   "id": "f88b5576-c54e-42e2-b9ff-6428a4d4699c",
   "metadata": {},
   "outputs": [
    {
     "data": {
      "text/plain": [
       "['Kashmir', ['India', ['Mumbai', ['Sharuk', ['Film', ['DDLJ']]]]]]"
      ]
     },
     "execution_count": 228,
     "metadata": {},
     "output_type": "execute_result"
    }
   ],
   "source": [
    "l1=['Apple',['Kashmir',['India',['Mumbai',['Sharuk',['Film',['DDLJ']]]]]]]\n",
    "l1[1]"
   ]
  },
  {
   "cell_type": "code",
   "execution_count": 230,
   "id": "4381768e-c18c-40d4-934b-0bbccf5304be",
   "metadata": {},
   "outputs": [
    {
     "data": {
      "text/plain": [
       "['India', ['Mumbai', ['Sharuk', ['Film', ['DDLJ']]]]]"
      ]
     },
     "execution_count": 230,
     "metadata": {},
     "output_type": "execute_result"
    }
   ],
   "source": [
    "l1=['Apple',['Kashmir',['India',['Mumbai',['Sharuk',['Film',['DDLJ']]]]]]]\n",
    "l1[1][1]"
   ]
  },
  {
   "cell_type": "code",
   "execution_count": 232,
   "id": "a0030620-5626-4c4e-ad84-ba985d1887fe",
   "metadata": {},
   "outputs": [
    {
     "data": {
      "text/plain": [
       "['Mumbai', ['Sharuk', ['Film', ['DDLJ']]]]"
      ]
     },
     "execution_count": 232,
     "metadata": {},
     "output_type": "execute_result"
    }
   ],
   "source": [
    "l1=['Apple',['Kashmir',['India',['Mumbai',['Sharuk',['Film',['DDLJ']]]]]]]\n",
    "l1[1][1][1]"
   ]
  },
  {
   "cell_type": "code",
   "execution_count": 234,
   "id": "988eb2b0-55f2-48f4-af4b-65e22c8b719c",
   "metadata": {},
   "outputs": [
    {
     "data": {
      "text/plain": [
       "['Sharuk', ['Film', ['DDLJ']]]"
      ]
     },
     "execution_count": 234,
     "metadata": {},
     "output_type": "execute_result"
    }
   ],
   "source": [
    "l1=['Apple',['Kashmir',['India',['Mumbai',['Sharuk',['Film',['DDLJ']]]]]]]\n",
    "l1[1][1][1][1]"
   ]
  },
  {
   "cell_type": "code",
   "execution_count": 1,
   "id": "3ea63ecf-7b68-4727-8b79-c6f20e422a68",
   "metadata": {},
   "outputs": [
    {
     "data": {
      "text/plain": [
       "['Film', ['DDLJ']]"
      ]
     },
     "execution_count": 1,
     "metadata": {},
     "output_type": "execute_result"
    }
   ],
   "source": [
    "l1=['Apple',['Kashmir',['India',['Mumbai',['Sharuk',['Film',['DDLJ']]]]]]]\n",
    "l1[1][1][1][1][1]"
   ]
  },
  {
   "cell_type": "code",
   "execution_count": 3,
   "id": "f54bf87b-3abb-459d-80a6-f62977cfe3f0",
   "metadata": {},
   "outputs": [
    {
     "data": {
      "text/plain": [
       "['DDLJ']"
      ]
     },
     "execution_count": 3,
     "metadata": {},
     "output_type": "execute_result"
    }
   ],
   "source": [
    "l1=['Apple',['Kashmir',['India',['Mumbai',['Sharuk',['Film',['DDLJ']]]]]]]\n",
    "l1[1][1][1][1][1][1]"
   ]
  },
  {
   "cell_type": "code",
   "execution_count": 15,
   "id": "c2130ff2-3563-46e4-a0b6-be54c2f6b89e",
   "metadata": {},
   "outputs": [
    {
     "data": {
      "text/plain": [
       "'DDLJ'"
      ]
     },
     "execution_count": 15,
     "metadata": {},
     "output_type": "execute_result"
    }
   ],
   "source": [
    "l1=['Apple',['Kashmir',['India',['Mumbai',['Sharuk',['Film',['DDLJ']]]]]]]\n",
    "l1[1][1][1][1][1][1][0]"
   ]
  },
  {
   "cell_type": "code",
   "execution_count": 17,
   "id": "116c1861-41a7-486d-9007-ad391b0211ed",
   "metadata": {},
   "outputs": [
    {
     "data": {
      "text/plain": [
       "[1, 2, 'W', 'e', 'l', 'c', 'o', 'm', 'e']"
      ]
     },
     "execution_count": 17,
     "metadata": {},
     "output_type": "execute_result"
    }
   ],
   "source": [
    "l1=[1,2,'w','e','l','c','o','m','e']\n",
    "l1[2]=\"W\"\n",
    "l1"
   ]
  },
  {
   "cell_type": "markdown",
   "id": "e563d0c9-d357-4182-ba6a-1ac2a236f6b9",
   "metadata": {},
   "source": [
    "- we can change the list elements using index"
   ]
  },
  {
   "cell_type": "code",
   "execution_count": 20,
   "id": "0361997a-e4c8-453b-a860-87c025d1742d",
   "metadata": {},
   "outputs": [
    {
     "data": {
      "text/plain": [
       "['h', 'e', 'l', 'l', 'o', 'w', 'e', 'l', 'c', 'o', 'm', 'e']"
      ]
     },
     "execution_count": 20,
     "metadata": {},
     "output_type": "execute_result"
    }
   ],
   "source": [
    "l1=['h','e','l','l','o']\n",
    "l2=['w','e','l','c','o','m','e']\n",
    "l1+l2"
   ]
  },
  {
   "cell_type": "code",
   "execution_count": null,
   "id": "2e92eae9-a782-48c4-88aa-807c7cecb6e4",
   "metadata": {},
   "outputs": [],
   "source": [
    "l1*l2 #error\n",
    "l2-l2 #error\n",
    "l1/l2 #error"
   ]
  },
  {
   "cell_type": "markdown",
   "id": "4bf6017a-80b2-43f0-8fd5-fac1fc6c87fe",
   "metadata": {},
   "source": [
    "**slicing**"
   ]
  },
  {
   "cell_type": "code",
   "execution_count": 23,
   "id": "b9d3665c-1979-4fc8-ad0d-b95ed25e0466",
   "metadata": {},
   "outputs": [
    {
     "data": {
      "text/plain": [
       "[]"
      ]
     },
     "execution_count": 23,
     "metadata": {},
     "output_type": "execute_result"
    }
   ],
   "source": [
    "l1=[1,2,3,4,5,'A','B','C','D','10.5',True,10.5,100,200]\n",
    "l1[2:-14:2]"
   ]
  },
  {
   "cell_type": "code",
   "execution_count": 25,
   "id": "087e7fc1-ef21-41e2-951c-0fd63a954394",
   "metadata": {},
   "outputs": [
    {
     "data": {
      "text/plain": [
       "[100]"
      ]
     },
     "execution_count": 25,
     "metadata": {},
     "output_type": "execute_result"
    }
   ],
   "source": [
    "l1[-2:14:2]"
   ]
  },
  {
   "cell_type": "code",
   "execution_count": 27,
   "id": "dd60d6d7-122f-45cd-8284-d4af34c11e10",
   "metadata": {},
   "outputs": [
    {
     "data": {
      "text/plain": [
       "[]"
      ]
     },
     "execution_count": 27,
     "metadata": {},
     "output_type": "execute_result"
    }
   ],
   "source": [
    "l1[14:-2:2]"
   ]
  },
  {
   "cell_type": "code",
   "execution_count": 29,
   "id": "b19cf940-c423-4695-851e-07a0b0bbcd4f",
   "metadata": {},
   "outputs": [
    {
     "data": {
      "text/plain": [
       "[1]"
      ]
     },
     "execution_count": 29,
     "metadata": {},
     "output_type": "execute_result"
    }
   ],
   "source": [
    "l1[-14:2:2]"
   ]
  },
  {
   "cell_type": "code",
   "execution_count": 31,
   "id": "3faa1760-a850-4b23-bdfc-70d995083099",
   "metadata": {},
   "outputs": [
    {
     "data": {
      "text/plain": [
       "[200]"
      ]
     },
     "execution_count": 31,
     "metadata": {},
     "output_type": "execute_result"
    }
   ],
   "source": [
    "l1[14:-2:-2]"
   ]
  },
  {
   "cell_type": "code",
   "execution_count": 33,
   "id": "093b47cc-2601-4128-88db-8e1e73b49c1b",
   "metadata": {},
   "outputs": [
    {
     "data": {
      "text/plain": [
       "[]"
      ]
     },
     "execution_count": 33,
     "metadata": {},
     "output_type": "execute_result"
    }
   ],
   "source": [
    "l1[-14:-2:-2]"
   ]
  },
  {
   "cell_type": "markdown",
   "id": "ddd603db-13dc-4106-90f3-a4fcd0079b68",
   "metadata": {},
   "source": [
    "**Methods**"
   ]
  },
  {
   "cell_type": "code",
   "execution_count": 36,
   "id": "f4dde833-ebed-4379-bcfe-5d98ee9eee61",
   "metadata": {},
   "outputs": [
    {
     "data": {
      "text/plain": [
       "['__add__',\n",
       " '__class__',\n",
       " '__class_getitem__',\n",
       " '__contains__',\n",
       " '__delattr__',\n",
       " '__delitem__',\n",
       " '__dir__',\n",
       " '__doc__',\n",
       " '__eq__',\n",
       " '__format__',\n",
       " '__ge__',\n",
       " '__getattribute__',\n",
       " '__getitem__',\n",
       " '__getstate__',\n",
       " '__gt__',\n",
       " '__hash__',\n",
       " '__iadd__',\n",
       " '__imul__',\n",
       " '__init__',\n",
       " '__init_subclass__',\n",
       " '__iter__',\n",
       " '__le__',\n",
       " '__len__',\n",
       " '__lt__',\n",
       " '__mul__',\n",
       " '__ne__',\n",
       " '__new__',\n",
       " '__reduce__',\n",
       " '__reduce_ex__',\n",
       " '__repr__',\n",
       " '__reversed__',\n",
       " '__rmul__',\n",
       " '__setattr__',\n",
       " '__setitem__',\n",
       " '__sizeof__',\n",
       " '__str__',\n",
       " '__subclasshook__',\n",
       " 'append',\n",
       " 'clear',\n",
       " 'copy',\n",
       " 'count',\n",
       " 'extend',\n",
       " 'index',\n",
       " 'insert',\n",
       " 'pop',\n",
       " 'remove',\n",
       " 'reverse',\n",
       " 'sort']"
      ]
     },
     "execution_count": 36,
     "metadata": {},
     "output_type": "execute_result"
    }
   ],
   "source": [
    "dir(list)"
   ]
  },
  {
   "cell_type": "code",
   "execution_count": 38,
   "id": "82fd782f-a7b0-4df0-b0c6-fd856f6323a7",
   "metadata": {},
   "outputs": [
    {
     "data": {
      "text/plain": [
       "['__add__',\n",
       " '__class__',\n",
       " '__class_getitem__',\n",
       " '__contains__',\n",
       " '__delattr__',\n",
       " '__delitem__',\n",
       " '__dir__',\n",
       " '__doc__',\n",
       " '__eq__',\n",
       " '__format__',\n",
       " '__ge__',\n",
       " '__getattribute__',\n",
       " '__getitem__',\n",
       " '__getstate__',\n",
       " '__gt__',\n",
       " '__hash__',\n",
       " '__iadd__',\n",
       " '__imul__',\n",
       " '__init__',\n",
       " '__init_subclass__',\n",
       " '__iter__',\n",
       " '__le__',\n",
       " '__len__',\n",
       " '__lt__',\n",
       " '__mul__',\n",
       " '__ne__',\n",
       " '__new__',\n",
       " '__reduce__',\n",
       " '__reduce_ex__',\n",
       " '__repr__',\n",
       " '__reversed__',\n",
       " '__rmul__',\n",
       " '__setattr__',\n",
       " '__setitem__',\n",
       " '__sizeof__',\n",
       " '__str__',\n",
       " '__subclasshook__',\n",
       " 'append',\n",
       " 'clear',\n",
       " 'copy',\n",
       " 'count',\n",
       " 'extend',\n",
       " 'index',\n",
       " 'insert',\n",
       " 'pop',\n",
       " 'remove',\n",
       " 'reverse',\n",
       " 'sort']"
      ]
     },
     "execution_count": 38,
     "metadata": {},
     "output_type": "execute_result"
    }
   ],
   "source": [
    "dir([])"
   ]
  },
  {
   "cell_type": "code",
   "execution_count": 42,
   "id": "b83ba602-1feb-45f6-a51f-9955d3428b33",
   "metadata": {},
   "outputs": [
    {
     "data": {
      "text/plain": [
       "[]"
      ]
     },
     "execution_count": 42,
     "metadata": {},
     "output_type": "execute_result"
    }
   ],
   "source": [
    "l1=['w','e','l','c','o','m','e']\n",
    "l1.clear()\n",
    "l1"
   ]
  },
  {
   "cell_type": "code",
   "execution_count": 91,
   "id": "24d03e51-929a-4bd4-9023-4f547ddd18a6",
   "metadata": {},
   "outputs": [
    {
     "name": "stdout",
     "output_type": "stream",
     "text": [
      "l2: ['1', '2']\n",
      "l1: []\n"
     ]
    }
   ],
   "source": [
    "l1=['1','2']\n",
    "l2=l1.copy()\n",
    "l1.clear()\n",
    "print('l2:',l2)\n",
    "print('l1:',l1)"
   ]
  },
  {
   "cell_type": "code",
   "execution_count": 73,
   "id": "094404aa-4fb6-47d1-b93e-deb245a6c36a",
   "metadata": {},
   "outputs": [
    {
     "data": {
      "text/plain": [
       "2"
      ]
     },
     "execution_count": 73,
     "metadata": {},
     "output_type": "execute_result"
    }
   ],
   "source": [
    "l1.count('e')"
   ]
  },
  {
   "cell_type": "code",
   "execution_count": 87,
   "id": "a0f49cb8-99dd-4504-80bf-290aa71a7b5a",
   "metadata": {},
   "outputs": [
    {
     "data": {
      "text/plain": [
       "['e', 'm', 'o', 'c', 'l', 'e', 'w']"
      ]
     },
     "execution_count": 87,
     "metadata": {},
     "output_type": "execute_result"
    }
   ],
   "source": [
    "l1=['w','e','l','c','o','m','e']\n",
    "l1.reverse()\n",
    "l1\n",
    "# reverse the elements save the output\n",
    "# in same variable \n",
    "# it indicates as \"INPLACE\"\n",
    "# some times inplace=True available"
   ]
  },
  {
   "cell_type": "markdown",
   "id": "3a403518-9d6c-42d5-a3b9-3e5e6c20bfe9",
   "metadata": {},
   "source": [
    "**reverse vs reversed**\n",
    "- reversed is a inbuilt function\n",
    "- reversed can be applicable all **iterable**\n",
    "- reversed applicable for **strings,list,tuple,dict**\n",
    "- reversed(string),reversed(list),reversed(tuple)etc"
   ]
  },
  {
   "cell_type": "markdown",
   "id": "73556e9f-d197-4eae-b365-f1780acfbe93",
   "metadata": {},
   "source": [
    "**reverse**\n",
    "- reverse is a method is belongs to only list\n",
    "- reverse method can not applicable to strins,tuple and dict\n",
    "- list.reverse()"
   ]
  },
  {
   "cell_type": "code",
   "execution_count": 102,
   "id": "2e2f8abf-de90-4abe-8fe7-e9db00b3a839",
   "metadata": {},
   "outputs": [
    {
     "data": {
      "text/plain": [
       "['w', 'o', 'm', 'l', 'e', 'e', 'c']"
      ]
     },
     "execution_count": 102,
     "metadata": {},
     "output_type": "execute_result"
    }
   ],
   "source": [
    "l1=['w','e','l','c','o','m','e']\n",
    "l1.sort(reverse=True)\n",
    "l1"
   ]
  },
  {
   "cell_type": "code",
   "execution_count": 104,
   "id": "c2c8080a-e208-4745-8ef6-cef1dbd09da8",
   "metadata": {},
   "outputs": [
    {
     "data": {
      "text/plain": [
       "['c', 'e', 'e', 'l', 'm', 'o', 'w']"
      ]
     },
     "execution_count": 104,
     "metadata": {},
     "output_type": "execute_result"
    }
   ],
   "source": [
    "l1=['w','e','l','c','o','m','e']\n",
    "l1.sort()\n",
    "l1"
   ]
  },
  {
   "cell_type": "code",
   "execution_count": 106,
   "id": "a5af6272-9c23-45d8-9992-b00ab930a573",
   "metadata": {},
   "outputs": [
    {
     "data": {
      "text/plain": [
       "['c', 'e', 'e', 'l', 'm', 'o', 'w']"
      ]
     },
     "execution_count": 106,
     "metadata": {},
     "output_type": "execute_result"
    }
   ],
   "source": [
    "sorted(l1)"
   ]
  },
  {
   "cell_type": "markdown",
   "id": "7559f6d4-dc3f-411e-a503-aa034cfc6ee2",
   "metadata": {},
   "source": [
    "**sort vs sorted**\n",
    "- do not use variable name as list"
   ]
  },
  {
   "cell_type": "code",
   "execution_count": null,
   "id": "07dea662-37a3-4d44-89f5-61568724c2b8",
   "metadata": {},
   "outputs": [],
   "source": [
    "sorted(string)-\n",
    "sorted(list)-works\n",
    "\n",
    "list.sort-works\n",
    "string.sort()"
   ]
  },
  {
   "cell_type": "code",
   "execution_count": 4,
   "id": "978f33a4-8a50-41f8-b0eb-c8d4e1b60aa2",
   "metadata": {},
   "outputs": [
    {
     "data": {
      "text/plain": [
       "[3, 5, 19, 25, 45]"
      ]
     },
     "execution_count": 4,
     "metadata": {},
     "output_type": "execute_result"
    }
   ],
   "source": [
    "list1=[19,25,3,45,5]\n",
    "list1.sort()\n",
    "list1"
   ]
  },
  {
   "cell_type": "code",
   "execution_count": 6,
   "id": "ce1d7772-d409-4e64-ae32-57d5644100dd",
   "metadata": {},
   "outputs": [
    {
     "data": {
      "text/plain": [
       "[45, 25, 19, 5, 3]"
      ]
     },
     "execution_count": 6,
     "metadata": {},
     "output_type": "execute_result"
    }
   ],
   "source": [
    "list1=[19,25,3,45,5]\n",
    "list1.sort(reverse=True)\n",
    "list1\n",
    "#when we give reverse as True it will update as reverse order in des to asc i.e inc to dec"
   ]
  },
  {
   "cell_type": "code",
   "execution_count": 8,
   "id": "b2c02f58-ca02-496a-83b7-44ef3a5b9f26",
   "metadata": {},
   "outputs": [
    {
     "data": {
      "text/plain": [
       "[3, 5, 19, 25, 45]"
      ]
     },
     "execution_count": 8,
     "metadata": {},
     "output_type": "execute_result"
    }
   ],
   "source": [
    "sorted(list1)"
   ]
  },
  {
   "cell_type": "code",
   "execution_count": null,
   "id": "c5f1a945-ff09-41e2-8572-7c50b178958f",
   "metadata": {},
   "outputs": [],
   "source": [
    "sorted(string) # works \n",
    "sorted(list) #works\n",
    "\n",
    "list1.sort() #works\n",
    "string.sort() #fail"
   ]
  },
  {
   "cell_type": "markdown",
   "id": "7cf85f13-ab19-444f-9b44-e02e65026877",
   "metadata": {},
   "source": [
    "**append**\n",
    "- append means add an element at the end of the list\n",
    "- append is a method very important\n",
    "- append is used to store the outputs in a list\n",
    "- till last class we just printed all the outputs\n",
    "- if we want to save the outputs we need to do append only\n",
    "- append method we will use very frequently"
   ]
  },
  {
   "cell_type": "code",
   "execution_count": 109,
   "id": "24f77cad-a420-4cb8-ab62-d58937eee57c",
   "metadata": {},
   "outputs": [
    {
     "data": {
      "text/plain": [
       "[10]"
      ]
     },
     "execution_count": 109,
     "metadata": {},
     "output_type": "execute_result"
    }
   ],
   "source": [
    "#empty list\n",
    "l1=[]\n",
    "l1.append(10)\n",
    "l1"
   ]
  },
  {
   "cell_type": "code",
   "execution_count": 111,
   "id": "a369e6c7-2f46-4ee8-b345-b97c7280ed87",
   "metadata": {},
   "outputs": [
    {
     "data": {
      "text/plain": [
       "[1, 2, 3, 'apple']"
      ]
     },
     "execution_count": 111,
     "metadata": {},
     "output_type": "execute_result"
    }
   ],
   "source": [
    "l1=[1,2,3]\n",
    "l1.append('apple')\n",
    "l1"
   ]
  },
  {
   "cell_type": "code",
   "execution_count": 113,
   "id": "ebf16516-a4cd-4798-aca3-8332bf3e878a",
   "metadata": {},
   "outputs": [
    {
     "data": {
      "text/plain": [
       "[1, 2, 3, 4, 'apple', 'banana', [True, False]]"
      ]
     },
     "execution_count": 113,
     "metadata": {},
     "output_type": "execute_result"
    }
   ],
   "source": [
    "l1=[1,2,3,4]\n",
    "l1.append('apple')\n",
    "l1.append('banana')\n",
    "l1.append([True,False])\n",
    "l1"
   ]
  },
  {
   "cell_type": "code",
   "execution_count": null,
   "id": "d475ee01-f99e-4354-acf1-0b072439b869",
   "metadata": {},
   "outputs": [],
   "source": [
    "l1=[]\n",
    "l1.append(1)\n",
    "l1.append(2)\n",
    "l1.append(3)\n",
    "\n",
    "l1.append(i)"
   ]
  },
  {
   "cell_type": "code",
   "execution_count": 115,
   "id": "fca5b47b-36ce-4ca0-ba8c-102793601688",
   "metadata": {},
   "outputs": [
    {
     "data": {
      "text/plain": [
       "[0, 1, 2, 3, 4, 5, 6, 7, 8, 9]"
      ]
     },
     "execution_count": 115,
     "metadata": {},
     "output_type": "execute_result"
    }
   ],
   "source": [
    "l1=[]\n",
    "for i in range(10):\n",
    "    l1.append(i)\n",
    "l1"
   ]
  },
  {
   "cell_type": "code",
   "execution_count": 15,
   "id": "c4f104c5-4373-4c9c-aa30-9dfbabc64976",
   "metadata": {},
   "outputs": [
    {
     "data": {
      "text/plain": [
       "[2304, 2025, 1444, 676, 576, 1936]"
      ]
     },
     "execution_count": 15,
     "metadata": {},
     "output_type": "execute_result"
    }
   ],
   "source": [
    "# Q2) wap ask the user get 5 random numbers\n",
    "#     perform the square of the random numbers\n",
    "#     save in a list\n",
    "from random import randint\n",
    "l=[]\n",
    "for i in range(6):\n",
    "    n=randint(1,100)\n",
    "    l.append(n*n)\n",
    "l"
   ]
  },
  {
   "cell_type": "code",
   "execution_count": 159,
   "id": "a5d7ed91-d7b6-43f4-8e63-ef54c757aa75",
   "metadata": {},
   "outputs": [
    {
     "name": "stdout",
     "output_type": "stream",
     "text": [
      "[20, 38, 52, 100] [27, 47, 87]\n"
     ]
    }
   ],
   "source": [
    "# Q3) list1=[100,20,27,38,47,52,87]\n",
    "# using this we need to extract even and odd numbers\n",
    "# even_list=[20.38,52,100] the output should be sorted\n",
    "# odd_list=[27,47,38,87] the output should be sorted\n",
    "l=[100,20,27,38,47,52,87]\n",
    "l1=[]\n",
    "l2=[]\n",
    "for i in l:\n",
    "    if i%2==0:\n",
    "        l1.append(i)\n",
    "    else:\n",
    "        l2.append(i)\n",
    "l1.sort(),l2.sort()\n",
    "print(l1,l2)"
   ]
  },
  {
   "cell_type": "code",
   "execution_count": null,
   "id": "cd24b2eb-6d21-4ac5-8170-4d3c7e9c300e",
   "metadata": {},
   "outputs": [],
   "source": [
    "l1=['hyd','chennai','mumbai','pune']"
   ]
  },
  {
   "cell_type": "markdown",
   "id": "51b3cdf7-1abe-494c-9e81-a17f22081da3",
   "metadata": {},
   "source": [
    "**joining the list of elements**"
   ]
  },
  {
   "cell_type": "markdown",
   "id": "e0841588-b567-47cc-a1bd-10552ad44814",
   "metadata": {},
   "source": [
    "- we can convert string to list by using **string.split()**\n",
    "- we can convert to string by using **join(list)**"
   ]
  },
  {
   "cell_type": "code",
   "execution_count": 3,
   "id": "f914bf97-3719-4178-869d-f673c2d425e0",
   "metadata": {},
   "outputs": [
    {
     "data": {
      "text/plain": [
       "['hai', 'how', 'are', 'you']"
      ]
     },
     "execution_count": 3,
     "metadata": {},
     "output_type": "execute_result"
    }
   ],
   "source": [
    "str1='hai how are you'\n",
    "str1.split()"
   ]
  },
  {
   "cell_type": "code",
   "execution_count": 5,
   "id": "c60f3bba-133a-4f0c-9673-d15ec806d4cf",
   "metadata": {},
   "outputs": [
    {
     "data": {
      "text/plain": [
       "['', 'ai ', 'ow are you']"
      ]
     },
     "execution_count": 5,
     "metadata": {},
     "output_type": "execute_result"
    }
   ],
   "source": [
    "str1='hai how are you'\n",
    "str1.split('h')"
   ]
  },
  {
   "cell_type": "code",
   "execution_count": 7,
   "id": "71bc36c8-26cb-4168-94ed-e89be86c37de",
   "metadata": {},
   "outputs": [
    {
     "data": {
      "text/plain": [
       "'hai how are you'"
      ]
     },
     "execution_count": 7,
     "metadata": {},
     "output_type": "execute_result"
    }
   ],
   "source": [
    "l1=['hai', 'how', 'are', 'you']\n",
    "str1=' '\n",
    "str1.join(l1)\n"
   ]
  },
  {
   "cell_type": "code",
   "execution_count": 9,
   "id": "0cc958b3-2921-45d4-856b-81c2842b62d8",
   "metadata": {},
   "outputs": [
    {
     "data": {
      "text/plain": [
       "'haihhowharehyou'"
      ]
     },
     "execution_count": 9,
     "metadata": {},
     "output_type": "execute_result"
    }
   ],
   "source": [
    "l1=['hai', 'how', 'are', 'you']\n",
    "str1=' '\n",
    "'h'.join(l1)\n"
   ]
  },
  {
   "cell_type": "code",
   "execution_count": 15,
   "id": "71ca1ef9-1b46-462e-a98b-009d70ae7bf7",
   "metadata": {},
   "outputs": [],
   "source": [
    "str1='virat.kohli@rcb.com; rohit.sharma@mi.com; dhoni.ms@csk.com'\n",
    "l=str1.split(';')\n",
    "f_name,s_name,c_name=[],[],[]\n",
    "for i in l:\n",
    "    first_dot=i.find('.')\n",
    "    second_dot=i.find('.',first_dot+1)\n",
    "    at_index=i.find('@')\n",
    "    f_name.append(i[:first_dot])\n",
    "    s_name.append(i[first_dot+1:at_index])\n",
    "    c_name.append(i[at_index+1:second_dot])"
   ]
  },
  {
   "cell_type": "code",
   "execution_count": 17,
   "id": "3382a2c6-b488-4f84-a0ce-fc7cba756128",
   "metadata": {},
   "outputs": [
    {
     "data": {
      "text/plain": [
       "['virat', ' rohit', ' dhoni']"
      ]
     },
     "execution_count": 17,
     "metadata": {},
     "output_type": "execute_result"
    }
   ],
   "source": [
    "f_name"
   ]
  },
  {
   "cell_type": "code",
   "execution_count": null,
   "id": "55076f51-0429-4c3d-b4a5-db60911247af",
   "metadata": {},
   "outputs": [],
   "source": [
    "# q10) get the 7 random numbers in a list between 1 to 100\n",
    "#      find the min and max value without using min and max function"
   ]
  },
  {
   "cell_type": "code",
   "execution_count": 7,
   "id": "a1619d82-7b1e-441e-9cc3-984f941071e6",
   "metadata": {},
   "outputs": [
    {
     "ename": "IndexError",
     "evalue": "list index out of range",
     "output_type": "error",
     "traceback": [
      "\u001b[1;31m---------------------------------------------------------------------------\u001b[0m",
      "\u001b[1;31mIndexError\u001b[0m                                Traceback (most recent call last)",
      "Cell \u001b[1;32mIn[7], line 3\u001b[0m\n\u001b[0;32m      1\u001b[0m \u001b[38;5;28;01mfrom\u001b[39;00m \u001b[38;5;21;01mrandom\u001b[39;00m \u001b[38;5;28;01mimport\u001b[39;00m randint\n\u001b[0;32m      2\u001b[0m l1\u001b[38;5;241m=\u001b[39m[]\n\u001b[1;32m----> 3\u001b[0m max_value\u001b[38;5;241m=\u001b[39ml1[\u001b[38;5;241m0\u001b[39m]\n\u001b[0;32m      4\u001b[0m min_value\u001b[38;5;241m=\u001b[39ml1[\u001b[38;5;241m0\u001b[39m]\n\u001b[0;32m      5\u001b[0m \u001b[38;5;28;01mfor\u001b[39;00m i \u001b[38;5;129;01min\u001b[39;00m \u001b[38;5;28mrange\u001b[39m(\u001b[38;5;241m7\u001b[39m):\n",
      "\u001b[1;31mIndexError\u001b[0m: list index out of range"
     ]
    }
   ],
   "source": [
    "from random import randint\n",
    "l1=[]\n",
    "max_value=l1[0]\n",
    "min_value=l1[0]\n",
    "for i in range(7):\n",
    "    n=randint(1,100)\n",
    "    l1.append(n)"
   ]
  },
  {
   "cell_type": "code",
   "execution_count": 3,
   "id": "a1c81435-c6e3-4309-857d-568bad05034d",
   "metadata": {},
   "outputs": [
    {
     "ename": "NameError",
     "evalue": "name 'l1' is not defined",
     "output_type": "error",
     "traceback": [
      "\u001b[1;31m---------------------------------------------------------------------------\u001b[0m",
      "\u001b[1;31mNameError\u001b[0m                                 Traceback (most recent call last)",
      "Cell \u001b[1;32mIn[3], line 1\u001b[0m\n\u001b[1;32m----> 1\u001b[0m \u001b[38;5;28;01mfor\u001b[39;00m i \u001b[38;5;129;01min\u001b[39;00m l1[\u001b[38;5;241m1\u001b[39m:]:\n\u001b[0;32m      2\u001b[0m     l1\n",
      "\u001b[1;31mNameError\u001b[0m: name 'l1' is not defined"
     ]
    }
   ],
   "source": [
    "for i in l1[1:]:\n",
    "    if l1[0]>l1[i]:\n",
    "        "
   ]
  },
  {
   "cell_type": "code",
   "execution_count": 87,
   "id": "c0b80374-a0dd-4703-a0f3-7455daa88942",
   "metadata": {},
   "outputs": [
    {
     "name": "stdout",
     "output_type": "stream",
     "text": [
      "['can', 'canner', 'can', 'not', 'can', 'you', 'canner', 'can', 'be', 'can', 'you', 'can', 'not']\n",
      "can 6\n",
      "canner 2\n",
      "not 2\n",
      "you 2\n",
      "be 1\n"
     ]
    }
   ],
   "source": [
    "str1='can canner can not can you canner can be can you can not'\n",
    "l=str1.split()\n",
    "print(l)\n",
    "\n",
    "l2=[]\n",
    "for i in l:\n",
    "    if i not in l2:\n",
    "        print(i,l.count(i))\n",
    "        l2.append(i)"
   ]
  },
  {
   "cell_type": "code",
   "execution_count": null,
   "id": "71c0089d-803f-48ab-a94b-75cc67385311",
   "metadata": {},
   "outputs": [],
   "source": [
    "# q12) qns= ['who is pm of india','who is ICT captain',\n",
    "#             'what is the capital of india']\n",
    "#      ans=['modi','rohit','delhi']\n",
    "#     step-1: iterate through each qn\n",
    "#     step-2: user will enter the answer\n",
    "#           check-1: the user given 'MODI' correct answer\n",
    "#           check-2: qn index and ans index should be\n",
    "#    step-3: count_marks=0 at the top\n",
    "#    step-4:  for every correct answer 1 marks\n",
    "#    step-5: how many correct answers and how many marks"
   ]
  },
  {
   "cell_type": "code",
   "execution_count": 89,
   "id": "4e7bf093-648a-4c73-ab4f-9b41b0154076",
   "metadata": {},
   "outputs": [
    {
     "name": "stdout",
     "output_type": "stream",
     "text": [
      "0\n",
      "1\n",
      "2\n"
     ]
    }
   ],
   "source": [
    "qns= ['who is pm of india','who is ICT captain','what is the capital of india']\n",
    "ans=['modi','rohit','delhi']\n",
    "Answer=[]\n",
    "\n",
    "for i in range(len(qns)):\n",
    "    answer=input(\n"
   ]
  },
  {
   "cell_type": "markdown",
   "id": "74efb35d-ed88-47a4-9c28-71c82f37355c",
   "metadata": {},
   "source": [
    "**pop vs remove**"
   ]
  },
  {
   "cell_type": "code",
   "execution_count": 96,
   "id": "4edf7484-8c9e-4701-b5de-5bf01991608e",
   "metadata": {},
   "outputs": [],
   "source": [
    "l=[100,200,300,'A','B','C']"
   ]
  },
  {
   "cell_type": "code",
   "execution_count": 94,
   "id": "bd98431a-574d-4ddc-8f8a-da71dc0ec3da",
   "metadata": {},
   "outputs": [
    {
     "data": {
      "text/plain": [
       "'C'"
      ]
     },
     "execution_count": 94,
     "metadata": {},
     "output_type": "execute_result"
    }
   ],
   "source": [
    "l.pop()\n",
    "# pop will remove the element based on index \n",
    "# if we dont give any index by default it will remove last value\n",
    "# the default value index=-1"
   ]
  },
  {
   "cell_type": "code",
   "execution_count": 98,
   "id": "cdc6a078-bf8b-4fbc-a173-366f7da1e734",
   "metadata": {},
   "outputs": [
    {
     "data": {
      "text/plain": [
       "[100, 200, 300, 'A', 'B', 'C']"
      ]
     },
     "execution_count": 98,
     "metadata": {},
     "output_type": "execute_result"
    }
   ],
   "source": [
    "l"
   ]
  },
  {
   "cell_type": "code",
   "execution_count": 100,
   "id": "ee81042e-2d10-4789-a546-8503177b6662",
   "metadata": {},
   "outputs": [
    {
     "data": {
      "text/plain": [
       "200"
      ]
     },
     "execution_count": 100,
     "metadata": {},
     "output_type": "execute_result"
    }
   ],
   "source": [
    "l.pop(1)"
   ]
  },
  {
   "cell_type": "code",
   "execution_count": 106,
   "id": "a60aba1a-e181-4847-9669-07fbcd1f8a9e",
   "metadata": {},
   "outputs": [],
   "source": [
    "l=[100,200,100,200,300,'A','B','C']\n",
    "l.remove(100)"
   ]
  },
  {
   "cell_type": "code",
   "execution_count": 108,
   "id": "8f18a4e1-465b-43bc-9bff-c02b60fc64e9",
   "metadata": {},
   "outputs": [
    {
     "data": {
      "text/plain": [
       "[200, 100, 200, 300, 'A', 'B', 'C']"
      ]
     },
     "execution_count": 108,
     "metadata": {},
     "output_type": "execute_result"
    }
   ],
   "source": [
    "l"
   ]
  },
  {
   "cell_type": "markdown",
   "id": "192964c4-e8da-4a21-8b9e-c1cba43bde97",
   "metadata": {},
   "source": [
    "- pop except a **index value**\n",
    "- remove except a **value**"
   ]
  },
  {
   "cell_type": "code",
   "execution_count": 111,
   "id": "df29442b-3c38-4c13-bcca-aff6bab2c52a",
   "metadata": {},
   "outputs": [
    {
     "data": {
      "text/plain": [
       "['__add__',\n",
       " '__class__',\n",
       " '__class_getitem__',\n",
       " '__contains__',\n",
       " '__delattr__',\n",
       " '__delitem__',\n",
       " '__dir__',\n",
       " '__doc__',\n",
       " '__eq__',\n",
       " '__format__',\n",
       " '__ge__',\n",
       " '__getattribute__',\n",
       " '__getitem__',\n",
       " '__getstate__',\n",
       " '__gt__',\n",
       " '__hash__',\n",
       " '__iadd__',\n",
       " '__imul__',\n",
       " '__init__',\n",
       " '__init_subclass__',\n",
       " '__iter__',\n",
       " '__le__',\n",
       " '__len__',\n",
       " '__lt__',\n",
       " '__mul__',\n",
       " '__ne__',\n",
       " '__new__',\n",
       " '__reduce__',\n",
       " '__reduce_ex__',\n",
       " '__repr__',\n",
       " '__reversed__',\n",
       " '__rmul__',\n",
       " '__setattr__',\n",
       " '__setitem__',\n",
       " '__sizeof__',\n",
       " '__str__',\n",
       " '__subclasshook__',\n",
       " 'append',\n",
       " 'clear',\n",
       " 'copy',\n",
       " 'count',\n",
       " 'extend',\n",
       " 'index',\n",
       " 'insert',\n",
       " 'pop',\n",
       " 'remove',\n",
       " 'reverse',\n",
       " 'sort']"
      ]
     },
     "execution_count": 111,
     "metadata": {},
     "output_type": "execute_result"
    }
   ],
   "source": [
    "dir(list)"
   ]
  },
  {
   "cell_type": "markdown",
   "id": "039e3a7f-26c3-4d69-97d3-8eacec4e7906",
   "metadata": {},
   "source": [
    "**index**"
   ]
  },
  {
   "cell_type": "code",
   "execution_count": null,
   "id": "fbb9853d-ad50-42fe-8111-dbf96ca2c74d",
   "metadata": {},
   "outputs": [],
   "source": [
    "l=[100,200,100,200,300,'A','B','C']\n",
    "#pop "
   ]
  },
  {
   "cell_type": "code",
   "execution_count": 114,
   "id": "fabb61dd-de54-4590-a17e-fea49bce8c6f",
   "metadata": {},
   "outputs": [
    {
     "data": {
      "text/plain": [
       "[100, 200, 200, 300, 'A', 'B', 'C']"
      ]
     },
     "execution_count": 114,
     "metadata": {},
     "output_type": "execute_result"
    }
   ],
   "source": [
    "l=[100,200,100,200,300,'A','B','C']\n",
    "i1=l.index(100)\n",
    "i2=l.index(100,i1+1)\n",
    "l.pop(i2)\n",
    "l"
   ]
  },
  {
   "cell_type": "code",
   "execution_count": 116,
   "id": "0d0e7a48-d3ed-46ad-997d-7f6ec907e1ab",
   "metadata": {},
   "outputs": [
    {
     "data": {
      "text/plain": [
       "['__add__',\n",
       " '__class__',\n",
       " '__class_getitem__',\n",
       " '__contains__',\n",
       " '__delattr__',\n",
       " '__dir__',\n",
       " '__doc__',\n",
       " '__eq__',\n",
       " '__format__',\n",
       " '__ge__',\n",
       " '__getattribute__',\n",
       " '__getitem__',\n",
       " '__getnewargs__',\n",
       " '__getstate__',\n",
       " '__gt__',\n",
       " '__hash__',\n",
       " '__init__',\n",
       " '__init_subclass__',\n",
       " '__iter__',\n",
       " '__le__',\n",
       " '__len__',\n",
       " '__lt__',\n",
       " '__mul__',\n",
       " '__ne__',\n",
       " '__new__',\n",
       " '__reduce__',\n",
       " '__reduce_ex__',\n",
       " '__repr__',\n",
       " '__rmul__',\n",
       " '__setattr__',\n",
       " '__sizeof__',\n",
       " '__str__',\n",
       " '__subclasshook__',\n",
       " 'count',\n",
       " 'index']"
      ]
     },
     "execution_count": 116,
     "metadata": {},
     "output_type": "execute_result"
    }
   ],
   "source": [
    "dir(())"
   ]
  },
  {
   "cell_type": "markdown",
   "id": "9188934f-8132-42bc-8749-cf1f23c760a9",
   "metadata": {},
   "source": [
    "**Extend** \n",
    "- difference between concatenation vs appennd vs extend"
   ]
  },
  {
   "cell_type": "code",
   "execution_count": 24,
   "id": "a2112978-ab3a-4e13-893a-df2dfd01c531",
   "metadata": {},
   "outputs": [
    {
     "data": {
      "text/plain": [
       "[1, 2, 3, 4, ['A', 'B', 'C']]"
      ]
     },
     "execution_count": 24,
     "metadata": {},
     "output_type": "execute_result"
    }
   ],
   "source": [
    "l1=[1,2,3,4]\n",
    "l2=['A','B','C']\n",
    "l1.append(l2)\n",
    "l1"
   ]
  },
  {
   "cell_type": "code",
   "execution_count": 27,
   "id": "a913b145-6626-42d8-a7c2-320fc21849a0",
   "metadata": {},
   "outputs": [
    {
     "data": {
      "text/plain": [
       "['A', 'B', 'C']"
      ]
     },
     "execution_count": 27,
     "metadata": {},
     "output_type": "execute_result"
    }
   ],
   "source": [
    "l1=[1,2,3,4]\n",
    "l2=['A','B','C']\n",
    "l1.append(l2)\n",
    "l2"
   ]
  },
  {
   "cell_type": "code",
   "execution_count": 29,
   "id": "5934eb2b-aad8-4446-aadd-3a455df013ba",
   "metadata": {},
   "outputs": [
    {
     "data": {
      "text/plain": [
       "[1, 2, 3, 4, 'A', 'B', 'C']"
      ]
     },
     "execution_count": 29,
     "metadata": {},
     "output_type": "execute_result"
    }
   ],
   "source": [
    "l1=[1,2,3,4]\n",
    "l2=['A','B','C']\n",
    "l1+l2"
   ]
  },
  {
   "cell_type": "code",
   "execution_count": 31,
   "id": "cfa5f8f2-c9f4-495d-828b-3fe8879ce688",
   "metadata": {},
   "outputs": [
    {
     "data": {
      "text/plain": [
       "([1, 2, 3, 4], ['A', 'B', 'C'])"
      ]
     },
     "execution_count": 31,
     "metadata": {},
     "output_type": "execute_result"
    }
   ],
   "source": [
    "l1,l2"
   ]
  },
  {
   "cell_type": "code",
   "execution_count": 33,
   "id": "e1fadc1f-0805-48a6-9fc7-0a2229516371",
   "metadata": {},
   "outputs": [
    {
     "data": {
      "text/plain": [
       "[1, 2, 3, 4, 'A', 'B', 'C']"
      ]
     },
     "execution_count": 33,
     "metadata": {},
     "output_type": "execute_result"
    }
   ],
   "source": [
    "l1=[1,2,3,4]\n",
    "l2=['A','B','C']\n",
    "l1.extend(l2)\n",
    "l1"
   ]
  },
  {
   "cell_type": "code",
   "execution_count": 37,
   "id": "52e99e30-78db-484a-8cbf-53f2c2543e3d",
   "metadata": {},
   "outputs": [
    {
     "data": {
      "text/plain": [
       "[1, 2, 3, 4, 'A', 'B', 'C']"
      ]
     },
     "execution_count": 37,
     "metadata": {},
     "output_type": "execute_result"
    }
   ],
   "source": [
    "l1=[1,2,3,4]\n",
    "l2=['A','B','C']\n",
    "l3=l1+l2\n",
    "l3"
   ]
  },
  {
   "cell_type": "code",
   "execution_count": 39,
   "id": "990f5426-ba49-471c-b231-34ac25da38be",
   "metadata": {},
   "outputs": [
    {
     "data": {
      "text/plain": [
       "(['A', 'B', 'C', 1, 2, 3, 4], [1, 2, 3, 4])"
      ]
     },
     "execution_count": 39,
     "metadata": {},
     "output_type": "execute_result"
    }
   ],
   "source": [
    "l1=[1,2,3,4]\n",
    "l2=['A','B','C']\n",
    "l2.extend(l1)\n",
    "l2,l1"
   ]
  },
  {
   "cell_type": "markdown",
   "id": "c4fd049e-80f3-4f82-adae-8d7f0a232a86",
   "metadata": {},
   "source": [
    "- extend and concatenation both has same behaviour\n",
    "- means add the two list\n",
    "- but extend will over write the list"
   ]
  },
  {
   "cell_type": "code",
   "execution_count": 43,
   "id": "4c50bf6b-22cd-4877-bc73-02994bcb6245",
   "metadata": {},
   "outputs": [
    {
     "data": {
      "text/plain": [
       "['Hardeep']"
      ]
     },
     "execution_count": 43,
     "metadata": {},
     "output_type": "execute_result"
    }
   ],
   "source": [
    "l1=['Hardeep']\n",
    "l2=['Mrs Hardeep']\n",
    "l1+l2  # adding you and yours\n",
    "l1     # only you coming"
   ]
  },
  {
   "cell_type": "code",
   "execution_count": 41,
   "id": "71e803cf-cf39-497d-9a8c-2059b20109b1",
   "metadata": {},
   "outputs": [
    {
     "data": {
      "text/plain": [
       "['Hardeep', 'Mrs Hardeep']"
      ]
     },
     "execution_count": 41,
     "metadata": {},
     "output_type": "execute_result"
    }
   ],
   "source": [
    "l1=['Hardeep']\n",
    "l2=['Mrs Hardeep']\n",
    "l1+l2  # adding you and yours\n",
    "l1     # only you coming\n",
    "l1.extend(l2) # adding you and yours\n",
    "l1    # both will come"
   ]
  },
  {
   "cell_type": "markdown",
   "id": "f6b0dd29-a0e0-4434-9afd-855efe4b4101",
   "metadata": {},
   "source": [
    "**insert**\n",
    "- Difference between insert and append"
   ]
  },
  {
   "cell_type": "code",
   "execution_count": 49,
   "id": "c6575545-3e9d-4919-987b-26315f52ec8f",
   "metadata": {},
   "outputs": [
    {
     "data": {
      "text/plain": [
       "[1, 2, 3, 1000, 'A', 'B', 'C']"
      ]
     },
     "execution_count": 49,
     "metadata": {},
     "output_type": "execute_result"
    }
   ],
   "source": [
    "l1=[1,2,3,'A','B','C']\n",
    "#   0 1 2  3   4   5\n",
    "#   1,2,3,1000,'A','B','C'\n",
    "l1.insert(3,1000)\n",
    "# i want to inster 1000 before=3 (at 2)\n",
    "l1"
   ]
  },
  {
   "cell_type": "code",
   "execution_count": 24,
   "id": "6827f539-d0f6-4134-878e-a39c10fc6ef0",
   "metadata": {},
   "outputs": [
    {
     "data": {
      "text/plain": [
       "[1, 2, 3, 'A', 1000, 'B', 'C']"
      ]
     },
     "execution_count": 24,
     "metadata": {},
     "output_type": "execute_result"
    }
   ],
   "source": [
    "l1=[1,2,3,'A','B','C']\n",
    "#   0 1 2  3   4   5\n",
    "#   1,2,3,1000,'A','B','C'\n",
    "i1=l1.index('B')\n",
    "l1.insert(i1,1000)\n",
    "l1"
   ]
  },
  {
   "cell_type": "code",
   "execution_count": 71,
   "id": "84c79d3d-81c9-4037-9f9d-a69a49fde1c7",
   "metadata": {},
   "outputs": [
    {
     "data": {
      "text/plain": [
       "[1, 2, 3, 'A', 1000, 1000, 'B', 'C']"
      ]
     },
     "execution_count": 71,
     "metadata": {},
     "output_type": "execute_result"
    }
   ],
   "source": [
    "l1=[1,2,3,'A','B','C']\n",
    "for i in range(len(l1)):\n",
    "    if l1[i]==\"B\":\n",
    "        l1.insert(i,1000)\n",
    "l1"
   ]
  },
  {
   "cell_type": "code",
   "execution_count": 47,
   "id": "1b068677-ba7c-442f-b732-18ab2c70305e",
   "metadata": {},
   "outputs": [
    {
     "data": {
      "text/plain": [
       "[1, 2, 3, 'A', 'B', 'C', 1000]"
      ]
     },
     "execution_count": 47,
     "metadata": {},
     "output_type": "execute_result"
    }
   ],
   "source": [
    "l1=[1,2,3,'A','B','C']\n",
    "l1.append(1000)\n",
    "l1"
   ]
  },
  {
   "cell_type": "code",
   "execution_count": 46,
   "id": "d3dafdab-1471-44fa-96eb-b374e0509216",
   "metadata": {},
   "outputs": [
    {
     "name": "stdin",
     "output_type": "stream",
     "text": [
      "  20\n",
      "  30\n"
     ]
    },
    {
     "data": {
      "text/plain": [
       "(['20'], ['30'])"
      ]
     },
     "execution_count": 46,
     "metadata": {},
     "output_type": "execute_result"
    }
   ],
   "source": [
    "n1=input(\" \")\n",
    "l1=[]\n",
    "n2=input(\" \")\n",
    "l2=[]\n",
    "l1.append(n1)\n",
    "l2.append(n2)\n",
    "l1,l2"
   ]
  },
  {
   "cell_type": "code",
   "execution_count": 30,
   "id": "367d31fc-270a-4cf9-88b8-46b3d6fcb0c1",
   "metadata": {},
   "outputs": [
    {
     "data": {
      "text/plain": [
       "[110, 220, 330]"
      ]
     },
     "execution_count": 30,
     "metadata": {},
     "output_type": "execute_result"
    }
   ],
   "source": [
    "l1=[100,200,300]\n",
    "l2=[10,20,30]\n",
    "ans=[]\n",
    "for i in range(len(l1)):\n",
    "    ans.append(l1[i]+l2[i])\n",
    "ans"
   ]
  },
  {
   "cell_type": "code",
   "execution_count": 73,
   "id": "4768bb8d-8916-4684-88ac-061b2b0fdc9b",
   "metadata": {},
   "outputs": [
    {
     "data": {
      "text/plain": [
       "[110, 220, 330, 400]"
      ]
     },
     "execution_count": 73,
     "metadata": {},
     "output_type": "execute_result"
    }
   ],
   "source": [
    "l1=[100,200,300,400]\n",
    "l2=[10,20,30]\n",
    "ans=[]\n",
    "#a=[110,220,330,400]\n",
    "\n",
    "for i in range(len(l1)):\n",
    "    if i < len(l2):\n",
    "        ans.append(l1[i]+l2[i])\n",
    "    else:\n",
    "        ans.append(l1[i])\n",
    "ans"
   ]
  },
  {
   "cell_type": "markdown",
   "id": "eba82f81-b991-4393-a369-ae253886ec20",
   "metadata": {},
   "source": [
    "**Distance Between two Points**"
   ]
  },
  {
   "cell_type": "code",
   "execution_count": null,
   "id": "42bc6f4f-22d6-45a4-a9c3-916465299b24",
   "metadata": {},
   "outputs": [],
   "source": [
    "d=root([x2-x1]**2+[y2-y1]**2)\n",
    "\n",
    "# step-1:  l1=[2,5]  l2=[4,9]\n",
    "#              x1,y2     x2,y2\n",
    "# step-2:    d1=x2-x1       d2=y2-y1\n",
    "# step-3:    (x2-x1)**2   (y2-y1)**2\n",
    "# step4:     d=d1^2 +d2^2\n",
    "# step-5:   math.sqrt(d)"
   ]
  },
  {
   "cell_type": "code",
   "execution_count": 54,
   "id": "4fccac88-9228-417d-af65-336978e4d7fa",
   "metadata": {},
   "outputs": [
    {
     "data": {
      "text/plain": [
       "4.47213595499958"
      ]
     },
     "execution_count": 54,
     "metadata": {},
     "output_type": "execute_result"
    }
   ],
   "source": [
    "import math\n",
    "l1=[2,5]\n",
    "l2=[4,9]\n",
    "x1=l1[0]\n",
    "x2=l2[0]\n",
    "y1=l1[1]\n",
    "y2=l2[1]\n",
    "d1=(x2-x1)\n",
    "d2=(y2-y1)\n",
    "d=d1**2+d2**2\n",
    "math.sqrt(d)"
   ]
  },
  {
   "cell_type": "code",
   "execution_count": null,
   "id": "feaa9c40-bf66-4bec-92b6-5b712c59baf4",
   "metadata": {},
   "outputs": [],
   "source": [
    "# wap\n",
    "#a=[(1,3),(7,8),(2,6),(9,3)]\n",
    "#b=(5,9)\n",
    "# find the max and min distance points\n",
    "\n",
    "# a=[(1,3),(7,8),(2,6),(9,3),(2,9),(10,12)]\n",
    "# find all the distances among the points\n",
    "# (1,3) with all other data points\n",
    "# (7,8) with all\n",
    "# and so on"
   ]
  },
  {
   "cell_type": "code",
   "execution_count": 81,
   "id": "9bee446c-f832-483b-a5a0-dbf4fd219b7a",
   "metadata": {},
   "outputs": [
    {
     "data": {
      "text/plain": [
       "4.47213595499958"
      ]
     },
     "execution_count": 81,
     "metadata": {},
     "output_type": "execute_result"
    }
   ],
   "source": [
    "import math\n",
    "l1=[2,5]\n",
    "l2=[4,9]\n",
    "math.sqrt((l2[0]-l1[0])**2+(l2[1]-l1[1])**2)"
   ]
  },
  {
   "cell_type": "code",
   "execution_count": 83,
   "id": "b9a47496-185d-4baf-a2b4-8d80d8172206",
   "metadata": {},
   "outputs": [
    {
     "name": "stdout",
     "output_type": "stream",
     "text": [
      "7.211102550927978\n",
      "2.23606797749979\n",
      "4.242640687119285\n",
      "7.211102550927978\n"
     ]
    }
   ],
   "source": [
    "a=[(1,3),(7,8),(2,6),(9,3)]\n",
    "b=(5,9)\n",
    "math.sqrt((b[0]-l1[0])**2+(b[1]-l1[1])**2)\n",
    "for i in a:\n",
    "    l1=i\n",
    "    print(math.sqrt((b[0]-l1[0])**2+(b[1]-l1[1])**2))"
   ]
  },
  {
   "cell_type": "code",
   "execution_count": 89,
   "id": "28d513f0-c1ee-4b15-b6bd-4310494aec9c",
   "metadata": {},
   "outputs": [
    {
     "name": "stdout",
     "output_type": "stream",
     "text": [
      "(1, 3) (7, 8)\n",
      "(1, 3) (8, 10)\n",
      "(1, 3) (11, 12)\n",
      "(7, 8) (7, 8)\n",
      "(7, 8) (8, 10)\n",
      "(7, 8) (11, 12)\n",
      "(8, 10) (7, 8)\n",
      "(8, 10) (8, 10)\n",
      "(8, 10) (11, 12)\n",
      "(11, 12) (7, 8)\n",
      "(11, 12) (8, 10)\n",
      "(11, 12) (11, 12)\n"
     ]
    }
   ],
   "source": [
    "a=[(1,3),(7,8),(8,10),(11,12)]\n",
    "# we want 1,3  with 7,8\n",
    "#         1,3  with 2,6\n",
    "for i in a:\n",
    "    for j in a[1:]:\n",
    "        print(i,j)"
   ]
  },
  {
   "cell_type": "code",
   "execution_count": null,
   "id": "6f31a8a4-865d-4b5a-a124-4f28f2c62696",
   "metadata": {},
   "outputs": [],
   "source": []
  }
 ],
 "metadata": {
  "kernelspec": {
   "display_name": "Python 3 (ipykernel)",
   "language": "python",
   "name": "python3"
  },
  "language_info": {
   "codemirror_mode": {
    "name": "ipython",
    "version": 3
   },
   "file_extension": ".py",
   "mimetype": "text/x-python",
   "name": "python",
   "nbconvert_exporter": "python",
   "pygments_lexer": "ipython3",
   "version": "3.12.4"
  }
 },
 "nbformat": 4,
 "nbformat_minor": 5
}
