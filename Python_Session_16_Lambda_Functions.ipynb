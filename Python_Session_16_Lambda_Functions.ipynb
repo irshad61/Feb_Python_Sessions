{
 "cells": [
  {
   "cell_type": "code",
   "execution_count": null,
   "id": "8165b48a-3cb5-4884-94f1-cbc5818c186e",
   "metadata": {},
   "outputs": [],
   "source": [
    "method-1:[output for loop]\n"
   ]
  },
  {
   "cell_type": "code",
   "execution_count": 1,
   "id": "b9c770d4-dc8f-43ca-96d2-44289e77944c",
   "metadata": {},
   "outputs": [
    {
     "data": {
      "text/plain": [
       "100"
      ]
     },
     "execution_count": 1,
     "metadata": {},
     "output_type": "execute_result"
    }
   ],
   "source": [
    "def mul(a):\n",
    "    return(a*a)\n",
    "ans=mul(10)\n",
    "ans"
   ]
  },
  {
   "cell_type": "markdown",
   "id": "9e4b7451-bb0c-4a51-ba6e-592edec68604",
   "metadata": {},
   "source": [
    "- lambda is a keyword used to write functions in a single line\n",
    "- in list comprehension we will write in single line \n",
    "- it is same analogy\n",
    "- it will reduce the time complexity"
   ]
  },
  {
   "cell_type": "markdown",
   "id": "4fbdf10b-5183-439b-8b15-ad0cc4dd641e",
   "metadata": {},
   "source": [
    "$pattern-1:$\n",
    "- function with one argument"
   ]
  },
  {
   "cell_type": "code",
   "execution_count": null,
   "id": "808c4831-dd8e-41a4-b513-85b2ce3b0f2c",
   "metadata": {},
   "outputs": [],
   "source": [
    "- syntax \n",
    "# function name =  lambda <argument name>:<return output>\n",
    "# function name : mul\n",
    "# argument name : a\n",
    "# return output : a*a\n"
   ]
  },
  {
   "cell_type": "code",
   "execution_count": 13,
   "id": "9895aa2d-1390-4e1d-83e4-90fbcf10ece6",
   "metadata": {},
   "outputs": [
    {
     "data": {
      "text/plain": [
       "<function __main__.<lambda>(a)>"
      ]
     },
     "execution_count": 13,
     "metadata": {},
     "output_type": "execute_result"
    }
   ],
   "source": [
    "mul=lambda a : a*a\n",
    "mul"
   ]
  },
  {
   "cell_type": "markdown",
   "id": "1a385e2a-ea21-44a9-8a4f-91e9b7580e45",
   "metadata": {},
   "source": [
    "- here we have to give the value (a) inplace of a as numeric value\n"
   ]
  },
  {
   "cell_type": "code",
   "execution_count": 16,
   "id": "632bfcd6-4bcf-4a64-89da-8daaed09ee90",
   "metadata": {},
   "outputs": [
    {
     "data": {
      "text/plain": [
       "10000"
      ]
     },
     "execution_count": 16,
     "metadata": {},
     "output_type": "execute_result"
    }
   ],
   "source": [
    "mul1=lambda a : a*a\n",
    "mul1(100)"
   ]
  },
  {
   "cell_type": "code",
   "execution_count": 18,
   "id": "655a740a-f6b4-4f82-9090-97bae06d15d7",
   "metadata": {},
   "outputs": [
    {
     "data": {
      "text/plain": [
       "1000"
      ]
     },
     "execution_count": 18,
     "metadata": {},
     "output_type": "execute_result"
    }
   ],
   "source": [
    "def cube(x):\n",
    "    return (x**3)\n",
    "cube(10)"
   ]
  },
  {
   "cell_type": "code",
   "execution_count": 20,
   "id": "9e5adb9f-3e8b-4dc5-82c8-9305bcde4237",
   "metadata": {},
   "outputs": [
    {
     "data": {
      "text/plain": [
       "1000000"
      ]
     },
     "execution_count": 20,
     "metadata": {},
     "output_type": "execute_result"
    }
   ],
   "source": [
    "cub1= lambda x : x**3\n",
    "cub1(100)"
   ]
  },
  {
   "cell_type": "markdown",
   "id": "3e56417d-6937-4444-a97d-147f72056c61",
   "metadata": {},
   "source": [
    "$pattern-2$\n",
    "- function with two arguments"
   ]
  },
  {
   "cell_type": "code",
   "execution_count": null,
   "id": "037f652a-7471-4e52-9572-b4a79e6263e1",
   "metadata": {},
   "outputs": [],
   "source": [
    "- syntax \n",
    "# <function name>= lambda <arg1>,<arg2>: return(output)"
   ]
  },
  {
   "cell_type": "code",
   "execution_count": 23,
   "id": "d5d006d3-6092-43b1-b2b4-9539f35cbc98",
   "metadata": {},
   "outputs": [
    {
     "data": {
      "text/plain": [
       "30"
      ]
     },
     "execution_count": 23,
     "metadata": {},
     "output_type": "execute_result"
    }
   ],
   "source": [
    "def add(a,b):\n",
    "    return a+b\n",
    "add(10,20)"
   ]
  },
  {
   "cell_type": "code",
   "execution_count": 27,
   "id": "d0b8ee51-8aa6-4daf-8831-b64acf8e48cd",
   "metadata": {},
   "outputs": [
    {
     "data": {
      "text/plain": [
       "31"
      ]
     },
     "execution_count": 27,
     "metadata": {},
     "output_type": "execute_result"
    }
   ],
   "source": [
    "add1=lambda a,b:a+b\n",
    "add1(10,21)"
   ]
  },
  {
   "cell_type": "code",
   "execution_count": 34,
   "id": "77fe173c-68b1-4e43-9787-05dd42abe439",
   "metadata": {},
   "outputs": [
    {
     "data": {
      "text/plain": [
       "20.0"
      ]
     },
     "execution_count": 34,
     "metadata": {},
     "output_type": "execute_result"
    }
   ],
   "source": [
    "def avg(a,b,c):\n",
    "    return (a+b+c)/3\n",
    "avg(10,20,30)"
   ]
  },
  {
   "cell_type": "code",
   "execution_count": 36,
   "id": "e284bd7d-ecb0-4470-b55e-9b221ccb313a",
   "metadata": {},
   "outputs": [
    {
     "data": {
      "text/plain": [
       "25.0"
      ]
     },
     "execution_count": 36,
     "metadata": {},
     "output_type": "execute_result"
    }
   ],
   "source": [
    "avg1=lambda a,b,c:(a+b+c)/3\n",
    "avg1(15,25,35)"
   ]
  },
  {
   "cell_type": "markdown",
   "id": "a300343c-fd3b-41eb-902e-58c95c509d49",
   "metadata": {},
   "source": [
    "$pattern-3$\n",
    "- default argument"
   ]
  },
  {
   "cell_type": "code",
   "execution_count": 38,
   "id": "8359acc9-5dde-44e7-97c7-59473b67c168",
   "metadata": {},
   "outputs": [
    {
     "data": {
      "text/plain": [
       "11.666666666666666"
      ]
     },
     "execution_count": 38,
     "metadata": {},
     "output_type": "execute_result"
    }
   ],
   "source": [
    "avg2=lambda a,b,c=20:(a+b+c)/3\n",
    "avg2(5,10)"
   ]
  },
  {
   "cell_type": "code",
   "execution_count": 40,
   "id": "895ad63c-9302-4538-b685-17e43b274a28",
   "metadata": {},
   "outputs": [
    {
     "data": {
      "text/plain": [
       "20"
      ]
     },
     "execution_count": 40,
     "metadata": {},
     "output_type": "execute_result"
    }
   ],
   "source": [
    "def max(a,b):\n",
    "    if a>b:\n",
    "        return (a)\n",
    "    else: \n",
    "        return (b)\n",
    "max(10,20)"
   ]
  },
  {
   "cell_type": "code",
   "execution_count": 50,
   "id": "cc667ef9-d673-4bed-b5d2-1564d852f04a",
   "metadata": {},
   "outputs": [
    {
     "data": {
      "text/plain": [
       "125"
      ]
     },
     "execution_count": 50,
     "metadata": {},
     "output_type": "execute_result"
    }
   ],
   "source": [
    "#syntax\n",
    "max1=lambda a,b: a if a>b else b\n",
    "max1(100,125)"
   ]
  },
  {
   "cell_type": "markdown",
   "id": "2b5995d6-20dc-4ff6-9f70-e6d02afcd763",
   "metadata": {},
   "source": [
    "$pattern-5$\n",
    "- List cases "
   ]
  },
  {
   "cell_type": "code",
   "execution_count": 55,
   "id": "15550bd1-b449-4265-9401-2b5c65445e95",
   "metadata": {},
   "outputs": [
    {
     "data": {
      "text/plain": [
       "['Hyd', 'Delhi', 'Mumbai']"
      ]
     },
     "execution_count": 55,
     "metadata": {},
     "output_type": "execute_result"
    }
   ],
   "source": [
    "list1=['hyd','delhi','mumbai']\n",
    "ans=[]\n",
    "for i in list1:\n",
    "    ans.append(i.capitalize())\n",
    "ans"
   ]
  },
  {
   "cell_type": "code",
   "execution_count": null,
   "id": "f166c104-9cab-4827-bc85-210d02a0fc59",
   "metadata": {},
   "outputs": [],
   "source": [
    "lambda <variable>: <op>,iterator"
   ]
  },
  {
   "cell_type": "code",
   "execution_count": 57,
   "id": "82f25a11-b08a-40f6-9d1e-0ff1fc74700e",
   "metadata": {},
   "outputs": [
    {
     "data": {
      "text/plain": [
       "(<function __main__.<lambda>(i)>, ['hyd', 'delhi', 'mumbai'])"
      ]
     },
     "execution_count": 57,
     "metadata": {},
     "output_type": "execute_result"
    }
   ],
   "source": [
    "lambda i: i.capitalize(),list1"
   ]
  },
  {
   "cell_type": "code",
   "execution_count": null,
   "id": "2c2718fa-713d-424f-8d44-97d312721534",
   "metadata": {},
   "outputs": [],
   "source": [
    "#step-1 lambda <variable>:<op>\n",
    "lambda i: i.capitalize()\n",
    "#step -2 : lambda <variable>: <op>,<iterator>\n",
    "lambda i: i.capitalize(),list1"
   ]
  },
  {
   "cell_type": "markdown",
   "id": "d9bac8c8-b8cf-4e49-b8a3-facc2a99d578",
   "metadata": {},
   "source": [
    "**map**\n",
    "- map is used to combine the function and iterator"
   ]
  },
  {
   "cell_type": "code",
   "execution_count": 61,
   "id": "db7b4922-0dd4-4fbe-a602-26b24b25888d",
   "metadata": {},
   "outputs": [
    {
     "data": {
      "text/plain": [
       "<map at 0x25cb938fe20>"
      ]
     },
     "execution_count": 61,
     "metadata": {},
     "output_type": "execute_result"
    }
   ],
   "source": [
    "#step-3:\n",
    "# map(lambda <variable>: <op>,<iterator>)\n",
    "map(lambda i: i.capitalize(),list1)"
   ]
  },
  {
   "cell_type": "code",
   "execution_count": 63,
   "id": "68ac60c2-594c-4cbe-96d8-2945bb2bfbc7",
   "metadata": {},
   "outputs": [
    {
     "data": {
      "text/plain": [
       "['Hyd', 'Delhi', 'Mumbai']"
      ]
     },
     "execution_count": 63,
     "metadata": {},
     "output_type": "execute_result"
    }
   ],
   "source": [
    "#step-4: list(map(lambda i: i.capitalize(),list1))\n",
    "list(map(lambda i: i.capitalize(),list1))"
   ]
  },
  {
   "cell_type": "code",
   "execution_count": null,
   "id": "814304d4-7992-412f-871f-8759ee746b62",
   "metadata": {},
   "outputs": [],
   "source": [
    "#step-1: lambda <variable>:<op>\n",
    "#step-2: lambda <variable>:<op>,<iterator>\n",
    "#step-3: map(lambda <variable>:<op>,<iterator>)\n",
    "#step-4: list(map(lambda <variable>:<op>,<iterator>))"
   ]
  },
  {
   "cell_type": "code",
   "execution_count": 65,
   "id": "44761715-5aa5-4872-9a07-cecb7c5f7fd7",
   "metadata": {},
   "outputs": [
    {
     "data": {
      "text/plain": [
       "['HYD', 'CHENNAI', 'MUMBAI', 'PUNE']"
      ]
     },
     "execution_count": 65,
     "metadata": {},
     "output_type": "execute_result"
    }
   ],
   "source": [
    "l1=['hyd','chennai','mumbai','pune']\n",
    "list(map(lambda i:i.upper(),l1))"
   ]
  },
  {
   "cell_type": "code",
   "execution_count": 77,
   "id": "3d0971de-1926-442c-9605-db264856aa7b",
   "metadata": {},
   "outputs": [
    {
     "data": {
      "text/plain": [
       "[0, 10, 20, 30]"
      ]
     },
     "execution_count": 77,
     "metadata": {},
     "output_type": "execute_result"
    }
   ],
   "source": [
    "l1=['hyd','chennai','mumbai','pune']\n",
    "list(map(lambda i:l1.index(i)*10,l1))"
   ]
  },
  {
   "cell_type": "code",
   "execution_count": 85,
   "id": "5a5f0559-b00c-4262-9409-3a033ad42e83",
   "metadata": {},
   "outputs": [
    {
     "data": {
      "text/plain": [
       "['Hello', 'How', 'Are', 'You']"
      ]
     },
     "execution_count": 85,
     "metadata": {},
     "output_type": "execute_result"
    }
   ],
   "source": [
    "str1=\"hello how are you\"\n",
    "ans=list(map(lambda i :i.title(),str1.split()))\n",
    "ans"
   ]
  },
  {
   "cell_type": "code",
   "execution_count": 87,
   "id": "34eeca7e-2c92-4f1f-8b1e-2f62bfca8338",
   "metadata": {},
   "outputs": [
    {
     "data": {
      "text/plain": [
       "['H',\n",
       " 'E',\n",
       " 'L',\n",
       " 'L',\n",
       " 'O',\n",
       " ' ',\n",
       " 'H',\n",
       " 'O',\n",
       " 'W',\n",
       " ' ',\n",
       " 'A',\n",
       " 'R',\n",
       " 'E',\n",
       " ' ',\n",
       " 'Y',\n",
       " 'O',\n",
       " 'U']"
      ]
     },
     "execution_count": 87,
     "metadata": {},
     "output_type": "execute_result"
    }
   ],
   "source": [
    "without split op wll be\n",
    "str1=\"hello how are you\"\n",
    "ans=list(map(lambda i :i.title(),str1))\n",
    "ans"
   ]
  },
  {
   "cell_type": "code",
   "execution_count": null,
   "id": "caade00d-203c-4e83-997c-175b5e1383cb",
   "metadata": {},
   "outputs": [],
   "source": [
    "l1=['delhi''chen#ai','mu#bai','pune']\n"
   ]
  },
  {
   "cell_type": "markdown",
   "id": "b128ef33-3a72-4dcc-a8fe-14e8bb22c80b",
   "metadata": {},
   "source": [
    "**filter**\n",
    "- whenever condition statements\n",
    "- which means we are filtering the answers based on condition\n",
    "- map will give boolean outputs,True or False\n",
    "- True amswers we can see by applying filter only"
   ]
  },
  {
   "cell_type": "code",
   "execution_count": 92,
   "id": "9af56c6c-db17-4937-b732-4cd492f0f67e",
   "metadata": {},
   "outputs": [
    {
     "data": {
      "text/plain": [
       "[True, True, False]"
      ]
     },
     "execution_count": 92,
     "metadata": {},
     "output_type": "execute_result"
    }
   ],
   "source": [
    "l1=['delhi''chen#ai','mu#bai','pune']\n",
    "list(map(lambda i:'#' in i,l1))"
   ]
  },
  {
   "cell_type": "code",
   "execution_count": 94,
   "id": "d39f0e17-f573-47b1-bf4d-26eea15cbdbb",
   "metadata": {},
   "outputs": [
    {
     "data": {
      "text/plain": [
       "['chen#ai', 'mu#bai']"
      ]
     },
     "execution_count": 94,
     "metadata": {},
     "output_type": "execute_result"
    }
   ],
   "source": [
    "l1=['delhi','chen#ai','mu#bai','pune']\n",
    "list(filter(lambda i:'#' in i,l1))"
   ]
  },
  {
   "cell_type": "code",
   "execution_count": null,
   "id": "17600281-1a04-4e2c-87cf-e3ed2064134e",
   "metadata": {},
   "outputs": [],
   "source": [
    "#mistake-1: [dont write if]\n",
    "#list(filter(lambda i:if '#' in i,l1))\n",
    "\n",
    "#mistake-2: [don't write the output i]\n",
    "#list(filter(lambda i:i if '#' in ,l1))"
   ]
  },
  {
   "cell_type": "code",
   "execution_count": 96,
   "id": "22bb2929-df06-4a69-a053-1d12d9a239dd",
   "metadata": {},
   "outputs": [
    {
     "name": "stdout",
     "output_type": "stream",
     "text": [
      "15\n"
     ]
    }
   ],
   "source": [
    "l1=[1,2,3,4,5]\n",
    "summ=0\n",
    "for i in l1:\n",
    "    summ+=i\n",
    "print(summ)"
   ]
  },
  {
   "cell_type": "markdown",
   "id": "e02943f8-620d-4d54-b4c8-377e49f7cec6",
   "metadata": {},
   "source": [
    "**reduce**\n",
    "- reduce is a method to write all inbuilt functions using lambda method\n",
    "- it is available in a package called **func tools**\n",
    "- Level-1: reduce(lambda sum,i : sum+i,list1)\n",
    "- Level-2: reduce(lambda sum,i : sum+i,list1,value)\n",
    "- in level-1 by default sum=0\n",
    "- in level-2 the sum starts with some value"
   ]
  },
  {
   "cell_type": "code",
   "execution_count": 100,
   "id": "0e21b644-9f0a-4802-bdb5-4925925dc22f",
   "metadata": {},
   "outputs": [],
   "source": [
    "import functools"
   ]
  },
  {
   "cell_type": "code",
   "execution_count": 102,
   "id": "c8d0d576-a7f4-4b44-bfcf-4bfca9b44675",
   "metadata": {},
   "outputs": [
    {
     "data": {
      "text/plain": [
       "['GenericAlias',\n",
       " 'RLock',\n",
       " 'WRAPPER_ASSIGNMENTS',\n",
       " 'WRAPPER_UPDATES',\n",
       " '_CacheInfo',\n",
       " '_HashedSeq',\n",
       " '_NOT_FOUND',\n",
       " '__all__',\n",
       " '__builtins__',\n",
       " '__cached__',\n",
       " '__doc__',\n",
       " '__file__',\n",
       " '__loader__',\n",
       " '__name__',\n",
       " '__package__',\n",
       " '__spec__',\n",
       " '_c3_merge',\n",
       " '_c3_mro',\n",
       " '_compose_mro',\n",
       " '_convert',\n",
       " '_find_impl',\n",
       " '_ge_from_gt',\n",
       " '_ge_from_le',\n",
       " '_ge_from_lt',\n",
       " '_gt_from_ge',\n",
       " '_gt_from_le',\n",
       " '_gt_from_lt',\n",
       " '_initial_missing',\n",
       " '_le_from_ge',\n",
       " '_le_from_gt',\n",
       " '_le_from_lt',\n",
       " '_lru_cache_wrapper',\n",
       " '_lt_from_ge',\n",
       " '_lt_from_gt',\n",
       " '_lt_from_le',\n",
       " '_make_key',\n",
       " '_unwrap_partial',\n",
       " 'cache',\n",
       " 'cached_property',\n",
       " 'cmp_to_key',\n",
       " 'get_cache_token',\n",
       " 'lru_cache',\n",
       " 'namedtuple',\n",
       " 'partial',\n",
       " 'partialmethod',\n",
       " 'recursive_repr',\n",
       " 'reduce',\n",
       " 'singledispatch',\n",
       " 'singledispatchmethod',\n",
       " 'total_ordering',\n",
       " 'update_wrapper',\n",
       " 'wraps']"
      ]
     },
     "execution_count": 102,
     "metadata": {},
     "output_type": "execute_result"
    }
   ],
   "source": [
    "dir(functools)"
   ]
  },
  {
   "cell_type": "code",
   "execution_count": 106,
   "id": "5e575f35-3840-4fe0-9099-56e00455a7f9",
   "metadata": {},
   "outputs": [
    {
     "data": {
      "text/plain": [
       "15"
      ]
     },
     "execution_count": 106,
     "metadata": {},
     "output_type": "execute_result"
    }
   ],
   "source": [
    "l1=[1,2,3,4,5]\n",
    "functools.reduce(lambda summ,i:summ+i,l1)"
   ]
  },
  {
   "cell_type": "code",
   "execution_count": 108,
   "id": "108b7992-69b3-4f6f-b0db-458bbb7f2b80",
   "metadata": {},
   "outputs": [
    {
     "data": {
      "text/plain": [
       "215"
      ]
     },
     "execution_count": 108,
     "metadata": {},
     "output_type": "execute_result"
    }
   ],
   "source": [
    "l1=[1,2,3,4,5]\n",
    "functools.reduce(lambda summ,i:summ+i,l1,200)"
   ]
  },
  {
   "cell_type": "code",
   "execution_count": 112,
   "id": "66de8bc7-1541-42bd-af2e-4d9bb5ca72e5",
   "metadata": {},
   "outputs": [
    {
     "data": {
      "text/plain": [
       "120"
      ]
     },
     "execution_count": 112,
     "metadata": {},
     "output_type": "execute_result"
    }
   ],
   "source": [
    "l1=[1,2,3,4,5]\n",
    "functools.reduce(lambda val,i:val*i,l1)"
   ]
  },
  {
   "cell_type": "code",
   "execution_count": null,
   "id": "19d1d51e-4ce2-4bfc-a188-b3914fd99cff",
   "metadata": {},
   "outputs": [],
   "source": [
    "#l1=[1,2,3,4,5]\n",
    "#functools.reduce(lambda summ,i:summ+i,l1)\n",
    "\n",
    "#from functools import reduce\n",
    "#l1=[1,2,3,4,5]\n",
    "#reduce(lambda summ,i:summ+i,l1)\n",
    "\n",
    "#import functools as ft\n",
    "#ft.reduce(lambda summ,i:summ+i,l1)"
   ]
  },
  {
   "cell_type": "code",
   "execution_count": 116,
   "id": "58153e38-9713-4aa7-87cd-edfb056ee1af",
   "metadata": {},
   "outputs": [
    {
     "data": {
      "text/plain": [
       "15"
      ]
     },
     "execution_count": 116,
     "metadata": {},
     "output_type": "execute_result"
    }
   ],
   "source": [
    "from functools import reduce\n",
    "l1=[1,2,3,4,5]\n",
    "reduce(lambda summ,i:summ+i,l1)"
   ]
  },
  {
   "cell_type": "code",
   "execution_count": 118,
   "id": "a60d2635-3f83-4669-b992-9feedd5b0620",
   "metadata": {},
   "outputs": [
    {
     "data": {
      "text/plain": [
       "15"
      ]
     },
     "execution_count": 118,
     "metadata": {},
     "output_type": "execute_result"
    }
   ],
   "source": [
    "import functools as ft\n",
    "ft.reduce(lambda summ,i:summ+i,l1)"
   ]
  },
  {
   "cell_type": "code",
   "execution_count": null,
   "id": "6842640a-f2cc-4548-bbd2-4cf8fbf867bf",
   "metadata": {},
   "outputs": [],
   "source": []
  }
 ],
 "metadata": {
  "kernelspec": {
   "display_name": "Python 3 (ipykernel)",
   "language": "python",
   "name": "python3"
  },
  "language_info": {
   "codemirror_mode": {
    "name": "ipython",
    "version": 3
   },
   "file_extension": ".py",
   "mimetype": "text/x-python",
   "name": "python",
   "nbconvert_exporter": "python",
   "pygments_lexer": "ipython3",
   "version": "3.12.4"
  }
 },
 "nbformat": 4,
 "nbformat_minor": 5
}
