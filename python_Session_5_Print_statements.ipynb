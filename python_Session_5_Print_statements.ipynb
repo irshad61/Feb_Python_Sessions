{
 "cells": [
  {
   "cell_type": "code",
   "execution_count": 7,
   "id": "02bbe6bf-3093-4cb3-a5bf-060cbd5b5b89",
   "metadata": {},
   "outputs": [
    {
     "name": "stdout",
     "output_type": "stream",
     "text": [
      "the addition of 100 and 200 is 300\n"
     ]
    }
   ],
   "source": [
    "a=100\n",
    "b=200\n",
    "c=a+b\n",
    "# the addition of 100 and 200 is 300\n",
    "print('the addition of',a,'and',b,'is',c)\n",
    "print('the addition of {} and {} is {}'.format(a,b,c).)"
   ]
  },
  {
   "cell_type": "code",
   "execution_count": 13,
   "id": "5ad27c81-25a2-4f6f-9482-df19a821813a",
   "metadata": {},
   "outputs": [
    {
     "name": "stdout",
     "output_type": "stream",
     "text": [
      "My name is python im 10 years old and from hyd\n",
      "My name is python im 10 years old and from hyd\n"
     ]
    }
   ],
   "source": [
    "name='python'\n",
    "age=10\n",
    "city='hyd'\n",
    "print('My name is',name,'im',age,'years old and from',city)\n",
    "print('My name is {} im {} years old and from {}'.format(name,age,city))"
   ]
  },
  {
   "cell_type": "code",
   "execution_count": 29,
   "id": "92177924-7795-4a93-b1f0-6e74e6dddac5",
   "metadata": {},
   "outputs": [
    {
     "name": "stdout",
     "output_type": "stream",
     "text": [
      "the addition of 100 and 200 is 300\n",
      "the subraction of 100 and 200 is -100\n",
      "the multiplication if 100 and 200 is 20000\n",
      "the division if 100 and 200 is 0.5\n"
     ]
    }
   ],
   "source": [
    "\n",
    "n1=100\n",
    "n2=200\n",
    "add=n1+n2\n",
    "sub=n1-n2\n",
    "mul=n1*n2\n",
    "div=n1/n2\n",
    "# the additon of 100 and 200 is 300\n",
    "# the subraction of 100 and 200 is -100\n",
    "# the multiplication of 100 and 200 is 20000\n",
    "# the division of 100 and 200 is 0.5\n",
    "print(f'the addition of {n1} and {n2} is {n1+n2}')\n",
    "print(f'the subraction of {n1} and {n2} is {n1-n2}')\n",
    "print(f'the multiplication if {n1} and {n2} is {n1*n2}')\n",
    "print(f'the division if {n1} and {n2} is {n1/n2}')"
   ]
  },
  {
   "cell_type": "markdown",
   "id": "628a779c-4f65-4253-aa20-a488015b6dfc",
   "metadata": {},
   "source": []
  },
  {
   "cell_type": "markdown",
   "id": "75d0bfc9-34ee-47d9-88df-846d8225f8d2",
   "metadata": {},
   "source": [
    "$end$"
   ]
  },
  {
   "cell_type": "code",
   "execution_count": 31,
   "id": "77c8233c-7dde-41b4-bf91-39172d5e9a2a",
   "metadata": {},
   "outputs": [
    {
     "name": "stdout",
     "output_type": "stream",
     "text": [
      "20****30\n",
      "100\n"
     ]
    }
   ],
   "source": [
    "print(20,end='****')\n",
    "print(30)\n",
    "print(a)"
   ]
  },
  {
   "cell_type": "code",
   "execution_count": 35,
   "id": "d0a32346-8d2f-4406-853a-bd3a2d1a858e",
   "metadata": {},
   "outputs": [
    {
     "name": "stdout",
     "output_type": "stream",
     "text": [
      "1 2 3\n"
     ]
    }
   ],
   "source": [
    "print(1,end=' ')\n",
    "print(2,end=' ')\n",
    "print(3)"
   ]
  },
  {
   "cell_type": "markdown",
   "id": "dbaff20c-f6e3-4b65-a7c4-5ee0c5966586",
   "metadata": {},
   "source": [
    "$sep$"
   ]
  },
  {
   "cell_type": "code",
   "execution_count": 38,
   "id": "f2194cbb-b5df-437c-9098-54a2aee6f196",
   "metadata": {},
   "outputs": [
    {
     "name": "stdout",
     "output_type": "stream",
     "text": [
      "20=30=50\n"
     ]
    }
   ],
   "source": [
    "print(20,30,50,sep='=')"
   ]
  },
  {
   "cell_type": "markdown",
   "id": "19651ae1-373f-4cc4-bb90-1b0de6dfc578",
   "metadata": {},
   "source": [
    "- end operator used to combine multiple print statements \n",
    "- sep operator used to seperate the multiple variables  in a single print statements"
   ]
  },
  {
   "cell_type": "code",
   "execution_count": 51,
   "id": "691a8817-2529-46ff-8bde-e205c3f31a5a",
   "metadata": {},
   "outputs": [
    {
     "name": "stdout",
     "output_type": "stream",
     "text": [
      "the addition of 3+4  is {7}\n"
     ]
    }
   ],
   "source": [
    "\n",
    "print( f'the addition of 3+4  is' ,{7})\n"
   ]
  },
  {
   "cell_type": "code",
   "execution_count": 53,
   "id": "615ee0f8-95cc-4a8b-b0da-b61ad16eec1b",
   "metadata": {},
   "outputs": [
    {
     "name": "stdin",
     "output_type": "stream",
     "text": [
      " Hello\n"
     ]
    },
    {
     "data": {
      "text/plain": [
       "'Hello'"
      ]
     },
     "execution_count": 53,
     "metadata": {},
     "output_type": "execute_result"
    }
   ],
   "source": [
    "input()"
   ]
  },
  {
   "cell_type": "code",
   "execution_count": 55,
   "id": "b9db5b07-2f9e-4bef-8280-d800541aad7c",
   "metadata": {},
   "outputs": [
    {
     "name": "stdin",
     "output_type": "stream",
     "text": [
      " 10+20\n",
      " 50-20\n",
      " lets see\n"
     ]
    },
    {
     "data": {
      "text/plain": [
       "'lets see'"
      ]
     },
     "execution_count": 55,
     "metadata": {},
     "output_type": "execute_result"
    }
   ],
   "source": [
    "input()\n",
    "input()\n",
    "input()"
   ]
  },
  {
   "cell_type": "code",
   "execution_count": 59,
   "id": "b2648c91-29a3-4239-abe5-bddf239db372",
   "metadata": {},
   "outputs": [
    {
     "name": "stdin",
     "output_type": "stream",
     "text": [
      "Enter Your Name: Irshad\n",
      "Enter your age: 22\n"
     ]
    },
    {
     "data": {
      "text/plain": [
       "'22'"
      ]
     },
     "execution_count": 59,
     "metadata": {},
     "output_type": "execute_result"
    }
   ],
   "source": [
    "input('Enter Your Name:')\n",
    "input('Enter your age:')"
   ]
  },
  {
   "cell_type": "code",
   "execution_count": 63,
   "id": "d0458458-9c41-4d42-8605-807a79204d3e",
   "metadata": {},
   "outputs": [
    {
     "name": "stdin",
     "output_type": "stream",
     "text": [
      "enter value: 50\n",
      "enter value2: 55\n"
     ]
    },
    {
     "data": {
      "text/plain": [
       "105"
      ]
     },
     "execution_count": 63,
     "metadata": {},
     "output_type": "execute_result"
    }
   ],
   "source": [
    "a=int(input('enter value:'))\n",
    "b=int(input('enter value2:'))\n",
    "a+b"
   ]
  },
  {
   "cell_type": "code",
   "execution_count": null,
   "id": "7acfe54a-3255-4493-b03a-d5a7b3a55c05",
   "metadata": {},
   "outputs": [],
   "source": []
  }
 ],
 "metadata": {
  "kernelspec": {
   "display_name": "Python 3 (ipykernel)",
   "language": "python",
   "name": "python3"
  },
  "language_info": {
   "codemirror_mode": {
    "name": "ipython",
    "version": 3
   },
   "file_extension": ".py",
   "mimetype": "text/x-python",
   "name": "python",
   "nbconvert_exporter": "python",
   "pygments_lexer": "ipython3",
   "version": "3.12.4"
  }
 },
 "nbformat": 4,
 "nbformat_minor": 5
}
