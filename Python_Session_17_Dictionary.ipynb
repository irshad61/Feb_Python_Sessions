{
 "cells": [
  {
   "cell_type": "code",
   "execution_count": 1,
   "id": "f04945d2-12f2-4d4f-9b52-8b221ab32354",
   "metadata": {},
   "outputs": [
    {
     "name": "stdout",
     "output_type": "stream",
     "text": [
      "Ramesh age is 20\n",
      "Suresh age is 30\n",
      "Satish age is 40\n"
     ]
    }
   ],
   "source": [
    "l1=['Ramesh','Suresh','Satish']\n",
    "l2=[20,30,40]\n",
    "for i in range(len(l1)):\n",
    "    print(f\"{l1[i]} age is {l2[i]}\")"
   ]
  },
  {
   "cell_type": "markdown",
   "id": "1c1b9767-77f2-4bd1-b57a-3ceb60a6e0ac",
   "metadata": {},
   "source": [
    "$zip$"
   ]
  },
  {
   "cell_type": "code",
   "execution_count": 4,
   "id": "5f0e2d23-4d68-47f1-ad4e-0a4452564563",
   "metadata": {},
   "outputs": [
    {
     "name": "stdout",
     "output_type": "stream",
     "text": [
      "Ramesh 20\n",
      "Suresh 30\n",
      "Satish 40\n"
     ]
    }
   ],
   "source": [
    "l1=['Ramesh','Suresh','Satish']\n",
    "l2=[20,30,40]\n",
    "for i,j in zip(l1,l2):\n",
    "    print(i,j)"
   ]
  },
  {
   "cell_type": "markdown",
   "id": "e8945424-bdf6-480b-8d8b-301f87442bb1",
   "metadata": {},
   "source": [
    "- here zip is used to combine both the list or anything\n",
    "- above i indicates l1 and j indicates l2 "
   ]
  },
  {
   "cell_type": "code",
   "execution_count": null,
   "id": "a1693492-6a41-40c5-8f05-109d37056885",
   "metadata": {},
   "outputs": [],
   "source": [
    "l1=['Ramesh','Suresh','Satish']\n",
    "l2=[20,30,40]\n",
    "l3=['hyd','mumbai','chennai']\n",
    "for i,j,k in zip(l1,l2):\n",
    "    print(i,j)"
   ]
  },
  {
   "cell_type": "markdown",
   "id": "9ef4246b-65ee-4d13-986c-3afac24356d9",
   "metadata": {},
   "source": [
    "**Dictionary**\n",
    "- strings represent in quotes \n",
    "- list represent in square brackets \n",
    "- tuple represent in parenthesis\n",
    "- sets represent in curly braces with only one value\n",
    "- Dictionary also represent in curly braces with two values\n",
    "- Dictionary has key:value pair\n",
    "- Dictionary elements are in pair\n",
    "  - one element called as **key**\n",
    "  - another element as **value**"
   ]
  },
  {
   "cell_type": "code",
   "execution_count": null,
   "id": "47922e5b-46a0-44af-bcf4-c07defab9b43",
   "metadata": {},
   "outputs": [],
   "source": [
    "l1=['Ramesh','Suresh','Satish']\n",
    "l2=[20,30,40]\n",
    "\n",
    "{key:value}\n",
    "{key1:value1,key2:value2,key3:value3}"
   ]
  },
  {
   "cell_type": "code",
   "execution_count": 9,
   "id": "d448d3be-6699-4f87-a5d3-f2f0a9c65007",
   "metadata": {},
   "outputs": [
    {
     "data": {
      "text/plain": [
       "{'ramesh': 20, 'Suresh': 30, 'satish': 40}"
      ]
     },
     "execution_count": 9,
     "metadata": {},
     "output_type": "execute_result"
    }
   ],
   "source": [
    "dict1={'ramesh':20,'Suresh':30,'satish':40}\n",
    "dict1"
   ]
  },
  {
   "cell_type": "code",
   "execution_count": null,
   "id": "4300f8f8-7fa7-43ce-b11c-cddcd413d629",
   "metadata": {},
   "outputs": [],
   "source": []
  },
  {
   "cell_type": "markdown",
   "id": "67f8e750-c7d7-4bdd-a335-ea1677d54425",
   "metadata": {},
   "source": [
    "**initilization**"
   ]
  },
  {
   "cell_type": "code",
   "execution_count": 11,
   "id": "a6e90061-52d6-4250-a789-b2ec6affc955",
   "metadata": {},
   "outputs": [
    {
     "data": {
      "text/plain": [
       "{20: 'Ramesh', 54: 'satish', 15: 'suresh'}"
      ]
     },
     "execution_count": 11,
     "metadata": {},
     "output_type": "execute_result"
    }
   ],
   "source": [
    "dict2={20:'Ramesh',54:'satish',15:'suresh'}\n",
    "dict2"
   ]
  },
  {
   "cell_type": "code",
   "execution_count": 13,
   "id": "da3b4182-79ae-4ef7-b5ef-738b777ea2aa",
   "metadata": {},
   "outputs": [
    {
     "ename": "TypeError",
     "evalue": "unhashable type: 'list'",
     "output_type": "error",
     "traceback": [
      "\u001b[1;31m---------------------------------------------------------------------------\u001b[0m",
      "\u001b[1;31mTypeError\u001b[0m                                 Traceback (most recent call last)",
      "Cell \u001b[1;32mIn[13], line 1\u001b[0m\n\u001b[1;32m----> 1\u001b[0m dict3\u001b[38;5;241m=\u001b[39m{[\u001b[38;5;241m10\u001b[39m]:[\u001b[38;5;124m'\u001b[39m\u001b[38;5;124msuresh\u001b[39m\u001b[38;5;124m'\u001b[39m],[\u001b[38;5;241m20\u001b[39m]:[\u001b[38;5;124m'\u001b[39m\u001b[38;5;124mramesh\u001b[39m\u001b[38;5;124m'\u001b[39m]}\n\u001b[0;32m      2\u001b[0m dict3\n",
      "\u001b[1;31mTypeError\u001b[0m: unhashable type: 'list'"
     ]
    }
   ],
   "source": [
    "dict3={[10]:['suresh'],[20]:['ramesh']}\n",
    "dict3"
   ]
  },
  {
   "cell_type": "code",
   "execution_count": 15,
   "id": "e695f5c6-8785-4336-914f-72a842029605",
   "metadata": {},
   "outputs": [
    {
     "data": {
      "text/plain": [
       "{10: 'ramesh', 20: 'suresh'}"
      ]
     },
     "execution_count": 15,
     "metadata": {},
     "output_type": "execute_result"
    }
   ],
   "source": [
    "dict4={(10):('ramesh'),(20):('suresh')}\n",
    "dict4"
   ]
  },
  {
   "cell_type": "code",
   "execution_count": 17,
   "id": "05168af9-7feb-4df4-b43a-d9d48101f2ad",
   "metadata": {},
   "outputs": [
    {
     "ename": "TypeError",
     "evalue": "unhashable type: 'dict'",
     "output_type": "error",
     "traceback": [
      "\u001b[1;31m---------------------------------------------------------------------------\u001b[0m",
      "\u001b[1;31mTypeError\u001b[0m                                 Traceback (most recent call last)",
      "Cell \u001b[1;32mIn[17], line 1\u001b[0m\n\u001b[1;32m----> 1\u001b[0m dict5\u001b[38;5;241m=\u001b[39m{{\u001b[38;5;241m10\u001b[39m:\u001b[38;5;124m'\u001b[39m\u001b[38;5;124mramesh\u001b[39m\u001b[38;5;124m'\u001b[39m},{\u001b[38;5;241m20\u001b[39m:\u001b[38;5;124m'\u001b[39m\u001b[38;5;124msuresh\u001b[39m\u001b[38;5;124m'\u001b[39m}}\n\u001b[0;32m      2\u001b[0m dict5\n",
      "\u001b[1;31mTypeError\u001b[0m: unhashable type: 'dict'"
     ]
    }
   ],
   "source": [
    "dict5={{10:'ramesh'},{20:'suresh'}}\n",
    "dict5"
   ]
  },
  {
   "cell_type": "code",
   "execution_count": 19,
   "id": "2953c441-d2be-4570-8a96-d9777b108511",
   "metadata": {},
   "outputs": [
    {
     "data": {
      "text/plain": [
       "{'ramesh': 30}"
      ]
     },
     "execution_count": 19,
     "metadata": {},
     "output_type": "execute_result"
    }
   ],
   "source": [
    "dict6={'ramesh':20,'ramesh':30}\n",
    "dict6\n",
    "# keys are important \n",
    "# when same keys but differnet value\n",
    "# it will take latest value i.e 30"
   ]
  },
  {
   "cell_type": "code",
   "execution_count": 21,
   "id": "c99e32af-e3b7-4ee0-b99f-a4918604b568",
   "metadata": {},
   "outputs": [
    {
     "data": {
      "text/plain": [
       "{'ramesh': 20, 'suresh': 20}"
      ]
     },
     "execution_count": 21,
     "metadata": {},
     "output_type": "execute_result"
    }
   ],
   "source": [
    "dict7={'ramesh':20,'suresh':20}\n",
    "dict7\n",
    "#value can be changeable"
   ]
  },
  {
   "cell_type": "code",
   "execution_count": 23,
   "id": "a283c430-8f4e-4c4e-8946-071bb57087c3",
   "metadata": {},
   "outputs": [
    {
     "ename": "TypeError",
     "evalue": "unhashable type: 'list'",
     "output_type": "error",
     "traceback": [
      "\u001b[1;31m---------------------------------------------------------------------------\u001b[0m",
      "\u001b[1;31mTypeError\u001b[0m                                 Traceback (most recent call last)",
      "Cell \u001b[1;32mIn[23], line 1\u001b[0m\n\u001b[1;32m----> 1\u001b[0m dict8\u001b[38;5;241m=\u001b[39m{[\u001b[38;5;241m10\u001b[39m,\u001b[38;5;241m20\u001b[39m,\u001b[38;5;241m30\u001b[39m]:(\u001b[38;5;124m'\u001b[39m\u001b[38;5;124mRamesh\u001b[39m\u001b[38;5;124m'\u001b[39m,\u001b[38;5;124m'\u001b[39m\u001b[38;5;124msuresh\u001b[39m\u001b[38;5;124m'\u001b[39m,\u001b[38;5;124m'\u001b[39m\u001b[38;5;124msatish\u001b[39m\u001b[38;5;124m'\u001b[39m)}\n\u001b[0;32m      2\u001b[0m dict8\n",
      "\u001b[1;31mTypeError\u001b[0m: unhashable type: 'list'"
     ]
    }
   ],
   "source": [
    "#imp interview question\n",
    "dict8={[10,20,30]:('Ramesh','suresh','satish')}\n",
    "dict8\n",
    "# list cannot be a key because list is mutable and key should not change "
   ]
  },
  {
   "cell_type": "code",
   "execution_count": null,
   "id": "630ec1a1-b400-4ac0-8f5b-46038a555f18",
   "metadata": {},
   "outputs": [],
   "source": [
    "d1={20:'Ramesh',54:'satish':15,'suresh':30}\n",
    "d2={'ramesh':20,'Suresh':30,'satish':40}\n",
    "d3={'ramesh':'20','Suresh':'30','satish':'40'}\n",
    "d4={'ramesh':'20','Suresh':30,40:'satish'}"
   ]
  },
  {
   "cell_type": "code",
   "execution_count": 43,
   "id": "34ef2aff-aff4-44e5-8120-76dac8f6ed5e",
   "metadata": {},
   "outputs": [
    {
     "ename": "TypeError",
     "evalue": "'>' not supported between instances of 'str' and 'int'",
     "output_type": "error",
     "traceback": [
      "\u001b[1;31m---------------------------------------------------------------------------\u001b[0m",
      "\u001b[1;31mTypeError\u001b[0m                                 Traceback (most recent call last)",
      "Cell \u001b[1;32mIn[43], line 2\u001b[0m\n\u001b[0;32m      1\u001b[0m d1\u001b[38;5;241m=\u001b[39m{\u001b[38;5;241m20\u001b[39m:\u001b[38;5;124m'\u001b[39m\u001b[38;5;124mRamesh\u001b[39m\u001b[38;5;124m'\u001b[39m,\u001b[38;5;241m54\u001b[39m:\u001b[38;5;124m'\u001b[39m\u001b[38;5;124msatish\u001b[39m\u001b[38;5;124m'\u001b[39m,\u001b[38;5;124m'\u001b[39m\u001b[38;5;124msuresh\u001b[39m\u001b[38;5;124m'\u001b[39m:\u001b[38;5;241m30\u001b[39m}\n\u001b[1;32m----> 2\u001b[0m \u001b[38;5;28mmax\u001b[39m(d1)\n",
      "\u001b[1;31mTypeError\u001b[0m: '>' not supported between instances of 'str' and 'int'"
     ]
    }
   ],
   "source": [
    "d1={20:'Ramesh',54:'satish','suresh':30}\n",
    "max(d1)"
   ]
  },
  {
   "cell_type": "code",
   "execution_count": 37,
   "id": "5f4d644d-49e8-476d-8035-5f69d07c9d8a",
   "metadata": {},
   "outputs": [
    {
     "ename": "ValueError",
     "evalue": "too many values to unpack (expected 2)",
     "output_type": "error",
     "traceback": [
      "\u001b[1;31m---------------------------------------------------------------------------\u001b[0m",
      "\u001b[1;31mValueError\u001b[0m                                Traceback (most recent call last)",
      "Cell \u001b[1;32mIn[37], line 2\u001b[0m\n\u001b[0;32m      1\u001b[0m d2\u001b[38;5;241m=\u001b[39m{\u001b[38;5;124m'\u001b[39m\u001b[38;5;124mramesh\u001b[39m\u001b[38;5;124m'\u001b[39m:\u001b[38;5;241m20\u001b[39m,\u001b[38;5;124m'\u001b[39m\u001b[38;5;124mSuresh\u001b[39m\u001b[38;5;124m'\u001b[39m:\u001b[38;5;241m30\u001b[39m,\u001b[38;5;124m'\u001b[39m\u001b[38;5;124msatish\u001b[39m\u001b[38;5;124m'\u001b[39m:\u001b[38;5;241m40\u001b[39m}\n\u001b[1;32m----> 2\u001b[0m \u001b[38;5;28;01mfor\u001b[39;00m i,j \u001b[38;5;129;01min\u001b[39;00m d2:\n\u001b[0;32m      3\u001b[0m     \u001b[38;5;28mprint\u001b[39m(i,j)\n",
      "\u001b[1;31mValueError\u001b[0m: too many values to unpack (expected 2)"
     ]
    }
   ],
   "source": [
    "d2={'ramesh':20,'Suresh':30,'satish':40}\n",
    "for i,j in d2:\n",
    "    print(i,j)"
   ]
  },
  {
   "cell_type": "code",
   "execution_count": 41,
   "id": "b6cdabf8-5f59-41f4-afc4-40fea2c81362",
   "metadata": {},
   "outputs": [
    {
     "ename": "AttributeError",
     "evalue": "'str' object has no attribute 'max'",
     "output_type": "error",
     "traceback": [
      "\u001b[1;31m---------------------------------------------------------------------------\u001b[0m",
      "\u001b[1;31mAttributeError\u001b[0m                            Traceback (most recent call last)",
      "Cell \u001b[1;32mIn[41], line 3\u001b[0m\n\u001b[0;32m      1\u001b[0m d2\u001b[38;5;241m=\u001b[39m{\u001b[38;5;124m'\u001b[39m\u001b[38;5;124mramesh\u001b[39m\u001b[38;5;124m'\u001b[39m:\u001b[38;5;241m20\u001b[39m,\u001b[38;5;124m'\u001b[39m\u001b[38;5;124mSuresh\u001b[39m\u001b[38;5;124m'\u001b[39m:\u001b[38;5;241m30\u001b[39m,\u001b[38;5;124m'\u001b[39m\u001b[38;5;124msatish\u001b[39m\u001b[38;5;124m'\u001b[39m:\u001b[38;5;241m40\u001b[39m}\n\u001b[0;32m      2\u001b[0m \u001b[38;5;28;01mfor\u001b[39;00m i \u001b[38;5;129;01min\u001b[39;00m d2:\n\u001b[1;32m----> 3\u001b[0m     i\u001b[38;5;241m.\u001b[39mmax()\n",
      "\u001b[1;31mAttributeError\u001b[0m: 'str' object has no attribute 'max'"
     ]
    }
   ],
   "source": [
    "d2={'ramesh':20,'Suresh':30,'satish':40}\n",
    "for i in d2:\n",
    "    i.max()"
   ]
  },
  {
   "cell_type": "code",
   "execution_count": 45,
   "id": "9580148a-e9a6-4d03-8c78-c343c5108728",
   "metadata": {},
   "outputs": [
    {
     "data": {
      "text/plain": [
       "'satish'"
      ]
     },
     "execution_count": 45,
     "metadata": {},
     "output_type": "execute_result"
    }
   ],
   "source": [
    "d2={'ramesh':20,'Suresh':30,'satish':40}\n",
    "max(d2)"
   ]
  },
  {
   "cell_type": "code",
   "execution_count": 47,
   "id": "619d6ef5-f40c-4c2f-a4fa-f9caf0187012",
   "metadata": {},
   "outputs": [
    {
     "data": {
      "text/plain": [
       "'Suresh'"
      ]
     },
     "execution_count": 47,
     "metadata": {},
     "output_type": "execute_result"
    }
   ],
   "source": [
    "d2={'ramesh':20,'Suresh':30,'satish':40}\n",
    "min(d2)"
   ]
  },
  {
   "cell_type": "code",
   "execution_count": 49,
   "id": "ffa910cc-2e8c-4d38-bdf3-c54a7933ee7a",
   "metadata": {},
   "outputs": [
    {
     "data": {
      "text/plain": [
       "54"
      ]
     },
     "execution_count": 49,
     "metadata": {},
     "output_type": "execute_result"
    }
   ],
   "source": [
    "d1={20:'Ramesh',54:'satish'}\n",
    "max(d1)"
   ]
  },
  {
   "cell_type": "code",
   "execution_count": 51,
   "id": "84e62eb3-96fa-4705-9cab-0765813377d6",
   "metadata": {},
   "outputs": [
    {
     "data": {
      "text/plain": [
       "20"
      ]
     },
     "execution_count": 51,
     "metadata": {},
     "output_type": "execute_result"
    }
   ],
   "source": [
    "d1={20:'Ramesh',54:'satish'}\n",
    "min(d1)"
   ]
  },
  {
   "cell_type": "code",
   "execution_count": 53,
   "id": "45e9c855-aa7b-4bce-b5d5-9f0902f0523c",
   "metadata": {},
   "outputs": [
    {
     "data": {
      "text/plain": [
       "3"
      ]
     },
     "execution_count": 53,
     "metadata": {},
     "output_type": "execute_result"
    }
   ],
   "source": [
    "d1={20:'Ramesh',54:'satish',15:'suresh'}\n",
    "len(d1)"
   ]
  },
  {
   "cell_type": "code",
   "execution_count": 55,
   "id": "10e8f20a-5086-46b3-9e48-d56e3623333d",
   "metadata": {},
   "outputs": [
    {
     "data": {
      "text/plain": [
       "[15, 20, 54]"
      ]
     },
     "execution_count": 55,
     "metadata": {},
     "output_type": "execute_result"
    }
   ],
   "source": [
    "d1={20:'Ramesh',54:'satish',15:'suresh'}\n",
    "sorted(d1)"
   ]
  },
  {
   "cell_type": "code",
   "execution_count": 59,
   "id": "1625d36f-9c30-42af-8343-8e49aafecada",
   "metadata": {},
   "outputs": [
    {
     "data": {
      "text/plain": [
       "[15, 54, 20]"
      ]
     },
     "execution_count": 59,
     "metadata": {},
     "output_type": "execute_result"
    }
   ],
   "source": [
    "d1={20:'Ramesh',54:'satish',15:'suresh'}\n",
    "list(reversed(d1))"
   ]
  },
  {
   "cell_type": "code",
   "execution_count": 61,
   "id": "5b34c3c9-def1-4792-899f-7b80993a19b5",
   "metadata": {},
   "outputs": [
    {
     "data": {
      "text/plain": [
       "['satish', 'Suresh', 'ramesh']"
      ]
     },
     "execution_count": 61,
     "metadata": {},
     "output_type": "execute_result"
    }
   ],
   "source": [
    "d2={'ramesh':20,'Suresh':30,'satish':40}\n",
    "list(reversed(d2))"
   ]
  },
  {
   "cell_type": "markdown",
   "id": "232cd195-8a9b-41e4-b990-ccbbf314663e",
   "metadata": {},
   "source": [
    "- max/sum/sorted can work for homogeneous\n",
    "- sum is only work for numbers only\n",
    "- reversed can work on anyone"
   ]
  },
  {
   "cell_type": "markdown",
   "id": "1ec54a65-5060-4c79-ab29-7b3ff85ccf4b",
   "metadata": {},
   "source": [
    "**index**"
   ]
  },
  {
   "cell_type": "code",
   "execution_count": 65,
   "id": "7640c4aa-f139-4a08-abf1-2fa3f640363c",
   "metadata": {},
   "outputs": [
    {
     "data": {
      "text/plain": [
       "10"
      ]
     },
     "execution_count": 65,
     "metadata": {},
     "output_type": "execute_result"
    }
   ],
   "source": [
    "l1=[10,20,30]\n",
    "l1[0]"
   ]
  },
  {
   "cell_type": "code",
   "execution_count": 69,
   "id": "d6753f49-331b-4945-95cc-f156dd96687e",
   "metadata": {},
   "outputs": [
    {
     "data": {
      "text/plain": [
       "10"
      ]
     },
     "execution_count": 69,
     "metadata": {},
     "output_type": "execute_result"
    }
   ],
   "source": [
    "t1=(10,20,30)\n",
    "t1[0]"
   ]
  },
  {
   "cell_type": "code",
   "execution_count": 73,
   "id": "6925f74f-4d00-4480-a927-b7450317ba3b",
   "metadata": {},
   "outputs": [
    {
     "ename": "KeyError",
     "evalue": "0",
     "output_type": "error",
     "traceback": [
      "\u001b[1;31m---------------------------------------------------------------------------\u001b[0m",
      "\u001b[1;31mKeyError\u001b[0m                                  Traceback (most recent call last)",
      "Cell \u001b[1;32mIn[73], line 2\u001b[0m\n\u001b[0;32m      1\u001b[0m d2\u001b[38;5;241m=\u001b[39m{\u001b[38;5;124m'\u001b[39m\u001b[38;5;124mramesh\u001b[39m\u001b[38;5;124m'\u001b[39m:\u001b[38;5;241m20\u001b[39m,\u001b[38;5;124m'\u001b[39m\u001b[38;5;124mSuresh\u001b[39m\u001b[38;5;124m'\u001b[39m:\u001b[38;5;241m30\u001b[39m,\u001b[38;5;124m'\u001b[39m\u001b[38;5;124msatish\u001b[39m\u001b[38;5;124m'\u001b[39m:\u001b[38;5;241m40\u001b[39m}\n\u001b[1;32m----> 2\u001b[0m d2[\u001b[38;5;241m0\u001b[39m]\n",
      "\u001b[1;31mKeyError\u001b[0m: 0"
     ]
    }
   ],
   "source": [
    "d2={'ramesh':20,'Suresh':30,'satish':40}\n",
    "d2[0]"
   ]
  },
  {
   "cell_type": "code",
   "execution_count": 75,
   "id": "e16fb10c-9c0a-4d9f-a7da-ca4ea3cd47a2",
   "metadata": {},
   "outputs": [
    {
     "data": {
      "text/plain": [
       "20"
      ]
     },
     "execution_count": 75,
     "metadata": {},
     "output_type": "execute_result"
    }
   ],
   "source": [
    "d2={'ramesh':20,'Suresh':30,'satish':40}\n",
    "d2['ramesh']"
   ]
  },
  {
   "cell_type": "code",
   "execution_count": 77,
   "id": "365712d2-2c46-45ed-855b-67eb40a514ce",
   "metadata": {},
   "outputs": [
    {
     "name": "stdout",
     "output_type": "stream",
     "text": [
      "ramesh\n",
      "Suresh\n",
      "satish\n"
     ]
    }
   ],
   "source": [
    "d2={'ramesh':20,'Suresh':30,'satish':40}\n",
    "for i in d2:\n",
    "    print(i)"
   ]
  },
  {
   "cell_type": "code",
   "execution_count": 79,
   "id": "81612316-4d2d-4d72-959a-8b3821fcafc6",
   "metadata": {},
   "outputs": [
    {
     "name": "stdout",
     "output_type": "stream",
     "text": [
      "20\n",
      "30\n",
      "40\n"
     ]
    }
   ],
   "source": [
    "d2={'ramesh':20,'Suresh':30,'satish':40}\n",
    "for i in d2:\n",
    "    print(d2[i])"
   ]
  },
  {
   "cell_type": "code",
   "execution_count": 81,
   "id": "6dd14858-6d36-4b8f-8e3a-fa1e26dc2fff",
   "metadata": {},
   "outputs": [
    {
     "name": "stdout",
     "output_type": "stream",
     "text": [
      "ramesh 20\n",
      "Suresh 30\n",
      "satish 40\n"
     ]
    }
   ],
   "source": [
    "d2={'ramesh':20,'Suresh':30,'satish':40}\n",
    "for i in d2:\n",
    "    print(i,d2[i])"
   ]
  },
  {
   "cell_type": "code",
   "execution_count": 83,
   "id": "d848cd77-bc46-424c-8058-8ebe07ee689b",
   "metadata": {},
   "outputs": [
    {
     "data": {
      "text/plain": [
       "['Apple', 'Banana', 'Cherry']"
      ]
     },
     "execution_count": 83,
     "metadata": {},
     "output_type": "execute_result"
    }
   ],
   "source": [
    "d1={'Fruits':['Apple','Banana','Cherry']}\n",
    "d1['Fruits']"
   ]
  },
  {
   "cell_type": "code",
   "execution_count": 85,
   "id": "17d54d49-f2d9-4489-8858-06378446217f",
   "metadata": {},
   "outputs": [
    {
     "data": {
      "text/plain": [
       "'Cherry'"
      ]
     },
     "execution_count": 85,
     "metadata": {},
     "output_type": "execute_result"
    }
   ],
   "source": [
    "d1={'Fruits':['Apple','Banana','Cherry']}\n",
    "d1['Fruits'][2]"
   ]
  },
  {
   "cell_type": "code",
   "execution_count": 87,
   "id": "dd27cda3-818b-4baf-85a2-fff26ec2ceab",
   "metadata": {},
   "outputs": [
    {
     "data": {
      "text/plain": [
       "'Green'"
      ]
     },
     "execution_count": 87,
     "metadata": {},
     "output_type": "execute_result"
    }
   ],
   "source": [
    "d1={'Fruites':{'Appple':['Sweet','Green','custred']}}\n",
    "d1['Fruites']['Appple'][1]"
   ]
  },
  {
   "cell_type": "code",
   "execution_count": 97,
   "id": "be373788-4466-4e5e-b2e9-5893c708e57a",
   "metadata": {},
   "outputs": [
    {
     "data": {
      "text/plain": [
       "300"
      ]
     },
     "execution_count": 97,
     "metadata": {},
     "output_type": "execute_result"
    }
   ],
   "source": [
    "d1={'Fruites':[{'Cost':[100,200,300]}]}\n",
    "d1['Fruites'][0]['Cost'][2]"
   ]
  },
  {
   "cell_type": "code",
   "execution_count": 109,
   "id": "193c8ee4-c4ad-4e7a-9651-66d5899d7d4f",
   "metadata": {},
   "outputs": [
    {
     "data": {
      "text/plain": [
       "['None']"
      ]
     },
     "execution_count": 109,
     "metadata": {},
     "output_type": "execute_result"
    }
   ],
   "source": [
    "d1={'Fruites':['Apple'],'Cost':[{'1kg':[300,500],\n",
    "                               '2kg':['None']}]}\n",
    "d1['Cost'][0]['2kg']"
   ]
  },
  {
   "cell_type": "code",
   "execution_count": 121,
   "id": "ade5e4bc-ee9c-4547-a2d0-c44f4eb7ebde",
   "metadata": {},
   "outputs": [
    {
     "data": {
      "text/plain": [
       "{'Shambaji'}"
      ]
     },
     "execution_count": 121,
     "metadata": {},
     "output_type": "execute_result"
    }
   ],
   "source": [
    "d1={'Fruites':{'Mango':{'Nagpur':{'MH':{'King':{'Shivaji':{'Shambaji'}}}}}}}\n",
    "d1['Fruites']['Mango']['Nagpur']['MH']['King']['Shivaji']"
   ]
  },
  {
   "cell_type": "code",
   "execution_count": 153,
   "id": "b4cd1b82-46f5-405e-b713-dd1db9e25cc4",
   "metadata": {},
   "outputs": [
    {
     "data": {
      "text/plain": [
       "{'Shambaji'}"
      ]
     },
     "execution_count": 153,
     "metadata": {},
     "output_type": "execute_result"
    }
   ],
   "source": [
    "d1={'Fruites':{'Mango':{'Nagpur':{'MH':{'King':{'Shivaji':{'Shambaji'}}}}}}}\n",
    "d1['Fruites']['Mango']['Nagpur']['MH']['King']['Shivaji']"
   ]
  },
  {
   "cell_type": "code",
   "execution_count": 123,
   "id": "45f0a35e-db05-4f6b-8627-02b839c43a36",
   "metadata": {},
   "outputs": [
    {
     "data": {
      "text/plain": [
       "['__class__',\n",
       " '__class_getitem__',\n",
       " '__contains__',\n",
       " '__delattr__',\n",
       " '__delitem__',\n",
       " '__dir__',\n",
       " '__doc__',\n",
       " '__eq__',\n",
       " '__format__',\n",
       " '__ge__',\n",
       " '__getattribute__',\n",
       " '__getitem__',\n",
       " '__getstate__',\n",
       " '__gt__',\n",
       " '__hash__',\n",
       " '__init__',\n",
       " '__init_subclass__',\n",
       " '__ior__',\n",
       " '__iter__',\n",
       " '__le__',\n",
       " '__len__',\n",
       " '__lt__',\n",
       " '__ne__',\n",
       " '__new__',\n",
       " '__or__',\n",
       " '__reduce__',\n",
       " '__reduce_ex__',\n",
       " '__repr__',\n",
       " '__reversed__',\n",
       " '__ror__',\n",
       " '__setattr__',\n",
       " '__setitem__',\n",
       " '__sizeof__',\n",
       " '__str__',\n",
       " '__subclasshook__',\n",
       " 'clear',\n",
       " 'copy',\n",
       " 'fromkeys',\n",
       " 'get',\n",
       " 'items',\n",
       " 'keys',\n",
       " 'pop',\n",
       " 'popitem',\n",
       " 'setdefault',\n",
       " 'update',\n",
       " 'values']"
      ]
     },
     "execution_count": 123,
     "metadata": {},
     "output_type": "execute_result"
    }
   ],
   "source": [
    "dir({})"
   ]
  },
  {
   "cell_type": "code",
   "execution_count": 143,
   "id": "0e6921e8-5209-41d0-b43b-7523f417ba33",
   "metadata": {},
   "outputs": [
    {
     "data": {
      "text/plain": [
       "dict"
      ]
     },
     "execution_count": 143,
     "metadata": {},
     "output_type": "execute_result"
    }
   ],
   "source": [
    "type({})"
   ]
  },
  {
   "cell_type": "code",
   "execution_count": 145,
   "id": "b9dff0a5-31a5-429b-8516-3de6cb0a1a6b",
   "metadata": {},
   "outputs": [
    {
     "data": {
      "text/plain": [
       "set"
      ]
     },
     "execution_count": 145,
     "metadata": {},
     "output_type": "execute_result"
    }
   ],
   "source": [
    "type({10})"
   ]
  },
  {
   "cell_type": "code",
   "execution_count": 7,
   "id": "bbca6678-b2e0-4e01-9efd-a96ff4e48c06",
   "metadata": {},
   "outputs": [
    {
     "ename": "SyntaxError",
     "evalue": "cannot assign to literal (3943702135.py, line 4)",
     "output_type": "error",
     "traceback": [
      "\u001b[1;36m  Cell \u001b[1;32mIn[7], line 4\u001b[1;36m\u001b[0m\n\u001b[1;33m    dict1=['Ramesh']=20\u001b[0m\n\u001b[1;37m           ^\u001b[0m\n\u001b[1;31mSyntaxError\u001b[0m\u001b[1;31m:\u001b[0m cannot assign to literal\n"
     ]
    }
   ],
   "source": [
    "names=['Ramesh','Suresh','Satish']\n",
    "age=[20,30,40]\n",
    "dict1={}\n",
    "dict1=['Ramesh']=20\n",
    "dict1=['Suresh']=30\n",
    "dict1=['Satish']=40\n",
    "dict1"
   ]
  },
  {
   "cell_type": "code",
   "execution_count": 9,
   "id": "1773f16f-e4d1-4240-b75e-fd32e569c12e",
   "metadata": {},
   "outputs": [
    {
     "ename": "SyntaxError",
     "evalue": "cannot assign to literal (2467621859.py, line 2)",
     "output_type": "error",
     "traceback": [
      "\u001b[1;36m  Cell \u001b[1;32mIn[9], line 2\u001b[1;36m\u001b[0m\n\u001b[1;33m    dict1=['Ramesh']=20\u001b[0m\n\u001b[1;37m           ^\u001b[0m\n\u001b[1;31mSyntaxError\u001b[0m\u001b[1;31m:\u001b[0m cannot assign to literal\n"
     ]
    }
   ],
   "source": [
    "dict1={}\n",
    "dict1=['Ramesh']=20\n",
    "dict1=['Suresh']=30\n",
    "dict1=['Satish']=40\n",
    "dict1"
   ]
  },
  {
   "cell_type": "code",
   "execution_count": 15,
   "id": "7b708204-2db3-4560-a061-359287ed1f12",
   "metadata": {},
   "outputs": [
    {
     "ename": "SyntaxError",
     "evalue": "invalid syntax (864642254.py, line 5)",
     "output_type": "error",
     "traceback": [
      "\u001b[1;36m  Cell \u001b[1;32mIn[15], line 5\u001b[1;36m\u001b[0m\n\u001b[1;33m    dict1{i}=dict1{j}\u001b[0m\n\u001b[1;37m         ^\u001b[0m\n\u001b[1;31mSyntaxError\u001b[0m\u001b[1;31m:\u001b[0m invalid syntax\n"
     ]
    }
   ],
   "source": [
    "names=['Ramesh','Suresh','Satish']\n",
    "age=[20,30,40]\n",
    "dict1={}\n",
    "for i,j in zip(names,age):\n",
    "    "
   ]
  },
  {
   "cell_type": "markdown",
   "id": "8232129d-3d66-4ce6-b0e9-f80b6bfb9494",
   "metadata": {},
   "source": [
    "**dictionary comprehension**"
   ]
  },
  {
   "cell_type": "code",
   "execution_count": null,
   "id": "3f56bb28-be37-4839-8644-72290a948fb4",
   "metadata": {},
   "outputs": [],
   "source": [
    "names=['Ramesh','Suresh','Satish']\n",
    "age=[20,30,40]\n",
    "d1={}"
   ]
  },
  {
   "cell_type": "markdown",
   "id": "72679645-0041-48c9-ad8e-158f9f1a17c2",
   "metadata": {},
   "source": [
    "**mutable vs immutable**\n",
    "- list are mutable\n",
    "- strings are mutable\n",
    "- tuple are mutable\n",
    "- dictionary also mutable we can modify value of dictionary"
   ]
  },
  {
   "cell_type": "code",
   "execution_count": 21,
   "id": "f52608b1-8692-4fef-a3cc-79ca5448eb6c",
   "metadata": {},
   "outputs": [
    {
     "data": {
      "text/plain": [
       "{'Ramesh': 15, 'Suresh': 40, 'Satish': 50}"
      ]
     },
     "execution_count": 21,
     "metadata": {},
     "output_type": "execute_result"
    }
   ],
   "source": [
    "d={'Ramesh':20,'Suresh':40,'Satish':50}\n",
    "d['Ramesh']=15\n",
    "d"
   ]
  },
  {
   "cell_type": "markdown",
   "id": "c1c65843-80eb-4473-aacc-40268b5c5ac2",
   "metadata": {},
   "source": [
    "- dictionary is similar\n",
    "- "
   ]
  },
  {
   "cell_type": "markdown",
   "id": "437c7de6-ed0b-4649-87f6-986c074f5f92",
   "metadata": {},
   "source": [
    "**concatenation**"
   ]
  },
  {
   "cell_type": "code",
   "execution_count": 25,
   "id": "b8e3e86f-099f-45e8-85b4-a0299042f3ce",
   "metadata": {},
   "outputs": [
    {
     "ename": "TypeError",
     "evalue": "unsupported operand type(s) for +: 'dict' and 'dict'",
     "output_type": "error",
     "traceback": [
      "\u001b[1;31m---------------------------------------------------------------------------\u001b[0m",
      "\u001b[1;31mTypeError\u001b[0m                                 Traceback (most recent call last)",
      "Cell \u001b[1;32mIn[25], line 3\u001b[0m\n\u001b[0;32m      1\u001b[0m d1\u001b[38;5;241m=\u001b[39m{\u001b[38;5;124m'\u001b[39m\u001b[38;5;124mRamesh\u001b[39m\u001b[38;5;124m'\u001b[39m:\u001b[38;5;241m20\u001b[39m}\n\u001b[0;32m      2\u001b[0m d2\u001b[38;5;241m=\u001b[39m{\u001b[38;5;124m'\u001b[39m\u001b[38;5;124mFruits\u001b[39m\u001b[38;5;124m'\u001b[39m:\u001b[38;5;124m'\u001b[39m\u001b[38;5;124mApple\u001b[39m\u001b[38;5;124m'\u001b[39m}\n\u001b[1;32m----> 3\u001b[0m d1\u001b[38;5;241m+\u001b[39md2\n",
      "\u001b[1;31mTypeError\u001b[0m: unsupported operand type(s) for +: 'dict' and 'dict'"
     ]
    }
   ],
   "source": [
    "d1={'Ramesh':20}\n",
    "d2={'Fruits':'Apple'}\n",
    "d1+d2"
   ]
  },
  {
   "cell_type": "markdown",
   "id": "348ca184-e07b-4d82-9caf-4b9109d6df09",
   "metadata": {},
   "source": [
    "**items-values-keys**"
   ]
  },
  {
   "cell_type": "code",
   "execution_count": 28,
   "id": "e0f07f14-bdff-4207-82c8-ca8fe7fafcb9",
   "metadata": {},
   "outputs": [
    {
     "data": {
      "text/plain": [
       "dict_items([('Ramesh', 20), ('Suresh', 40), ('Satish', 50)])"
      ]
     },
     "execution_count": 28,
     "metadata": {},
     "output_type": "execute_result"
    }
   ],
   "source": [
    "d={'Ramesh':20,'Suresh':40,'Satish':50}\n",
    "d.items()"
   ]
  },
  {
   "cell_type": "code",
   "execution_count": 30,
   "id": "06507a43-9001-47fc-a98a-b372ed423237",
   "metadata": {},
   "outputs": [
    {
     "data": {
      "text/plain": [
       "dict_values([20, 40, 50])"
      ]
     },
     "execution_count": 30,
     "metadata": {},
     "output_type": "execute_result"
    }
   ],
   "source": [
    "d={'Ramesh':20,'Suresh':40,'Satish':50}\n",
    "d.values()"
   ]
  },
  {
   "cell_type": "code",
   "execution_count": 34,
   "id": "419abada-f961-44d0-9039-060e6979274e",
   "metadata": {},
   "outputs": [
    {
     "data": {
      "text/plain": [
       "dict_keys(['Ramesh', 'Suresh', 'Satish'])"
      ]
     },
     "execution_count": 34,
     "metadata": {},
     "output_type": "execute_result"
    }
   ],
   "source": [
    "d={'Ramesh':20,'Suresh':40,'Satish':50}\n",
    "d.keys()"
   ]
  },
  {
   "cell_type": "code",
   "execution_count": 36,
   "id": "bd7b7280-1aa1-4c18-9f8d-375db3a0d799",
   "metadata": {},
   "outputs": [
    {
     "data": {
      "text/plain": [
       "dict_keys"
      ]
     },
     "execution_count": 36,
     "metadata": {},
     "output_type": "execute_result"
    }
   ],
   "source": [
    "d={'Ramesh':20,'Suresh':40,'Satish':50}\n",
    "keys=d.keys()\n",
    "type(keys)"
   ]
  },
  {
   "cell_type": "markdown",
   "id": "f69ec5ac-2e16-4784-b3d9-62b7481c8df1",
   "metadata": {},
   "source": [
    "- dict_keys is a type has keys\n",
    "- it is looks like list but not list\n",
    "- we can use list ,ethods here\n",
    "- for that we need to convert dict_keys to list"
   ]
  },
  {
   "cell_type": "code",
   "execution_count": 39,
   "id": "978f0610-3c9f-41c7-83fc-cef3c2e00ac3",
   "metadata": {},
   "outputs": [
    {
     "data": {
      "text/plain": [
       "['Ramesh', 'Suresh', 'Satish']"
      ]
     },
     "execution_count": 39,
     "metadata": {},
     "output_type": "execute_result"
    }
   ],
   "source": [
    "d={'Ramesh':20,'Suresh':40,'Satish':50}\n",
    "keys=d.keys()\n",
    "list(keys)"
   ]
  },
  {
   "cell_type": "code",
   "execution_count": 43,
   "id": "192f6ecf-23a0-469f-ad84-6f96b81e6614",
   "metadata": {},
   "outputs": [
    {
     "data": {
      "text/plain": [
       "[20, 40, 50]"
      ]
     },
     "execution_count": 43,
     "metadata": {},
     "output_type": "execute_result"
    }
   ],
   "source": [
    "d={'Ramesh':20,'Suresh':40,'Satish':50}\n",
    "values=d.values()\n",
    "list(values)"
   ]
  },
  {
   "cell_type": "code",
   "execution_count": 45,
   "id": "44195ee2-c909-4695-b95c-624790281d19",
   "metadata": {},
   "outputs": [
    {
     "data": {
      "text/plain": [
       "[('Ramesh', 20), ('Suresh', 40), ('Satish', 50)]"
      ]
     },
     "execution_count": 45,
     "metadata": {},
     "output_type": "execute_result"
    }
   ],
   "source": [
    "d={'Ramesh':20,'Suresh':40,'Satish':50}\n",
    "items=d.items()\n",
    "list(items)"
   ]
  },
  {
   "cell_type": "code",
   "execution_count": 47,
   "id": "f10c3b36-4837-4fce-aada-d21368f897d5",
   "metadata": {},
   "outputs": [
    {
     "data": {
      "text/plain": [
       "(['ramesh', 'Suresh', 'Satish'], [20, 30, 40])"
      ]
     },
     "execution_count": 47,
     "metadata": {},
     "output_type": "execute_result"
    }
   ],
   "source": [
    "d={'ramesh':20,'Suresh':30,'Satish':40}\n",
    "keys,values=[],[]\n",
    "for key in d:\n",
    "    keys.append(key)\n",
    "    values.append(d[key])\n",
    "keys,values"
   ]
  },
  {
   "cell_type": "code",
   "execution_count": 51,
   "id": "1c5a0d9d-3ca6-4d9f-834b-07a52cb8b86f",
   "metadata": {},
   "outputs": [
    {
     "data": {
      "text/plain": [
       "(['ramesh', 'Suresh', 'Satish'], [20, 30, 40])"
      ]
     },
     "execution_count": 51,
     "metadata": {},
     "output_type": "execute_result"
    }
   ],
   "source": [
    "d={'ramesh':20,'Suresh':30,'Satish':40}\n",
    "keys=[key for key in d]\n",
    "values=[d[key] for key in d]\n",
    "keys,values"
   ]
  },
  {
   "cell_type": "code",
   "execution_count": 53,
   "id": "7405e6cb-63e0-48dd-83ec-f1aa81bab307",
   "metadata": {},
   "outputs": [
    {
     "data": {
      "text/plain": [
       "(['ramesh', 'Suresh', 'Satish'], [20, 30, 40])"
      ]
     },
     "execution_count": 53,
     "metadata": {},
     "output_type": "execute_result"
    }
   ],
   "source": [
    "d={'ramesh':20,'Suresh':30,'Satish':40}\n",
    "keys=list(d.keys())\n",
    "values=list(d.values())\n",
    "keys,values"
   ]
  },
  {
   "cell_type": "code",
   "execution_count": null,
   "id": "0e3c0c3c-605c-464e-b7d3-229ed5a64a06",
   "metadata": {},
   "outputs": [],
   "source": [
    "d={'ramesh':20,'Suresh':30,'Satish':40}\n",
    "keys,values=[],[]\n",
    "for key in d:\n",
    "    keys.append(key)\n",
    "    values.append(d[key])\n",
    "keys,values\n",
    "##############################################\n",
    "d={'ramesh':20,'Suresh':30,'Satish':40}\n",
    "keys=[key for key in d]\n",
    "values=[d[key] for key in d]\n",
    "keys,values\n",
    "###############################################\n",
    "d={'ramesh':20,'Suresh':30,'Satish':40}\n",
    "keys=list(d.keys())\n",
    "values=list(d.values())\n",
    "keys,values"
   ]
  },
  {
   "cell_type": "code",
   "execution_count": null,
   "id": "3a5e3695-b0be-4d86-b463-92a1383e962a",
   "metadata": {},
   "outputs": [],
   "source": [
    "d={'Ramesh':20,'Suresh':30,'Satish':40}\n",
    "#{'ramesh': '20', 'suresh': '30', 'satish': '40'}"
   ]
  },
  {
   "cell_type": "code",
   "execution_count": 73,
   "id": "7aedfcb2-8b76-422d-9f22-1d3fd45db38b",
   "metadata": {},
   "outputs": [
    {
     "data": {
      "text/plain": [
       "{'ramesh': '20', 'suresh': '30', 'satish': '40'}"
      ]
     },
     "execution_count": 73,
     "metadata": {},
     "output_type": "execute_result"
    }
   ],
   "source": [
    "d={'Ramesh':20,'Suresh':30,'Satish':40}\n",
    "keys=[i.lower() for i in list(d.keys())]\n",
    "values=[str(i) for i in list(d.values())]\n",
    "{key:value for key,value in zip(keys,values)}"
   ]
  },
  {
   "cell_type": "markdown",
   "id": "d7ef8e73-a1f7-411c-9857-c52394e0db98",
   "metadata": {},
   "source": [
    "**get**"
   ]
  },
  {
   "cell_type": "code",
   "execution_count": 78,
   "id": "7bdec78c-f4b5-40bd-97eb-086c3f1d2599",
   "metadata": {},
   "outputs": [
    {
     "data": {
      "text/plain": [
       "20"
      ]
     },
     "execution_count": 78,
     "metadata": {},
     "output_type": "execute_result"
    }
   ],
   "source": [
    "d={'Ramesh':20,'Suresh':30,'Satish':40}\n",
    "d['Ramesh']#normal"
   ]
  },
  {
   "cell_type": "code",
   "execution_count": 80,
   "id": "fd73f290-b4ed-4654-a9e4-ebbff36edd82",
   "metadata": {},
   "outputs": [
    {
     "data": {
      "text/plain": [
       "20"
      ]
     },
     "execution_count": 80,
     "metadata": {},
     "output_type": "execute_result"
    }
   ],
   "source": [
    "d={'Ramesh':20,'Suresh':30,'Satish':40}\n",
    "d.get('Ramesh')"
   ]
  },
  {
   "cell_type": "code",
   "execution_count": null,
   "id": "cf940d88-3ce2-4c3c-a278-83f637089735",
   "metadata": {},
   "outputs": [],
   "source": [
    "#####methods######\n",
    "d={'Ramesh':20,'Suresh':30,'Satish':40}\n",
    "d.get('Ramesh') #ans\n",
    "d.get('r') # no error-no ans\n",
    "###################\n",
    "d['Ramesh'] #normal way\n",
    "d['r'] #error"
   ]
  },
  {
   "cell_type": "markdown",
   "id": "d43ceab2-e2a3-4fb9-a887-3c8d974e8010",
   "metadata": {},
   "source": [
    "**update**\n"
   ]
  },
  {
   "cell_type": "code",
   "execution_count": 85,
   "id": "bb2ea66d-84e8-453a-9b51-23a665d3abe5",
   "metadata": {},
   "outputs": [
    {
     "data": {
      "text/plain": [
       "{'Ramesh': 20, 'Suresh': 30, 'Satish': 40, 'Fruits': 'Apple'}"
      ]
     },
     "execution_count": 85,
     "metadata": {},
     "output_type": "execute_result"
    }
   ],
   "source": [
    "d={'Ramesh':20,'Suresh':30,'Satish':40}\n",
    "d1={'Fruits':'Apple'}\n",
    "d.update(d1)\n",
    "d"
   ]
  },
  {
   "cell_type": "code",
   "execution_count": 87,
   "id": "258cbec5-a159-498f-878c-bf9619e85a43",
   "metadata": {},
   "outputs": [
    {
     "ename": "SyntaxError",
     "evalue": "invalid syntax (1332259269.py, line 1)",
     "output_type": "error",
     "traceback": [
      "\u001b[1;36m  Cell \u001b[1;32mIn[87], line 1\u001b[1;36m\u001b[0m\n\u001b[1;33m    d.update('Apple':200)\u001b[0m\n\u001b[1;37m                    ^\u001b[0m\n\u001b[1;31mSyntaxError\u001b[0m\u001b[1;31m:\u001b[0m invalid syntax\n"
     ]
    }
   ],
   "source": [
    "d.update('Apple':200)"
   ]
  },
  {
   "cell_type": "code",
   "execution_count": 89,
   "id": "02a0c925-a5b9-4a02-9a8a-1d5f6e66039f",
   "metadata": {},
   "outputs": [
    {
     "ename": "SyntaxError",
     "evalue": "expression cannot contain assignment, perhaps you meant \"==\"? (1548661541.py, line 1)",
     "output_type": "error",
     "traceback": [
      "\u001b[1;36m  Cell \u001b[1;32mIn[89], line 1\u001b[1;36m\u001b[0m\n\u001b[1;33m    d.update('Apple'=200)\u001b[0m\n\u001b[1;37m             ^\u001b[0m\n\u001b[1;31mSyntaxError\u001b[0m\u001b[1;31m:\u001b[0m expression cannot contain assignment, perhaps you meant \"==\"?\n"
     ]
    }
   ],
   "source": [
    "d.update('Apple'=200)"
   ]
  },
  {
   "cell_type": "code",
   "execution_count": 93,
   "id": "8e11f8ab-ddf2-408c-9633-c30879b695e1",
   "metadata": {},
   "outputs": [
    {
     "data": {
      "text/plain": [
       "{'Ramesh': 20, 'Suresh': 30, 'Satish': 40, 'Fruits': 'Apple', 'Apple': 200}"
      ]
     },
     "execution_count": 93,
     "metadata": {},
     "output_type": "execute_result"
    }
   ],
   "source": [
    "d.update(Apple=200)\n",
    "d"
   ]
  },
  {
   "cell_type": "code",
   "execution_count": 95,
   "id": "34acc8fd-3f67-4689-bbc9-0ccede70e100",
   "metadata": {},
   "outputs": [
    {
     "ename": "TypeError",
     "evalue": "cannot convert dictionary update sequence element #0 to a sequence",
     "output_type": "error",
     "traceback": [
      "\u001b[1;31m---------------------------------------------------------------------------\u001b[0m",
      "\u001b[1;31mTypeError\u001b[0m                                 Traceback (most recent call last)",
      "Cell \u001b[1;32mIn[95], line 1\u001b[0m\n\u001b[1;32m----> 1\u001b[0m d\u001b[38;5;241m.\u001b[39mupdate([\u001b[38;5;241m200\u001b[39m,\u001b[38;5;124m'\u001b[39m\u001b[38;5;124mMarks\u001b[39m\u001b[38;5;124m'\u001b[39m])\n\u001b[0;32m      2\u001b[0m d\n",
      "\u001b[1;31mTypeError\u001b[0m: cannot convert dictionary update sequence element #0 to a sequence"
     ]
    }
   ],
   "source": [
    "d.update([200,'Marks'])\n",
    "d"
   ]
  },
  {
   "cell_type": "code",
   "execution_count": 99,
   "id": "064937b1-f2fe-4599-bc50-7ddb79dfa806",
   "metadata": {},
   "outputs": [
    {
     "data": {
      "text/plain": [
       "{'Ramesh': 20,\n",
       " 'Suresh': 30,\n",
       " 'Satish': 40,\n",
       " 'Fruits': 'Apple',\n",
       " 'Apple': 200,\n",
       " 200: 'marks'}"
      ]
     },
     "execution_count": 99,
     "metadata": {},
     "output_type": "execute_result"
    }
   ],
   "source": [
    "t=(200,'marks')\n",
    "l=[t]\n",
    "d.update(l)\n",
    "d"
   ]
  },
  {
   "cell_type": "code",
   "execution_count": null,
   "id": "d6bc11f9-2181-4e98-95c0-4614e0eebd47",
   "metadata": {},
   "outputs": [],
   "source": [
    "d={'Ramesh':20,'Suresh':30,'Satish':40}\n",
    "d1={'Fruits':'Apple'}\n",
    "d.update(d1)\n",
    "d.update(Apple=200)\n",
    "d.update([(200,'marks')])"
   ]
  },
  {
   "cell_type": "markdown",
   "id": "880d42f2-d2d5-4113-afb3-0a44522130bd",
   "metadata": {},
   "source": [
    "**pop-popitem**"
   ]
  },
  {
   "cell_type": "code",
   "execution_count": 102,
   "id": "97e65540-a8af-4143-9404-1df0659d8f3c",
   "metadata": {},
   "outputs": [
    {
     "data": {
      "text/plain": [
       "200"
      ]
     },
     "execution_count": 102,
     "metadata": {},
     "output_type": "execute_result"
    }
   ],
   "source": [
    "l=[100,200,111,222]\n",
    "l.pop(1)"
   ]
  },
  {
   "cell_type": "markdown",
   "id": "6bebfbc4-1714-487b-9ba5-3b7e6303c066",
   "metadata": {},
   "source": [
    "**del**"
   ]
  },
  {
   "cell_type": "code",
   "execution_count": 107,
   "id": "83985151-9bf1-4952-8a4f-4b14a797907f",
   "metadata": {},
   "outputs": [
    {
     "data": {
      "text/plain": [
       "[200, 333, 444]"
      ]
     },
     "execution_count": 107,
     "metadata": {},
     "output_type": "execute_result"
    }
   ],
   "source": [
    "l=[100,200,333,444]\n",
    "del l[0]\n",
    "l"
   ]
  },
  {
   "cell_type": "code",
   "execution_count": 111,
   "id": "36527e28-2d73-4498-bd9a-597836322ab0",
   "metadata": {},
   "outputs": [
    {
     "data": {
      "text/plain": [
       "{'Suresh': 30, 'Satish': 40}"
      ]
     },
     "execution_count": 111,
     "metadata": {},
     "output_type": "execute_result"
    }
   ],
   "source": [
    "d={'Ramesh':20,'Suresh':30,'Satish':40}\n",
    "del d['Ramesh']\n",
    "d"
   ]
  },
  {
   "cell_type": "code",
   "execution_count": null,
   "id": "bcfb6487-ee2b-4f7d-939c-4187be7a8748",
   "metadata": {},
   "outputs": [],
   "source": [
    "count in strings also in list\n",
    "index in strings also in list\n",
    "find in strings but not in list\n",
    "pop in list also in dictionary \n",
    "remove in list but in dictionary pop item \n",
    "concatenation in list === extend in list\n",
    "access value using key in dict === get method\n",
    "del for list and dictionary\n",
    "sorted and reversed for all data types"
   ]
  },
  {
   "cell_type": "code",
   "execution_count": null,
   "id": "decc8985-a962-45cc-b9bc-4e52f781c19b",
   "metadata": {},
   "outputs": [],
   "source": []
  }
 ],
 "metadata": {
  "kernelspec": {
   "display_name": "Python 3 (ipykernel)",
   "language": "python",
   "name": "python3"
  },
  "language_info": {
   "codemirror_mode": {
    "name": "ipython",
    "version": 3
   },
   "file_extension": ".py",
   "mimetype": "text/x-python",
   "name": "python",
   "nbconvert_exporter": "python",
   "pygments_lexer": "ipython3",
   "version": "3.12.4"
  }
 },
 "nbformat": 4,
 "nbformat_minor": 5
}
