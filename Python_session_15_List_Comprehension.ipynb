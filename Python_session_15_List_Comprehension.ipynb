{
 "cells": [
  {
   "cell_type": "markdown",
   "id": "75209c5c-53db-441b-813f-e2793fe5f5e2",
   "metadata": {},
   "source": [
    "- List comprehension \n",
    "\n",
    "- list comprehension will able to write for loop and if condition in a single line\n",
    "- which reduce the time to get the output"
   ]
  },
  {
   "cell_type": "code",
   "execution_count": 7,
   "id": "f077987e-7a45-4310-80d6-84144a796512",
   "metadata": {},
   "outputs": [
    {
     "name": "stdout",
     "output_type": "stream",
     "text": [
      "0 1 2 3 4 5 6 7 8 9 <class 'int'>\n"
     ]
    }
   ],
   "source": [
    "for i in range(10):\n",
    "    print(i,end=\" \")\n",
    "print(type(i))"
   ]
  },
  {
   "cell_type": "code",
   "execution_count": 8,
   "id": "652c5e4a-1513-4f9b-9ed5-69eb73dca903",
   "metadata": {},
   "outputs": [
    {
     "data": {
      "text/plain": [
       "[0, 1, 2, 3, 4, 5, 6, 7, 8, 9]"
      ]
     },
     "execution_count": 8,
     "metadata": {},
     "output_type": "execute_result"
    }
   ],
   "source": [
    "list1=[]\n",
    "for i in range(10):\n",
    "    list1.append(i)\n",
    "list1"
   ]
  },
  {
   "cell_type": "markdown",
   "id": "889b2d71-f665-43de-aaa8-97f5176a7eb0",
   "metadata": {},
   "source": [
    "**Method-1: Only for loop**"
   ]
  },
  {
   "cell_type": "code",
   "execution_count": 12,
   "id": "665f2560-f014-4749-8ea7-030fe58bc11a",
   "metadata": {},
   "outputs": [
    {
     "data": {
      "text/plain": [
       "[0, 1, 2, 3, 4, 5, 6, 7, 8, 9]"
      ]
     },
     "execution_count": 12,
     "metadata": {},
     "output_type": "execute_result"
    }
   ],
   "source": [
    "list1=[i for i in range(10)]\n",
    "list1"
   ]
  },
  {
   "cell_type": "code",
   "execution_count": 23,
   "id": "1819ffe2-6dce-4efc-be21-1d62fe20a8eb",
   "metadata": {},
   "outputs": [
    {
     "data": {
      "text/plain": [
       "['Hyd', 'Chennai', 'Mumbai', 'Pune']"
      ]
     },
     "execution_count": 23,
     "metadata": {},
     "output_type": "execute_result"
    }
   ],
   "source": [
    "l1=['hyd','chennai','mumbai','pune']\n",
    "ans=[]\n",
    "for i in l1:\n",
    "    ans.append(i.capitalize())\n",
    "ans"
   ]
  },
  {
   "cell_type": "code",
   "execution_count": 37,
   "id": "cd305111-b586-4ebc-91a8-cad87d193ab3",
   "metadata": {},
   "outputs": [
    {
     "data": {
      "text/plain": [
       "[0, 10, 20, 30]"
      ]
     },
     "execution_count": 37,
     "metadata": {},
     "output_type": "execute_result"
    }
   ],
   "source": [
    "l1=['hyd','chennai','mumbai','pune']\n",
    "ans=[]\n",
    "for i in l1:\n",
    "    ans.append((l1.index(i)*10))\n",
    "ans"
   ]
  },
  {
   "cell_type": "code",
   "execution_count": 39,
   "id": "d8e9d9f0-1bf3-47ff-8c6e-c1a471c1ac73",
   "metadata": {},
   "outputs": [
    {
     "data": {
      "text/plain": [
       "[0, 10, 20, 30]"
      ]
     },
     "execution_count": 39,
     "metadata": {},
     "output_type": "execute_result"
    }
   ],
   "source": [
    "ans=[l1.index(i)*10 for i in l1]\n",
    "ans"
   ]
  },
  {
   "cell_type": "code",
   "execution_count": 27,
   "id": "635823b5-c373-4c48-9f03-15d488250cc4",
   "metadata": {},
   "outputs": [
    {
     "ename": "TypeError",
     "evalue": "unsupported operand type(s) for +: 'int' and 'str'",
     "output_type": "error",
     "traceback": [
      "\u001b[1;31m---------------------------------------------------------------------------\u001b[0m",
      "\u001b[1;31mTypeError\u001b[0m                                 Traceback (most recent call last)",
      "Cell \u001b[1;32mIn[27], line 4\u001b[0m\n\u001b[0;32m      2\u001b[0m summ\u001b[38;5;241m=\u001b[39m\u001b[38;5;241m0\u001b[39m\n\u001b[0;32m      3\u001b[0m \u001b[38;5;28;01mfor\u001b[39;00m i \u001b[38;5;129;01min\u001b[39;00m l1:\n\u001b[1;32m----> 4\u001b[0m     summ\u001b[38;5;241m=\u001b[39msumm\u001b[38;5;241m+\u001b[39mi\n\u001b[0;32m      5\u001b[0m \u001b[38;5;28mprint\u001b[39m(summ)\n",
      "\u001b[1;31mTypeError\u001b[0m: unsupported operand type(s) for +: 'int' and 'str'"
     ]
    }
   ],
   "source": [
    "l1=['hyd','chennai','mumbai','pune']\n",
    "summ=0\n",
    "for i in l1:\n",
    "    summ=summ+i\n",
    "print(summ)"
   ]
  },
  {
   "cell_type": "code",
   "execution_count": 37,
   "id": "33ba0810-8823-4eda-92bc-a81a52657bf1",
   "metadata": {},
   "outputs": [
    {
     "data": {
      "text/plain": [
       "6"
      ]
     },
     "execution_count": 37,
     "metadata": {},
     "output_type": "execute_result"
    }
   ],
   "source": [
    "l1=['hyd','chennai','mumbai','pune']\n",
    "summ=0\n",
    "for i in range(len(l1)):\n",
    "    summ=summ+i\n",
    "summ  "
   ]
  },
  {
   "cell_type": "code",
   "execution_count": 63,
   "id": "a1a5d70b-61d2-4496-970a-d154b3f81f8b",
   "metadata": {},
   "outputs": [
    {
     "name": "stdout",
     "output_type": "stream",
     "text": [
      "6\n"
     ]
    }
   ],
   "source": [
    "l1=['hyd','chennai','mumbai','pune']\n",
    "summ=0\n",
    "[summ:=summ+i for i in range(len(l1))]\n",
    "print(summ)"
   ]
  },
  {
   "cell_type": "markdown",
   "id": "c95001c3-960a-466b-9672-e95ca540185d",
   "metadata": {},
   "source": [
    "- use walrus operator if you are using list comprehension (:=)  "
   ]
  },
  {
   "cell_type": "markdown",
   "id": "98cdf4a6-11cd-4c1a-b3d6-3c4807e3baa8",
   "metadata": {},
   "source": [
    "**Method-2: for loop and only if condition**"
   ]
  },
  {
   "cell_type": "code",
   "execution_count": 54,
   "id": "12cab834-2a6d-4731-be0c-b72a16cd8273",
   "metadata": {},
   "outputs": [
    {
     "data": {
      "text/plain": [
       "['chen#ai', 'mu#bai']"
      ]
     },
     "execution_count": 54,
     "metadata": {},
     "output_type": "execute_result"
    }
   ],
   "source": [
    "l1=['hyd','chen#ai','mu#bai','pune']\n",
    "ans=[]\n",
    "for i in l1:\n",
    "    if \"#\" in i:\n",
    "        ans.append(i)\n",
    "ans"
   ]
  },
  {
   "cell_type": "code",
   "execution_count": 56,
   "id": "e7fcfcd2-67e3-428b-853f-27d311b6837e",
   "metadata": {},
   "outputs": [
    {
     "data": {
      "text/plain": [
       "['chen#ai', 'mu#bai']"
      ]
     },
     "execution_count": 56,
     "metadata": {},
     "output_type": "execute_result"
    }
   ],
   "source": [
    "l1=['hyd','chen#ai','mu#bai','pune']\n",
    "[i for i in l1 if '#' in i]"
   ]
  },
  {
   "cell_type": "code",
   "execution_count": 58,
   "id": "2fa000f0-a84b-444c-8a8a-142eabb3aa17",
   "metadata": {},
   "outputs": [],
   "source": [
    "# [<output> <if condition> <for loop>]"
   ]
  },
  {
   "cell_type": "code",
   "execution_count": 60,
   "id": "a3292150-f62d-44d9-88b7-46e873f7e6e6",
   "metadata": {},
   "outputs": [
    {
     "ename": "SyntaxError",
     "evalue": "expected 'else' after 'if' expression (666460119.py, line 2)",
     "output_type": "error",
     "traceback": [
      "\u001b[1;36m  Cell \u001b[1;32mIn[60], line 2\u001b[1;36m\u001b[0m\n\u001b[1;33m    [i if '#' not in i for i in l1]\u001b[0m\n\u001b[1;37m     ^\u001b[0m\n\u001b[1;31mSyntaxError\u001b[0m\u001b[1;31m:\u001b[0m expected 'else' after 'if' expression\n"
     ]
    }
   ],
   "source": [
    "l1=['hyd','chen#ai','mu#bai','pune']\n",
    "[i if '#' not in i for i in l1]\n",
    "# here we need to write if condition last"
   ]
  },
  {
   "cell_type": "code",
   "execution_count": 62,
   "id": "705d00d6-132d-4f58-9c12-2102b4c3f0e6",
   "metadata": {},
   "outputs": [
    {
     "data": {
      "text/plain": [
       "['hyd', 'pune']"
      ]
     },
     "execution_count": 62,
     "metadata": {},
     "output_type": "execute_result"
    }
   ],
   "source": [
    "l1=['hyd','chen#ai','mu#bai','pune']\n",
    "[i for i in l1 if '#' not in i]"
   ]
  },
  {
   "cell_type": "code",
   "execution_count": 66,
   "id": "9ba22676-2cde-4fa1-8589-630a50637750",
   "metadata": {},
   "outputs": [
    {
     "data": {
      "text/plain": [
       "([100, 20, 38, 52], [27, 47, 87])"
      ]
     },
     "execution_count": 66,
     "metadata": {},
     "output_type": "execute_result"
    }
   ],
   "source": [
    "list1=[100,20,27,38,47,52,87]\n",
    "evenlist=[i for i in list1 if i%2==0]\n",
    "oddlist=[i for i in list1 if i%2!=0]\n",
    "evenlist,oddlist"
   ]
  },
  {
   "cell_type": "code",
   "execution_count": null,
   "id": "01f7482c-08d8-48fc-8d73-f7922e8615d8",
   "metadata": {},
   "outputs": [],
   "source": [
    "method-1:[output for loop]\n",
    "method-2:[output for loop if condition]\n",
    "method-3:[<if output> <if condition> else <else output> <for loop>]\n",
    "method-4:[<if output> <if condition> else <elif output> <elif con> <else output>]"
   ]
  },
  {
   "cell_type": "markdown",
   "id": "3ab1112e-2eb0-4b2b-aa18-ac8da440a8f7",
   "metadata": {},
   "source": [
    "**Method-3: for loop-if-else**"
   ]
  },
  {
   "cell_type": "code",
   "execution_count": 76,
   "id": "5c07350c-9a98-43b1-85e4-f08a6e4bea4c",
   "metadata": {},
   "outputs": [
    {
     "data": {
      "text/plain": [
       "['even', 'even', 'odd', 'even', 'odd', 'even', 'odd']"
      ]
     },
     "execution_count": 76,
     "metadata": {},
     "output_type": "execute_result"
    }
   ],
   "source": [
    "list1=[100,20,27,38,47,52,87]\n",
    "['even' if i%2==0 else 'odd' for i in list1]"
   ]
  },
  {
   "cell_type": "code",
   "execution_count": 78,
   "id": "1820d752-ed31-4507-b0fb-8141bf757339",
   "metadata": {},
   "outputs": [
    {
     "data": {
      "text/plain": [
       "[100, 20, 27, 38, 47, 52, 87]"
      ]
     },
     "execution_count": 78,
     "metadata": {},
     "output_type": "execute_result"
    }
   ],
   "source": [
    "list1=[100,20,27,38,47,52,87]\n",
    "[i if i%2==0 else i for i in list1]"
   ]
  },
  {
   "cell_type": "code",
   "execution_count": null,
   "id": "f3d4aa76-e5db-48d6-9df7-1457a7435909",
   "metadata": {},
   "outputs": [],
   "source": [
    "l=[45,76,89,53,67,90,82,49,33,99]\n",
    "#1. filter the students who passes marks >=50\n",
    "#2. calculate grades of all studnets \n",
    "#  A: 85+, B: 70-84 C: 50-69 D:<50\n",
    " # 4 list \n",
    "# add 5 grace marks to students who fail <50\n",
    "# find the aveage marks of all studmnts"
   ]
  },
  {
   "cell_type": "code",
   "execution_count": 86,
   "id": "dcb8d48c-7d19-4407-8f8e-dc1c7b8d4623",
   "metadata": {},
   "outputs": [
    {
     "data": {
      "text/plain": [
       "[76, 89, 53, 67, 90, 82, 99]"
      ]
     },
     "execution_count": 86,
     "metadata": {},
     "output_type": "execute_result"
    }
   ],
   "source": [
    "l=[45,76,89,53,67,90,82,49,33,99]\n",
    "[i for i in l if i>=50]\n",
    "[f'A:{i}' for i in l if i>=85]\n",
    "[f'B:{i}' for i in l if i>=70]\n",
    "[f'C:{i}' for i in l if i>=50]\n"
   ]
  },
  {
   "cell_type": "markdown",
   "id": "fc8f9326-dcb1-4772-8dd9-ce3c17ab131f",
   "metadata": {},
   "source": [
    "**Method-4: for if elif else**\n",
    "- There is no elif in list comprehension\n",
    "- elif alse we can write : else+if=elif\n",
    "- method-3: [<if output> <if condition> else <else output>]\n",
    "- method-4: [<<if output> <if condition> else <elif output> <elif con> <else output>]"
   ]
  },
  {
   "cell_type": "code",
   "execution_count": 89,
   "id": "8dfc8d00-2001-455f-9e1b-228c814a3d72",
   "metadata": {},
   "outputs": [
    {
     "data": {
      "text/plain": [
       "['C:45',\n",
       " 'B:76',\n",
       " 'A:89',\n",
       " 'C:53',\n",
       " 'C:67',\n",
       " 'A:90',\n",
       " 'B:82',\n",
       " 'C:49',\n",
       " 'C:33',\n",
       " 'A:99']"
      ]
     },
     "execution_count": 89,
     "metadata": {},
     "output_type": "execute_result"
    }
   ],
   "source": [
    "l=[45,76,89,53,67,90,82,49,33,99]\n",
    "[f'A:{i}' if i>=85 else f'B:{i}' if i>=70 else f'C:{i}' for i in l]"
   ]
  },
  {
   "cell_type": "markdown",
   "id": "b0d66787-0586-4703-8abf-c88d9a02210c",
   "metadata": {},
   "source": [
    "**wlarus operator**\n",
    "- in list comprehension = will not work\n",
    "- if you want to write equal to (=) then we will use walrus oprator:="
   ]
  },
  {
   "cell_type": "code",
   "execution_count": 98,
   "id": "e1768a59-78ce-4be6-8982-f2ac4c316fef",
   "metadata": {},
   "outputs": [
    {
     "data": {
      "text/plain": [
       "68.3"
      ]
     },
     "execution_count": 98,
     "metadata": {},
     "output_type": "execute_result"
    }
   ],
   "source": [
    "l=[45,76,89,53,67,90,82,49,33,99]\n",
    "total =0\n",
    "ans=[total:=total+i for i in l]\n",
    "total/len(l)"
   ]
  },
  {
   "cell_type": "code",
   "execution_count": null,
   "id": "fc035f59-64de-4c44-b472-a057f71fa648",
   "metadata": {},
   "outputs": [],
   "source": []
  }
 ],
 "metadata": {
  "kernelspec": {
   "display_name": "Python 3 (ipykernel)",
   "language": "python",
   "name": "python3"
  },
  "language_info": {
   "codemirror_mode": {
    "name": "ipython",
    "version": 3
   },
   "file_extension": ".py",
   "mimetype": "text/x-python",
   "name": "python",
   "nbconvert_exporter": "python",
   "pygments_lexer": "ipython3",
   "version": "3.12.4"
  }
 },
 "nbformat": 4,
 "nbformat_minor": 5
}
