{
 "cells": [
  {
   "cell_type": "code",
   "execution_count": 1,
   "id": "bb222ee8-5923-4506-8068-047d21dae32f",
   "metadata": {},
   "outputs": [
    {
     "data": {
      "text/plain": [
       "10"
      ]
     },
     "execution_count": 1,
     "metadata": {},
     "output_type": "execute_result"
    }
   ],
   "source": [
    "a=10\n",
    "a"
   ]
  },
  {
   "cell_type": "code",
   "execution_count": 3,
   "id": "fbffa97f-a2f6-48d6-9da0-44abe7ecb8bb",
   "metadata": {},
   "outputs": [
    {
     "data": {
      "text/plain": [
       "30"
      ]
     },
     "execution_count": 3,
     "metadata": {},
     "output_type": "execute_result"
    }
   ],
   "source": [
    "a=10\n",
    "b=20\n",
    "a+b"
   ]
  },
  {
   "cell_type": "code",
   "execution_count": 5,
   "id": "cc271ed5-c2e0-4482-a7db-503149b266fa",
   "metadata": {},
   "outputs": [
    {
     "data": {
      "text/plain": [
       "100"
      ]
     },
     "execution_count": 5,
     "metadata": {},
     "output_type": "execute_result"
    }
   ],
   "source": [
    "n1=100\n",
    "n1"
   ]
  },
  {
   "cell_type": "markdown",
   "id": "476baef3-9f7c-4b62-af91-9d2a10fa3c45",
   "metadata": {},
   "source": [
    "Python is understandble coding language"
   ]
  },
  {
   "cell_type": "markdown",
   "id": "24156272-44af-42a9-90de-8cdce51fc415",
   "metadata": {},
   "source": [
    "- i like python\n"
   ]
  },
  {
   "cell_type": "markdown",
   "id": "205f5df5-00cd-4e0a-81f7-5fe367c77b53",
   "metadata": {},
   "source": [
    "- esc+m code mode to mark down mode\n",
    "- esc+y markdown mode to code mode\n",
    "- shift+enter"
   ]
  },
  {
   "cell_type": "markdown",
   "id": "6b7cc564-fc1e-44d5-a4d6-b7f806cf001c",
   "metadata": {},
   "source": [
    "- Bracket indicates code mode \n",
    "- when we are in markdown mode square brackets will not appear \n",
    "- blue colour bar indicates the corresponding cell selected "
   ]
  },
  {
   "cell_type": "markdown",
   "id": "3076969c-59fe-4a06-a0a9-3d67bb7fc975",
   "metadata": {},
   "source": [
    "#### Python\n",
    "- when we use # symbol in code mode it acts as comment \n",
    "- simultaneously in markdown mode it acts as Title\n",
    "- if we add more # the size will reduce\n",
    "- (- + Space) will give bullet points"
   ]
  },
  {
   "cell_type": "markdown",
   "id": "6cbf0770-20bd-4c80-97df-52f9e03c2707",
   "metadata": {},
   "source": [
    "<img id=\"dimg_ig0ZZ8bBFNCPseMPj-WD0AI_293\" src=\"data:image/jpeg;base64,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\" class=\"YQ4gaf\" height=\"197\" style=\"object-position:18% 0%\" width=\"256\" alt=\"Python application development services ...\" data-csiid=\"ig0ZZ8bBFNCPseMPj-WD0AI_9\" data-atf=\"1\">"
   ]
  },
  {
   "cell_type": "markdown",
   "id": "9cc4112d-2574-48bd-8a5e-3530053a9fd2",
   "metadata": {},
   "source": [
    "to insert an image go to image select the image click on the image inspect option will be displayed click on it you will see masked html code right click on it select 2nd option edit html select all the code (ctrl a) copy (ctrl c) and paste in jupyter cell now after pasting use markdown mode esc+m and then shift+enter "
   ]
  },
  {
   "cell_type": "code",
   "execution_count": null,
   "id": "c3557091-5471-4e1f-808a-5f7a9c2e75d1",
   "metadata": {},
   "outputs": [],
   "source": []
  }
 ],
 "metadata": {
  "kernelspec": {
   "display_name": "Python 3 (ipykernel)",
   "language": "python",
   "name": "python3"
  },
  "language_info": {
   "codemirror_mode": {
    "name": "ipython",
    "version": 3
   },
   "file_extension": ".py",
   "mimetype": "text/x-python",
   "name": "python",
   "nbconvert_exporter": "python",
   "pygments_lexer": "ipython3",
   "version": "3.12.4"
  }
 },
 "nbformat": 4,
 "nbformat_minor": 5
}
